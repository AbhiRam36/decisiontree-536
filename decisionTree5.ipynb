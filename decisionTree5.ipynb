{
  "nbformat": 4,
  "nbformat_minor": 0,
  "metadata": {
    "colab": {
      "provenance": [],
      "collapsed_sections": [],
      "authorship_tag": "ABX9TyMO4PQn8P1x7fCHwzCgt9eQ",
      "include_colab_link": true
    },
    "kernelspec": {
      "name": "python3",
      "display_name": "Python 3"
    },
    "language_info": {
      "name": "python"
    }
  },
  "cells": [
    {
      "cell_type": "markdown",
      "metadata": {
        "id": "view-in-github",
        "colab_type": "text"
      },
      "source": [
        "<a href=\"https://colab.research.google.com/github/AbhiRam36/decisiontree-536/blob/main/decisionTree5.ipynb\" target=\"_parent\"><img src=\"https://colab.research.google.com/assets/colab-badge.svg\" alt=\"Open In Colab\"/></a>"
      ]
    },
    {
      "cell_type": "code",
      "execution_count": 229,
      "metadata": {
        "id": "Z5To_3qQJJQ5"
      },
      "outputs": [],
      "source": [
        "import numpy as np\n",
        "import pandas as pd\n",
        "import matplotlib.pyplot as mtp\n",
        "from math import*"
      ]
    },
    {
      "cell_type": "code",
      "source": [
        "import copy\n",
        "from graphviz import Digraph"
      ],
      "metadata": {
        "id": "QC_h8NuXt2Vl"
      },
      "execution_count": 230,
      "outputs": []
    },
    {
      "cell_type": "code",
      "source": [
        "dataset='heart'\n",
        "split_func='IG'"
      ],
      "metadata": {
        "id": "KXVAoEzVt9Ol"
      },
      "execution_count": 317,
      "outputs": []
    },
    {
      "cell_type": "code",
      "source": [
        "datasets={'weather':['https://raw.githubusercontent.com/AbhiRam36/decisiontree-536/main/eighthr.data.csv','0'],'dermatology':['https://raw.githubusercontent.com/AbhiRam36/decisiontree-536/main/dermatology.data.csv','2'],'echo':['https://raw.githubusercontent.com/AbhiRam36/decisiontree-536/main/echocardiogram.data.csv','71'],'lymphography':['https://raw.githubusercontent.com/AbhiRam36/decisiontree-536/main/lymph.csv','lymphatics'],'heart':['https://raw.githubusercontent.com/AbhiRam36/decisiontree-536/main/SPECTF.train.csv' ,'1']}"
      ],
      "metadata": {
        "id": "zuD0chwFt--r"
      },
      "execution_count": 318,
      "outputs": []
    },
    {
      "cell_type": "code",
      "source": [
        "dataset_url,target_name=datasets[dataset]\n",
        "data=pd.read_csv(dataset_url)\n",
        "data=data.applymap(lambda x: x.strip() if isinstance(x, str) else x)"
      ],
      "metadata": {
        "id": "HniAte_qxHdQ"
      },
      "execution_count": 321,
      "outputs": []
    },
    {
      "cell_type": "code",
      "source": [
        "print(data)"
      ],
      "metadata": {
        "colab": {
          "base_uri": "https://localhost:8080/"
        },
        "id": "xoCYa7SCxaFP",
        "outputId": "6587260a-f65a-48a4-c9c5-4c9c29998a11"
      },
      "execution_count": 322,
      "outputs": [
        {
          "output_type": "stream",
          "name": "stdout",
          "text": [
            "    1  59  52  70  67  73  66  72  61  58  ...  66.3  56.1  62  56.2  72.3  \\\n",
            "0   1  72  62  69  67  78  82  74  65  69  ...    65    71  63    60    69   \n",
            "1   1  71  62  70  64  67  64  79  65  70  ...    73    70  66    65    64   \n",
            "2   1  69  71  70  78  61  63  67  65  59  ...    61    61  66    65    72   \n",
            "3   1  70  66  61  66  61  58  69  69  72  ...    67    69  70    66    70   \n",
            "4   1  57  69  68  75  69  74  73  71  57  ...    63    58  69    67    79   \n",
            ".. ..  ..  ..  ..  ..  ..  ..  ..  ..  ..  ...   ...   ...  ..   ...   ...   \n",
            "74  0  70  75  72  72  67  71  71  78  63  ...    66    67  68    70    70   \n",
            "75  0  59  57  67  71  66  68  68  70  56  ...    62    64  56    53    71   \n",
            "76  0  67  64  73  75  77  77  74  70  65  ...    61    64  65    60    68   \n",
            "77  0  68  65  72  72  47  74  76  74  67  ...    64    69  71    73    73   \n",
            "78  0  66  54  69  66  69  69  75  72  63  ...    69    65  65    64    67   \n",
            "\n",
            "    62.1  74.2  74.3  64.1  67.4  \n",
            "0     73    67    71    56    58  \n",
            "1     55    61    41    51    46  \n",
            "2     73    68    68    59    63  \n",
            "3     64    60    55    49    41  \n",
            "4     77    72    70    61    65  \n",
            "..   ...   ...   ...   ...   ...  \n",
            "74    71    64    67    56    54  \n",
            "75    68    64    63    56    56  \n",
            "76    75    74    80    67    68  \n",
            "77    75    68    56    58    44  \n",
            "78    69    71    68    59    59  \n",
            "\n",
            "[79 rows x 45 columns]\n"
          ]
        }
      ]
    },
    {
      "cell_type": "code",
      "source": [
        "data"
      ],
      "metadata": {
        "colab": {
          "base_uri": "https://localhost:8080/",
          "height": 419
        },
        "id": "E4v2DrfBxe2N",
        "outputId": "22319f10-6b5f-4f4f-952c-84fe2efd3e6e"
      },
      "execution_count": 323,
      "outputs": [
        {
          "output_type": "execute_result",
          "data": {
            "text/plain": [
              "    1  59  52  70  67  73  66  72  61  58  ...  66.3  56.1  62  56.2  72.3  \\\n",
              "0   1  72  62  69  67  78  82  74  65  69  ...    65    71  63    60    69   \n",
              "1   1  71  62  70  64  67  64  79  65  70  ...    73    70  66    65    64   \n",
              "2   1  69  71  70  78  61  63  67  65  59  ...    61    61  66    65    72   \n",
              "3   1  70  66  61  66  61  58  69  69  72  ...    67    69  70    66    70   \n",
              "4   1  57  69  68  75  69  74  73  71  57  ...    63    58  69    67    79   \n",
              ".. ..  ..  ..  ..  ..  ..  ..  ..  ..  ..  ...   ...   ...  ..   ...   ...   \n",
              "74  0  70  75  72  72  67  71  71  78  63  ...    66    67  68    70    70   \n",
              "75  0  59  57  67  71  66  68  68  70  56  ...    62    64  56    53    71   \n",
              "76  0  67  64  73  75  77  77  74  70  65  ...    61    64  65    60    68   \n",
              "77  0  68  65  72  72  47  74  76  74  67  ...    64    69  71    73    73   \n",
              "78  0  66  54  69  66  69  69  75  72  63  ...    69    65  65    64    67   \n",
              "\n",
              "    62.1  74.2  74.3  64.1  67.4  \n",
              "0     73    67    71    56    58  \n",
              "1     55    61    41    51    46  \n",
              "2     73    68    68    59    63  \n",
              "3     64    60    55    49    41  \n",
              "4     77    72    70    61    65  \n",
              "..   ...   ...   ...   ...   ...  \n",
              "74    71    64    67    56    54  \n",
              "75    68    64    63    56    56  \n",
              "76    75    74    80    67    68  \n",
              "77    75    68    56    58    44  \n",
              "78    69    71    68    59    59  \n",
              "\n",
              "[79 rows x 45 columns]"
            ],
            "text/html": [
              "\n",
              "  <div id=\"df-7f9e469a-eda3-4a4a-8a39-0953a4fcc8a7\">\n",
              "    <div class=\"colab-df-container\">\n",
              "      <div>\n",
              "<style scoped>\n",
              "    .dataframe tbody tr th:only-of-type {\n",
              "        vertical-align: middle;\n",
              "    }\n",
              "\n",
              "    .dataframe tbody tr th {\n",
              "        vertical-align: top;\n",
              "    }\n",
              "\n",
              "    .dataframe thead th {\n",
              "        text-align: right;\n",
              "    }\n",
              "</style>\n",
              "<table border=\"1\" class=\"dataframe\">\n",
              "  <thead>\n",
              "    <tr style=\"text-align: right;\">\n",
              "      <th></th>\n",
              "      <th>1</th>\n",
              "      <th>59</th>\n",
              "      <th>52</th>\n",
              "      <th>70</th>\n",
              "      <th>67</th>\n",
              "      <th>73</th>\n",
              "      <th>66</th>\n",
              "      <th>72</th>\n",
              "      <th>61</th>\n",
              "      <th>58</th>\n",
              "      <th>...</th>\n",
              "      <th>66.3</th>\n",
              "      <th>56.1</th>\n",
              "      <th>62</th>\n",
              "      <th>56.2</th>\n",
              "      <th>72.3</th>\n",
              "      <th>62.1</th>\n",
              "      <th>74.2</th>\n",
              "      <th>74.3</th>\n",
              "      <th>64.1</th>\n",
              "      <th>67.4</th>\n",
              "    </tr>\n",
              "  </thead>\n",
              "  <tbody>\n",
              "    <tr>\n",
              "      <th>0</th>\n",
              "      <td>1</td>\n",
              "      <td>72</td>\n",
              "      <td>62</td>\n",
              "      <td>69</td>\n",
              "      <td>67</td>\n",
              "      <td>78</td>\n",
              "      <td>82</td>\n",
              "      <td>74</td>\n",
              "      <td>65</td>\n",
              "      <td>69</td>\n",
              "      <td>...</td>\n",
              "      <td>65</td>\n",
              "      <td>71</td>\n",
              "      <td>63</td>\n",
              "      <td>60</td>\n",
              "      <td>69</td>\n",
              "      <td>73</td>\n",
              "      <td>67</td>\n",
              "      <td>71</td>\n",
              "      <td>56</td>\n",
              "      <td>58</td>\n",
              "    </tr>\n",
              "    <tr>\n",
              "      <th>1</th>\n",
              "      <td>1</td>\n",
              "      <td>71</td>\n",
              "      <td>62</td>\n",
              "      <td>70</td>\n",
              "      <td>64</td>\n",
              "      <td>67</td>\n",
              "      <td>64</td>\n",
              "      <td>79</td>\n",
              "      <td>65</td>\n",
              "      <td>70</td>\n",
              "      <td>...</td>\n",
              "      <td>73</td>\n",
              "      <td>70</td>\n",
              "      <td>66</td>\n",
              "      <td>65</td>\n",
              "      <td>64</td>\n",
              "      <td>55</td>\n",
              "      <td>61</td>\n",
              "      <td>41</td>\n",
              "      <td>51</td>\n",
              "      <td>46</td>\n",
              "    </tr>\n",
              "    <tr>\n",
              "      <th>2</th>\n",
              "      <td>1</td>\n",
              "      <td>69</td>\n",
              "      <td>71</td>\n",
              "      <td>70</td>\n",
              "      <td>78</td>\n",
              "      <td>61</td>\n",
              "      <td>63</td>\n",
              "      <td>67</td>\n",
              "      <td>65</td>\n",
              "      <td>59</td>\n",
              "      <td>...</td>\n",
              "      <td>61</td>\n",
              "      <td>61</td>\n",
              "      <td>66</td>\n",
              "      <td>65</td>\n",
              "      <td>72</td>\n",
              "      <td>73</td>\n",
              "      <td>68</td>\n",
              "      <td>68</td>\n",
              "      <td>59</td>\n",
              "      <td>63</td>\n",
              "    </tr>\n",
              "    <tr>\n",
              "      <th>3</th>\n",
              "      <td>1</td>\n",
              "      <td>70</td>\n",
              "      <td>66</td>\n",
              "      <td>61</td>\n",
              "      <td>66</td>\n",
              "      <td>61</td>\n",
              "      <td>58</td>\n",
              "      <td>69</td>\n",
              "      <td>69</td>\n",
              "      <td>72</td>\n",
              "      <td>...</td>\n",
              "      <td>67</td>\n",
              "      <td>69</td>\n",
              "      <td>70</td>\n",
              "      <td>66</td>\n",
              "      <td>70</td>\n",
              "      <td>64</td>\n",
              "      <td>60</td>\n",
              "      <td>55</td>\n",
              "      <td>49</td>\n",
              "      <td>41</td>\n",
              "    </tr>\n",
              "    <tr>\n",
              "      <th>4</th>\n",
              "      <td>1</td>\n",
              "      <td>57</td>\n",
              "      <td>69</td>\n",
              "      <td>68</td>\n",
              "      <td>75</td>\n",
              "      <td>69</td>\n",
              "      <td>74</td>\n",
              "      <td>73</td>\n",
              "      <td>71</td>\n",
              "      <td>57</td>\n",
              "      <td>...</td>\n",
              "      <td>63</td>\n",
              "      <td>58</td>\n",
              "      <td>69</td>\n",
              "      <td>67</td>\n",
              "      <td>79</td>\n",
              "      <td>77</td>\n",
              "      <td>72</td>\n",
              "      <td>70</td>\n",
              "      <td>61</td>\n",
              "      <td>65</td>\n",
              "    </tr>\n",
              "    <tr>\n",
              "      <th>...</th>\n",
              "      <td>...</td>\n",
              "      <td>...</td>\n",
              "      <td>...</td>\n",
              "      <td>...</td>\n",
              "      <td>...</td>\n",
              "      <td>...</td>\n",
              "      <td>...</td>\n",
              "      <td>...</td>\n",
              "      <td>...</td>\n",
              "      <td>...</td>\n",
              "      <td>...</td>\n",
              "      <td>...</td>\n",
              "      <td>...</td>\n",
              "      <td>...</td>\n",
              "      <td>...</td>\n",
              "      <td>...</td>\n",
              "      <td>...</td>\n",
              "      <td>...</td>\n",
              "      <td>...</td>\n",
              "      <td>...</td>\n",
              "      <td>...</td>\n",
              "    </tr>\n",
              "    <tr>\n",
              "      <th>74</th>\n",
              "      <td>0</td>\n",
              "      <td>70</td>\n",
              "      <td>75</td>\n",
              "      <td>72</td>\n",
              "      <td>72</td>\n",
              "      <td>67</td>\n",
              "      <td>71</td>\n",
              "      <td>71</td>\n",
              "      <td>78</td>\n",
              "      <td>63</td>\n",
              "      <td>...</td>\n",
              "      <td>66</td>\n",
              "      <td>67</td>\n",
              "      <td>68</td>\n",
              "      <td>70</td>\n",
              "      <td>70</td>\n",
              "      <td>71</td>\n",
              "      <td>64</td>\n",
              "      <td>67</td>\n",
              "      <td>56</td>\n",
              "      <td>54</td>\n",
              "    </tr>\n",
              "    <tr>\n",
              "      <th>75</th>\n",
              "      <td>0</td>\n",
              "      <td>59</td>\n",
              "      <td>57</td>\n",
              "      <td>67</td>\n",
              "      <td>71</td>\n",
              "      <td>66</td>\n",
              "      <td>68</td>\n",
              "      <td>68</td>\n",
              "      <td>70</td>\n",
              "      <td>56</td>\n",
              "      <td>...</td>\n",
              "      <td>62</td>\n",
              "      <td>64</td>\n",
              "      <td>56</td>\n",
              "      <td>53</td>\n",
              "      <td>71</td>\n",
              "      <td>68</td>\n",
              "      <td>64</td>\n",
              "      <td>63</td>\n",
              "      <td>56</td>\n",
              "      <td>56</td>\n",
              "    </tr>\n",
              "    <tr>\n",
              "      <th>76</th>\n",
              "      <td>0</td>\n",
              "      <td>67</td>\n",
              "      <td>64</td>\n",
              "      <td>73</td>\n",
              "      <td>75</td>\n",
              "      <td>77</td>\n",
              "      <td>77</td>\n",
              "      <td>74</td>\n",
              "      <td>70</td>\n",
              "      <td>65</td>\n",
              "      <td>...</td>\n",
              "      <td>61</td>\n",
              "      <td>64</td>\n",
              "      <td>65</td>\n",
              "      <td>60</td>\n",
              "      <td>68</td>\n",
              "      <td>75</td>\n",
              "      <td>74</td>\n",
              "      <td>80</td>\n",
              "      <td>67</td>\n",
              "      <td>68</td>\n",
              "    </tr>\n",
              "    <tr>\n",
              "      <th>77</th>\n",
              "      <td>0</td>\n",
              "      <td>68</td>\n",
              "      <td>65</td>\n",
              "      <td>72</td>\n",
              "      <td>72</td>\n",
              "      <td>47</td>\n",
              "      <td>74</td>\n",
              "      <td>76</td>\n",
              "      <td>74</td>\n",
              "      <td>67</td>\n",
              "      <td>...</td>\n",
              "      <td>64</td>\n",
              "      <td>69</td>\n",
              "      <td>71</td>\n",
              "      <td>73</td>\n",
              "      <td>73</td>\n",
              "      <td>75</td>\n",
              "      <td>68</td>\n",
              "      <td>56</td>\n",
              "      <td>58</td>\n",
              "      <td>44</td>\n",
              "    </tr>\n",
              "    <tr>\n",
              "      <th>78</th>\n",
              "      <td>0</td>\n",
              "      <td>66</td>\n",
              "      <td>54</td>\n",
              "      <td>69</td>\n",
              "      <td>66</td>\n",
              "      <td>69</td>\n",
              "      <td>69</td>\n",
              "      <td>75</td>\n",
              "      <td>72</td>\n",
              "      <td>63</td>\n",
              "      <td>...</td>\n",
              "      <td>69</td>\n",
              "      <td>65</td>\n",
              "      <td>65</td>\n",
              "      <td>64</td>\n",
              "      <td>67</td>\n",
              "      <td>69</td>\n",
              "      <td>71</td>\n",
              "      <td>68</td>\n",
              "      <td>59</td>\n",
              "      <td>59</td>\n",
              "    </tr>\n",
              "  </tbody>\n",
              "</table>\n",
              "<p>79 rows × 45 columns</p>\n",
              "</div>\n",
              "      <button class=\"colab-df-convert\" onclick=\"convertToInteractive('df-7f9e469a-eda3-4a4a-8a39-0953a4fcc8a7')\"\n",
              "              title=\"Convert this dataframe to an interactive table.\"\n",
              "              style=\"display:none;\">\n",
              "        \n",
              "  <svg xmlns=\"http://www.w3.org/2000/svg\" height=\"24px\"viewBox=\"0 0 24 24\"\n",
              "       width=\"24px\">\n",
              "    <path d=\"M0 0h24v24H0V0z\" fill=\"none\"/>\n",
              "    <path d=\"M18.56 5.44l.94 2.06.94-2.06 2.06-.94-2.06-.94-.94-2.06-.94 2.06-2.06.94zm-11 1L8.5 8.5l.94-2.06 2.06-.94-2.06-.94L8.5 2.5l-.94 2.06-2.06.94zm10 10l.94 2.06.94-2.06 2.06-.94-2.06-.94-.94-2.06-.94 2.06-2.06.94z\"/><path d=\"M17.41 7.96l-1.37-1.37c-.4-.4-.92-.59-1.43-.59-.52 0-1.04.2-1.43.59L10.3 9.45l-7.72 7.72c-.78.78-.78 2.05 0 2.83L4 21.41c.39.39.9.59 1.41.59.51 0 1.02-.2 1.41-.59l7.78-7.78 2.81-2.81c.8-.78.8-2.07 0-2.86zM5.41 20L4 18.59l7.72-7.72 1.47 1.35L5.41 20z\"/>\n",
              "  </svg>\n",
              "      </button>\n",
              "      \n",
              "  <style>\n",
              "    .colab-df-container {\n",
              "      display:flex;\n",
              "      flex-wrap:wrap;\n",
              "      gap: 12px;\n",
              "    }\n",
              "\n",
              "    .colab-df-convert {\n",
              "      background-color: #E8F0FE;\n",
              "      border: none;\n",
              "      border-radius: 50%;\n",
              "      cursor: pointer;\n",
              "      display: none;\n",
              "      fill: #1967D2;\n",
              "      height: 32px;\n",
              "      padding: 0 0 0 0;\n",
              "      width: 32px;\n",
              "    }\n",
              "\n",
              "    .colab-df-convert:hover {\n",
              "      background-color: #E2EBFA;\n",
              "      box-shadow: 0px 1px 2px rgba(60, 64, 67, 0.3), 0px 1px 3px 1px rgba(60, 64, 67, 0.15);\n",
              "      fill: #174EA6;\n",
              "    }\n",
              "\n",
              "    [theme=dark] .colab-df-convert {\n",
              "      background-color: #3B4455;\n",
              "      fill: #D2E3FC;\n",
              "    }\n",
              "\n",
              "    [theme=dark] .colab-df-convert:hover {\n",
              "      background-color: #434B5C;\n",
              "      box-shadow: 0px 1px 3px 1px rgba(0, 0, 0, 0.15);\n",
              "      filter: drop-shadow(0px 1px 2px rgba(0, 0, 0, 0.3));\n",
              "      fill: #FFFFFF;\n",
              "    }\n",
              "  </style>\n",
              "\n",
              "      <script>\n",
              "        const buttonEl =\n",
              "          document.querySelector('#df-7f9e469a-eda3-4a4a-8a39-0953a4fcc8a7 button.colab-df-convert');\n",
              "        buttonEl.style.display =\n",
              "          google.colab.kernel.accessAllowed ? 'block' : 'none';\n",
              "\n",
              "        async function convertToInteractive(key) {\n",
              "          const element = document.querySelector('#df-7f9e469a-eda3-4a4a-8a39-0953a4fcc8a7');\n",
              "          const dataTable =\n",
              "            await google.colab.kernel.invokeFunction('convertToInteractive',\n",
              "                                                     [key], {});\n",
              "          if (!dataTable) return;\n",
              "\n",
              "          const docLinkHtml = 'Like what you see? Visit the ' +\n",
              "            '<a target=\"_blank\" href=https://colab.research.google.com/notebooks/data_table.ipynb>data table notebook</a>'\n",
              "            + ' to learn more about interactive tables.';\n",
              "          element.innerHTML = '';\n",
              "          dataTable['output_type'] = 'display_data';\n",
              "          await google.colab.output.renderOutput(dataTable, element);\n",
              "          const docLink = document.createElement('div');\n",
              "          docLink.innerHTML = docLinkHtml;\n",
              "          element.appendChild(docLink);\n",
              "        }\n",
              "      </script>\n",
              "    </div>\n",
              "  </div>\n",
              "  "
            ]
          },
          "metadata": {},
          "execution_count": 323
        }
      ]
    },
    {
      "cell_type": "code",
      "source": [
        "print(pd.DataFrame(data))\n",
        "df=pd.DataFrame(data)\n",
        "df.dtypes"
      ],
      "metadata": {
        "colab": {
          "base_uri": "https://localhost:8080/"
        },
        "id": "1J1VP60ZxjvZ",
        "outputId": "7023a913-8f40-4c60-8aad-6140a1c12689"
      },
      "execution_count": 324,
      "outputs": [
        {
          "output_type": "stream",
          "name": "stdout",
          "text": [
            "    1  59  52  70  67  73  66  72  61  58  ...  66.3  56.1  62  56.2  72.3  \\\n",
            "0   1  72  62  69  67  78  82  74  65  69  ...    65    71  63    60    69   \n",
            "1   1  71  62  70  64  67  64  79  65  70  ...    73    70  66    65    64   \n",
            "2   1  69  71  70  78  61  63  67  65  59  ...    61    61  66    65    72   \n",
            "3   1  70  66  61  66  61  58  69  69  72  ...    67    69  70    66    70   \n",
            "4   1  57  69  68  75  69  74  73  71  57  ...    63    58  69    67    79   \n",
            ".. ..  ..  ..  ..  ..  ..  ..  ..  ..  ..  ...   ...   ...  ..   ...   ...   \n",
            "74  0  70  75  72  72  67  71  71  78  63  ...    66    67  68    70    70   \n",
            "75  0  59  57  67  71  66  68  68  70  56  ...    62    64  56    53    71   \n",
            "76  0  67  64  73  75  77  77  74  70  65  ...    61    64  65    60    68   \n",
            "77  0  68  65  72  72  47  74  76  74  67  ...    64    69  71    73    73   \n",
            "78  0  66  54  69  66  69  69  75  72  63  ...    69    65  65    64    67   \n",
            "\n",
            "    62.1  74.2  74.3  64.1  67.4  \n",
            "0     73    67    71    56    58  \n",
            "1     55    61    41    51    46  \n",
            "2     73    68    68    59    63  \n",
            "3     64    60    55    49    41  \n",
            "4     77    72    70    61    65  \n",
            "..   ...   ...   ...   ...   ...  \n",
            "74    71    64    67    56    54  \n",
            "75    68    64    63    56    56  \n",
            "76    75    74    80    67    68  \n",
            "77    75    68    56    58    44  \n",
            "78    69    71    68    59    59  \n",
            "\n",
            "[79 rows x 45 columns]\n"
          ]
        },
        {
          "output_type": "execute_result",
          "data": {
            "text/plain": [
              "1       int64\n",
              "59      int64\n",
              "52      int64\n",
              "70      int64\n",
              "67      int64\n",
              "73      int64\n",
              "66      int64\n",
              "72      int64\n",
              "61      int64\n",
              "58      int64\n",
              "52.1    int64\n",
              "72.1    int64\n",
              "71      int64\n",
              "70.1    int64\n",
              "77      int64\n",
              "66.1    int64\n",
              "65      int64\n",
              "67.1    int64\n",
              "55      int64\n",
              "61.1    int64\n",
              "57      int64\n",
              "68      int64\n",
              "66.2    int64\n",
              "72.2    int64\n",
              "74      int64\n",
              "63      int64\n",
              "64      int64\n",
              "56      int64\n",
              "54      int64\n",
              "67.2    int64\n",
              "54.1    int64\n",
              "76      int64\n",
              "74.1    int64\n",
              "65.1    int64\n",
              "67.3    int64\n",
              "66.3    int64\n",
              "56.1    int64\n",
              "62      int64\n",
              "56.2    int64\n",
              "72.3    int64\n",
              "62.1    int64\n",
              "74.2    int64\n",
              "74.3    int64\n",
              "64.1    int64\n",
              "67.4    int64\n",
              "dtype: object"
            ]
          },
          "metadata": {},
          "execution_count": 324
        }
      ]
    },
    {
      "cell_type": "code",
      "source": [
        "print(df.count())\n",
        "print(sum(df[target_name].value_counts().to_dict().values()))"
      ],
      "metadata": {
        "colab": {
          "base_uri": "https://localhost:8080/"
        },
        "id": "cijPelRpxrAp",
        "outputId": "2cae9c25-0756-491b-d4ce-7c192c497c85"
      },
      "execution_count": 325,
      "outputs": [
        {
          "output_type": "stream",
          "name": "stdout",
          "text": [
            "1       79\n",
            "59      79\n",
            "52      79\n",
            "70      79\n",
            "67      79\n",
            "73      79\n",
            "66      79\n",
            "72      79\n",
            "61      79\n",
            "58      79\n",
            "52.1    79\n",
            "72.1    79\n",
            "71      79\n",
            "70.1    79\n",
            "77      79\n",
            "66.1    79\n",
            "65      79\n",
            "67.1    79\n",
            "55      79\n",
            "61.1    79\n",
            "57      79\n",
            "68      79\n",
            "66.2    79\n",
            "72.2    79\n",
            "74      79\n",
            "63      79\n",
            "64      79\n",
            "56      79\n",
            "54      79\n",
            "67.2    79\n",
            "54.1    79\n",
            "76      79\n",
            "74.1    79\n",
            "65.1    79\n",
            "67.3    79\n",
            "66.3    79\n",
            "56.1    79\n",
            "62      79\n",
            "56.2    79\n",
            "72.3    79\n",
            "62.1    79\n",
            "74.2    79\n",
            "74.3    79\n",
            "64.1    79\n",
            "67.4    79\n",
            "dtype: int64\n",
            "79\n"
          ]
        }
      ]
    },
    {
      "cell_type": "code",
      "source": [
        "import random\n",
        "def train_test_split(df,test_size):\n",
        "  df=df.sample(frac = 1)\n",
        "  n=len(df)\n",
        "  no_test_rows=int(n*test_size)\n",
        "  l=list(random.sample(list(range(n)), no_test_rows))\n",
        "  test=df.iloc[l]\n",
        "  train=df.drop(l,axis=0)\n",
        "  return train.sample(frac = 1),test.sample(frac = 1)\n",
        "# test_df=data\n",
        "df,test_df=train_test_split(df,0.3)\n",
        "print(len(df),len(test_df))"
      ],
      "metadata": {
        "colab": {
          "base_uri": "https://localhost:8080/"
        },
        "id": "NBNE8JJ70E9V",
        "outputId": "414365a7-ae2d-4e61-9ba2-17fa73f4fa23"
      },
      "execution_count": 326,
      "outputs": [
        {
          "output_type": "stream",
          "name": "stdout",
          "text": [
            "56 23\n"
          ]
        }
      ]
    },
    {
      "cell_type": "code",
      "source": [
        "class DecisionTree():\n",
        "  \n",
        "  ## Class Member Functions ##\n",
        "\n",
        "  def entropy_help(p):\n",
        "    return -p*log(p,2)\n",
        "  \n",
        "  def getEntropy(df,target_name):  \n",
        "    n=df.count()[0]\n",
        "    target_counts=df[target_name].value_counts().to_dict()\n",
        "    s=0\n",
        "    for p in target_counts.values():\n",
        "      if p/n==1 or p/n==0:\n",
        "        return 0\n",
        "      s+=DecisionTree.entropy_help(p/n)\n",
        "    # print(s)\n",
        "    return s\n",
        "  \n",
        "  def getProbability(df,column,value):\n",
        "    return df[df[column]==value].count()[0]/df.count()[0]\n",
        "  \n",
        "  def informationGain(df,target_name,col):\n",
        "    # print(\"Entropy of \",col,DecisionTree.getEntropy(df,target_name))\n",
        "    total_entropy=DecisionTree.getEntropy(df,target_name)\n",
        "    col_vals_count=df[col].value_counts().to_dict()\n",
        "    sum=0\n",
        "    for value in col_vals_count:\n",
        "      n=col_vals_count[value]\n",
        "      # print(\"Entropy of \",col,value,DecisionTree.getEntropy(df[df[col]==value],target_name))\n",
        "      sum+=(DecisionTree.getEntropy(df[df[col]==value],target_name)*DecisionTree.getProbability(df,col,value))\n",
        "    # print(\"IG: \",target_name,col,total_entropy-sum)\n",
        "    return total_entropy-sum\n",
        "\n",
        "  ## Class Data Members ##\n",
        "\n",
        "  split_functions={'IG':informationGain}\n",
        "  \n",
        "  ## Countructor ##\n",
        "  def __init__(self,df,target_name,split_function=\"IG\",level=-1,leaf_nodes=-1):\n",
        "    self.tree=self.Tree()\n",
        "    self.df=df\n",
        "    self.target_name=target_name\n",
        "    self.cols=list(self.df.columns)\n",
        "    self.cols.remove(self.target_name)\n",
        "    self.cnt=0\n",
        "    self.gnodes=[]\n",
        "    self.level=level\n",
        "    self.leaf_nodes=leaf_nodes\n",
        "    self.rules=[]\n",
        "    self.output_classes=self.df[self.target_name].unique()\n",
        "    if split_function in DecisionTree.split_functions:\n",
        "      self.split_function=DecisionTree.split_functions[split_function]\n",
        "    else:\n",
        "      raise Exception(\"Split function not found\")\n",
        "\n",
        "  ## Instance Methods ##\n",
        "\n",
        "  def getGraph(self):\n",
        "    return self.tree.g\n",
        "\n",
        "  def find_leaf(self,df):\n",
        "    counts=df[self.target_name].value_counts().to_dict()\n",
        "    return max(zip(counts.values(), counts.keys()))[1]\n",
        "    \n",
        "      # unique_vals=list(df[self.target_name].unique())\n",
        "      # for val in unique_vals:      \n",
        "      #   if df[df[self.target_name]==val].count()[0]==df.count()[0]:\n",
        "      #     return val\n",
        "\n",
        "  def construct(self):\n",
        "    maxig=[-1,\"\"]\n",
        "    for i in self.cols:\n",
        "      etemp=self.split_function(df,self.target_name,i)\n",
        "      maxig=maxig if maxig[0]>etemp else [etemp,i]\n",
        "    root=self.Node(maxig[1],maxig[0],0)\n",
        "    self.tree.insert_root(root)\n",
        "    c=copy.deepcopy(self.cols)\n",
        "    c.remove(root.name)\n",
        "    root.gname=str(root)\n",
        "    self.gnodes.append(root)\n",
        "    self.tree.g.node(str(root),str(root))\n",
        "    self.construct_help(df,c,root)\n",
        "\n",
        "  def construct_help(self,df,cols,parent):\n",
        "    if not parent.name:\n",
        "      return\n",
        "    vals=list(df[parent.name].unique())\n",
        "    dftemp=df\n",
        "\n",
        "    for k in vals:\n",
        "      if self.leaf_nodes!=-1 and self.tree.no_leafs>=self.leaf_nodes:\n",
        "        return\n",
        "      df=dftemp\n",
        "      df=df[df[parent.name]==k]\n",
        "      e=DecisionTree.getEntropy(df,self.target_name)\n",
        "\n",
        "      if e==0 or parent.level==self.level-1:\n",
        "        value=self.find_leaf(df)\n",
        "        node=self.Node(value,1,parent.level+1)\n",
        "        node.gname=str(value)\n",
        "        parent.insert_child(node)\n",
        "        parent.insert_edge(k)\n",
        "        self.tree.no_leafs+=1\n",
        "        name=value\n",
        "        if not isinstance(value, str):\n",
        "          name='class'\n",
        "        self.tree.g.node(name+str(self.cnt),str(value))\n",
        "        self.tree.g.edge(str(parent.gname),name+str(self.cnt),label=str(k))\n",
        "        \n",
        "        self.cnt+=1\n",
        "        continue\n",
        "      maxig=[-1,\"\"]\n",
        "      for i in cols:\n",
        "        etemp=self.split_function(df,self.target_name,i)\n",
        "        maxig=maxig if maxig[0]>etemp else [etemp,i]\n",
        "      node=self.Node(maxig[1],maxig[0],parent.level+1)\n",
        "      node.gname=str(node.name)\n",
        "      c=copy.deepcopy(cols)\n",
        "      if node.name in c:\n",
        "        c.remove(node.name)\n",
        "      name=str(node)\n",
        "\n",
        "      # checking if node name already exist in graphviz code\n",
        "      \n",
        "      if name in self.gnodes:\n",
        "        name+=str(self.cnt)\n",
        "        self.cnt+=1\n",
        "      else:\n",
        "        self.gnodes.append(name)\n",
        "      node.gname=name\n",
        "\n",
        "      parent.insert_child(node)\n",
        "      parent.insert_edge(k)\n",
        "\n",
        "      self.tree.g.node(name,str(node))\n",
        "      self.tree.g.edge(str(parent.gname),name,label=str(k))\n",
        "      \n",
        "      self.construct_help(df[df[parent.name]==k],c,node)\n",
        "      \n",
        "  def predict(self,instances,trace=False):\n",
        "    node=self.tree.root\n",
        "    op=[]\n",
        "    if isinstance(instances,dict):\n",
        "      return self.predict_help(node,instances,trace,\"\")\n",
        "    if isinstance(instances,list):\n",
        "      \n",
        "      for instance in instances:\n",
        "        op.append(self.predict_help(node,instance,trace,\"\"))\n",
        "    else:\n",
        "      n=len(instances)\n",
        "      for i in range(n):\n",
        "        instance=data.iloc[i].to_dict()\n",
        "        op.append(self.predict_help(node,instance,trace,\"\"))\n",
        "    return op\n",
        "\n",
        "  def predict_help(self,node,instance,trace,path):\n",
        "    if node.name in self.output_classes:\n",
        "      if trace:\n",
        "        print(path+str(node))\n",
        "      return node.name\n",
        "    value=instance[node.name]\n",
        "    try:\n",
        "      path+=str(node)+\" ( \"+str(value)+\" ) -> \"\n",
        "      ind=node.edges.index(value)\n",
        "      return self.predict_help(node.childs[ind],instance,trace,path)\n",
        "    except Exception as e:\n",
        "      return \"Not valid instance, path: \"+path\n",
        "  def get_rules(self):\n",
        "    node=self.tree.root\n",
        "    self.rules_help(node,str(node.name)+\" -> \")\n",
        "    return self.rules\n",
        "\n",
        "  def rules_help(self,node,path):\n",
        "    for n,e in zip(node.childs,node.edges):\n",
        "      if n.name in self.output_classes:\n",
        "        self.rules.append(\"{} ( {} ) {}\".format(path,str(e),str(n.name)))\n",
        "      self.rules_help(n,\"{} ( {} ) {} -> \".format(path,str(e),str(n.name)))\n",
        "  \n",
        "  ## Inner classes ##\n",
        "  class Node:\n",
        "    ## Countructor ##\n",
        "    def __init__(self,name,ig,level):\n",
        "      self.name=name\n",
        "      self.ig=ig\n",
        "      self.childs=[]\n",
        "      self.edges=[]\n",
        "      self.gname=''\n",
        "      self.level=level\n",
        "\n",
        "    ## Instance Methods ##\n",
        "\n",
        "    def insert_child(self,node):\n",
        "      self.childs.append(node)\n",
        "\n",
        "    def insert_edge(self,edge):\n",
        "      self.edges.append(edge)\n",
        "\n",
        "    def printn(self,edge=\"\"):\n",
        "      # if self.childs:\n",
        "      dashes=\"|\"+\"-\"*(self.level*5)\n",
        "      value=\"( \"+str(edge)+\") \"+str(self.gname) if edge else str(self.gname)\n",
        "      # print(\" \"*(self.level*2+1),''.join(['-']*31))\n",
        "      # print(dashes,'|{:^15} - level - {:^2} | '.format(self.gname,self.level),list(zip(self.edges,list(map(lambda x:x.gname,self.childs)))))\n",
        "      # print(\" \"*(self.level*2+1),''.join(['-']*31))\n",
        "      print(dashes,value)\n",
        "\n",
        "    def __str__(self):\n",
        "      return str(self.name)\n",
        "\n",
        "  class Tree:\n",
        "\n",
        "    ## Countructor ##\n",
        "    def __init__(self):\n",
        "      self.root=None\n",
        "      self.g=Digraph(encoding='utf-8')\n",
        "      self.no_leafs=0\n",
        "\n",
        "    ## Instance Methods ##\n",
        "\n",
        "    def insert_root(self,node):\n",
        "      self.root=node\n",
        "\n",
        "    def printt(self):\n",
        "      self.print_help(self.root,\"\")\n",
        "\n",
        "    def print_help(self,node,edge):\n",
        "      if node:\n",
        "        node.printn(edge)\n",
        "        # print(\"(\",edge,\")\")\n",
        "      for i in range(len(node.childs)):\n",
        "        self.print_help(node.childs[i],node.edges[i])"
      ],
      "metadata": {
        "id": "gEt4b3P80G1K"
      },
      "execution_count": 327,
      "outputs": []
    },
    {
      "cell_type": "code",
      "source": [
        "d=DecisionTree(data,target_name,split_function=split_func)"
      ],
      "metadata": {
        "id": "qntW6WSd0Qca"
      },
      "execution_count": 328,
      "outputs": []
    },
    {
      "cell_type": "code",
      "source": [
        "d.construct()"
      ],
      "metadata": {
        "id": "7STRu-WF0WLO"
      },
      "execution_count": 329,
      "outputs": []
    },
    {
      "cell_type": "code",
      "source": [
        "d.getGraph()"
      ],
      "metadata": {
        "colab": {
          "base_uri": "https://localhost:8080/",
          "height": 332
        },
        "id": "0bqw0Rqf0a7l",
        "outputId": "746263b3-88e0-4129-8347-21111ff30233"
      },
      "execution_count": 330,
      "outputs": [
        {
          "output_type": "execute_result",
          "data": {
            "text/plain": [
              "<graphviz.dot.Digraph at 0x7f371ddc5090>"
            ],
            "image/svg+xml": "<?xml version=\"1.0\" encoding=\"UTF-8\" standalone=\"no\"?>\n<!DOCTYPE svg PUBLIC \"-//W3C//DTD SVG 1.1//EN\"\n \"http://www.w3.org/Graphics/SVG/1.1/DTD/svg11.dtd\">\n<!-- Generated by graphviz version 2.40.1 (20161225.0304)\n -->\n<!-- Title: %3 Pages: 1 -->\n<svg width=\"1948pt\" height=\"218pt\"\n viewBox=\"0.00 0.00 1948.00 218.00\" xmlns=\"http://www.w3.org/2000/svg\" xmlns:xlink=\"http://www.w3.org/1999/xlink\">\n<g id=\"graph0\" class=\"graph\" transform=\"scale(1 1) rotate(0) translate(4 214)\">\n<title>%3</title>\n<polygon fill=\"#ffffff\" stroke=\"transparent\" points=\"-4,4 -4,-214 1944,-214 1944,4 -4,4\"/>\n<!-- 63 -->\n<g id=\"node1\" class=\"node\">\n<title>63</title>\n<ellipse fill=\"none\" stroke=\"#000000\" cx=\"971\" cy=\"-192\" rx=\"27\" ry=\"18\"/>\n<text text-anchor=\"middle\" x=\"971\" y=\"-188.3\" font-family=\"Times,serif\" font-size=\"14.00\" fill=\"#000000\">63</text>\n</g>\n<!-- class0 -->\n<g id=\"node2\" class=\"node\">\n<title>class0</title>\n<ellipse fill=\"none\" stroke=\"#000000\" cx=\"27\" cy=\"-105\" rx=\"27\" ry=\"18\"/>\n<text text-anchor=\"middle\" x=\"27\" y=\"-101.3\" font-family=\"Times,serif\" font-size=\"14.00\" fill=\"#000000\">1</text>\n</g>\n<!-- 63&#45;&gt;class0 -->\n<g id=\"edge1\" class=\"edge\">\n<title>63&#45;&gt;class0</title>\n<path fill=\"none\" stroke=\"#000000\" d=\"M943.8009,-191.8385C820.6327,-190.9474 314.4414,-185.524 159,-156 122.8863,-149.1407 83.8952,-132.8775 57.727,-120.5463\"/>\n<polygon fill=\"#000000\" stroke=\"#000000\" points=\"59.2246,-117.3828 48.6954,-116.2058 56.1925,-123.692 59.2246,-117.3828\"/>\n<text text-anchor=\"middle\" x=\"167\" y=\"-144.8\" font-family=\"Times,serif\" font-size=\"14.00\" fill=\"#000000\">52</text>\n</g>\n<!-- class1 -->\n<g id=\"node3\" class=\"node\">\n<title>class1</title>\n<ellipse fill=\"none\" stroke=\"#000000\" cx=\"99\" cy=\"-105\" rx=\"27\" ry=\"18\"/>\n<text text-anchor=\"middle\" x=\"99\" y=\"-101.3\" font-family=\"Times,serif\" font-size=\"14.00\" fill=\"#000000\">1</text>\n</g>\n<!-- 63&#45;&gt;class1 -->\n<g id=\"edge2\" class=\"edge\">\n<title>63&#45;&gt;class1</title>\n<path fill=\"none\" stroke=\"#000000\" d=\"M943.8733,-191.7171C827.5962,-190.3457 370.8278,-183.2938 230,-156 194.3072,-149.0824 155.7953,-132.9461 129.8315,-120.6624\"/>\n<polygon fill=\"#000000\" stroke=\"#000000\" points=\"131.0542,-117.3662 120.5271,-116.1704 128.0108,-123.67 131.0542,-117.3662\"/>\n<text text-anchor=\"middle\" x=\"238\" y=\"-144.8\" font-family=\"Times,serif\" font-size=\"14.00\" fill=\"#000000\">54</text>\n</g>\n<!-- class2 -->\n<g id=\"node4\" class=\"node\">\n<title>class2</title>\n<ellipse fill=\"none\" stroke=\"#000000\" cx=\"171\" cy=\"-105\" rx=\"27\" ry=\"18\"/>\n<text text-anchor=\"middle\" x=\"171\" y=\"-101.3\" font-family=\"Times,serif\" font-size=\"14.00\" fill=\"#000000\">1</text>\n</g>\n<!-- 63&#45;&gt;class2 -->\n<g id=\"edge3\" class=\"edge\">\n<title>63&#45;&gt;class2</title>\n<path fill=\"none\" stroke=\"#000000\" d=\"M943.692,-191.5219C834.5699,-189.4576 429.673,-180.2896 304,-156 259.2898,-147.3586 249.0173,-140.5563 207,-123 205.2108,-122.2524 203.3865,-121.4554 201.5557,-120.6285\"/>\n<polygon fill=\"#000000\" stroke=\"#000000\" points=\"203.0166,-117.4477 192.4804,-116.3346 200.0228,-123.7752 203.0166,-117.4477\"/>\n<text text-anchor=\"middle\" x=\"312\" y=\"-144.8\" font-family=\"Times,serif\" font-size=\"14.00\" fill=\"#000000\">23</text>\n</g>\n<!-- class3 -->\n<g id=\"node5\" class=\"node\">\n<title>class3</title>\n<ellipse fill=\"none\" stroke=\"#000000\" cx=\"243\" cy=\"-105\" rx=\"27\" ry=\"18\"/>\n<text text-anchor=\"middle\" x=\"243\" y=\"-101.3\" font-family=\"Times,serif\" font-size=\"14.00\" fill=\"#000000\">1</text>\n</g>\n<!-- 63&#45;&gt;class3 -->\n<g id=\"edge4\" class=\"edge\">\n<title>63&#45;&gt;class3</title>\n<path fill=\"none\" stroke=\"#000000\" d=\"M943.9752,-191.3095C842.9895,-188.5824 487.909,-177.6373 377,-156 331.8917,-147.1998 321.4333,-140.6525 279,-123 277.2097,-122.2552 275.3844,-121.4604 273.553,-120.6351\"/>\n<polygon fill=\"#000000\" stroke=\"#000000\" points=\"275.0124,-117.4537 264.4757,-116.3459 272.0218,-123.7827 275.0124,-117.4537\"/>\n<text text-anchor=\"middle\" x=\"385\" y=\"-144.8\" font-family=\"Times,serif\" font-size=\"14.00\" fill=\"#000000\">77</text>\n</g>\n<!-- class4 -->\n<g id=\"node6\" class=\"node\">\n<title>class4</title>\n<ellipse fill=\"none\" stroke=\"#000000\" cx=\"315\" cy=\"-105\" rx=\"27\" ry=\"18\"/>\n<text text-anchor=\"middle\" x=\"315\" y=\"-101.3\" font-family=\"Times,serif\" font-size=\"14.00\" fill=\"#000000\">1</text>\n</g>\n<!-- 63&#45;&gt;class4 -->\n<g id=\"edge5\" class=\"edge\">\n<title>63&#45;&gt;class4</title>\n<path fill=\"none\" stroke=\"#000000\" d=\"M943.9054,-191.0175C851.1644,-187.5149 546.9012,-174.8352 451,-156 405.0754,-146.9803 394.2662,-140.8454 351,-123 349.2074,-122.2606 347.3804,-121.4701 345.5476,-120.6481\"/>\n<polygon fill=\"#000000\" stroke=\"#000000\" points=\"347.0044,-117.4655 336.4666,-116.3678 344.0199,-123.7974 347.0044,-117.4655\"/>\n<text text-anchor=\"middle\" x=\"459\" y=\"-144.8\" font-family=\"Times,serif\" font-size=\"14.00\" fill=\"#000000\">48</text>\n</g>\n<!-- 67.4 -->\n<g id=\"node7\" class=\"node\">\n<title>67.4</title>\n<ellipse fill=\"none\" stroke=\"#000000\" cx=\"388\" cy=\"-105\" rx=\"27.8951\" ry=\"18\"/>\n<text text-anchor=\"middle\" x=\"388\" y=\"-101.3\" font-family=\"Times,serif\" font-size=\"14.00\" fill=\"#000000\">67.4</text>\n</g>\n<!-- 63&#45;&gt;67.4 -->\n<g id=\"edge6\" class=\"edge\">\n<title>63&#45;&gt;67.4</title>\n<path fill=\"none\" stroke=\"#000000\" d=\"M944.0467,-190.6679C860.3976,-186.4009 605.9933,-172.3882 525,-156 479.1277,-146.7182 468.3625,-140.61 425,-123 423.1634,-122.2541 421.2902,-121.4585 419.4099,-120.6325\"/>\n<polygon fill=\"#000000\" stroke=\"#000000\" points=\"420.6336,-117.3429 410.0862,-116.3415 417.707,-123.7018 420.6336,-117.3429\"/>\n<text text-anchor=\"middle\" x=\"533\" y=\"-144.8\" font-family=\"Times,serif\" font-size=\"14.00\" fill=\"#000000\">68</text>\n</g>\n<!-- 67.47 -->\n<g id=\"node10\" class=\"node\">\n<title>67.47</title>\n<ellipse fill=\"none\" stroke=\"#000000\" cx=\"462\" cy=\"-105\" rx=\"27.8951\" ry=\"18\"/>\n<text text-anchor=\"middle\" x=\"462\" y=\"-101.3\" font-family=\"Times,serif\" font-size=\"14.00\" fill=\"#000000\">67.4</text>\n</g>\n<!-- 63&#45;&gt;67.47 -->\n<g id=\"edge9\" class=\"edge\">\n<title>63&#45;&gt;67.47</title>\n<path fill=\"none\" stroke=\"#000000\" d=\"M943.6146,-191.4256C881.606,-189.6751 725.9834,-182.7485 599,-156 553.2031,-146.3531 542.3625,-140.61 499,-123 497.1634,-122.2541 495.2902,-121.4585 493.4099,-120.6325\"/>\n<polygon fill=\"#000000\" stroke=\"#000000\" points=\"494.6336,-117.3429 484.0862,-116.3415 491.707,-123.7018 494.6336,-117.3429\"/>\n<text text-anchor=\"middle\" x=\"607\" y=\"-144.8\" font-family=\"Times,serif\" font-size=\"14.00\" fill=\"#000000\">66</text>\n</g>\n<!-- 67.413 -->\n<g id=\"node16\" class=\"node\">\n<title>67.413</title>\n<ellipse fill=\"none\" stroke=\"#000000\" cx=\"536\" cy=\"-105\" rx=\"27.8951\" ry=\"18\"/>\n<text text-anchor=\"middle\" x=\"536\" y=\"-101.3\" font-family=\"Times,serif\" font-size=\"14.00\" fill=\"#000000\">67.4</text>\n</g>\n<!-- 63&#45;&gt;67.413 -->\n<g id=\"edge15\" class=\"edge\">\n<title>63&#45;&gt;67.413</title>\n<path fill=\"none\" stroke=\"#000000\" d=\"M943.9849,-190.5363C891.3101,-187.2879 771.4181,-177.955 673,-156 627.3209,-145.81 616.3625,-140.61 573,-123 571.1634,-122.2541 569.2902,-121.4585 567.4099,-120.6325\"/>\n<polygon fill=\"#000000\" stroke=\"#000000\" points=\"568.6336,-117.3429 558.0862,-116.3415 565.707,-123.7018 568.6336,-117.3429\"/>\n<text text-anchor=\"middle\" x=\"681\" y=\"-144.8\" font-family=\"Times,serif\" font-size=\"14.00\" fill=\"#000000\">57</text>\n</g>\n<!-- class16 -->\n<g id=\"node19\" class=\"node\">\n<title>class16</title>\n<ellipse fill=\"none\" stroke=\"#000000\" cx=\"609\" cy=\"-105\" rx=\"27\" ry=\"18\"/>\n<text text-anchor=\"middle\" x=\"609\" y=\"-101.3\" font-family=\"Times,serif\" font-size=\"14.00\" fill=\"#000000\">0</text>\n</g>\n<!-- 63&#45;&gt;class16 -->\n<g id=\"edge18\" class=\"edge\">\n<title>63&#45;&gt;class16</title>\n<path fill=\"none\" stroke=\"#000000\" d=\"M944.2825,-189.1548C901.7107,-184.3066 816.0378,-173.2604 745,-156 699.5213,-144.9498 688.2662,-140.8454 645,-123 643.2074,-122.2606 641.3804,-121.4701 639.5476,-120.6481\"/>\n<polygon fill=\"#000000\" stroke=\"#000000\" points=\"641.0044,-117.4655 630.4666,-116.3678 638.0199,-123.7974 641.0044,-117.4655\"/>\n<text text-anchor=\"middle\" x=\"753\" y=\"-144.8\" font-family=\"Times,serif\" font-size=\"14.00\" fill=\"#000000\">61</text>\n</g>\n<!-- 67.417 -->\n<g id=\"node20\" class=\"node\">\n<title>67.417</title>\n<ellipse fill=\"none\" stroke=\"#000000\" cx=\"682\" cy=\"-105\" rx=\"27.8951\" ry=\"18\"/>\n<text text-anchor=\"middle\" x=\"682\" y=\"-101.3\" font-family=\"Times,serif\" font-size=\"14.00\" fill=\"#000000\">67.4</text>\n</g>\n<!-- 63&#45;&gt;67.417 -->\n<g id=\"edge19\" class=\"edge\">\n<title>63&#45;&gt;67.417</title>\n<path fill=\"none\" stroke=\"#000000\" d=\"M944.8719,-187.0717C913.1676,-180.8656 858.2168,-169.381 812,-156 769.8718,-143.8028 759.4493,-139.9531 719,-123 717.1718,-122.2338 715.3052,-121.4221 713.4299,-120.584\"/>\n<polygon fill=\"#000000\" stroke=\"#000000\" points=\"714.664,-117.298 704.1202,-116.2592 711.7148,-123.6465 714.664,-117.298\"/>\n<text text-anchor=\"middle\" x=\"820\" y=\"-144.8\" font-family=\"Times,serif\" font-size=\"14.00\" fill=\"#000000\">74</text>\n</g>\n<!-- class20 -->\n<g id=\"node23\" class=\"node\">\n<title>class20</title>\n<ellipse fill=\"none\" stroke=\"#000000\" cx=\"755\" cy=\"-105\" rx=\"27\" ry=\"18\"/>\n<text text-anchor=\"middle\" x=\"755\" y=\"-101.3\" font-family=\"Times,serif\" font-size=\"14.00\" fill=\"#000000\">0</text>\n</g>\n<!-- 63&#45;&gt;class20 -->\n<g id=\"edge22\" class=\"edge\">\n<title>63&#45;&gt;class20</title>\n<path fill=\"none\" stroke=\"#000000\" d=\"M946.6873,-184.0272C925.7064,-177.0222 894.662,-166.3586 868,-156 833.2946,-142.5164 824.7766,-138.6656 791,-123 789.2409,-122.1841 787.4402,-121.3336 785.6275,-120.4656\"/>\n<polygon fill=\"#000000\" stroke=\"#000000\" points=\"787.1237,-117.3013 776.602,-116.0585 784.0522,-123.5915 787.1237,-117.3013\"/>\n<text text-anchor=\"middle\" x=\"876\" y=\"-144.8\" font-family=\"Times,serif\" font-size=\"14.00\" fill=\"#000000\">63</text>\n</g>\n<!-- class21 -->\n<g id=\"node24\" class=\"node\">\n<title>class21</title>\n<ellipse fill=\"none\" stroke=\"#000000\" cx=\"827\" cy=\"-105\" rx=\"27\" ry=\"18\"/>\n<text text-anchor=\"middle\" x=\"827\" y=\"-101.3\" font-family=\"Times,serif\" font-size=\"14.00\" fill=\"#000000\">1</text>\n</g>\n<!-- 63&#45;&gt;class21 -->\n<g id=\"edge23\" class=\"edge\">\n<title>63&#45;&gt;class21</title>\n<path fill=\"none\" stroke=\"#000000\" d=\"M950.7101,-179.8619C939.0781,-172.8943 924.2083,-163.9721 911,-156 892.6849,-144.9456 872.159,-132.4848 855.982,-122.6474\"/>\n<polygon fill=\"#000000\" stroke=\"#000000\" points=\"857.3718,-119.3961 847.0094,-117.1889 853.7336,-125.3764 857.3718,-119.3961\"/>\n<text text-anchor=\"middle\" x=\"919\" y=\"-144.8\" font-family=\"Times,serif\" font-size=\"14.00\" fill=\"#000000\">41</text>\n</g>\n<!-- class22 -->\n<g id=\"node25\" class=\"node\">\n<title>class22</title>\n<ellipse fill=\"none\" stroke=\"#000000\" cx=\"899\" cy=\"-105\" rx=\"27\" ry=\"18\"/>\n<text text-anchor=\"middle\" x=\"899\" y=\"-101.3\" font-family=\"Times,serif\" font-size=\"14.00\" fill=\"#000000\">1</text>\n</g>\n<!-- 63&#45;&gt;class22 -->\n<g id=\"edge24\" class=\"edge\">\n<title>63&#45;&gt;class22</title>\n<path fill=\"none\" stroke=\"#000000\" d=\"M957.7941,-176.0429C946.8328,-162.798 931.0821,-143.7659 918.6416,-128.7336\"/>\n<polygon fill=\"#000000\" stroke=\"#000000\" points=\"921.1943,-126.3284 912.1222,-120.856 915.8015,-130.7914 921.1943,-126.3284\"/>\n<text text-anchor=\"middle\" x=\"948\" y=\"-144.8\" font-family=\"Times,serif\" font-size=\"14.00\" fill=\"#000000\">19</text>\n</g>\n<!-- class23 -->\n<g id=\"node26\" class=\"node\">\n<title>class23</title>\n<ellipse fill=\"none\" stroke=\"#000000\" cx=\"971\" cy=\"-105\" rx=\"27\" ry=\"18\"/>\n<text text-anchor=\"middle\" x=\"971\" y=\"-101.3\" font-family=\"Times,serif\" font-size=\"14.00\" fill=\"#000000\">0</text>\n</g>\n<!-- 63&#45;&gt;class23 -->\n<g id=\"edge25\" class=\"edge\">\n<title>63&#45;&gt;class23</title>\n<path fill=\"none\" stroke=\"#000000\" d=\"M971,-173.9735C971,-162.1918 971,-146.5607 971,-133.1581\"/>\n<polygon fill=\"#000000\" stroke=\"#000000\" points=\"974.5001,-133.0033 971,-123.0034 967.5001,-133.0034 974.5001,-133.0033\"/>\n<text text-anchor=\"middle\" x=\"979\" y=\"-144.8\" font-family=\"Times,serif\" font-size=\"14.00\" fill=\"#000000\">76</text>\n</g>\n<!-- class24 -->\n<g id=\"node27\" class=\"node\">\n<title>class24</title>\n<ellipse fill=\"none\" stroke=\"#000000\" cx=\"1043\" cy=\"-105\" rx=\"27\" ry=\"18\"/>\n<text text-anchor=\"middle\" x=\"1043\" y=\"-101.3\" font-family=\"Times,serif\" font-size=\"14.00\" fill=\"#000000\">0</text>\n</g>\n<!-- 63&#45;&gt;class24 -->\n<g id=\"edge26\" class=\"edge\">\n<title>63&#45;&gt;class24</title>\n<path fill=\"none\" stroke=\"#000000\" d=\"M984.2059,-176.0429C995.1672,-162.798 1010.9179,-143.7659 1023.3584,-128.7336\"/>\n<polygon fill=\"#000000\" stroke=\"#000000\" points=\"1026.1985,-130.7914 1029.8778,-120.856 1020.8057,-126.3284 1026.1985,-130.7914\"/>\n<text text-anchor=\"middle\" x=\"1020\" y=\"-144.8\" font-family=\"Times,serif\" font-size=\"14.00\" fill=\"#000000\">71</text>\n</g>\n<!-- class25 -->\n<g id=\"node28\" class=\"node\">\n<title>class25</title>\n<ellipse fill=\"none\" stroke=\"#000000\" cx=\"1115\" cy=\"-105\" rx=\"27\" ry=\"18\"/>\n<text text-anchor=\"middle\" x=\"1115\" y=\"-101.3\" font-family=\"Times,serif\" font-size=\"14.00\" fill=\"#000000\">0</text>\n</g>\n<!-- 63&#45;&gt;class25 -->\n<g id=\"edge27\" class=\"edge\">\n<title>63&#45;&gt;class25</title>\n<path fill=\"none\" stroke=\"#000000\" d=\"M991.3872,-180.0904C1003.2663,-173.1205 1018.5163,-164.1205 1032,-156 1050.0456,-145.1321 1070.1793,-132.7667 1086.0974,-122.9337\"/>\n<polygon fill=\"#000000\" stroke=\"#000000\" points=\"1088.2716,-125.7044 1094.935,-117.4673 1084.5892,-119.7512 1088.2716,-125.7044\"/>\n<text text-anchor=\"middle\" x=\"1063\" y=\"-144.8\" font-family=\"Times,serif\" font-size=\"14.00\" fill=\"#000000\">75</text>\n</g>\n<!-- class26 -->\n<g id=\"node29\" class=\"node\">\n<title>class26</title>\n<ellipse fill=\"none\" stroke=\"#000000\" cx=\"1187\" cy=\"-105\" rx=\"27\" ry=\"18\"/>\n<text text-anchor=\"middle\" x=\"1187\" y=\"-101.3\" font-family=\"Times,serif\" font-size=\"14.00\" fill=\"#000000\">1</text>\n</g>\n<!-- 63&#45;&gt;class26 -->\n<g id=\"edge28\" class=\"edge\">\n<title>63&#45;&gt;class26</title>\n<path fill=\"none\" stroke=\"#000000\" d=\"M995.5675,-184.0843C1016.7638,-177.1152 1048.1164,-166.4719 1075,-156 1109.3133,-142.6341 1117.6305,-138.5732 1151,-123 1152.7572,-122.18 1154.5564,-121.3262 1156.3679,-120.4556\"/>\n<polygon fill=\"#000000\" stroke=\"#000000\" points=\"1157.9457,-123.5802 1165.3901,-116.0416 1154.8694,-117.2924 1157.9457,-123.5802\"/>\n<text text-anchor=\"middle\" x=\"1119\" y=\"-144.8\" font-family=\"Times,serif\" font-size=\"14.00\" fill=\"#000000\">65</text>\n</g>\n<!-- 67.427 -->\n<g id=\"node30\" class=\"node\">\n<title>67.427</title>\n<ellipse fill=\"none\" stroke=\"#000000\" cx=\"1260\" cy=\"-105\" rx=\"27.8951\" ry=\"18\"/>\n<text text-anchor=\"middle\" x=\"1260\" y=\"-101.3\" font-family=\"Times,serif\" font-size=\"14.00\" fill=\"#000000\">67.4</text>\n</g>\n<!-- 63&#45;&gt;67.427 -->\n<g id=\"edge29\" class=\"edge\">\n<title>63&#45;&gt;67.427</title>\n<path fill=\"none\" stroke=\"#000000\" d=\"M997.021,-187.1694C1028.8896,-181.0191 1084.384,-169.549 1131,-156 1172.7135,-143.8759 1182.9655,-139.8598 1223,-123 1224.8269,-122.2306 1226.6925,-121.4166 1228.5669,-120.5765\"/>\n<polygon fill=\"#000000\" stroke=\"#000000\" points=\"1230.2839,-123.638 1237.8745,-116.2465 1227.3313,-117.2912 1230.2839,-123.638\"/>\n<text text-anchor=\"middle\" x=\"1186\" y=\"-144.8\" font-family=\"Times,serif\" font-size=\"14.00\" fill=\"#000000\">56</text>\n</g>\n<!-- 67.431 -->\n<g id=\"node34\" class=\"node\">\n<title>67.431</title>\n<ellipse fill=\"none\" stroke=\"#000000\" cx=\"1334\" cy=\"-105\" rx=\"27.8951\" ry=\"18\"/>\n<text text-anchor=\"middle\" x=\"1334\" y=\"-101.3\" font-family=\"Times,serif\" font-size=\"14.00\" fill=\"#000000\">67.4</text>\n</g>\n<!-- 63&#45;&gt;67.431 -->\n<g id=\"edge33\" class=\"edge\">\n<title>63&#45;&gt;67.431</title>\n<path fill=\"none\" stroke=\"#000000\" d=\"M997.8423,-189.1921C1040.6116,-184.3951 1126.6758,-173.4176 1198,-156 1243.0561,-144.9972 1254.0546,-140.5158 1297,-123 1298.8355,-122.2514 1300.7078,-121.4535 1302.5874,-120.626\"/>\n<polygon fill=\"#000000\" stroke=\"#000000\" points=\"1304.292,-123.6943 1311.9093,-116.3304 1301.3623,-117.3368 1304.292,-123.6943\"/>\n<text text-anchor=\"middle\" x=\"1258\" y=\"-144.8\" font-family=\"Times,serif\" font-size=\"14.00\" fill=\"#000000\">67</text>\n</g>\n<!-- class36 -->\n<g id=\"node39\" class=\"node\">\n<title>class36</title>\n<ellipse fill=\"none\" stroke=\"#000000\" cx=\"1407\" cy=\"-105\" rx=\"27\" ry=\"18\"/>\n<text text-anchor=\"middle\" x=\"1407\" y=\"-101.3\" font-family=\"Times,serif\" font-size=\"14.00\" fill=\"#000000\">1</text>\n</g>\n<!-- 63&#45;&gt;class36 -->\n<g id=\"edge38\" class=\"edge\">\n<title>63&#45;&gt;class36</title>\n<path fill=\"none\" stroke=\"#000000\" d=\"M998.1,-190.5197C1050.9417,-187.2426 1171.2196,-177.8623 1270,-156 1316.1084,-145.7952 1327.317,-140.942 1371,-123 1372.7937,-122.2633 1374.6215,-121.4748 1376.455,-120.6544\"/>\n<polygon fill=\"#000000\" stroke=\"#000000\" points=\"1377.981,-123.8045 1385.5378,-116.3785 1374.9995,-117.4712 1377.981,-123.8045\"/>\n<text text-anchor=\"middle\" x=\"1333\" y=\"-144.8\" font-family=\"Times,serif\" font-size=\"14.00\" fill=\"#000000\">59</text>\n</g>\n<!-- class37 -->\n<g id=\"node40\" class=\"node\">\n<title>class37</title>\n<ellipse fill=\"none\" stroke=\"#000000\" cx=\"1479\" cy=\"-105\" rx=\"27\" ry=\"18\"/>\n<text text-anchor=\"middle\" x=\"1479\" y=\"-101.3\" font-family=\"Times,serif\" font-size=\"14.00\" fill=\"#000000\">1</text>\n</g>\n<!-- 63&#45;&gt;class37 -->\n<g id=\"edge39\" class=\"edge\">\n<title>63&#45;&gt;class37</title>\n<path fill=\"none\" stroke=\"#000000\" d=\"M998.0784,-191.5088C1060.1275,-189.9255 1217.0963,-183.3132 1345,-156 1389.9453,-146.4022 1400.5667,-140.6525 1443,-123 1444.7903,-122.2552 1446.6156,-121.4604 1448.447,-120.6351\"/>\n<polygon fill=\"#000000\" stroke=\"#000000\" points=\"1449.9782,-123.7827 1457.5243,-116.3459 1446.9876,-117.4537 1449.9782,-123.7827\"/>\n<text text-anchor=\"middle\" x=\"1407\" y=\"-144.8\" font-family=\"Times,serif\" font-size=\"14.00\" fill=\"#000000\">36</text>\n</g>\n<!-- class38 -->\n<g id=\"node41\" class=\"node\">\n<title>class38</title>\n<ellipse fill=\"none\" stroke=\"#000000\" cx=\"1551\" cy=\"-105\" rx=\"27\" ry=\"18\"/>\n<text text-anchor=\"middle\" x=\"1551\" y=\"-101.3\" font-family=\"Times,serif\" font-size=\"14.00\" fill=\"#000000\">1</text>\n</g>\n<!-- 63&#45;&gt;class38 -->\n<g id=\"edge40\" class=\"edge\">\n<title>63&#45;&gt;class38</title>\n<path fill=\"none\" stroke=\"#000000\" d=\"M998.0829,-190.7159C1082.133,-186.5903 1337.746,-172.9487 1419,-156 1463.1665,-146.7873 1473.3983,-140.4602 1515,-123 1516.788,-122.2496 1518.6114,-121.4503 1520.4414,-120.6217\"/>\n<polygon fill=\"#000000\" stroke=\"#000000\" points=\"1521.9762,-123.7676 1529.5148,-116.3231 1518.9792,-117.4416 1521.9762,-123.7676\"/>\n<text text-anchor=\"middle\" x=\"1480\" y=\"-144.8\" font-family=\"Times,serif\" font-size=\"14.00\" fill=\"#000000\">64</text>\n</g>\n<!-- class39 -->\n<g id=\"node42\" class=\"node\">\n<title>class39</title>\n<ellipse fill=\"none\" stroke=\"#000000\" cx=\"1623\" cy=\"-105\" rx=\"27\" ry=\"18\"/>\n<text text-anchor=\"middle\" x=\"1623\" y=\"-101.3\" font-family=\"Times,serif\" font-size=\"14.00\" fill=\"#000000\">1</text>\n</g>\n<!-- 63&#45;&gt;class39 -->\n<g id=\"edge41\" class=\"edge\">\n<title>63&#45;&gt;class39</title>\n<path fill=\"none\" stroke=\"#000000\" d=\"M998.1577,-191.0744C1091.1127,-187.7579 1396.0639,-175.6129 1492,-156 1535.7913,-147.0474 1545.8137,-140.3642 1587,-123 1588.7868,-122.2467 1590.6092,-121.4452 1592.4385,-120.6148\"/>\n<polygon fill=\"#000000\" stroke=\"#000000\" points=\"1593.9751,-123.7598 1601.5099,-116.3115 1590.9749,-117.4353 1593.9751,-123.7598\"/>\n<text text-anchor=\"middle\" x=\"1552\" y=\"-144.8\" font-family=\"Times,serif\" font-size=\"14.00\" fill=\"#000000\">53</text>\n</g>\n<!-- 67.440 -->\n<g id=\"node43\" class=\"node\">\n<title>67.440</title>\n<ellipse fill=\"none\" stroke=\"#000000\" cx=\"1696\" cy=\"-105\" rx=\"27.8951\" ry=\"18\"/>\n<text text-anchor=\"middle\" x=\"1696\" y=\"-101.3\" font-family=\"Times,serif\" font-size=\"14.00\" fill=\"#000000\">67.4</text>\n</g>\n<!-- 63&#45;&gt;67.440 -->\n<g id=\"edge42\" class=\"edge\">\n<title>63&#45;&gt;67.440</title>\n<path fill=\"none\" stroke=\"#000000\" d=\"M997.986,-191.341C1098.8255,-188.7268 1453.3822,-178.1334 1564,-156 1599.8303,-148.8307 1638.5834,-132.7768 1664.7683,-120.5821\"/>\n<polygon fill=\"#000000\" stroke=\"#000000\" points=\"1666.2842,-123.7369 1673.818,-116.2876 1663.2831,-117.4129 1666.2842,-123.7369\"/>\n<text text-anchor=\"middle\" x=\"1621\" y=\"-144.8\" font-family=\"Times,serif\" font-size=\"14.00\" fill=\"#000000\">69</text>\n</g>\n<!-- class44 -->\n<g id=\"node47\" class=\"node\">\n<title>class44</title>\n<ellipse fill=\"none\" stroke=\"#000000\" cx=\"1769\" cy=\"-105\" rx=\"27\" ry=\"18\"/>\n<text text-anchor=\"middle\" x=\"1769\" y=\"-101.3\" font-family=\"Times,serif\" font-size=\"14.00\" fill=\"#000000\">1</text>\n</g>\n<!-- 63&#45;&gt;class44 -->\n<g id=\"edge46\" class=\"edge\">\n<title>63&#45;&gt;class44</title>\n<path fill=\"none\" stroke=\"#000000\" d=\"M998.0972,-191.4804C1106.3778,-189.2569 1508.1619,-179.5609 1633,-156 1678.99,-147.3202 1689.7338,-140.8454 1733,-123 1734.7926,-122.2606 1736.6196,-121.4701 1738.4524,-120.6481\"/>\n<polygon fill=\"#000000\" stroke=\"#000000\" points=\"1739.9801,-123.7974 1747.5334,-116.3678 1736.9956,-117.4655 1739.9801,-123.7974\"/>\n<text text-anchor=\"middle\" x=\"1698\" y=\"-144.8\" font-family=\"Times,serif\" font-size=\"14.00\" fill=\"#000000\">37</text>\n</g>\n<!-- class45 -->\n<g id=\"node48\" class=\"node\">\n<title>class45</title>\n<ellipse fill=\"none\" stroke=\"#000000\" cx=\"1841\" cy=\"-105\" rx=\"27\" ry=\"18\"/>\n<text text-anchor=\"middle\" x=\"1841\" y=\"-101.3\" font-family=\"Times,serif\" font-size=\"14.00\" fill=\"#000000\">1</text>\n</g>\n<!-- 63&#45;&gt;class45 -->\n<g id=\"edge47\" class=\"edge\">\n<title>63&#45;&gt;class45</title>\n<path fill=\"none\" stroke=\"#000000\" d=\"M998.0536,-191.7139C1114.017,-190.329 1569.5532,-183.2296 1710,-156 1745.6924,-149.08 1784.2043,-132.9441 1810.1683,-120.6612\"/>\n<polygon fill=\"#000000\" stroke=\"#000000\" points=\"1811.9888,-123.6689 1819.4728,-116.1695 1808.9456,-117.365 1811.9888,-123.6689\"/>\n<text text-anchor=\"middle\" x=\"1770\" y=\"-144.8\" font-family=\"Times,serif\" font-size=\"14.00\" fill=\"#000000\">62</text>\n</g>\n<!-- class46 -->\n<g id=\"node49\" class=\"node\">\n<title>class46</title>\n<ellipse fill=\"none\" stroke=\"#000000\" cx=\"1913\" cy=\"-105\" rx=\"27\" ry=\"18\"/>\n<text text-anchor=\"middle\" x=\"1913\" y=\"-101.3\" font-family=\"Times,serif\" font-size=\"14.00\" fill=\"#000000\">0</text>\n</g>\n<!-- 63&#45;&gt;class46 -->\n<g id=\"edge48\" class=\"edge\">\n<title>63&#45;&gt;class46</title>\n<path fill=\"none\" stroke=\"#000000\" d=\"M998.1678,-191.8486C1121.1941,-191.0017 1626.7984,-185.7429 1782,-156 1817.7072,-149.1571 1856.2167,-133.0085 1882.176,-120.7016\"/>\n<polygon fill=\"#000000\" stroke=\"#000000\" points=\"1884.0016,-123.7065 1891.4787,-116.2003 1880.9526,-117.4054 1884.0016,-123.7065\"/>\n<text text-anchor=\"middle\" x=\"1842\" y=\"-144.8\" font-family=\"Times,serif\" font-size=\"14.00\" fill=\"#000000\">49</text>\n</g>\n<!-- class5 -->\n<g id=\"node8\" class=\"node\">\n<title>class5</title>\n<ellipse fill=\"none\" stroke=\"#000000\" cx=\"102\" cy=\"-18\" rx=\"27\" ry=\"18\"/>\n<text text-anchor=\"middle\" x=\"102\" y=\"-14.3\" font-family=\"Times,serif\" font-size=\"14.00\" fill=\"#000000\">1</text>\n</g>\n<!-- 67.4&#45;&gt;class5 -->\n<g id=\"edge7\" class=\"edge\">\n<title>67.4&#45;&gt;class5</title>\n<path fill=\"none\" stroke=\"#000000\" d=\"M366.5923,-93.0176C361.6049,-90.6726 356.2224,-88.4835 351,-87 274.5117,-65.2719 247.3656,-97.1482 173,-69 155.5347,-62.3892 138.456,-50.351 125.4272,-39.6301\"/>\n<polygon fill=\"#000000\" stroke=\"#000000\" points=\"127.3632,-36.6807 117.4869,-32.8455 122.8159,-42.0026 127.3632,-36.6807\"/>\n<text text-anchor=\"middle\" x=\"181\" y=\"-57.8\" font-family=\"Times,serif\" font-size=\"14.00\" fill=\"#000000\">73</text>\n</g>\n<!-- class6 -->\n<g id=\"node9\" class=\"node\">\n<title>class6</title>\n<ellipse fill=\"none\" stroke=\"#000000\" cx=\"174\" cy=\"-18\" rx=\"27\" ry=\"18\"/>\n<text text-anchor=\"middle\" x=\"174\" y=\"-14.3\" font-family=\"Times,serif\" font-size=\"14.00\" fill=\"#000000\">0</text>\n</g>\n<!-- 67.4&#45;&gt;class6 -->\n<g id=\"edge8\" class=\"edge\">\n<title>67.4&#45;&gt;class6</title>\n<path fill=\"none\" stroke=\"#000000\" d=\"M366.5649,-93.1121C361.5789,-90.7622 356.2039,-88.5472 351,-87 289.5994,-68.7443 262.4757,-102.7002 208,-69 198.6336,-63.2057 191.2833,-53.7603 185.8499,-44.5633\"/>\n<polygon fill=\"#000000\" stroke=\"#000000\" points=\"188.8548,-42.7603 181.0518,-35.5935 182.6823,-46.0621 188.8548,-42.7603\"/>\n<text text-anchor=\"middle\" x=\"216\" y=\"-57.8\" font-family=\"Times,serif\" font-size=\"14.00\" fill=\"#000000\">55</text>\n</g>\n<!-- class8 -->\n<g id=\"node11\" class=\"node\">\n<title>class8</title>\n<ellipse fill=\"none\" stroke=\"#000000\" cx=\"246\" cy=\"-18\" rx=\"27\" ry=\"18\"/>\n<text text-anchor=\"middle\" x=\"246\" y=\"-14.3\" font-family=\"Times,serif\" font-size=\"14.00\" fill=\"#000000\">0</text>\n</g>\n<!-- 67.47&#45;&gt;class8 -->\n<g id=\"edge10\" class=\"edge\">\n<title>67.47&#45;&gt;class8</title>\n<path fill=\"none\" stroke=\"#000000\" d=\"M439.9904,-93.4625C435.1273,-91.1484 429.9482,-88.8598 425,-87 396.5392,-76.303 387.7088,-79.0125 359,-69 323.8441,-56.7389 315.7766,-51.6656 282,-36 280.2409,-35.1841 278.4402,-34.3336 276.6275,-33.4656\"/>\n<polygon fill=\"#000000\" stroke=\"#000000\" points=\"278.1237,-30.3013 267.602,-29.0585 275.0522,-36.5915 278.1237,-30.3013\"/>\n<text text-anchor=\"middle\" x=\"367\" y=\"-57.8\" font-family=\"Times,serif\" font-size=\"14.00\" fill=\"#000000\">57</text>\n</g>\n<!-- class9 -->\n<g id=\"node12\" class=\"node\">\n<title>class9</title>\n<ellipse fill=\"none\" stroke=\"#000000\" cx=\"318\" cy=\"-18\" rx=\"27\" ry=\"18\"/>\n<text text-anchor=\"middle\" x=\"318\" y=\"-14.3\" font-family=\"Times,serif\" font-size=\"14.00\" fill=\"#000000\">0</text>\n</g>\n<!-- 67.47&#45;&gt;class9 -->\n<g id=\"edge11\" class=\"edge\">\n<title>67.47&#45;&gt;class9</title>\n<path fill=\"none\" stroke=\"#000000\" d=\"M441.4347,-92.697C429.844,-85.7539 415.1043,-76.9093 402,-69 383.6849,-57.9456 363.159,-45.4848 346.982,-35.6474\"/>\n<polygon fill=\"#000000\" stroke=\"#000000\" points=\"348.3718,-32.3961 338.0094,-30.1889 344.7336,-38.3764 348.3718,-32.3961\"/>\n<text text-anchor=\"middle\" x=\"410\" y=\"-57.8\" font-family=\"Times,serif\" font-size=\"14.00\" fill=\"#000000\">68</text>\n</g>\n<!-- class10 -->\n<g id=\"node13\" class=\"node\">\n<title>class10</title>\n<ellipse fill=\"none\" stroke=\"#000000\" cx=\"390\" cy=\"-18\" rx=\"27\" ry=\"18\"/>\n<text text-anchor=\"middle\" x=\"390\" y=\"-14.3\" font-family=\"Times,serif\" font-size=\"14.00\" fill=\"#000000\">0</text>\n</g>\n<!-- 67.47&#45;&gt;class10 -->\n<g id=\"edge12\" class=\"edge\">\n<title>67.47&#45;&gt;class10</title>\n<path fill=\"none\" stroke=\"#000000\" d=\"M448.7941,-89.0429C437.8328,-75.798 422.0821,-56.7659 409.6416,-41.7336\"/>\n<polygon fill=\"#000000\" stroke=\"#000000\" points=\"412.1943,-39.3284 403.1222,-33.856 406.8015,-43.7914 412.1943,-39.3284\"/>\n<text text-anchor=\"middle\" x=\"439\" y=\"-57.8\" font-family=\"Times,serif\" font-size=\"14.00\" fill=\"#000000\">58</text>\n</g>\n<!-- class11 -->\n<g id=\"node14\" class=\"node\">\n<title>class11</title>\n<ellipse fill=\"none\" stroke=\"#000000\" cx=\"462\" cy=\"-18\" rx=\"27\" ry=\"18\"/>\n<text text-anchor=\"middle\" x=\"462\" y=\"-14.3\" font-family=\"Times,serif\" font-size=\"14.00\" fill=\"#000000\">0</text>\n</g>\n<!-- 67.47&#45;&gt;class11 -->\n<g id=\"edge13\" class=\"edge\">\n<title>67.47&#45;&gt;class11</title>\n<path fill=\"none\" stroke=\"#000000\" d=\"M462,-86.9735C462,-75.1918 462,-59.5607 462,-46.1581\"/>\n<polygon fill=\"#000000\" stroke=\"#000000\" points=\"465.5001,-46.0033 462,-36.0034 458.5001,-46.0034 465.5001,-46.0033\"/>\n<text text-anchor=\"middle\" x=\"470\" y=\"-57.8\" font-family=\"Times,serif\" font-size=\"14.00\" fill=\"#000000\">64</text>\n</g>\n<!-- class12 -->\n<g id=\"node15\" class=\"node\">\n<title>class12</title>\n<ellipse fill=\"none\" stroke=\"#000000\" cx=\"534\" cy=\"-18\" rx=\"27\" ry=\"18\"/>\n<text text-anchor=\"middle\" x=\"534\" y=\"-14.3\" font-family=\"Times,serif\" font-size=\"14.00\" fill=\"#000000\">1</text>\n</g>\n<!-- 67.47&#45;&gt;class12 -->\n<g id=\"edge14\" class=\"edge\">\n<title>67.47&#45;&gt;class12</title>\n<path fill=\"none\" stroke=\"#000000\" d=\"M475.2059,-89.0429C486.1672,-75.798 501.9179,-56.7659 514.3584,-41.7336\"/>\n<polygon fill=\"#000000\" stroke=\"#000000\" points=\"517.1985,-43.7914 520.8778,-33.856 511.8057,-39.3284 517.1985,-43.7914\"/>\n<text text-anchor=\"middle\" x=\"511\" y=\"-57.8\" font-family=\"Times,serif\" font-size=\"14.00\" fill=\"#000000\">48</text>\n</g>\n<!-- class14 -->\n<g id=\"node17\" class=\"node\">\n<title>class14</title>\n<ellipse fill=\"none\" stroke=\"#000000\" cx=\"606\" cy=\"-18\" rx=\"27\" ry=\"18\"/>\n<text text-anchor=\"middle\" x=\"606\" y=\"-14.3\" font-family=\"Times,serif\" font-size=\"14.00\" fill=\"#000000\">1</text>\n</g>\n<!-- 67.413&#45;&gt;class14 -->\n<g id=\"edge16\" class=\"edge\">\n<title>67.413&#45;&gt;class14</title>\n<path fill=\"none\" stroke=\"#000000\" d=\"M549.1665,-88.636C559.7927,-75.429 574.8896,-56.6657 586.8533,-41.7967\"/>\n<polygon fill=\"#000000\" stroke=\"#000000\" points=\"589.5872,-43.982 593.1291,-33.9967 584.1333,-39.5938 589.5872,-43.982\"/>\n<text text-anchor=\"middle\" x=\"584\" y=\"-57.8\" font-family=\"Times,serif\" font-size=\"14.00\" fill=\"#000000\">58</text>\n</g>\n<!-- class15 -->\n<g id=\"node18\" class=\"node\">\n<title>class15</title>\n<ellipse fill=\"none\" stroke=\"#000000\" cx=\"678\" cy=\"-18\" rx=\"27\" ry=\"18\"/>\n<text text-anchor=\"middle\" x=\"678\" y=\"-14.3\" font-family=\"Times,serif\" font-size=\"14.00\" fill=\"#000000\">0</text>\n</g>\n<!-- 67.413&#45;&gt;class15 -->\n<g id=\"edge17\" class=\"edge\">\n<title>67.413&#45;&gt;class15</title>\n<path fill=\"none\" stroke=\"#000000\" d=\"M556.5983,-92.7514C568.1994,-85.8253 582.9384,-76.9796 596,-69 613.8193,-58.1138 633.7102,-45.7479 649.4387,-35.9192\"/>\n<polygon fill=\"#000000\" stroke=\"#000000\" points=\"651.55,-38.7269 658.1712,-30.4558 647.8373,-32.7926 651.55,-38.7269\"/>\n<text text-anchor=\"middle\" x=\"627\" y=\"-57.8\" font-family=\"Times,serif\" font-size=\"14.00\" fill=\"#000000\">64</text>\n</g>\n<!-- class18 -->\n<g id=\"node21\" class=\"node\">\n<title>class18</title>\n<ellipse fill=\"none\" stroke=\"#000000\" cx=\"750\" cy=\"-18\" rx=\"27\" ry=\"18\"/>\n<text text-anchor=\"middle\" x=\"750\" y=\"-14.3\" font-family=\"Times,serif\" font-size=\"14.00\" fill=\"#000000\">1</text>\n</g>\n<!-- 67.417&#45;&gt;class18 -->\n<g id=\"edge20\" class=\"edge\">\n<title>67.417&#45;&gt;class18</title>\n<path fill=\"none\" stroke=\"#000000\" d=\"M694.7903,-88.636C705.0174,-75.5513 719.5073,-57.0127 731.0767,-42.2107\"/>\n<polygon fill=\"#000000\" stroke=\"#000000\" points=\"734.0962,-44.031 737.4968,-33.9967 728.581,-39.7202 734.0962,-44.031\"/>\n<text text-anchor=\"middle\" x=\"729\" y=\"-57.8\" font-family=\"Times,serif\" font-size=\"14.00\" fill=\"#000000\">58</text>\n</g>\n<!-- class19 -->\n<g id=\"node22\" class=\"node\">\n<title>class19</title>\n<ellipse fill=\"none\" stroke=\"#000000\" cx=\"822\" cy=\"-18\" rx=\"27\" ry=\"18\"/>\n<text text-anchor=\"middle\" x=\"822\" y=\"-14.3\" font-family=\"Times,serif\" font-size=\"14.00\" fill=\"#000000\">0</text>\n</g>\n<!-- 67.417&#45;&gt;class19 -->\n<g id=\"edge21\" class=\"edge\">\n<title>67.417&#45;&gt;class19</title>\n<path fill=\"none\" stroke=\"#000000\" d=\"M702.522,-92.5751C713.8859,-85.6706 728.2514,-76.9023 741,-69 758.5926,-58.0951 778.2407,-45.7287 793.7795,-35.9044\"/>\n<polygon fill=\"#000000\" stroke=\"#000000\" points=\"795.829,-38.7494 802.4071,-30.4441 792.0855,-32.8345 795.829,-38.7494\"/>\n<text text-anchor=\"middle\" x=\"772\" y=\"-57.8\" font-family=\"Times,serif\" font-size=\"14.00\" fill=\"#000000\">57</text>\n</g>\n<!-- class28 -->\n<g id=\"node31\" class=\"node\">\n<title>class28</title>\n<ellipse fill=\"none\" stroke=\"#000000\" cx=\"1116\" cy=\"-18\" rx=\"27\" ry=\"18\"/>\n<text text-anchor=\"middle\" x=\"1116\" y=\"-14.3\" font-family=\"Times,serif\" font-size=\"14.00\" fill=\"#000000\">0</text>\n</g>\n<!-- 67.427&#45;&gt;class28 -->\n<g id=\"edge30\" class=\"edge\">\n<title>67.427&#45;&gt;class28</title>\n<path fill=\"none\" stroke=\"#000000\" d=\"M1239.4347,-92.697C1227.844,-85.7539 1213.1043,-76.9093 1200,-69 1181.6849,-57.9456 1161.159,-45.4848 1144.982,-35.6474\"/>\n<polygon fill=\"#000000\" stroke=\"#000000\" points=\"1146.3718,-32.3961 1136.0094,-30.1889 1142.7336,-38.3764 1146.3718,-32.3961\"/>\n<text text-anchor=\"middle\" x=\"1208\" y=\"-57.8\" font-family=\"Times,serif\" font-size=\"14.00\" fill=\"#000000\">65</text>\n</g>\n<!-- class29 -->\n<g id=\"node32\" class=\"node\">\n<title>class29</title>\n<ellipse fill=\"none\" stroke=\"#000000\" cx=\"1188\" cy=\"-18\" rx=\"27\" ry=\"18\"/>\n<text text-anchor=\"middle\" x=\"1188\" y=\"-14.3\" font-family=\"Times,serif\" font-size=\"14.00\" fill=\"#000000\">0</text>\n</g>\n<!-- 67.427&#45;&gt;class29 -->\n<g id=\"edge31\" class=\"edge\">\n<title>67.427&#45;&gt;class29</title>\n<path fill=\"none\" stroke=\"#000000\" d=\"M1246.7941,-89.0429C1235.8328,-75.798 1220.0821,-56.7659 1207.6416,-41.7336\"/>\n<polygon fill=\"#000000\" stroke=\"#000000\" points=\"1210.1943,-39.3284 1201.1222,-33.856 1204.8015,-43.7914 1210.1943,-39.3284\"/>\n<text text-anchor=\"middle\" x=\"1237\" y=\"-57.8\" font-family=\"Times,serif\" font-size=\"14.00\" fill=\"#000000\">61</text>\n</g>\n<!-- class30 -->\n<g id=\"node33\" class=\"node\">\n<title>class30</title>\n<ellipse fill=\"none\" stroke=\"#000000\" cx=\"1260\" cy=\"-18\" rx=\"27\" ry=\"18\"/>\n<text text-anchor=\"middle\" x=\"1260\" y=\"-14.3\" font-family=\"Times,serif\" font-size=\"14.00\" fill=\"#000000\">1</text>\n</g>\n<!-- 67.427&#45;&gt;class30 -->\n<g id=\"edge32\" class=\"edge\">\n<title>67.427&#45;&gt;class30</title>\n<path fill=\"none\" stroke=\"#000000\" d=\"M1260,-86.9735C1260,-75.1918 1260,-59.5607 1260,-46.1581\"/>\n<polygon fill=\"#000000\" stroke=\"#000000\" points=\"1263.5001,-46.0033 1260,-36.0034 1256.5001,-46.0034 1263.5001,-46.0033\"/>\n<text text-anchor=\"middle\" x=\"1268\" y=\"-57.8\" font-family=\"Times,serif\" font-size=\"14.00\" fill=\"#000000\">57</text>\n</g>\n<!-- class32 -->\n<g id=\"node35\" class=\"node\">\n<title>class32</title>\n<ellipse fill=\"none\" stroke=\"#000000\" cx=\"1332\" cy=\"-18\" rx=\"27\" ry=\"18\"/>\n<text text-anchor=\"middle\" x=\"1332\" y=\"-14.3\" font-family=\"Times,serif\" font-size=\"14.00\" fill=\"#000000\">1</text>\n</g>\n<!-- 67.431&#45;&gt;class32 -->\n<g id=\"edge34\" class=\"edge\">\n<title>67.431&#45;&gt;class32</title>\n<path fill=\"none\" stroke=\"#000000\" d=\"M1333.5856,-86.9735C1333.3148,-75.1918 1332.9554,-59.5607 1332.6473,-46.1581\"/>\n<polygon fill=\"#000000\" stroke=\"#000000\" points=\"1336.1429,-45.9202 1332.4139,-36.0034 1329.1447,-46.0812 1336.1429,-45.9202\"/>\n<text text-anchor=\"middle\" x=\"1342\" y=\"-57.8\" font-family=\"Times,serif\" font-size=\"14.00\" fill=\"#000000\">64</text>\n</g>\n<!-- class33 -->\n<g id=\"node36\" class=\"node\">\n<title>class33</title>\n<ellipse fill=\"none\" stroke=\"#000000\" cx=\"1404\" cy=\"-18\" rx=\"27\" ry=\"18\"/>\n<text text-anchor=\"middle\" x=\"1404\" y=\"-14.3\" font-family=\"Times,serif\" font-size=\"14.00\" fill=\"#000000\">0</text>\n</g>\n<!-- 67.431&#45;&gt;class33 -->\n<g id=\"edge35\" class=\"edge\">\n<title>67.431&#45;&gt;class33</title>\n<path fill=\"none\" stroke=\"#000000\" d=\"M1347.1665,-88.636C1357.7927,-75.429 1372.8896,-56.6657 1384.8533,-41.7967\"/>\n<polygon fill=\"#000000\" stroke=\"#000000\" points=\"1387.5872,-43.982 1391.1291,-33.9967 1382.1333,-39.5938 1387.5872,-43.982\"/>\n<text text-anchor=\"middle\" x=\"1382\" y=\"-57.8\" font-family=\"Times,serif\" font-size=\"14.00\" fill=\"#000000\">55</text>\n</g>\n<!-- class34 -->\n<g id=\"node37\" class=\"node\">\n<title>class34</title>\n<ellipse fill=\"none\" stroke=\"#000000\" cx=\"1476\" cy=\"-18\" rx=\"27\" ry=\"18\"/>\n<text text-anchor=\"middle\" x=\"1476\" y=\"-14.3\" font-family=\"Times,serif\" font-size=\"14.00\" fill=\"#000000\">0</text>\n</g>\n<!-- 67.431&#45;&gt;class34 -->\n<g id=\"edge36\" class=\"edge\">\n<title>67.431&#45;&gt;class34</title>\n<path fill=\"none\" stroke=\"#000000\" d=\"M1354.5983,-92.7514C1366.1994,-85.8253 1380.9384,-76.9796 1394,-69 1411.8193,-58.1138 1431.7102,-45.7479 1447.4387,-35.9192\"/>\n<polygon fill=\"#000000\" stroke=\"#000000\" points=\"1449.55,-38.7269 1456.1712,-30.4558 1445.8373,-32.7926 1449.55,-38.7269\"/>\n<text text-anchor=\"middle\" x=\"1425\" y=\"-57.8\" font-family=\"Times,serif\" font-size=\"14.00\" fill=\"#000000\">59</text>\n</g>\n<!-- class35 -->\n<g id=\"node38\" class=\"node\">\n<title>class35</title>\n<ellipse fill=\"none\" stroke=\"#000000\" cx=\"1548\" cy=\"-18\" rx=\"27\" ry=\"18\"/>\n<text text-anchor=\"middle\" x=\"1548\" y=\"-14.3\" font-family=\"Times,serif\" font-size=\"14.00\" fill=\"#000000\">0</text>\n</g>\n<!-- 67.431&#45;&gt;class35 -->\n<g id=\"edge37\" class=\"edge\">\n<title>67.431&#45;&gt;class35</title>\n<path fill=\"none\" stroke=\"#000000\" d=\"M1356.0096,-93.4625C1360.8727,-91.1484 1366.0518,-88.8598 1371,-87 1399.4608,-76.303 1408.3397,-79.1504 1437,-69 1471.328,-56.8423 1479.0371,-51.4812 1512,-36 1513.7552,-35.1757 1515.5528,-34.3186 1517.3631,-33.4455\"/>\n<polygon fill=\"#000000\" stroke=\"#000000\" points=\"1518.9434,-36.5688 1526.382,-29.0243 1515.8623,-30.2833 1518.9434,-36.5688\"/>\n<text text-anchor=\"middle\" x=\"1482\" y=\"-57.8\" font-family=\"Times,serif\" font-size=\"14.00\" fill=\"#000000\">66</text>\n</g>\n<!-- class41 -->\n<g id=\"node44\" class=\"node\">\n<title>class41</title>\n<ellipse fill=\"none\" stroke=\"#000000\" cx=\"1624\" cy=\"-18\" rx=\"27\" ry=\"18\"/>\n<text text-anchor=\"middle\" x=\"1624\" y=\"-14.3\" font-family=\"Times,serif\" font-size=\"14.00\" fill=\"#000000\">0</text>\n</g>\n<!-- 67.440&#45;&gt;class41 -->\n<g id=\"edge43\" class=\"edge\">\n<title>67.440&#45;&gt;class41</title>\n<path fill=\"none\" stroke=\"#000000\" d=\"M1682.7941,-89.0429C1671.8328,-75.798 1656.0821,-56.7659 1643.6416,-41.7336\"/>\n<polygon fill=\"#000000\" stroke=\"#000000\" points=\"1646.1943,-39.3284 1637.1222,-33.856 1640.8015,-43.7914 1646.1943,-39.3284\"/>\n<text text-anchor=\"middle\" x=\"1673\" y=\"-57.8\" font-family=\"Times,serif\" font-size=\"14.00\" fill=\"#000000\">66</text>\n</g>\n<!-- class42 -->\n<g id=\"node45\" class=\"node\">\n<title>class42</title>\n<ellipse fill=\"none\" stroke=\"#000000\" cx=\"1696\" cy=\"-18\" rx=\"27\" ry=\"18\"/>\n<text text-anchor=\"middle\" x=\"1696\" y=\"-14.3\" font-family=\"Times,serif\" font-size=\"14.00\" fill=\"#000000\">1</text>\n</g>\n<!-- 67.440&#45;&gt;class42 -->\n<g id=\"edge44\" class=\"edge\">\n<title>67.440&#45;&gt;class42</title>\n<path fill=\"none\" stroke=\"#000000\" d=\"M1696,-86.9735C1696,-75.1918 1696,-59.5607 1696,-46.1581\"/>\n<polygon fill=\"#000000\" stroke=\"#000000\" points=\"1699.5001,-46.0033 1696,-36.0034 1692.5001,-46.0034 1699.5001,-46.0033\"/>\n<text text-anchor=\"middle\" x=\"1704\" y=\"-57.8\" font-family=\"Times,serif\" font-size=\"14.00\" fill=\"#000000\">63</text>\n</g>\n<!-- class43 -->\n<g id=\"node46\" class=\"node\">\n<title>class43</title>\n<ellipse fill=\"none\" stroke=\"#000000\" cx=\"1768\" cy=\"-18\" rx=\"27\" ry=\"18\"/>\n<text text-anchor=\"middle\" x=\"1768\" y=\"-14.3\" font-family=\"Times,serif\" font-size=\"14.00\" fill=\"#000000\">0</text>\n</g>\n<!-- 67.440&#45;&gt;class43 -->\n<g id=\"edge45\" class=\"edge\">\n<title>67.440&#45;&gt;class43</title>\n<path fill=\"none\" stroke=\"#000000\" d=\"M1709.2059,-89.0429C1720.1672,-75.798 1735.9179,-56.7659 1748.3584,-41.7336\"/>\n<polygon fill=\"#000000\" stroke=\"#000000\" points=\"1751.1985,-43.7914 1754.8778,-33.856 1745.8057,-39.3284 1751.1985,-43.7914\"/>\n<text text-anchor=\"middle\" x=\"1745\" y=\"-57.8\" font-family=\"Times,serif\" font-size=\"14.00\" fill=\"#000000\">59</text>\n</g>\n</g>\n</svg>\n"
          },
          "metadata": {},
          "execution_count": 330
        }
      ]
    },
    {
      "cell_type": "code",
      "source": [
        "print(d.tree.no_leafs)"
      ],
      "metadata": {
        "colab": {
          "base_uri": "https://localhost:8080/"
        },
        "id": "ifPh6CH60c9F",
        "outputId": "29e7daa2-5b54-4b68-cd0e-3ad0ac6923ff"
      },
      "execution_count": 331,
      "outputs": [
        {
          "output_type": "stream",
          "name": "stdout",
          "text": [
            "41\n"
          ]
        }
      ]
    },
    {
      "cell_type": "code",
      "source": [
        "d.get_rules()"
      ],
      "metadata": {
        "colab": {
          "base_uri": "https://localhost:8080/"
        },
        "id": "bt-AoT2V0f7_",
        "outputId": "d7ee9bd7-4e1e-4c66-8db9-624b6f73979c"
      },
      "execution_count": 332,
      "outputs": [
        {
          "output_type": "stream",
          "name": "stderr",
          "text": [
            "/usr/local/lib/python3.7/dist-packages/ipykernel_launcher.py:175: FutureWarning: elementwise comparison failed; returning scalar instead, but in the future will perform elementwise comparison\n"
          ]
        },
        {
          "output_type": "execute_result",
          "data": {
            "text/plain": [
              "['63 ->  ( 52 ) 1',\n",
              " '63 ->  ( 54 ) 1',\n",
              " '63 ->  ( 23 ) 1',\n",
              " '63 ->  ( 77 ) 1',\n",
              " '63 ->  ( 48 ) 1',\n",
              " '63 ->  ( 68 ) 67.4 ->  ( 73 ) 1',\n",
              " '63 ->  ( 68 ) 67.4 ->  ( 55 ) 0',\n",
              " '63 ->  ( 66 ) 67.4 ->  ( 57 ) 0',\n",
              " '63 ->  ( 66 ) 67.4 ->  ( 68 ) 0',\n",
              " '63 ->  ( 66 ) 67.4 ->  ( 58 ) 0',\n",
              " '63 ->  ( 66 ) 67.4 ->  ( 64 ) 0',\n",
              " '63 ->  ( 66 ) 67.4 ->  ( 48 ) 1',\n",
              " '63 ->  ( 57 ) 67.4 ->  ( 58 ) 1',\n",
              " '63 ->  ( 57 ) 67.4 ->  ( 64 ) 0',\n",
              " '63 ->  ( 61 ) 0',\n",
              " '63 ->  ( 74 ) 67.4 ->  ( 58 ) 1',\n",
              " '63 ->  ( 74 ) 67.4 ->  ( 57 ) 0',\n",
              " '63 ->  ( 63 ) 0',\n",
              " '63 ->  ( 41 ) 1',\n",
              " '63 ->  ( 19 ) 1',\n",
              " '63 ->  ( 76 ) 0',\n",
              " '63 ->  ( 71 ) 0',\n",
              " '63 ->  ( 75 ) 0',\n",
              " '63 ->  ( 65 ) 1',\n",
              " '63 ->  ( 56 ) 67.4 ->  ( 65 ) 0',\n",
              " '63 ->  ( 56 ) 67.4 ->  ( 61 ) 0',\n",
              " '63 ->  ( 56 ) 67.4 ->  ( 57 ) 1',\n",
              " '63 ->  ( 67 ) 67.4 ->  ( 64 ) 1',\n",
              " '63 ->  ( 67 ) 67.4 ->  ( 55 ) 0',\n",
              " '63 ->  ( 67 ) 67.4 ->  ( 59 ) 0',\n",
              " '63 ->  ( 67 ) 67.4 ->  ( 66 ) 0',\n",
              " '63 ->  ( 59 ) 1',\n",
              " '63 ->  ( 36 ) 1',\n",
              " '63 ->  ( 64 ) 1',\n",
              " '63 ->  ( 53 ) 1',\n",
              " '63 ->  ( 69 ) 67.4 ->  ( 66 ) 0',\n",
              " '63 ->  ( 69 ) 67.4 ->  ( 63 ) 1',\n",
              " '63 ->  ( 69 ) 67.4 ->  ( 59 ) 0',\n",
              " '63 ->  ( 37 ) 1',\n",
              " '63 ->  ( 62 ) 1',\n",
              " '63 ->  ( 49 ) 0']"
            ]
          },
          "metadata": {},
          "execution_count": 332
        }
      ]
    },
    {
      "cell_type": "code",
      "source": [
        "inp=[]\n",
        "n=1000\n",
        "n=n if n < len(test_df) else len(test_df)\n",
        "for i in range(n):\n",
        "  inp.append(test_df.iloc[i].to_dict())\n",
        "print(d.predict(inp))\n"
      ],
      "metadata": {
        "colab": {
          "base_uri": "https://localhost:8080/"
        },
        "id": "MDdjC-pN0gOP",
        "outputId": "1eb55246-d4c8-4aea-e54c-3e0a37afc10a"
      },
      "execution_count": 333,
      "outputs": [
        {
          "output_type": "stream",
          "name": "stdout",
          "text": [
            "[1, 1, 1, 1, 1, 1, 1, 0, 1, 1, 1, 0, 1, 1, 'Not valid instance, path: 63 ( 68 ) -> 67.4 ( 63 ) -> ', 0, 1, 1, 1, 'Not valid instance, path: 63 ( 58 ) -> ', 'Not valid instance, path: 63 ( 57 ) -> 67.4 ( 42 ) -> ', 0, 1]\n"
          ]
        },
        {
          "output_type": "stream",
          "name": "stderr",
          "text": [
            "/usr/local/lib/python3.7/dist-packages/ipykernel_launcher.py:157: FutureWarning: elementwise comparison failed; returning scalar instead, but in the future will perform elementwise comparison\n"
          ]
        }
      ]
    },
    {
      "cell_type": "code",
      "source": [
        "d.tree.printt()"
      ],
      "metadata": {
        "colab": {
          "base_uri": "https://localhost:8080/"
        },
        "id": "F77AMvp50p6o",
        "outputId": "d813d3bb-5a1c-4dcb-8fdd-61b759b3be63"
      },
      "execution_count": 334,
      "outputs": [
        {
          "output_type": "stream",
          "name": "stdout",
          "text": [
            "| 63\n",
            "|----- ( 52) 1\n",
            "|----- ( 54) 1\n",
            "|----- ( 23) 1\n",
            "|----- ( 77) 1\n",
            "|----- ( 48) 1\n",
            "|----- ( 68) 67.4\n",
            "|---------- ( 73) 1\n",
            "|---------- ( 55) 0\n",
            "|----- ( 66) 67.47\n",
            "|---------- ( 57) 0\n",
            "|---------- ( 68) 0\n",
            "|---------- ( 58) 0\n",
            "|---------- ( 64) 0\n",
            "|---------- ( 48) 1\n",
            "|----- ( 57) 67.413\n",
            "|---------- ( 58) 1\n",
            "|---------- ( 64) 0\n",
            "|----- ( 61) 0\n",
            "|----- ( 74) 67.417\n",
            "|---------- ( 58) 1\n",
            "|---------- ( 57) 0\n",
            "|----- ( 63) 0\n",
            "|----- ( 41) 1\n",
            "|----- ( 19) 1\n",
            "|----- ( 76) 0\n",
            "|----- ( 71) 0\n",
            "|----- ( 75) 0\n",
            "|----- ( 65) 1\n",
            "|----- ( 56) 67.427\n",
            "|---------- ( 65) 0\n",
            "|---------- ( 61) 0\n",
            "|---------- ( 57) 1\n",
            "|----- ( 67) 67.431\n",
            "|---------- ( 64) 1\n",
            "|---------- ( 55) 0\n",
            "|---------- ( 59) 0\n",
            "|---------- ( 66) 0\n",
            "|----- ( 59) 1\n",
            "|----- ( 36) 1\n",
            "|----- ( 64) 1\n",
            "|----- ( 53) 1\n",
            "|----- ( 69) 67.440\n",
            "|---------- ( 66) 0\n",
            "|---------- ( 63) 1\n",
            "|---------- ( 59) 0\n",
            "|----- ( 37) 1\n",
            "|----- ( 62) 1\n",
            "|----- ( 49) 0\n"
          ]
        }
      ]
    },
    {
      "cell_type": "code",
      "source": [
        "o=list(enumerate(d.predict(data)))\n",
        "o"
      ],
      "metadata": {
        "colab": {
          "base_uri": "https://localhost:8080/"
        },
        "id": "ET2pWEIz0rrw",
        "outputId": "fe744f34-7eeb-4269-d15a-373e369e9d2f"
      },
      "execution_count": 335,
      "outputs": [
        {
          "output_type": "stream",
          "name": "stderr",
          "text": [
            "/usr/local/lib/python3.7/dist-packages/ipykernel_launcher.py:157: FutureWarning: elementwise comparison failed; returning scalar instead, but in the future will perform elementwise comparison\n"
          ]
        },
        {
          "output_type": "execute_result",
          "data": {
            "text/plain": [
              "[(0, 1),\n",
              " (1, 1),\n",
              " (2, 1),\n",
              " (3, 1),\n",
              " (4, 1),\n",
              " (5, 1),\n",
              " (6, 'Not valid instance, path: 63 ( 66 ) -> 67.4 ( 52 ) -> '),\n",
              " (7, 1),\n",
              " (8, 1),\n",
              " (9, 1),\n",
              " (10, 'Not valid instance, path: 63 ( 70 ) -> '),\n",
              " (11, 1),\n",
              " (12, 1),\n",
              " (13, 1),\n",
              " (14, 1),\n",
              " (15, 'Not valid instance, path: 63 ( 58 ) -> '),\n",
              " (16, 1),\n",
              " (17, 1),\n",
              " (18, 1),\n",
              " (19, 1),\n",
              " (20, 1),\n",
              " (21, 'Not valid instance, path: 63 ( 69 ) -> 67.4 ( 62 ) -> '),\n",
              " (22, 1),\n",
              " (23, 1),\n",
              " (24, 1),\n",
              " (25, 'Not valid instance, path: 63 ( 58 ) -> '),\n",
              " (26, 1),\n",
              " (27, 1),\n",
              " (28, 1),\n",
              " (29, 1),\n",
              " (30, 'Not valid instance, path: 63 ( 35 ) -> '),\n",
              " (31, 1),\n",
              " (32, 1),\n",
              " (33, 'Not valid instance, path: 63 ( 57 ) -> 67.4 ( 42 ) -> '),\n",
              " (34, 1),\n",
              " (35, 1),\n",
              " (36, 1),\n",
              " (37, 1),\n",
              " (38, 1),\n",
              " (39, 1),\n",
              " (40, 0),\n",
              " (41, 0),\n",
              " (42, 0),\n",
              " (43, 'Not valid instance, path: 63 ( 68 ) -> 67.4 ( 63 ) -> '),\n",
              " (44, 0),\n",
              " (45, 0),\n",
              " (46, 1),\n",
              " (47, 0),\n",
              " (48, 0),\n",
              " (49, 0),\n",
              " (50, 0),\n",
              " (51, 'Not valid instance, path: 63 ( 60 ) -> '),\n",
              " (52, 0),\n",
              " (53, 0),\n",
              " (54, 1),\n",
              " (55, 0),\n",
              " (56, 0),\n",
              " (57, 'Not valid instance, path: 63 ( 69 ) -> 67.4 ( 64 ) -> '),\n",
              " (58, 1),\n",
              " (59, 0),\n",
              " (60, 1),\n",
              " (61, 'Not valid instance, path: 63 ( 56 ) -> 67.4 ( 56 ) -> '),\n",
              " (62, 0),\n",
              " (63, 1),\n",
              " (64, 1),\n",
              " (65, 0),\n",
              " (66, 0),\n",
              " (67, 0),\n",
              " (68, 0),\n",
              " (69, 0),\n",
              " (70, 0),\n",
              " (71, 0),\n",
              " (72, 0),\n",
              " (73, 0),\n",
              " (74, 0),\n",
              " (75, 0),\n",
              " (76, 0),\n",
              " (77, 0),\n",
              " (78, 0)]"
            ]
          },
          "metadata": {},
          "execution_count": 335
        }
      ]
    },
    {
      "cell_type": "code",
      "source": [
        "data[target_name]"
      ],
      "metadata": {
        "colab": {
          "base_uri": "https://localhost:8080/"
        },
        "id": "QJrQQCVy0xIg",
        "outputId": "1268a8b7-27a5-4797-d9cf-a855410af8f3"
      },
      "execution_count": 336,
      "outputs": [
        {
          "output_type": "execute_result",
          "data": {
            "text/plain": [
              "0     1\n",
              "1     1\n",
              "2     1\n",
              "3     1\n",
              "4     1\n",
              "     ..\n",
              "74    0\n",
              "75    0\n",
              "76    0\n",
              "77    0\n",
              "78    0\n",
              "Name: 1, Length: 79, dtype: int64"
            ]
          },
          "metadata": {},
          "execution_count": 336
        }
      ]
    },
    {
      "cell_type": "code",
      "source": [
        "count=0\n",
        "for i in o:\n",
        "  if i[1]=='Not valid instance':\n",
        "    print(\"Something went wrong\")\n",
        "    count+=1\n",
        "print(count)"
      ],
      "metadata": {
        "colab": {
          "base_uri": "https://localhost:8080/"
        },
        "id": "sHVMZvXt0y1T",
        "outputId": "d4244f6a-b080-4f25-be12-59d191dca827"
      },
      "execution_count": 337,
      "outputs": [
        {
          "output_type": "stream",
          "name": "stdout",
          "text": [
            "0\n"
          ]
        }
      ]
    },
    {
      "cell_type": "code",
      "source": [
        "print(df.iloc[0].to_dict())\n",
        "d.predict(df.iloc[0].to_dict(),trace=True)"
      ],
      "metadata": {
        "colab": {
          "base_uri": "https://localhost:8080/"
        },
        "id": "LHy6C8db01zu",
        "outputId": "da90853d-38d3-4023-981e-a9357ec23579"
      },
      "execution_count": 338,
      "outputs": [
        {
          "output_type": "stream",
          "name": "stdout",
          "text": [
            "{'1': 1, '59': 70, '52': 66, '70': 66, '67': 68, '73': 71, '66': 69, '72': 64, '61': 61, '58': 68, '52.1': 67, '72.1': 50, '71': 53, '70.1': 73, '77': 71, '66.1': 73, '65': 63, '67.1': 71, '55': 73, '61.1': 80, '57': 81, '68': 82, '66.2': 82, '72.2': 67, '74': 71, '63': 52, '64': 47, '56': 67, '54': 64, '67.2': 66, '54.1': 67, '76': 66, '74.1': 75, '65.1': 58, '67.3': 62, '66.3': 65, '56.1': 65, '62': 71, '56.2': 67, '72.3': 70, '62.1': 71, '74.2': 67, '74.3': 64, '64.1': 52, '67.4': 53}\n",
            "63 ( 52 ) -> 1\n"
          ]
        },
        {
          "output_type": "stream",
          "name": "stderr",
          "text": [
            "/usr/local/lib/python3.7/dist-packages/ipykernel_launcher.py:157: FutureWarning: elementwise comparison failed; returning scalar instead, but in the future will perform elementwise comparison\n"
          ]
        },
        {
          "output_type": "execute_result",
          "data": {
            "text/plain": [
              "1"
            ]
          },
          "metadata": {},
          "execution_count": 338
        }
      ]
    }
  ]
}