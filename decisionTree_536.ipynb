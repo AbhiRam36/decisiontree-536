{
  "nbformat": 4,
  "nbformat_minor": 0,
  "metadata": {
    "colab": {
      "provenance": [],
      "collapsed_sections": [],
      "authorship_tag": "ABX9TyOVKzLDg0u6hnZIFJbKoO5W",
      "include_colab_link": true
    },
    "kernelspec": {
      "name": "python3",
      "display_name": "Python 3"
    },
    "language_info": {
      "name": "python"
    }
  },
  "cells": [
    {
      "cell_type": "markdown",
      "metadata": {
        "id": "view-in-github",
        "colab_type": "text"
      },
      "source": [
        "<a href=\"https://colab.research.google.com/github/AbhiRam36/decisiontree-536/blob/main/decisionTree_536.ipynb\" target=\"_parent\"><img src=\"https://colab.research.google.com/assets/colab-badge.svg\" alt=\"Open In Colab\"/></a>"
      ]
    },
    {
      "cell_type": "code",
      "execution_count": 151,
      "metadata": {
        "id": "Z5To_3qQJJQ5"
      },
      "outputs": [],
      "source": [
        "import numpy as np\n",
        "import pandas as pd\n",
        "import matplotlib.pyplot as mtp\n",
        "from math import*"
      ]
    },
    {
      "cell_type": "code",
      "source": [
        "import copy\n",
        "from graphviz import Digraph"
      ],
      "metadata": {
        "id": "QC_h8NuXt2Vl"
      },
      "execution_count": 152,
      "outputs": []
    },
    {
      "cell_type": "code",
      "source": [
        "dataset='echo'\n",
        "split_func='IG'"
      ],
      "metadata": {
        "id": "KXVAoEzVt9Ol"
      },
      "execution_count": 174,
      "outputs": []
    },
    {
      "cell_type": "code",
      "source": [
        "datasets={'weather':['https://raw.githubusercontent.com/AbhiRam36/decisiontree-536/main/eighthr.data.csv','0'],'dermatology':['https://raw.githubusercontent.com/AbhiRam36/decisiontree-536/main/dermatology.data.csv','2'],'echo':['https://raw.githubusercontent.com/AbhiRam36/decisiontree-536/main/echocardiogram.data.csv','71'],'ionosphere':['https://raw.githubusercontent.com/AbhiRam36/decisiontree-536/main/ionosphere.data.csv' ,'0'],'heart':['https://raw.githubusercontent.com/AbhiRam36/decisiontree-536/main/SPECTF.train.csv' ,'1']}"
      ],
      "metadata": {
        "id": "zuD0chwFt--r"
      },
      "execution_count": 175,
      "outputs": []
    },
    {
      "cell_type": "code",
      "source": [
        "dataset_url,target_name=datasets[dataset]\n",
        "data=pd.read_csv(dataset_url,error_bad_lines=False)\n",
        "data=data.applymap(lambda x: x.strip() if isinstance(x, str) else x)"
      ],
      "metadata": {
        "colab": {
          "base_uri": "https://localhost:8080/"
        },
        "id": "HniAte_qxHdQ",
        "outputId": "04b3efa2-15c4-4884-be43-a7bcf46ef27b"
      },
      "execution_count": 176,
      "outputs": [
        {
          "output_type": "stream",
          "name": "stderr",
          "text": [
            "/usr/local/lib/python3.7/dist-packages/IPython/core/interactiveshell.py:3326: FutureWarning: The error_bad_lines argument has been deprecated and will be removed in a future version.\n",
            "\n",
            "\n",
            "  exec(code_obj, self.user_global_ns, self.user_ns)\n",
            "b'Skipping line 50: expected 13 fields, saw 14\\n'\n"
          ]
        }
      ]
    },
    {
      "cell_type": "code",
      "source": [
        "print(data)"
      ],
      "metadata": {
        "colab": {
          "base_uri": "https://localhost:8080/"
        },
        "id": "xoCYa7SCxaFP",
        "outputId": "9c9a6148-6596-4251-8a70-7a5073f7e839"
      },
      "execution_count": 177,
      "outputs": [
        {
          "output_type": "stream",
          "name": "stdout",
          "text": [
            "      11  0  71  0.1  0.260       9  4.600    14      1    1.1  name 1.2 0.2\n",
            "0     19  0  72    0  0.380       6  4.100    14  1.700  0.588  name   1   0\n",
            "1     16  0  55    0  0.260       4  3.420    14      1      1  name   1   0\n",
            "2     57  0  60    0  0.253  12.062  4.603    16  1.450  0.788  name   1   0\n",
            "3     19  1  57    0  0.160      22  5.750    18  2.250  0.571  name   1   0\n",
            "4     26  0  68    0  0.260       5  4.310    12      1  0.857  name   1   0\n",
            "..   ... ..  ..  ...    ...     ...    ...   ...    ...    ...   ...  ..  ..\n",
            "125  7.5  1  64    0   0.24    12.9   4.72    12      1  0.857  name   ?   ?\n",
            "126   41  0  64    0   0.28    5.40   5.47    11   1.10  0.714  name   ?   ?\n",
            "127   36  0  69    0   0.20    7.00   5.05  14.5   1.21  0.857  name   ?   ?\n",
            "128   22  0  57    0   0.14    16.1   4.36    15   1.36  0.786  name   ?   ?\n",
            "129   20  0  62    0   0.15       0   4.51  15.5  1.409  0.786  name   ?   ?\n",
            "\n",
            "[130 rows x 13 columns]\n"
          ]
        }
      ]
    },
    {
      "cell_type": "code",
      "source": [
        "data"
      ],
      "metadata": {
        "colab": {
          "base_uri": "https://localhost:8080/",
          "height": 419
        },
        "id": "E4v2DrfBxe2N",
        "outputId": "efeb34da-1324-4efb-e7ff-ef495e8a4538"
      },
      "execution_count": 178,
      "outputs": [
        {
          "output_type": "execute_result",
          "data": {
            "text/plain": [
              "      11  0  71  0.1  0.260       9  4.600    14      1    1.1  name 1.2 0.2\n",
              "0     19  0  72    0  0.380       6  4.100    14  1.700  0.588  name   1   0\n",
              "1     16  0  55    0  0.260       4  3.420    14      1      1  name   1   0\n",
              "2     57  0  60    0  0.253  12.062  4.603    16  1.450  0.788  name   1   0\n",
              "3     19  1  57    0  0.160      22  5.750    18  2.250  0.571  name   1   0\n",
              "4     26  0  68    0  0.260       5  4.310    12      1  0.857  name   1   0\n",
              "..   ... ..  ..  ...    ...     ...    ...   ...    ...    ...   ...  ..  ..\n",
              "125  7.5  1  64    0   0.24    12.9   4.72    12      1  0.857  name   ?   ?\n",
              "126   41  0  64    0   0.28    5.40   5.47    11   1.10  0.714  name   ?   ?\n",
              "127   36  0  69    0   0.20    7.00   5.05  14.5   1.21  0.857  name   ?   ?\n",
              "128   22  0  57    0   0.14    16.1   4.36    15   1.36  0.786  name   ?   ?\n",
              "129   20  0  62    0   0.15       0   4.51  15.5  1.409  0.786  name   ?   ?\n",
              "\n",
              "[130 rows x 13 columns]"
            ],
            "text/html": [
              "\n",
              "  <div id=\"df-0b3712fe-049a-4766-bf64-7543ed404d5a\">\n",
              "    <div class=\"colab-df-container\">\n",
              "      <div>\n",
              "<style scoped>\n",
              "    .dataframe tbody tr th:only-of-type {\n",
              "        vertical-align: middle;\n",
              "    }\n",
              "\n",
              "    .dataframe tbody tr th {\n",
              "        vertical-align: top;\n",
              "    }\n",
              "\n",
              "    .dataframe thead th {\n",
              "        text-align: right;\n",
              "    }\n",
              "</style>\n",
              "<table border=\"1\" class=\"dataframe\">\n",
              "  <thead>\n",
              "    <tr style=\"text-align: right;\">\n",
              "      <th></th>\n",
              "      <th>11</th>\n",
              "      <th>0</th>\n",
              "      <th>71</th>\n",
              "      <th>0.1</th>\n",
              "      <th>0.260</th>\n",
              "      <th>9</th>\n",
              "      <th>4.600</th>\n",
              "      <th>14</th>\n",
              "      <th>1</th>\n",
              "      <th>1.1</th>\n",
              "      <th>name</th>\n",
              "      <th>1.2</th>\n",
              "      <th>0.2</th>\n",
              "    </tr>\n",
              "  </thead>\n",
              "  <tbody>\n",
              "    <tr>\n",
              "      <th>0</th>\n",
              "      <td>19</td>\n",
              "      <td>0</td>\n",
              "      <td>72</td>\n",
              "      <td>0</td>\n",
              "      <td>0.380</td>\n",
              "      <td>6</td>\n",
              "      <td>4.100</td>\n",
              "      <td>14</td>\n",
              "      <td>1.700</td>\n",
              "      <td>0.588</td>\n",
              "      <td>name</td>\n",
              "      <td>1</td>\n",
              "      <td>0</td>\n",
              "    </tr>\n",
              "    <tr>\n",
              "      <th>1</th>\n",
              "      <td>16</td>\n",
              "      <td>0</td>\n",
              "      <td>55</td>\n",
              "      <td>0</td>\n",
              "      <td>0.260</td>\n",
              "      <td>4</td>\n",
              "      <td>3.420</td>\n",
              "      <td>14</td>\n",
              "      <td>1</td>\n",
              "      <td>1</td>\n",
              "      <td>name</td>\n",
              "      <td>1</td>\n",
              "      <td>0</td>\n",
              "    </tr>\n",
              "    <tr>\n",
              "      <th>2</th>\n",
              "      <td>57</td>\n",
              "      <td>0</td>\n",
              "      <td>60</td>\n",
              "      <td>0</td>\n",
              "      <td>0.253</td>\n",
              "      <td>12.062</td>\n",
              "      <td>4.603</td>\n",
              "      <td>16</td>\n",
              "      <td>1.450</td>\n",
              "      <td>0.788</td>\n",
              "      <td>name</td>\n",
              "      <td>1</td>\n",
              "      <td>0</td>\n",
              "    </tr>\n",
              "    <tr>\n",
              "      <th>3</th>\n",
              "      <td>19</td>\n",
              "      <td>1</td>\n",
              "      <td>57</td>\n",
              "      <td>0</td>\n",
              "      <td>0.160</td>\n",
              "      <td>22</td>\n",
              "      <td>5.750</td>\n",
              "      <td>18</td>\n",
              "      <td>2.250</td>\n",
              "      <td>0.571</td>\n",
              "      <td>name</td>\n",
              "      <td>1</td>\n",
              "      <td>0</td>\n",
              "    </tr>\n",
              "    <tr>\n",
              "      <th>4</th>\n",
              "      <td>26</td>\n",
              "      <td>0</td>\n",
              "      <td>68</td>\n",
              "      <td>0</td>\n",
              "      <td>0.260</td>\n",
              "      <td>5</td>\n",
              "      <td>4.310</td>\n",
              "      <td>12</td>\n",
              "      <td>1</td>\n",
              "      <td>0.857</td>\n",
              "      <td>name</td>\n",
              "      <td>1</td>\n",
              "      <td>0</td>\n",
              "    </tr>\n",
              "    <tr>\n",
              "      <th>...</th>\n",
              "      <td>...</td>\n",
              "      <td>...</td>\n",
              "      <td>...</td>\n",
              "      <td>...</td>\n",
              "      <td>...</td>\n",
              "      <td>...</td>\n",
              "      <td>...</td>\n",
              "      <td>...</td>\n",
              "      <td>...</td>\n",
              "      <td>...</td>\n",
              "      <td>...</td>\n",
              "      <td>...</td>\n",
              "      <td>...</td>\n",
              "    </tr>\n",
              "    <tr>\n",
              "      <th>125</th>\n",
              "      <td>7.5</td>\n",
              "      <td>1</td>\n",
              "      <td>64</td>\n",
              "      <td>0</td>\n",
              "      <td>0.24</td>\n",
              "      <td>12.9</td>\n",
              "      <td>4.72</td>\n",
              "      <td>12</td>\n",
              "      <td>1</td>\n",
              "      <td>0.857</td>\n",
              "      <td>name</td>\n",
              "      <td>?</td>\n",
              "      <td>?</td>\n",
              "    </tr>\n",
              "    <tr>\n",
              "      <th>126</th>\n",
              "      <td>41</td>\n",
              "      <td>0</td>\n",
              "      <td>64</td>\n",
              "      <td>0</td>\n",
              "      <td>0.28</td>\n",
              "      <td>5.40</td>\n",
              "      <td>5.47</td>\n",
              "      <td>11</td>\n",
              "      <td>1.10</td>\n",
              "      <td>0.714</td>\n",
              "      <td>name</td>\n",
              "      <td>?</td>\n",
              "      <td>?</td>\n",
              "    </tr>\n",
              "    <tr>\n",
              "      <th>127</th>\n",
              "      <td>36</td>\n",
              "      <td>0</td>\n",
              "      <td>69</td>\n",
              "      <td>0</td>\n",
              "      <td>0.20</td>\n",
              "      <td>7.00</td>\n",
              "      <td>5.05</td>\n",
              "      <td>14.5</td>\n",
              "      <td>1.21</td>\n",
              "      <td>0.857</td>\n",
              "      <td>name</td>\n",
              "      <td>?</td>\n",
              "      <td>?</td>\n",
              "    </tr>\n",
              "    <tr>\n",
              "      <th>128</th>\n",
              "      <td>22</td>\n",
              "      <td>0</td>\n",
              "      <td>57</td>\n",
              "      <td>0</td>\n",
              "      <td>0.14</td>\n",
              "      <td>16.1</td>\n",
              "      <td>4.36</td>\n",
              "      <td>15</td>\n",
              "      <td>1.36</td>\n",
              "      <td>0.786</td>\n",
              "      <td>name</td>\n",
              "      <td>?</td>\n",
              "      <td>?</td>\n",
              "    </tr>\n",
              "    <tr>\n",
              "      <th>129</th>\n",
              "      <td>20</td>\n",
              "      <td>0</td>\n",
              "      <td>62</td>\n",
              "      <td>0</td>\n",
              "      <td>0.15</td>\n",
              "      <td>0</td>\n",
              "      <td>4.51</td>\n",
              "      <td>15.5</td>\n",
              "      <td>1.409</td>\n",
              "      <td>0.786</td>\n",
              "      <td>name</td>\n",
              "      <td>?</td>\n",
              "      <td>?</td>\n",
              "    </tr>\n",
              "  </tbody>\n",
              "</table>\n",
              "<p>130 rows × 13 columns</p>\n",
              "</div>\n",
              "      <button class=\"colab-df-convert\" onclick=\"convertToInteractive('df-0b3712fe-049a-4766-bf64-7543ed404d5a')\"\n",
              "              title=\"Convert this dataframe to an interactive table.\"\n",
              "              style=\"display:none;\">\n",
              "        \n",
              "  <svg xmlns=\"http://www.w3.org/2000/svg\" height=\"24px\"viewBox=\"0 0 24 24\"\n",
              "       width=\"24px\">\n",
              "    <path d=\"M0 0h24v24H0V0z\" fill=\"none\"/>\n",
              "    <path d=\"M18.56 5.44l.94 2.06.94-2.06 2.06-.94-2.06-.94-.94-2.06-.94 2.06-2.06.94zm-11 1L8.5 8.5l.94-2.06 2.06-.94-2.06-.94L8.5 2.5l-.94 2.06-2.06.94zm10 10l.94 2.06.94-2.06 2.06-.94-2.06-.94-.94-2.06-.94 2.06-2.06.94z\"/><path d=\"M17.41 7.96l-1.37-1.37c-.4-.4-.92-.59-1.43-.59-.52 0-1.04.2-1.43.59L10.3 9.45l-7.72 7.72c-.78.78-.78 2.05 0 2.83L4 21.41c.39.39.9.59 1.41.59.51 0 1.02-.2 1.41-.59l7.78-7.78 2.81-2.81c.8-.78.8-2.07 0-2.86zM5.41 20L4 18.59l7.72-7.72 1.47 1.35L5.41 20z\"/>\n",
              "  </svg>\n",
              "      </button>\n",
              "      \n",
              "  <style>\n",
              "    .colab-df-container {\n",
              "      display:flex;\n",
              "      flex-wrap:wrap;\n",
              "      gap: 12px;\n",
              "    }\n",
              "\n",
              "    .colab-df-convert {\n",
              "      background-color: #E8F0FE;\n",
              "      border: none;\n",
              "      border-radius: 50%;\n",
              "      cursor: pointer;\n",
              "      display: none;\n",
              "      fill: #1967D2;\n",
              "      height: 32px;\n",
              "      padding: 0 0 0 0;\n",
              "      width: 32px;\n",
              "    }\n",
              "\n",
              "    .colab-df-convert:hover {\n",
              "      background-color: #E2EBFA;\n",
              "      box-shadow: 0px 1px 2px rgba(60, 64, 67, 0.3), 0px 1px 3px 1px rgba(60, 64, 67, 0.15);\n",
              "      fill: #174EA6;\n",
              "    }\n",
              "\n",
              "    [theme=dark] .colab-df-convert {\n",
              "      background-color: #3B4455;\n",
              "      fill: #D2E3FC;\n",
              "    }\n",
              "\n",
              "    [theme=dark] .colab-df-convert:hover {\n",
              "      background-color: #434B5C;\n",
              "      box-shadow: 0px 1px 3px 1px rgba(0, 0, 0, 0.15);\n",
              "      filter: drop-shadow(0px 1px 2px rgba(0, 0, 0, 0.3));\n",
              "      fill: #FFFFFF;\n",
              "    }\n",
              "  </style>\n",
              "\n",
              "      <script>\n",
              "        const buttonEl =\n",
              "          document.querySelector('#df-0b3712fe-049a-4766-bf64-7543ed404d5a button.colab-df-convert');\n",
              "        buttonEl.style.display =\n",
              "          google.colab.kernel.accessAllowed ? 'block' : 'none';\n",
              "\n",
              "        async function convertToInteractive(key) {\n",
              "          const element = document.querySelector('#df-0b3712fe-049a-4766-bf64-7543ed404d5a');\n",
              "          const dataTable =\n",
              "            await google.colab.kernel.invokeFunction('convertToInteractive',\n",
              "                                                     [key], {});\n",
              "          if (!dataTable) return;\n",
              "\n",
              "          const docLinkHtml = 'Like what you see? Visit the ' +\n",
              "            '<a target=\"_blank\" href=https://colab.research.google.com/notebooks/data_table.ipynb>data table notebook</a>'\n",
              "            + ' to learn more about interactive tables.';\n",
              "          element.innerHTML = '';\n",
              "          dataTable['output_type'] = 'display_data';\n",
              "          await google.colab.output.renderOutput(dataTable, element);\n",
              "          const docLink = document.createElement('div');\n",
              "          docLink.innerHTML = docLinkHtml;\n",
              "          element.appendChild(docLink);\n",
              "        }\n",
              "      </script>\n",
              "    </div>\n",
              "  </div>\n",
              "  "
            ]
          },
          "metadata": {},
          "execution_count": 178
        }
      ]
    },
    {
      "cell_type": "code",
      "source": [
        "print(pd.DataFrame(data))\n",
        "df=pd.DataFrame(data)\n",
        "df.dtypes"
      ],
      "metadata": {
        "colab": {
          "base_uri": "https://localhost:8080/"
        },
        "id": "1J1VP60ZxjvZ",
        "outputId": "cdc3d536-7400-4d81-bdd8-34f626d816ee"
      },
      "execution_count": 179,
      "outputs": [
        {
          "output_type": "stream",
          "name": "stdout",
          "text": [
            "      11  0  71  0.1  0.260       9  4.600    14      1    1.1  name 1.2 0.2\n",
            "0     19  0  72    0  0.380       6  4.100    14  1.700  0.588  name   1   0\n",
            "1     16  0  55    0  0.260       4  3.420    14      1      1  name   1   0\n",
            "2     57  0  60    0  0.253  12.062  4.603    16  1.450  0.788  name   1   0\n",
            "3     19  1  57    0  0.160      22  5.750    18  2.250  0.571  name   1   0\n",
            "4     26  0  68    0  0.260       5  4.310    12      1  0.857  name   1   0\n",
            "..   ... ..  ..  ...    ...     ...    ...   ...    ...    ...   ...  ..  ..\n",
            "125  7.5  1  64    0   0.24    12.9   4.72    12      1  0.857  name   ?   ?\n",
            "126   41  0  64    0   0.28    5.40   5.47    11   1.10  0.714  name   ?   ?\n",
            "127   36  0  69    0   0.20    7.00   5.05  14.5   1.21  0.857  name   ?   ?\n",
            "128   22  0  57    0   0.14    16.1   4.36    15   1.36  0.786  name   ?   ?\n",
            "129   20  0  62    0   0.15       0   4.51  15.5  1.409  0.786  name   ?   ?\n",
            "\n",
            "[130 rows x 13 columns]\n"
          ]
        },
        {
          "output_type": "execute_result",
          "data": {
            "text/plain": [
              "11       object\n",
              "0         int64\n",
              "71       object\n",
              "0.1       int64\n",
              "0.260    object\n",
              "9        object\n",
              "4.600    object\n",
              "14       object\n",
              "1        object\n",
              "1.1      object\n",
              "name     object\n",
              "1.2      object\n",
              "0.2      object\n",
              "dtype: object"
            ]
          },
          "metadata": {},
          "execution_count": 179
        }
      ]
    },
    {
      "cell_type": "code",
      "source": [
        "print(df.count())\n",
        "print(sum(df[target_name].value_counts().to_dict().values()))"
      ],
      "metadata": {
        "colab": {
          "base_uri": "https://localhost:8080/"
        },
        "id": "cijPelRpxrAp",
        "outputId": "404c13be-bd87-417c-ae66-94db01a14b21"
      },
      "execution_count": 180,
      "outputs": [
        {
          "output_type": "stream",
          "name": "stdout",
          "text": [
            "11       130\n",
            "0        130\n",
            "71       130\n",
            "0.1      130\n",
            "0.260    130\n",
            "9        130\n",
            "4.600    130\n",
            "14       130\n",
            "1        130\n",
            "1.1      130\n",
            "name     130\n",
            "1.2      130\n",
            "0.2      130\n",
            "dtype: int64\n",
            "130\n"
          ]
        }
      ]
    },
    {
      "cell_type": "code",
      "source": [
        "import random\n",
        "def train_test_split(df,test_size):\n",
        "  df=df.sample(frac = 1)\n",
        "  n=len(df)\n",
        "  no_test_rows=int(n*test_size)\n",
        "  l=list(random.sample(list(range(n)), no_test_rows))\n",
        "  test=df.iloc[l]\n",
        "  train=df.drop(l,axis=0)\n",
        "  return train.sample(frac = 1),test.sample(frac = 1)\n",
        "# test_df=data\n",
        "df,test_df=train_test_split(df,0.3)\n",
        "print(len(df),len(test_df))"
      ],
      "metadata": {
        "colab": {
          "base_uri": "https://localhost:8080/"
        },
        "id": "NBNE8JJ70E9V",
        "outputId": "7840254d-c070-4750-9643-bc45d870dcdb"
      },
      "execution_count": 181,
      "outputs": [
        {
          "output_type": "stream",
          "name": "stdout",
          "text": [
            "91 39\n"
          ]
        }
      ]
    },
    {
      "cell_type": "code",
      "source": [
        "class DecisionTree():\n",
        "  \n",
        "  ## Class Member Functions ##\n",
        "\n",
        "  def entropy_help(p):\n",
        "    return -p*log(p,2)\n",
        "  \n",
        "  def getEntropy(df,target_name):  \n",
        "    n=df.count()[0]\n",
        "    target_counts=df[target_name].value_counts().to_dict()\n",
        "    s=0\n",
        "    for p in target_counts.values():\n",
        "      if p/n==1 or p/n==0:\n",
        "        return 0\n",
        "      s+=DecisionTree.entropy_help(p/n)\n",
        "    # print(s)\n",
        "    return s\n",
        "  \n",
        "  def getProbability(df,column,value):\n",
        "    return df[df[column]==value].count()[0]/df.count()[0]\n",
        "  \n",
        "  def informationGain(df,target_name,col):\n",
        "    # print(\"Entropy of \",col,DecisionTree.getEntropy(df,target_name))\n",
        "    total_entropy=DecisionTree.getEntropy(df,target_name)\n",
        "    col_vals_count=df[col].value_counts().to_dict()\n",
        "    sum=0\n",
        "    for value in col_vals_count:\n",
        "      n=col_vals_count[value]\n",
        "      # print(\"Entropy of \",col,value,DecisionTree.getEntropy(df[df[col]==value],target_name))\n",
        "      sum+=(DecisionTree.getEntropy(df[df[col]==value],target_name)*DecisionTree.getProbability(df,col,value))\n",
        "    # print(\"IG: \",target_name,col,total_entropy-sum)\n",
        "    return total_entropy-sum\n",
        "\n",
        "  ## Class Data Members ##\n",
        "\n",
        "  split_functions={'IG':informationGain}\n",
        "  \n",
        "  ## Countructor ##\n",
        "  def __init__(self,df,target_name,split_function=\"IG\",level=-1,leaf_nodes=-1):\n",
        "    self.tree=self.Tree()\n",
        "    self.df=df\n",
        "    self.target_name=target_name\n",
        "    self.cols=list(self.df.columns)\n",
        "    self.cols.remove(self.target_name)\n",
        "    self.cnt=0\n",
        "    self.gnodes=[]\n",
        "    self.level=level\n",
        "    self.leaf_nodes=leaf_nodes\n",
        "    self.rules=[]\n",
        "    self.output_classes=self.df[self.target_name].unique()\n",
        "    if split_function in DecisionTree.split_functions:\n",
        "      self.split_function=DecisionTree.split_functions[split_function]\n",
        "    else:\n",
        "      raise Exception(\"Split function not found\")\n",
        "\n",
        "  ## Instance Methods ##\n",
        "\n",
        "  def getGraph(self):\n",
        "    return self.tree.g\n",
        "\n",
        "  def find_leaf(self,df):\n",
        "    counts=df[self.target_name].value_counts().to_dict()\n",
        "    return max(zip(counts.values(), counts.keys()))[1]\n",
        "    \n",
        "      # unique_vals=list(df[self.target_name].unique())\n",
        "      # for val in unique_vals:      \n",
        "      #   if df[df[self.target_name]==val].count()[0]==df.count()[0]:\n",
        "      #     return val\n",
        "\n",
        "  def construct(self):\n",
        "    maxig=[-1,\"\"]\n",
        "    for i in self.cols:\n",
        "      etemp=self.split_function(df,self.target_name,i)\n",
        "      maxig=maxig if maxig[0]>etemp else [etemp,i]\n",
        "    root=self.Node(maxig[1],maxig[0],0)\n",
        "    self.tree.insert_root(root)\n",
        "    c=copy.deepcopy(self.cols)\n",
        "    c.remove(root.name)\n",
        "    root.gname=str(root)\n",
        "    self.gnodes.append(root)\n",
        "    self.tree.g.node(str(root),str(root))\n",
        "    self.construct_help(df,c,root)\n",
        "\n",
        "  def construct_help(self,df,cols,parent):\n",
        "    if not parent.name:\n",
        "      return\n",
        "    vals=list(df[parent.name].unique())\n",
        "    dftemp=df\n",
        "\n",
        "    for k in vals:\n",
        "      if self.leaf_nodes!=-1 and self.tree.no_leafs>=self.leaf_nodes:\n",
        "        return\n",
        "      df=dftemp\n",
        "      df=df[df[parent.name]==k]\n",
        "      e=DecisionTree.getEntropy(df,self.target_name)\n",
        "\n",
        "      if e==0 or parent.level==self.level-1:\n",
        "        value=self.find_leaf(df)\n",
        "        node=self.Node(value,1,parent.level+1)\n",
        "        node.gname=str(value)\n",
        "        parent.insert_child(node)\n",
        "        parent.insert_edge(k)\n",
        "        self.tree.no_leafs+=1\n",
        "        name=value\n",
        "        if not isinstance(value, str):\n",
        "          name='class'\n",
        "        self.tree.g.node(name+str(self.cnt),str(value))\n",
        "        self.tree.g.edge(str(parent.gname),name+str(self.cnt),label=str(k))\n",
        "        \n",
        "        self.cnt+=1\n",
        "        continue\n",
        "      maxig=[-1,\"\"]\n",
        "      for i in cols:\n",
        "        etemp=self.split_function(df,self.target_name,i)\n",
        "        maxig=maxig if maxig[0]>etemp else [etemp,i]\n",
        "      node=self.Node(maxig[1],maxig[0],parent.level+1)\n",
        "      node.gname=str(node.name)\n",
        "      c=copy.deepcopy(cols)\n",
        "      if node.name in c:\n",
        "        c.remove(node.name)\n",
        "      name=str(node)\n",
        "\n",
        "      # checking if node name already exist in graphviz code\n",
        "      \n",
        "      if name in self.gnodes:\n",
        "        name+=str(self.cnt)\n",
        "        self.cnt+=1\n",
        "      else:\n",
        "        self.gnodes.append(name)\n",
        "      node.gname=name\n",
        "\n",
        "      parent.insert_child(node)\n",
        "      parent.insert_edge(k)\n",
        "\n",
        "      self.tree.g.node(name,str(node))\n",
        "      self.tree.g.edge(str(parent.gname),name,label=str(k))\n",
        "      \n",
        "      self.construct_help(df[df[parent.name]==k],c,node)\n",
        "      \n",
        "  def predict(self,instances,trace=False):\n",
        "    node=self.tree.root\n",
        "    op=[]\n",
        "    if isinstance(instances,dict):\n",
        "      return self.predict_help(node,instances,trace,\"\")\n",
        "    if isinstance(instances,list):\n",
        "      \n",
        "      for instance in instances:\n",
        "        op.append(self.predict_help(node,instance,trace,\"\"))\n",
        "    else:\n",
        "      n=len(instances)\n",
        "      for i in range(n):\n",
        "        instance=data.iloc[i].to_dict()\n",
        "        op.append(self.predict_help(node,instance,trace,\"\"))\n",
        "    return op\n",
        "\n",
        "  def predict_help(self,node,instance,trace,path):\n",
        "    if node.name in self.output_classes:\n",
        "      if trace:\n",
        "        print(path+str(node))\n",
        "      return node.name\n",
        "    value=instance[node.name]\n",
        "    try:\n",
        "      path+=str(node)+\" ( \"+str(value)+\" ) -> \"\n",
        "      ind=node.edges.index(value)\n",
        "      return self.predict_help(node.childs[ind],instance,trace,path)\n",
        "    except Exception as e:\n",
        "      return \"Not valid instance, path: \"+path\n",
        "  def get_rules(self):\n",
        "    node=self.tree.root\n",
        "    self.rules_help(node,str(node.name)+\" -> \")\n",
        "    return self.rules\n",
        "\n",
        "  def rules_help(self,node,path):\n",
        "    for n,e in zip(node.childs,node.edges):\n",
        "      if n.name in self.output_classes:\n",
        "        self.rules.append(\"{} ( {} ) {}\".format(path,str(e),str(n.name)))\n",
        "      self.rules_help(n,\"{} ( {} ) {} -> \".format(path,str(e),str(n.name)))\n",
        "  \n",
        "  ## Inner classes ##\n",
        "  class Node:\n",
        "    ## Countructor ##\n",
        "    def __init__(self,name,ig,level):\n",
        "      self.name=name\n",
        "      self.ig=ig\n",
        "      self.childs=[]\n",
        "      self.edges=[]\n",
        "      self.gname=''\n",
        "      self.level=level\n",
        "\n",
        "    ## Instance Methods ##\n",
        "\n",
        "    def insert_child(self,node):\n",
        "      self.childs.append(node)\n",
        "\n",
        "    def insert_edge(self,edge):\n",
        "      self.edges.append(edge)\n",
        "\n",
        "    def printn(self,edge=\"\"):\n",
        "      # if self.childs:\n",
        "      dashes=\"|\"+\"-\"*(self.level*5)\n",
        "      value=\"( \"+str(edge)+\") \"+str(self.gname) if edge else str(self.gname)\n",
        "      # print(\" \"*(self.level*2+1),''.join(['-']*31))\n",
        "      # print(dashes,'|{:^15} - level - {:^2} | '.format(self.gname,self.level),list(zip(self.edges,list(map(lambda x:x.gname,self.childs)))))\n",
        "      # print(\" \"*(self.level*2+1),''.join(['-']*31))\n",
        "      print(dashes,value)\n",
        "\n",
        "    def __str__(self):\n",
        "      return str(self.name)\n",
        "\n",
        "  class Tree:\n",
        "\n",
        "    ## Countructor ##\n",
        "    def __init__(self):\n",
        "      self.root=None\n",
        "      self.g=Digraph(encoding='utf-8')\n",
        "      self.no_leafs=0\n",
        "\n",
        "    ## Instance Methods ##\n",
        "\n",
        "    def insert_root(self,node):\n",
        "      self.root=node\n",
        "\n",
        "    def printt(self):\n",
        "      self.print_help(self.root,\"\")\n",
        "\n",
        "    def print_help(self,node,edge):\n",
        "      if node:\n",
        "        node.printn(edge)\n",
        "        # print(\"(\",edge,\")\")\n",
        "      for i in range(len(node.childs)):\n",
        "        self.print_help(node.childs[i],node.edges[i])"
      ],
      "metadata": {
        "id": "gEt4b3P80G1K"
      },
      "execution_count": 182,
      "outputs": []
    },
    {
      "cell_type": "code",
      "source": [
        "d=DecisionTree(data,target_name,split_function=split_func)"
      ],
      "metadata": {
        "id": "qntW6WSd0Qca"
      },
      "execution_count": 183,
      "outputs": []
    },
    {
      "cell_type": "code",
      "source": [
        "d.construct()"
      ],
      "metadata": {
        "id": "7STRu-WF0WLO"
      },
      "execution_count": 184,
      "outputs": []
    },
    {
      "cell_type": "code",
      "source": [
        "d.getGraph()"
      ],
      "metadata": {
        "colab": {
          "base_uri": "https://localhost:8080/",
          "height": 332
        },
        "id": "0bqw0Rqf0a7l",
        "outputId": "47603614-6753-4996-8d02-e10b526c4c4b"
      },
      "execution_count": 186,
      "outputs": [
        {
          "output_type": "execute_result",
          "data": {
            "text/plain": [
              "<graphviz.dot.Digraph at 0x7f371fcf0b90>"
            ],
            "image/svg+xml": "<?xml version=\"1.0\" encoding=\"UTF-8\" standalone=\"no\"?>\n<!DOCTYPE svg PUBLIC \"-//W3C//DTD SVG 1.1//EN\"\n \"http://www.w3.org/Graphics/SVG/1.1/DTD/svg11.dtd\">\n<!-- Generated by graphviz version 2.40.1 (20161225.0304)\n -->\n<!-- Title: %3 Pages: 1 -->\n<svg width=\"5556pt\" height=\"218pt\"\n viewBox=\"0.00 0.00 5556.00 218.00\" xmlns=\"http://www.w3.org/2000/svg\" xmlns:xlink=\"http://www.w3.org/1999/xlink\">\n<g id=\"graph0\" class=\"graph\" transform=\"scale(1 1) rotate(0) translate(4 214)\">\n<title>%3</title>\n<polygon fill=\"#ffffff\" stroke=\"transparent\" points=\"-4,4 -4,-214 5552,-214 5552,4 -4,4\"/>\n<!-- 4.600 -->\n<g id=\"node1\" class=\"node\">\n<title>4.600</title>\n<ellipse fill=\"none\" stroke=\"#000000\" cx=\"2785\" cy=\"-192\" rx=\"32.4942\" ry=\"18\"/>\n<text text-anchor=\"middle\" x=\"2785\" y=\"-188.3\" font-family=\"Times,serif\" font-size=\"14.00\" fill=\"#000000\">4.600</text>\n</g>\n<!-- 630 -->\n<g id=\"node2\" class=\"node\">\n<title>630</title>\n<ellipse fill=\"none\" stroke=\"#000000\" cx=\"27\" cy=\"-105\" rx=\"27\" ry=\"18\"/>\n<text text-anchor=\"middle\" x=\"27\" y=\"-101.3\" font-family=\"Times,serif\" font-size=\"14.00\" fill=\"#000000\">63</text>\n</g>\n<!-- 4.600&#45;&gt;630 -->\n<g id=\"edge1\" class=\"edge\">\n<title>4.600&#45;&gt;630</title>\n<path fill=\"none\" stroke=\"#000000\" d=\"M2752.2821,-191.9691C2457.2801,-191.6398 263.7728,-188.1145 130,-156 102.9105,-149.4967 74.7329,-134.9175 54.7116,-123.0057\"/>\n<polygon fill=\"#000000\" stroke=\"#000000\" points=\"56.4784,-119.9836 46.1197,-117.759 52.8301,-125.9578 56.4784,-119.9836\"/>\n<text text-anchor=\"middle\" x=\"143.5\" y=\"-144.8\" font-family=\"Times,serif\" font-size=\"14.00\" fill=\"#000000\">3.52</text>\n</g>\n<!-- 541 -->\n<g id=\"node3\" class=\"node\">\n<title>541</title>\n<ellipse fill=\"none\" stroke=\"#000000\" cx=\"99\" cy=\"-105\" rx=\"27\" ry=\"18\"/>\n<text text-anchor=\"middle\" x=\"99\" y=\"-101.3\" font-family=\"Times,serif\" font-size=\"14.00\" fill=\"#000000\">54</text>\n</g>\n<!-- 4.600&#45;&gt;541 -->\n<g id=\"edge2\" class=\"edge\">\n<title>4.600&#45;&gt;541</title>\n<path fill=\"none\" stroke=\"#000000\" d=\"M2752.2617,-191.9562C2461.6998,-191.5169 332.0036,-187.2357 202,-156 174.9118,-149.4916 146.7341,-134.9129 126.7123,-123.0025\"/>\n<polygon fill=\"#000000\" stroke=\"#000000\" points=\"128.4791,-119.9804 118.1203,-117.7565 124.8313,-125.9549 128.4791,-119.9804\"/>\n<text text-anchor=\"middle\" x=\"215.5\" y=\"-144.8\" font-family=\"Times,serif\" font-size=\"14.00\" fill=\"#000000\">4.79</text>\n</g>\n<!-- 702 -->\n<g id=\"node4\" class=\"node\">\n<title>702</title>\n<ellipse fill=\"none\" stroke=\"#000000\" cx=\"171\" cy=\"-105\" rx=\"27\" ry=\"18\"/>\n<text text-anchor=\"middle\" x=\"171\" y=\"-101.3\" font-family=\"Times,serif\" font-size=\"14.00\" fill=\"#000000\">70</text>\n</g>\n<!-- 4.600&#45;&gt;702 -->\n<g id=\"edge3\" class=\"edge\">\n<title>4.600&#45;&gt;702</title>\n<path fill=\"none\" stroke=\"#000000\" d=\"M2752.2657,-191.9483C2466.2331,-191.4448 399.2008,-186.7482 273,-156 246.4305,-149.5265 218.8385,-135.1917 199.0621,-123.3633\"/>\n<polygon fill=\"#000000\" stroke=\"#000000\" points=\"200.6418,-120.226 190.2893,-117.9732 196.9774,-126.1903 200.6418,-120.226\"/>\n<text text-anchor=\"middle\" x=\"286.5\" y=\"-144.8\" font-family=\"Times,serif\" font-size=\"14.00\" fill=\"#000000\">5.30</text>\n</g>\n<!-- 593 -->\n<g id=\"node5\" class=\"node\">\n<title>593</title>\n<ellipse fill=\"none\" stroke=\"#000000\" cx=\"243\" cy=\"-105\" rx=\"27\" ry=\"18\"/>\n<text text-anchor=\"middle\" x=\"243\" y=\"-101.3\" font-family=\"Times,serif\" font-size=\"14.00\" fill=\"#000000\">59</text>\n</g>\n<!-- 4.600&#45;&gt;593 -->\n<g id=\"edge4\" class=\"edge\">\n<title>4.600&#45;&gt;593</title>\n<path fill=\"none\" stroke=\"#000000\" d=\"M2752.3092,-191.9378C2471.0205,-191.3505 466.4404,-186.1156 344,-156 317.6528,-149.5196 290.3343,-135.1854 270.7627,-123.3589\"/>\n<polygon fill=\"#000000\" stroke=\"#000000\" points=\"272.4236,-120.2704 262.0815,-117.9698 268.7316,-126.2177 272.4236,-120.2704\"/>\n<text text-anchor=\"middle\" x=\"361\" y=\"-144.8\" font-family=\"Times,serif\" font-size=\"14.00\" fill=\"#000000\">6.290</text>\n</g>\n<!-- 1.1 -->\n<g id=\"node6\" class=\"node\">\n<title>1.1</title>\n<ellipse fill=\"none\" stroke=\"#000000\" cx=\"315\" cy=\"-105\" rx=\"27\" ry=\"18\"/>\n<text text-anchor=\"middle\" x=\"315\" y=\"-101.3\" font-family=\"Times,serif\" font-size=\"14.00\" fill=\"#000000\">1.1</text>\n</g>\n<!-- 4.600&#45;&gt;1.1 -->\n<g id=\"edge5\" class=\"edge\">\n<title>4.600&#45;&gt;1.1</title>\n<path fill=\"none\" stroke=\"#000000\" d=\"M2752.1063,-191.8759C2475.4312,-190.7856 543.8504,-182.2487 425,-156 395.8148,-149.5543 365.1653,-134.5697 343.6539,-122.5012\"/>\n<polygon fill=\"#000000\" stroke=\"#000000\" points=\"345.152,-119.3252 334.7387,-117.3721 341.6612,-125.3927 345.152,-119.3252\"/>\n<text text-anchor=\"middle\" x=\"438.5\" y=\"-144.8\" font-family=\"Times,serif\" font-size=\"14.00\" fill=\"#000000\">4.48</text>\n</g>\n<!-- 507 -->\n<g id=\"node10\" class=\"node\">\n<title>507</title>\n<ellipse fill=\"none\" stroke=\"#000000\" cx=\"387\" cy=\"-105\" rx=\"27\" ry=\"18\"/>\n<text text-anchor=\"middle\" x=\"387\" y=\"-101.3\" font-family=\"Times,serif\" font-size=\"14.00\" fill=\"#000000\">50</text>\n</g>\n<!-- 4.600&#45;&gt;507 -->\n<g id=\"edge9\" class=\"edge\">\n<title>4.600&#45;&gt;507</title>\n<path fill=\"none\" stroke=\"#000000\" d=\"M2752.3189,-191.8419C2481.5028,-190.4881 616.1355,-180.2997 501,-156 470.5571,-149.5749 438.4232,-134.3281 416.0598,-122.1684\"/>\n<polygon fill=\"#000000\" stroke=\"#000000\" points=\"417.5462,-118.99 407.107,-117.1808 414.1395,-125.1051 417.5462,-118.99\"/>\n<text text-anchor=\"middle\" x=\"514.5\" y=\"-144.8\" font-family=\"Times,serif\" font-size=\"14.00\" fill=\"#000000\">5.95</text>\n</g>\n<!-- 658 -->\n<g id=\"node11\" class=\"node\">\n<title>658</title>\n<ellipse fill=\"none\" stroke=\"#000000\" cx=\"459\" cy=\"-105\" rx=\"27\" ry=\"18\"/>\n<text text-anchor=\"middle\" x=\"459\" y=\"-101.3\" font-family=\"Times,serif\" font-size=\"14.00\" fill=\"#000000\">65</text>\n</g>\n<!-- 4.600&#45;&gt;658 -->\n<g id=\"edge10\" class=\"edge\">\n<title>4.600&#45;&gt;658</title>\n<path fill=\"none\" stroke=\"#000000\" d=\"M2752.1886,-191.7985C2486.2221,-190.1237 690.317,-178.0239 579,-156 546.7965,-149.6286 512.5701,-134.1097 488.9469,-121.8518\"/>\n<polygon fill=\"#000000\" stroke=\"#000000\" points=\"490.2928,-118.6036 479.8195,-117.0033 487.0089,-124.7855 490.2928,-118.6036\"/>\n<text text-anchor=\"middle\" x=\"592.5\" y=\"-144.8\" font-family=\"Times,serif\" font-size=\"14.00\" fill=\"#000000\">5.47</text>\n</g>\n<!-- 62.5299 -->\n<g id=\"node12\" class=\"node\">\n<title>62.5299</title>\n<ellipse fill=\"none\" stroke=\"#000000\" cx=\"542\" cy=\"-105\" rx=\"37.8943\" ry=\"18\"/>\n<text text-anchor=\"middle\" x=\"542\" y=\"-101.3\" font-family=\"Times,serif\" font-size=\"14.00\" fill=\"#000000\">62.529</text>\n</g>\n<!-- 4.600&#45;&gt;62.5299 -->\n<g id=\"edge11\" class=\"edge\">\n<title>4.600&#45;&gt;62.5299</title>\n<path fill=\"none\" stroke=\"#000000\" d=\"M2752.4119,-191.8424C2492.0562,-190.5351 756.8432,-180.9062 650,-156 622.91,-149.6851 594.5551,-135.9841 573.6997,-124.372\"/>\n<polygon fill=\"#000000\" stroke=\"#000000\" points=\"575.382,-121.3022 564.9621,-119.3847 571.912,-127.3816 575.382,-121.3022\"/>\n<text text-anchor=\"middle\" x=\"667\" y=\"-144.8\" font-family=\"Times,serif\" font-size=\"14.00\" fill=\"#000000\">5.200</text>\n</g>\n<!-- 5110 -->\n<g id=\"node13\" class=\"node\">\n<title>5110</title>\n<ellipse fill=\"none\" stroke=\"#000000\" cx=\"625\" cy=\"-105\" rx=\"27\" ry=\"18\"/>\n<text text-anchor=\"middle\" x=\"625\" y=\"-101.3\" font-family=\"Times,serif\" font-size=\"14.00\" fill=\"#000000\">51</text>\n</g>\n<!-- 4.600&#45;&gt;5110 -->\n<g id=\"edge12\" class=\"edge\">\n<title>4.600&#45;&gt;5110</title>\n<path fill=\"none\" stroke=\"#000000\" d=\"M2752.4133,-191.8301C2497.5854,-190.4524 831.5912,-180.526 729,-156 701.6929,-149.4718 673.2376,-134.8949 653.0088,-122.9903\"/>\n<polygon fill=\"#000000\" stroke=\"#000000\" points=\"654.6964,-119.9208 644.327,-117.7471 651.0776,-125.9128 654.6964,-119.9208\"/>\n<text text-anchor=\"middle\" x=\"742.5\" y=\"-144.8\" font-family=\"Times,serif\" font-size=\"14.00\" fill=\"#000000\">5.26</text>\n</g>\n<!-- 6611 -->\n<g id=\"node14\" class=\"node\">\n<title>6611</title>\n<ellipse fill=\"none\" stroke=\"#000000\" cx=\"697\" cy=\"-105\" rx=\"27\" ry=\"18\"/>\n<text text-anchor=\"middle\" x=\"697\" y=\"-101.3\" font-family=\"Times,serif\" font-size=\"14.00\" fill=\"#000000\">66</text>\n</g>\n<!-- 4.600&#45;&gt;6611 -->\n<g id=\"edge13\" class=\"edge\">\n<title>4.600&#45;&gt;6611</title>\n<path fill=\"none\" stroke=\"#000000\" d=\"M2752.3035,-191.8272C2501.9455,-190.452 895.7951,-180.6864 797,-156 770.8844,-149.4744 743.8386,-135.1437 724.4692,-123.3301\"/>\n<polygon fill=\"#000000\" stroke=\"#000000\" points=\"726.2107,-120.291 715.8782,-117.9477 722.4942,-126.223 726.2107,-120.291\"/>\n<text text-anchor=\"middle\" x=\"814\" y=\"-144.8\" font-family=\"Times,serif\" font-size=\"14.00\" fill=\"#000000\">5.400</text>\n</g>\n<!-- 5712 -->\n<g id=\"node15\" class=\"node\">\n<title>5712</title>\n<ellipse fill=\"none\" stroke=\"#000000\" cx=\"769\" cy=\"-105\" rx=\"27\" ry=\"18\"/>\n<text text-anchor=\"middle\" x=\"769\" y=\"-101.3\" font-family=\"Times,serif\" font-size=\"14.00\" fill=\"#000000\">57</text>\n</g>\n<!-- 4.600&#45;&gt;5712 -->\n<g id=\"edge14\" class=\"edge\">\n<title>4.600&#45;&gt;5712</title>\n<path fill=\"none\" stroke=\"#000000\" d=\"M2752.491,-191.7597C2508.669,-189.9116 973.1423,-177.4474 878,-156 849.2387,-149.5165 819.0649,-134.6838 797.7753,-122.6769\"/>\n<polygon fill=\"#000000\" stroke=\"#000000\" points=\"799.3499,-119.5444 788.941,-117.5683 795.8457,-125.6041 799.3499,-119.5444\"/>\n<text text-anchor=\"middle\" x=\"895\" y=\"-144.8\" font-family=\"Times,serif\" font-size=\"14.00\" fill=\"#000000\">5.750</text>\n</g>\n<!-- 1 -->\n<g id=\"node16\" class=\"node\">\n<title>1</title>\n<ellipse fill=\"none\" stroke=\"#000000\" cx=\"841\" cy=\"-105\" rx=\"27\" ry=\"18\"/>\n<text text-anchor=\"middle\" x=\"841\" y=\"-101.3\" font-family=\"Times,serif\" font-size=\"14.00\" fill=\"#000000\">1</text>\n</g>\n<!-- 4.600&#45;&gt;1 -->\n<g id=\"edge15\" class=\"edge\">\n<title>4.600&#45;&gt;1</title>\n<path fill=\"none\" stroke=\"#000000\" d=\"M2752.4884,-191.6695C2515.1628,-189.2183 1056.2256,-173.4758 965,-156 931.4968,-149.5819 895.7168,-133.7993 871.2457,-121.4768\"/>\n<polygon fill=\"#000000\" stroke=\"#000000\" points=\"872.6229,-118.2492 862.1301,-116.7825 869.4181,-124.4725 872.6229,-118.2492\"/>\n<text text-anchor=\"middle\" x=\"968.5\" y=\"-144.8\" font-family=\"Times,serif\" font-size=\"14.00\" fill=\"#000000\">?</text>\n</g>\n<!-- 6720 -->\n<g id=\"node24\" class=\"node\">\n<title>6720</title>\n<ellipse fill=\"none\" stroke=\"#000000\" cx=\"913\" cy=\"-105\" rx=\"27\" ry=\"18\"/>\n<text text-anchor=\"middle\" x=\"913\" y=\"-101.3\" font-family=\"Times,serif\" font-size=\"14.00\" fill=\"#000000\">67</text>\n</g>\n<!-- 4.600&#45;&gt;6720 -->\n<g id=\"edge23\" class=\"edge\">\n<title>4.600&#45;&gt;6720</title>\n<path fill=\"none\" stroke=\"#000000\" d=\"M2752.2868,-191.7326C2518.2075,-189.7697 1104.5887,-177.0715 1017,-156 989.7022,-149.4329 961.2461,-134.8595 941.0145,-122.9661\"/>\n<polygon fill=\"#000000\" stroke=\"#000000\" points=\"942.7021,-119.8966 932.3314,-117.7286 939.0865,-125.8906 942.7021,-119.8966\"/>\n<text text-anchor=\"middle\" x=\"1030.5\" y=\"-144.8\" font-family=\"Times,serif\" font-size=\"14.00\" fill=\"#000000\">4.68</text>\n</g>\n<!-- 1.2 -->\n<g id=\"node25\" class=\"node\">\n<title>1.2</title>\n<ellipse fill=\"none\" stroke=\"#000000\" cx=\"985\" cy=\"-105\" rx=\"27\" ry=\"18\"/>\n<text text-anchor=\"middle\" x=\"985\" y=\"-101.3\" font-family=\"Times,serif\" font-size=\"14.00\" fill=\"#000000\">1.2</text>\n</g>\n<!-- 4.600&#45;&gt;1.2 -->\n<g id=\"edge24\" class=\"edge\">\n<title>4.600&#45;&gt;1.2</title>\n<path fill=\"none\" stroke=\"#000000\" d=\"M2752.1893,-191.6967C2523.4644,-189.5337 1173.8433,-175.9563 1090,-156 1062.4745,-149.4484 1033.7417,-134.8737 1013.3055,-122.9758\"/>\n<polygon fill=\"#000000\" stroke=\"#000000\" points=\"1014.9137,-119.8596 1004.5338,-117.736 1011.3239,-125.869 1014.9137,-119.8596\"/>\n<text text-anchor=\"middle\" x=\"1103.5\" y=\"-144.8\" font-family=\"Times,serif\" font-size=\"14.00\" fill=\"#000000\">4.36</text>\n</g>\n<!-- 5623 -->\n<g id=\"node28\" class=\"node\">\n<title>5623</title>\n<ellipse fill=\"none\" stroke=\"#000000\" cx=\"1057\" cy=\"-105\" rx=\"27\" ry=\"18\"/>\n<text text-anchor=\"middle\" x=\"1057\" y=\"-101.3\" font-family=\"Times,serif\" font-size=\"14.00\" fill=\"#000000\">56</text>\n</g>\n<!-- 4.600&#45;&gt;5623 -->\n<g id=\"edge27\" class=\"edge\">\n<title>4.600&#45;&gt;5623</title>\n<path fill=\"none\" stroke=\"#000000\" d=\"M2752.1872,-191.6591C2529.2282,-189.2945 1243.1066,-174.8714 1163,-156 1135.2471,-149.462 1106.2374,-134.886 1085.5966,-122.9842\"/>\n<polygon fill=\"#000000\" stroke=\"#000000\" points=\"1087.1252,-119.8219 1076.7364,-117.7424 1083.5609,-125.8466 1087.1252,-119.8219\"/>\n<text text-anchor=\"middle\" x=\"1176.5\" y=\"-144.8\" font-family=\"Times,serif\" font-size=\"14.00\" fill=\"#000000\">4.72</text>\n</g>\n<!-- 5424 -->\n<g id=\"node29\" class=\"node\">\n<title>5424</title>\n<ellipse fill=\"none\" stroke=\"#000000\" cx=\"1129\" cy=\"-105\" rx=\"27\" ry=\"18\"/>\n<text text-anchor=\"middle\" x=\"1129\" y=\"-101.3\" font-family=\"Times,serif\" font-size=\"14.00\" fill=\"#000000\">54</text>\n</g>\n<!-- 4.600&#45;&gt;5424 -->\n<g id=\"edge28\" class=\"edge\">\n<title>4.600&#45;&gt;5424</title>\n<path fill=\"none\" stroke=\"#000000\" d=\"M2752.3069,-191.6146C2535.6671,-189.0143 1313.3766,-173.6019 1237,-156 1208.4861,-149.4286 1178.5908,-134.605 1157.5014,-122.6238\"/>\n<polygon fill=\"#000000\" stroke=\"#000000\" points=\"1159.1532,-119.5355 1148.7504,-117.5275 1155.6304,-125.5845 1159.1532,-119.5355\"/>\n<text text-anchor=\"middle\" x=\"1250.5\" y=\"-144.8\" font-family=\"Times,serif\" font-size=\"14.00\" fill=\"#000000\">4.16</text>\n</g>\n<!-- 6525 -->\n<g id=\"node30\" class=\"node\">\n<title>6525</title>\n<ellipse fill=\"none\" stroke=\"#000000\" cx=\"1201\" cy=\"-105\" rx=\"27\" ry=\"18\"/>\n<text text-anchor=\"middle\" x=\"1201\" y=\"-101.3\" font-family=\"Times,serif\" font-size=\"14.00\" fill=\"#000000\">65</text>\n</g>\n<!-- 4.600&#45;&gt;6525 -->\n<g id=\"edge29\" class=\"edge\">\n<title>4.600&#45;&gt;6525</title>\n<path fill=\"none\" stroke=\"#000000\" d=\"M2752.4395,-191.5888C2541.9256,-188.8824 1379.6676,-173.2019 1307,-156 1279.2542,-149.432 1250.2438,-134.8587 1229.6009,-122.9656\"/>\n<polygon fill=\"#000000\" stroke=\"#000000\" points=\"1231.1294,-119.8034 1220.7398,-117.7281 1227.5676,-125.8295 1231.1294,-119.8034\"/>\n<text text-anchor=\"middle\" x=\"1320.5\" y=\"-144.8\" font-family=\"Times,serif\" font-size=\"14.00\" fill=\"#000000\">6.74</text>\n</g>\n<!-- 6026 -->\n<g id=\"node31\" class=\"node\">\n<title>6026</title>\n<ellipse fill=\"none\" stroke=\"#000000\" cx=\"1273\" cy=\"-105\" rx=\"27\" ry=\"18\"/>\n<text text-anchor=\"middle\" x=\"1273\" y=\"-101.3\" font-family=\"Times,serif\" font-size=\"14.00\" fill=\"#000000\">60</text>\n</g>\n<!-- 4.600&#45;&gt;6026 -->\n<g id=\"edge30\" class=\"edge\">\n<title>4.600&#45;&gt;6026</title>\n<path fill=\"none\" stroke=\"#000000\" d=\"M2752.3149,-191.9593C2554.1382,-191.6069 1517.4128,-188.2251 1380,-156 1351.7271,-149.3696 1322.111,-134.552 1301.2236,-122.5881\"/>\n<polygon fill=\"#000000\" stroke=\"#000000\" points=\"1302.9525,-119.5446 1292.5568,-117.5001 1299.4086,-125.5812 1302.9525,-119.5446\"/>\n<text text-anchor=\"middle\" x=\"1393.5\" y=\"-144.8\" font-family=\"Times,serif\" font-size=\"14.00\" fill=\"#000000\">4.31</text>\n</g>\n<!-- 7327 -->\n<g id=\"node32\" class=\"node\">\n<title>7327</title>\n<ellipse fill=\"none\" stroke=\"#000000\" cx=\"1345\" cy=\"-105\" rx=\"27\" ry=\"18\"/>\n<text text-anchor=\"middle\" x=\"1345\" y=\"-101.3\" font-family=\"Times,serif\" font-size=\"14.00\" fill=\"#000000\">73</text>\n</g>\n<!-- 4.600&#45;&gt;7327 -->\n<g id=\"edge31\" class=\"edge\">\n<title>4.600&#45;&gt;7327</title>\n<path fill=\"none\" stroke=\"#000000\" d=\"M2752.3945,-191.9332C2560.2878,-191.4314 1580.0273,-187.3424 1450,-156 1422.4934,-149.3697 1393.7588,-134.8021 1373.3172,-122.9269\"/>\n<polygon fill=\"#000000\" stroke=\"#000000\" points=\"1374.925,-119.8108 1364.5428,-117.6984 1371.3417,-125.8241 1374.925,-119.8108\"/>\n<text text-anchor=\"middle\" x=\"1463.5\" y=\"-144.8\" font-family=\"Times,serif\" font-size=\"14.00\" fill=\"#000000\">4.14</text>\n</g>\n<!-- 7228 -->\n<g id=\"node33\" class=\"node\">\n<title>7228</title>\n<ellipse fill=\"none\" stroke=\"#000000\" cx=\"1417\" cy=\"-105\" rx=\"27\" ry=\"18\"/>\n<text text-anchor=\"middle\" x=\"1417\" y=\"-101.3\" font-family=\"Times,serif\" font-size=\"14.00\" fill=\"#000000\">72</text>\n</g>\n<!-- 4.600&#45;&gt;7228 -->\n<g id=\"edge32\" class=\"edge\">\n<title>4.600&#45;&gt;7228</title>\n<path fill=\"none\" stroke=\"#000000\" d=\"M2752.2432,-191.9225C2565.6249,-191.3678 1640.6598,-187.0594 1518,-156 1491.6977,-149.3398 1464.3756,-135.0198 1444.7912,-123.2445\"/>\n<polygon fill=\"#000000\" stroke=\"#000000\" points=\"1446.4513,-120.1562 1436.1034,-117.882 1442.7745,-126.1128 1446.4513,-120.1562\"/>\n<text text-anchor=\"middle\" x=\"1535\" y=\"-144.8\" font-family=\"Times,serif\" font-size=\"14.00\" fill=\"#000000\">4.100</text>\n</g>\n<!-- 6129 -->\n<g id=\"node34\" class=\"node\">\n<title>6129</title>\n<ellipse fill=\"none\" stroke=\"#000000\" cx=\"1489\" cy=\"-105\" rx=\"27\" ry=\"18\"/>\n<text text-anchor=\"middle\" x=\"1489\" y=\"-101.3\" font-family=\"Times,serif\" font-size=\"14.00\" fill=\"#000000\">61</text>\n</g>\n<!-- 4.600&#45;&gt;6129 -->\n<g id=\"edge33\" class=\"edge\">\n<title>4.600&#45;&gt;6129</title>\n<path fill=\"none\" stroke=\"#000000\" d=\"M2752.2155,-191.806C2572.4343,-190.6356 1710.1308,-183.6121 1595,-156 1567.2736,-149.3503 1538.2615,-134.7844 1517.613,-122.9149\"/>\n<polygon fill=\"#000000\" stroke=\"#000000\" points=\"1519.141,-119.7528 1508.7491,-117.6892 1515.586,-125.7829 1519.141,-119.7528\"/>\n<text text-anchor=\"middle\" x=\"1608.5\" y=\"-144.8\" font-family=\"Times,serif\" font-size=\"14.00\" fill=\"#000000\">4.02</text>\n</g>\n<!-- 0.2 -->\n<g id=\"node35\" class=\"node\">\n<title>0.2</title>\n<ellipse fill=\"none\" stroke=\"#000000\" cx=\"1561\" cy=\"-105\" rx=\"27\" ry=\"18\"/>\n<text text-anchor=\"middle\" x=\"1561\" y=\"-101.3\" font-family=\"Times,serif\" font-size=\"14.00\" fill=\"#000000\">0.2</text>\n</g>\n<!-- 4.600&#45;&gt;0.2 -->\n<g id=\"edge34\" class=\"edge\">\n<title>4.600&#45;&gt;0.2</title>\n<path fill=\"none\" stroke=\"#000000\" d=\"M2752.4242,-191.7744C2579.3964,-190.4666 1771.8553,-182.9527 1664,-156 1637.1399,-149.2877 1609.1389,-134.8699 1589.124,-123.071\"/>\n<polygon fill=\"#000000\" stroke=\"#000000\" points=\"1590.8913,-120.0496 1580.5228,-117.8713 1587.2698,-126.04 1590.8913,-120.0496\"/>\n<text text-anchor=\"middle\" x=\"1677.5\" y=\"-144.8\" font-family=\"Times,serif\" font-size=\"14.00\" fill=\"#000000\">4.75</text>\n</g>\n<!-- 7932 -->\n<g id=\"node38\" class=\"node\">\n<title>7932</title>\n<ellipse fill=\"none\" stroke=\"#000000\" cx=\"1633\" cy=\"-105\" rx=\"27\" ry=\"18\"/>\n<text text-anchor=\"middle\" x=\"1633\" y=\"-101.3\" font-family=\"Times,serif\" font-size=\"14.00\" fill=\"#000000\">79</text>\n</g>\n<!-- 4.600&#45;&gt;7932 -->\n<g id=\"edge37\" class=\"edge\">\n<title>4.600&#45;&gt;7932</title>\n<path fill=\"none\" stroke=\"#000000\" d=\"M2752.4637,-191.7449C2585.8082,-190.3238 1831.7142,-182.468 1731,-156 1705.6531,-149.3388 1679.4448,-135.259 1660.5157,-123.5777\"/>\n<polygon fill=\"#000000\" stroke=\"#000000\" points=\"1662.1633,-120.4781 1651.8437,-118.0789 1658.4148,-126.3899 1662.1633,-120.4781\"/>\n<text text-anchor=\"middle\" x=\"1748\" y=\"-144.8\" font-family=\"Times,serif\" font-size=\"14.00\" fill=\"#000000\">4.270</text>\n</g>\n<!-- 5433 -->\n<g id=\"node39\" class=\"node\">\n<title>5433</title>\n<ellipse fill=\"none\" stroke=\"#000000\" cx=\"1705\" cy=\"-105\" rx=\"27\" ry=\"18\"/>\n<text text-anchor=\"middle\" x=\"1705\" y=\"-101.3\" font-family=\"Times,serif\" font-size=\"14.00\" fill=\"#000000\">54</text>\n</g>\n<!-- 4.600&#45;&gt;5433 -->\n<g id=\"edge38\" class=\"edge\">\n<title>4.600&#45;&gt;5433</title>\n<path fill=\"none\" stroke=\"#000000\" d=\"M2752.4827,-191.6218C2593.3055,-189.6608 1900.162,-179.81 1807,-156 1780.5049,-149.2285 1752.907,-134.9172 1733.1094,-123.1737\"/>\n<polygon fill=\"#000000\" stroke=\"#000000\" points=\"1734.6875,-120.0369 1724.3256,-117.8276 1731.0481,-126.0165 1734.6875,-120.0369\"/>\n<text text-anchor=\"middle\" x=\"1824\" y=\"-144.8\" font-family=\"Times,serif\" font-size=\"14.00\" fill=\"#000000\">3.850</text>\n</g>\n<!-- 6134 -->\n<g id=\"node40\" class=\"node\">\n<title>6134</title>\n<ellipse fill=\"none\" stroke=\"#000000\" cx=\"1777\" cy=\"-105\" rx=\"27\" ry=\"18\"/>\n<text text-anchor=\"middle\" x=\"1777\" y=\"-101.3\" font-family=\"Times,serif\" font-size=\"14.00\" fill=\"#000000\">61</text>\n</g>\n<!-- 4.600&#45;&gt;6134 -->\n<g id=\"edge39\" class=\"edge\">\n<title>4.600&#45;&gt;6134</title>\n<path fill=\"none\" stroke=\"#000000\" d=\"M2752.3288,-191.4556C2600.729,-188.8269 1969.5864,-176.7186 1884,-156 1855.7753,-149.1674 1826.1542,-134.3705 1805.2527,-122.466\"/>\n<polygon fill=\"#000000\" stroke=\"#000000\" points=\"1806.9805,-119.4219 1796.5792,-117.4062 1803.4533,-125.4683 1806.9805,-119.4219\"/>\n<text text-anchor=\"middle\" x=\"1897.5\" y=\"-144.8\" font-family=\"Times,serif\" font-size=\"14.00\" fill=\"#000000\">4.06</text>\n</g>\n<!-- 4835 -->\n<g id=\"node41\" class=\"node\">\n<title>4835</title>\n<ellipse fill=\"none\" stroke=\"#000000\" cx=\"1849\" cy=\"-105\" rx=\"27\" ry=\"18\"/>\n<text text-anchor=\"middle\" x=\"1849\" y=\"-101.3\" font-family=\"Times,serif\" font-size=\"14.00\" fill=\"#000000\">48</text>\n</g>\n<!-- 4.600&#45;&gt;4835 -->\n<g id=\"edge40\" class=\"edge\">\n<title>4.600&#45;&gt;4835</title>\n<path fill=\"none\" stroke=\"#000000\" d=\"M2752.4899,-191.3617C2608.5608,-188.4316 2032.3708,-175.5695 1954,-156 1926.5485,-149.1453 1897.8089,-134.598 1877.3513,-122.7878\"/>\n<polygon fill=\"#000000\" stroke=\"#000000\" points=\"1878.9577,-119.6715 1868.5691,-117.5915 1875.3932,-125.696 1878.9577,-119.6715\"/>\n<text text-anchor=\"middle\" x=\"1967.5\" y=\"-144.8\" font-family=\"Times,serif\" font-size=\"14.00\" fill=\"#000000\">3.66</text>\n</g>\n<!-- 6736 -->\n<g id=\"node42\" class=\"node\">\n<title>6736</title>\n<ellipse fill=\"none\" stroke=\"#000000\" cx=\"1921\" cy=\"-105\" rx=\"27\" ry=\"18\"/>\n<text text-anchor=\"middle\" x=\"1921\" y=\"-101.3\" font-family=\"Times,serif\" font-size=\"14.00\" fill=\"#000000\">67</text>\n</g>\n<!-- 4.600&#45;&gt;6736 -->\n<g id=\"edge41\" class=\"edge\">\n<title>4.600&#45;&gt;6736</title>\n<path fill=\"none\" stroke=\"#000000\" d=\"M2752.4723,-191.2573C2616.0993,-188.0358 2094.199,-174.5924 2023,-156 1996.5406,-149.0906 1968.9398,-134.7903 1949.1321,-123.086\"/>\n<polygon fill=\"#000000\" stroke=\"#000000\" points=\"1950.7093,-119.9493 1940.343,-117.7602 1947.0815,-125.936 1950.7093,-119.9493\"/>\n<text text-anchor=\"middle\" x=\"2040\" y=\"-144.8\" font-family=\"Times,serif\" font-size=\"14.00\" fill=\"#000000\">3.960</text>\n</g>\n<!-- 1.237 -->\n<g id=\"node43\" class=\"node\">\n<title>1.237</title>\n<ellipse fill=\"none\" stroke=\"#000000\" cx=\"1993\" cy=\"-105\" rx=\"27\" ry=\"18\"/>\n<text text-anchor=\"middle\" x=\"1993\" y=\"-101.3\" font-family=\"Times,serif\" font-size=\"14.00\" fill=\"#000000\">1.2</text>\n</g>\n<!-- 4.600&#45;&gt;1.237 -->\n<g id=\"edge42\" class=\"edge\">\n<title>4.600&#45;&gt;1.237</title>\n<path fill=\"none\" stroke=\"#000000\" d=\"M2752.428,-191.0048C2625.0584,-187.0152 2164.5822,-171.6387 2101,-156 2072.5856,-149.0112 2042.6801,-134.2303 2021.5615,-122.3716\"/>\n<polygon fill=\"#000000\" stroke=\"#000000\" points=\"2023.2106,-119.2825 2012.7966,-117.3336 2019.7223,-125.3515 2023.2106,-119.2825\"/>\n<text text-anchor=\"middle\" x=\"2114.5\" y=\"-144.8\" font-family=\"Times,serif\" font-size=\"14.00\" fill=\"#000000\">4.96</text>\n</g>\n<!-- 7840 -->\n<g id=\"node46\" class=\"node\">\n<title>7840</title>\n<ellipse fill=\"none\" stroke=\"#000000\" cx=\"2065\" cy=\"-105\" rx=\"27\" ry=\"18\"/>\n<text text-anchor=\"middle\" x=\"2065\" y=\"-101.3\" font-family=\"Times,serif\" font-size=\"14.00\" fill=\"#000000\">78</text>\n</g>\n<!-- 4.600&#45;&gt;7840 -->\n<g id=\"edge45\" class=\"edge\">\n<title>4.600&#45;&gt;7840</title>\n<path fill=\"none\" stroke=\"#000000\" d=\"M2752.1317,-191.7156C2641.3706,-190.501 2282.4918,-184.4148 2171,-156 2143.3706,-148.9584 2114.3497,-134.4281 2093.6731,-122.6719\"/>\n<polygon fill=\"#000000\" stroke=\"#000000\" points=\"2095.1982,-119.5098 2084.7952,-117.5025 2091.6758,-125.5591 2095.1982,-119.5098\"/>\n<text text-anchor=\"middle\" x=\"2184.5\" y=\"-144.8\" font-family=\"Times,serif\" font-size=\"14.00\" fill=\"#000000\">6.23</text>\n</g>\n<!-- 7341 -->\n<g id=\"node47\" class=\"node\">\n<title>7341</title>\n<ellipse fill=\"none\" stroke=\"#000000\" cx=\"2137\" cy=\"-105\" rx=\"27\" ry=\"18\"/>\n<text text-anchor=\"middle\" x=\"2137\" y=\"-101.3\" font-family=\"Times,serif\" font-size=\"14.00\" fill=\"#000000\">73</text>\n</g>\n<!-- 4.600&#45;&gt;7341 -->\n<g id=\"edge46\" class=\"edge\">\n<title>4.600&#45;&gt;7341</title>\n<path fill=\"none\" stroke=\"#000000\" d=\"M2752.2928,-191.5065C2650.0599,-189.7029 2337.5465,-182.1386 2240,-156 2213.2573,-148.834 2185.2465,-134.4543 2165.1979,-122.7855\"/>\n<polygon fill=\"#000000\" stroke=\"#000000\" points=\"2166.9621,-119.7625 2156.5799,-117.6506 2163.3791,-125.776 2166.9621,-119.7625\"/>\n<text text-anchor=\"middle\" x=\"2257\" y=\"-144.8\" font-family=\"Times,serif\" font-size=\"14.00\" fill=\"#000000\">6.060</text>\n</g>\n<!-- 7842 -->\n<g id=\"node48\" class=\"node\">\n<title>7842</title>\n<ellipse fill=\"none\" stroke=\"#000000\" cx=\"2209\" cy=\"-105\" rx=\"27\" ry=\"18\"/>\n<text text-anchor=\"middle\" x=\"2209\" y=\"-101.3\" font-family=\"Times,serif\" font-size=\"14.00\" fill=\"#000000\">78</text>\n</g>\n<!-- 4.600&#45;&gt;7842 -->\n<g id=\"edge47\" class=\"edge\">\n<title>4.600&#45;&gt;7842</title>\n<path fill=\"none\" stroke=\"#000000\" d=\"M2752.5412,-190.9602C2660.7319,-187.7878 2400.5157,-177.1355 2318,-156 2289.439,-148.6844 2259.2447,-133.937 2237.8964,-122.1742\"/>\n<polygon fill=\"#000000\" stroke=\"#000000\" points=\"2239.4645,-119.0404 2229.034,-117.1819 2236.0289,-125.1394 2239.4645,-119.0404\"/>\n<text text-anchor=\"middle\" x=\"2331.5\" y=\"-144.8\" font-family=\"Times,serif\" font-size=\"14.00\" fill=\"#000000\">5.62</text>\n</g>\n<!-- 6243 -->\n<g id=\"node49\" class=\"node\">\n<title>6243</title>\n<ellipse fill=\"none\" stroke=\"#000000\" cx=\"2281\" cy=\"-105\" rx=\"27\" ry=\"18\"/>\n<text text-anchor=\"middle\" x=\"2281\" y=\"-101.3\" font-family=\"Times,serif\" font-size=\"14.00\" fill=\"#000000\">62</text>\n</g>\n<!-- 4.600&#45;&gt;6243 -->\n<g id=\"edge48\" class=\"edge\">\n<title>4.600&#45;&gt;6243</title>\n<path fill=\"none\" stroke=\"#000000\" d=\"M2752.4659,-190.4916C2670.3908,-186.4557 2456.5854,-174.4479 2388,-156 2360.1299,-148.5036 2330.683,-133.9144 2309.7514,-122.2537\"/>\n<polygon fill=\"#000000\" stroke=\"#000000\" points=\"2311.4733,-119.2066 2301.051,-117.3018 2308.0107,-125.2902 2311.4733,-119.2066\"/>\n<text text-anchor=\"middle\" x=\"2401.5\" y=\"-144.8\" font-family=\"Times,serif\" font-size=\"14.00\" fill=\"#000000\">5.86</text>\n</g>\n<!-- 0.244 -->\n<g id=\"node50\" class=\"node\">\n<title>0.244</title>\n<ellipse fill=\"none\" stroke=\"#000000\" cx=\"2353\" cy=\"-105\" rx=\"27\" ry=\"18\"/>\n<text text-anchor=\"middle\" x=\"2353\" y=\"-101.3\" font-family=\"Times,serif\" font-size=\"14.00\" fill=\"#000000\">0.2</text>\n</g>\n<!-- 4.600&#45;&gt;0.244 -->\n<g id=\"edge49\" class=\"edge\">\n<title>4.600&#45;&gt;0.244</title>\n<path fill=\"none\" stroke=\"#000000\" d=\"M2752.6829,-189.8628C2681.2781,-184.9125 2512.0464,-171.8626 2457,-156 2430.1888,-148.2739 2401.89,-133.9412 2381.592,-122.433\"/>\n<polygon fill=\"#000000\" stroke=\"#000000\" points=\"2383.2707,-119.3606 2372.863,-117.3781 2379.7627,-125.4182 2383.2707,-119.3606\"/>\n<text text-anchor=\"middle\" x=\"2470.5\" y=\"-144.8\" font-family=\"Times,serif\" font-size=\"14.00\" fill=\"#000000\">4.77</text>\n</g>\n<!-- 7247 -->\n<g id=\"node53\" class=\"node\">\n<title>7247</title>\n<ellipse fill=\"none\" stroke=\"#000000\" cx=\"2425\" cy=\"-105\" rx=\"27\" ry=\"18\"/>\n<text text-anchor=\"middle\" x=\"2425\" y=\"-101.3\" font-family=\"Times,serif\" font-size=\"14.00\" fill=\"#000000\">72</text>\n</g>\n<!-- 4.600&#45;&gt;7247 -->\n<g id=\"edge52\" class=\"edge\">\n<title>4.600&#45;&gt;7247</title>\n<path fill=\"none\" stroke=\"#000000\" d=\"M2752.4925,-191.0278C2702.3461,-188.7533 2603.5908,-181.1779 2524,-156 2498.9705,-148.0821 2472.6414,-134.2162 2453.4327,-122.9393\"/>\n<polygon fill=\"#000000\" stroke=\"#000000\" points=\"2454.9878,-119.7908 2444.6118,-117.6487 2451.3873,-125.7938 2454.9878,-119.7908\"/>\n<text text-anchor=\"middle\" x=\"2537.5\" y=\"-144.8\" font-family=\"Times,serif\" font-size=\"14.00\" fill=\"#000000\">5.02</text>\n</g>\n<!-- 7348 -->\n<g id=\"node54\" class=\"node\">\n<title>7348</title>\n<ellipse fill=\"none\" stroke=\"#000000\" cx=\"2497\" cy=\"-105\" rx=\"27\" ry=\"18\"/>\n<text text-anchor=\"middle\" x=\"2497\" y=\"-101.3\" font-family=\"Times,serif\" font-size=\"14.00\" fill=\"#000000\">73</text>\n</g>\n<!-- 4.600&#45;&gt;7348 -->\n<g id=\"edge53\" class=\"edge\">\n<title>4.600&#45;&gt;7348</title>\n<path fill=\"none\" stroke=\"#000000\" d=\"M2752.5803,-189.6348C2712.2577,-185.9156 2641.8026,-176.842 2585,-156 2563.4598,-148.0965 2541.1148,-135.0772 2524.3313,-124.1715\"/>\n<polygon fill=\"#000000\" stroke=\"#000000\" points=\"2525.8843,-121.0009 2515.6197,-118.3761 2522.0071,-126.8291 2525.8843,-121.0009\"/>\n<text text-anchor=\"middle\" x=\"2598.5\" y=\"-144.8\" font-family=\"Times,serif\" font-size=\"14.00\" fill=\"#000000\">6.78</text>\n</g>\n<!-- 5449 -->\n<g id=\"node55\" class=\"node\">\n<title>5449</title>\n<ellipse fill=\"none\" stroke=\"#000000\" cx=\"2569\" cy=\"-105\" rx=\"27\" ry=\"18\"/>\n<text text-anchor=\"middle\" x=\"2569\" y=\"-101.3\" font-family=\"Times,serif\" font-size=\"14.00\" fill=\"#000000\">54</text>\n</g>\n<!-- 4.600&#45;&gt;5449 -->\n<g id=\"edge54\" class=\"edge\">\n<title>4.600&#45;&gt;5449</title>\n<path fill=\"none\" stroke=\"#000000\" d=\"M2753.3002,-187.6809C2723.1243,-182.7596 2676.962,-173.0919 2640,-156 2623.2759,-148.2665 2606.446,-136.3979 2593.372,-126.0555\"/>\n<polygon fill=\"#000000\" stroke=\"#000000\" points=\"2595.3276,-123.1346 2585.3618,-119.5384 2590.9099,-128.5644 2595.3276,-123.1346\"/>\n<text text-anchor=\"middle\" x=\"2657\" y=\"-144.8\" font-family=\"Times,serif\" font-size=\"14.00\" fill=\"#000000\">3.630</text>\n</g>\n<!-- 6050 -->\n<g id=\"node56\" class=\"node\">\n<title>6050</title>\n<ellipse fill=\"none\" stroke=\"#000000\" cx=\"2641\" cy=\"-105\" rx=\"27\" ry=\"18\"/>\n<text text-anchor=\"middle\" x=\"2641\" y=\"-101.3\" font-family=\"Times,serif\" font-size=\"14.00\" fill=\"#000000\">60</text>\n</g>\n<!-- 4.600&#45;&gt;6050 -->\n<g id=\"edge55\" class=\"edge\">\n<title>4.600&#45;&gt;6050</title>\n<path fill=\"none\" stroke=\"#000000\" d=\"M2756.3967,-182.9251C2738.8281,-176.6943 2716.2684,-167.4819 2698,-156 2685.2784,-148.0043 2672.6665,-137.1128 2662.5529,-127.4476\"/>\n<polygon fill=\"#000000\" stroke=\"#000000\" points=\"2664.9309,-124.8773 2655.3455,-120.3639 2660.0242,-129.8697 2664.9309,-124.8773\"/>\n<text text-anchor=\"middle\" x=\"2715\" y=\"-144.8\" font-family=\"Times,serif\" font-size=\"14.00\" fill=\"#000000\">4.603</text>\n</g>\n<!-- 6251 -->\n<g id=\"node57\" class=\"node\">\n<title>6251</title>\n<ellipse fill=\"none\" stroke=\"#000000\" cx=\"2713\" cy=\"-105\" rx=\"27\" ry=\"18\"/>\n<text text-anchor=\"middle\" x=\"2713\" y=\"-101.3\" font-family=\"Times,serif\" font-size=\"14.00\" fill=\"#000000\">62</text>\n</g>\n<!-- 4.600&#45;&gt;6251 -->\n<g id=\"edge56\" class=\"edge\">\n<title>4.600&#45;&gt;6251</title>\n<path fill=\"none\" stroke=\"#000000\" d=\"M2767.1599,-176.6406C2760.5035,-170.5239 2753.0901,-163.2274 2747,-156 2740.4536,-148.2312 2734.0614,-139.164 2728.6187,-130.8473\"/>\n<polygon fill=\"#000000\" stroke=\"#000000\" points=\"2731.4458,-128.7706 2723.1232,-122.2143 2725.5407,-132.5297 2731.4458,-128.7706\"/>\n<text text-anchor=\"middle\" x=\"2764\" y=\"-144.8\" font-family=\"Times,serif\" font-size=\"14.00\" fill=\"#000000\">5.800</text>\n</g>\n<!-- 5752 -->\n<g id=\"node58\" class=\"node\">\n<title>5752</title>\n<ellipse fill=\"none\" stroke=\"#000000\" cx=\"2785\" cy=\"-105\" rx=\"27\" ry=\"18\"/>\n<text text-anchor=\"middle\" x=\"2785\" y=\"-101.3\" font-family=\"Times,serif\" font-size=\"14.00\" fill=\"#000000\">57</text>\n</g>\n<!-- 4.600&#45;&gt;5752 -->\n<g id=\"edge57\" class=\"edge\">\n<title>4.600&#45;&gt;5752</title>\n<path fill=\"none\" stroke=\"#000000\" d=\"M2785,-173.9735C2785,-162.1918 2785,-146.5607 2785,-133.1581\"/>\n<polygon fill=\"#000000\" stroke=\"#000000\" points=\"2788.5001,-133.0033 2785,-123.0034 2781.5001,-133.0034 2788.5001,-133.0033\"/>\n<text text-anchor=\"middle\" x=\"2798.5\" y=\"-144.8\" font-family=\"Times,serif\" font-size=\"14.00\" fill=\"#000000\">4.12</text>\n</g>\n<!-- 6253 -->\n<g id=\"node59\" class=\"node\">\n<title>6253</title>\n<ellipse fill=\"none\" stroke=\"#000000\" cx=\"2857\" cy=\"-105\" rx=\"27\" ry=\"18\"/>\n<text text-anchor=\"middle\" x=\"2857\" y=\"-101.3\" font-family=\"Times,serif\" font-size=\"14.00\" fill=\"#000000\">62</text>\n</g>\n<!-- 4.600&#45;&gt;6253 -->\n<g id=\"edge58\" class=\"edge\">\n<title>4.600&#45;&gt;6253</title>\n<path fill=\"none\" stroke=\"#000000\" d=\"M2799.3158,-175.6116C2804.6045,-169.4955 2810.6189,-162.4668 2816,-156 2823.1939,-147.3546 2830.9554,-137.7688 2837.7696,-129.2628\"/>\n<polygon fill=\"#000000\" stroke=\"#000000\" points=\"2840.7091,-131.1907 2844.212,-121.1916 2835.2381,-126.8238 2840.7091,-131.1907\"/>\n<text text-anchor=\"middle\" x=\"2845\" y=\"-144.8\" font-family=\"Times,serif\" font-size=\"14.00\" fill=\"#000000\">5.430</text>\n</g>\n<!-- 0.254 -->\n<g id=\"node60\" class=\"node\">\n<title>0.254</title>\n<ellipse fill=\"none\" stroke=\"#000000\" cx=\"2929\" cy=\"-105\" rx=\"27\" ry=\"18\"/>\n<text text-anchor=\"middle\" x=\"2929\" y=\"-101.3\" font-family=\"Times,serif\" font-size=\"14.00\" fill=\"#000000\">0.2</text>\n</g>\n<!-- 4.600&#45;&gt;0.254 -->\n<g id=\"edge59\" class=\"edge\">\n<title>4.600&#45;&gt;0.254</title>\n<path fill=\"none\" stroke=\"#000000\" d=\"M2812.1513,-182.0134C2828.3171,-175.5661 2848.9383,-166.4459 2866,-156 2879.9067,-147.4857 2894.1315,-136.2303 2905.5372,-126.4597\"/>\n<polygon fill=\"#000000\" stroke=\"#000000\" points=\"2908.0781,-128.887 2913.2992,-119.6679 2903.4686,-123.619 2908.0781,-128.887\"/>\n<text text-anchor=\"middle\" x=\"2900.5\" y=\"-144.8\" font-family=\"Times,serif\" font-size=\"14.00\" fill=\"#000000\">5.49</text>\n</g>\n<!-- 7157 -->\n<g id=\"node63\" class=\"node\">\n<title>7157</title>\n<ellipse fill=\"none\" stroke=\"#000000\" cx=\"3001\" cy=\"-105\" rx=\"27\" ry=\"18\"/>\n<text text-anchor=\"middle\" x=\"3001\" y=\"-101.3\" font-family=\"Times,serif\" font-size=\"14.00\" fill=\"#000000\">71</text>\n</g>\n<!-- 4.600&#45;&gt;7157 -->\n<g id=\"edge62\" class=\"edge\">\n<title>4.600&#45;&gt;7157</title>\n<path fill=\"none\" stroke=\"#000000\" d=\"M2815.9477,-186.2532C2843.4557,-180.5353 2884.3999,-170.5104 2918,-156 2937.7285,-147.4801 2958.3202,-134.8538 2974.058,-124.2963\"/>\n<polygon fill=\"#000000\" stroke=\"#000000\" points=\"2976.4459,-126.9032 2982.7201,-118.3659 2972.4914,-121.1272 2976.4459,-126.9032\"/>\n<text text-anchor=\"middle\" x=\"2964\" y=\"-144.8\" font-family=\"Times,serif\" font-size=\"14.00\" fill=\"#000000\">4.650</text>\n</g>\n<!-- ?58 -->\n<g id=\"node64\" class=\"node\">\n<title>?58</title>\n<ellipse fill=\"none\" stroke=\"#000000\" cx=\"3073\" cy=\"-105\" rx=\"27\" ry=\"18\"/>\n<text text-anchor=\"middle\" x=\"3073\" y=\"-101.3\" font-family=\"Times,serif\" font-size=\"14.00\" fill=\"#000000\">?</text>\n</g>\n<!-- 4.600&#45;&gt;?58 -->\n<g id=\"edge63\" class=\"edge\">\n<title>4.600&#45;&gt;?58</title>\n<path fill=\"none\" stroke=\"#000000\" d=\"M2817.4197,-189.6348C2857.7423,-185.9156 2928.1974,-176.842 2985,-156 3006.5402,-148.0965 3028.8852,-135.0772 3045.6687,-124.1715\"/>\n<polygon fill=\"#000000\" stroke=\"#000000\" points=\"3047.9929,-126.8291 3054.3803,-118.3761 3044.1157,-121.0009 3047.9929,-126.8291\"/>\n<text text-anchor=\"middle\" x=\"3029.5\" y=\"-144.8\" font-family=\"Times,serif\" font-size=\"14.00\" fill=\"#000000\">4.38</text>\n</g>\n<!-- 6359 -->\n<g id=\"node65\" class=\"node\">\n<title>6359</title>\n<ellipse fill=\"none\" stroke=\"#000000\" cx=\"3145\" cy=\"-105\" rx=\"27\" ry=\"18\"/>\n<text text-anchor=\"middle\" x=\"3145\" y=\"-101.3\" font-family=\"Times,serif\" font-size=\"14.00\" fill=\"#000000\">63</text>\n</g>\n<!-- 4.600&#45;&gt;6359 -->\n<g id=\"edge64\" class=\"edge\">\n<title>4.600&#45;&gt;6359</title>\n<path fill=\"none\" stroke=\"#000000\" d=\"M2817.6448,-191.087C2868.0002,-188.8908 2967.1559,-181.4174 3047,-156 3071.8156,-148.1002 3097.8764,-134.2332 3116.8803,-122.9512\"/>\n<polygon fill=\"#000000\" stroke=\"#000000\" points=\"3118.8716,-125.8369 3125.6062,-117.658 3115.2411,-119.852 3118.8716,-125.8369\"/>\n<text text-anchor=\"middle\" x=\"3097.5\" y=\"-144.8\" font-family=\"Times,serif\" font-size=\"14.00\" fill=\"#000000\">5.20</text>\n</g>\n<!-- 5760 -->\n<g id=\"node66\" class=\"node\">\n<title>5760</title>\n<ellipse fill=\"none\" stroke=\"#000000\" cx=\"3217\" cy=\"-105\" rx=\"27\" ry=\"18\"/>\n<text text-anchor=\"middle\" x=\"3217\" y=\"-101.3\" font-family=\"Times,serif\" font-size=\"14.00\" fill=\"#000000\">57</text>\n</g>\n<!-- 4.600&#45;&gt;5760 -->\n<g id=\"edge65\" class=\"edge\">\n<title>4.600&#45;&gt;5760</title>\n<path fill=\"none\" stroke=\"#000000\" d=\"M2817.5276,-189.921C2889.3955,-185.0896 3059.7119,-172.2674 3115,-156 3141.0707,-148.3292 3168.508,-134.2224 3188.3515,-122.7865\"/>\n<polygon fill=\"#000000\" stroke=\"#000000\" points=\"3190.3327,-125.6816 3197.1724,-117.5903 3186.7797,-119.6503 3190.3327,-125.6816\"/>\n<text text-anchor=\"middle\" x=\"3166.5\" y=\"-144.8\" font-family=\"Times,serif\" font-size=\"14.00\" fill=\"#000000\">2.32</text>\n</g>\n<!-- 7761 -->\n<g id=\"node67\" class=\"node\">\n<title>7761</title>\n<ellipse fill=\"none\" stroke=\"#000000\" cx=\"3289\" cy=\"-105\" rx=\"27\" ry=\"18\"/>\n<text text-anchor=\"middle\" x=\"3289\" y=\"-101.3\" font-family=\"Times,serif\" font-size=\"14.00\" fill=\"#000000\">77</text>\n</g>\n<!-- 4.600&#45;&gt;7761 -->\n<g id=\"edge66\" class=\"edge\">\n<title>4.600&#45;&gt;7761</title>\n<path fill=\"none\" stroke=\"#000000\" d=\"M2817.409,-190.5596C2899.7031,-186.6651 3115.087,-174.9272 3184,-156 3211.1146,-148.5529 3239.6817,-134.1968 3260.1618,-122.6086\"/>\n<polygon fill=\"#000000\" stroke=\"#000000\" points=\"3262.0651,-125.5511 3268.9682,-117.5138 3258.5597,-119.492 3262.0651,-125.5511\"/>\n<text text-anchor=\"middle\" x=\"3240\" y=\"-144.8\" font-family=\"Times,serif\" font-size=\"14.00\" fill=\"#000000\">4.230</text>\n</g>\n<!-- 6162 -->\n<g id=\"node68\" class=\"node\">\n<title>6162</title>\n<ellipse fill=\"none\" stroke=\"#000000\" cx=\"3361\" cy=\"-105\" rx=\"27\" ry=\"18\"/>\n<text text-anchor=\"middle\" x=\"3361\" y=\"-101.3\" font-family=\"Times,serif\" font-size=\"14.00\" fill=\"#000000\">61</text>\n</g>\n<!-- 4.600&#45;&gt;6162 -->\n<g id=\"edge67\" class=\"edge\">\n<title>4.600&#45;&gt;6162</title>\n<path fill=\"none\" stroke=\"#000000\" d=\"M2817.468,-191.2077C2910.5841,-188.6731 3177.2169,-179.5083 3261,-156 3286.7557,-148.7733 3313.6408,-134.6344 3333.0398,-123.0731\"/>\n<polygon fill=\"#000000\" stroke=\"#000000\" points=\"3334.9471,-126.0095 3341.659,-117.8119 3331.2999,-120.0347 3334.9471,-126.0095\"/>\n<text text-anchor=\"middle\" x=\"3312.5\" y=\"-144.8\" font-family=\"Times,serif\" font-size=\"14.00\" fill=\"#000000\">5.04</text>\n</g>\n<!-- 5763 -->\n<g id=\"node69\" class=\"node\">\n<title>5763</title>\n<ellipse fill=\"none\" stroke=\"#000000\" cx=\"3433\" cy=\"-105\" rx=\"27\" ry=\"18\"/>\n<text text-anchor=\"middle\" x=\"3433\" y=\"-101.3\" font-family=\"Times,serif\" font-size=\"14.00\" fill=\"#000000\">57</text>\n</g>\n<!-- 4.600&#45;&gt;5763 -->\n<g id=\"edge68\" class=\"edge\">\n<title>4.600&#45;&gt;5763</title>\n<path fill=\"none\" stroke=\"#000000\" d=\"M2817.7072,-191.5065C2919.9401,-189.7029 3232.4535,-182.1386 3330,-156 3356.7427,-148.834 3384.7535,-134.4543 3404.8021,-122.7855\"/>\n<polygon fill=\"#000000\" stroke=\"#000000\" points=\"3406.6209,-125.776 3413.4201,-117.6506 3403.0379,-119.7625 3406.6209,-125.776\"/>\n<text text-anchor=\"middle\" x=\"3382.5\" y=\"-144.8\" font-family=\"Times,serif\" font-size=\"14.00\" fill=\"#000000\">4.29</text>\n</g>\n<!-- 8064 -->\n<g id=\"node70\" class=\"node\">\n<title>8064</title>\n<ellipse fill=\"none\" stroke=\"#000000\" cx=\"3505\" cy=\"-105\" rx=\"27\" ry=\"18\"/>\n<text text-anchor=\"middle\" x=\"3505\" y=\"-101.3\" font-family=\"Times,serif\" font-size=\"14.00\" fill=\"#000000\">80</text>\n</g>\n<!-- 4.600&#45;&gt;8064 -->\n<g id=\"edge69\" class=\"edge\">\n<title>4.600&#45;&gt;8064</title>\n<path fill=\"none\" stroke=\"#000000\" d=\"M2817.5426,-191.7459C2928.0538,-190.6259 3288.2762,-184.8002 3400,-156 3427.3987,-148.9372 3456.1431,-134.4088 3476.6159,-122.6587\"/>\n<polygon fill=\"#000000\" stroke=\"#000000\" points=\"3478.5582,-125.577 3485.4058,-117.4924 3475.0111,-119.5422 3478.5582,-125.577\"/>\n<text text-anchor=\"middle\" x=\"3457\" y=\"-144.8\" font-family=\"Times,serif\" font-size=\"14.00\" fill=\"#000000\">4.360</text>\n</g>\n<!-- 6365 -->\n<g id=\"node71\" class=\"node\">\n<title>6365</title>\n<ellipse fill=\"none\" stroke=\"#000000\" cx=\"3577\" cy=\"-105\" rx=\"27\" ry=\"18\"/>\n<text text-anchor=\"middle\" x=\"3577\" y=\"-101.3\" font-family=\"Times,serif\" font-size=\"14.00\" fill=\"#000000\">63</text>\n</g>\n<!-- 4.600&#45;&gt;6365 -->\n<g id=\"edge70\" class=\"edge\">\n<title>4.600&#45;&gt;6365</title>\n<path fill=\"none\" stroke=\"#000000\" d=\"M2817.5842,-191.1142C2946.0912,-187.5106 3413.8857,-173.3168 3478,-156 3503.6202,-149.0802 3530.2277,-134.919 3549.3982,-123.2712\"/>\n<polygon fill=\"#000000\" stroke=\"#000000\" points=\"3551.2773,-126.2242 3557.9133,-117.965 3547.5752,-120.2832 3551.2773,-126.2242\"/>\n<text text-anchor=\"middle\" x=\"3529.5\" y=\"-144.8\" font-family=\"Times,serif\" font-size=\"14.00\" fill=\"#000000\">4.57</text>\n</g>\n<!-- 6366 -->\n<g id=\"node72\" class=\"node\">\n<title>6366</title>\n<ellipse fill=\"none\" stroke=\"#000000\" cx=\"3649\" cy=\"-105\" rx=\"27\" ry=\"18\"/>\n<text text-anchor=\"middle\" x=\"3649\" y=\"-101.3\" font-family=\"Times,serif\" font-size=\"14.00\" fill=\"#000000\">63</text>\n</g>\n<!-- 4.600&#45;&gt;6366 -->\n<g id=\"edge71\" class=\"edge\">\n<title>4.600&#45;&gt;6366</title>\n<path fill=\"none\" stroke=\"#000000\" d=\"M2817.5277,-191.2573C2953.9007,-188.0358 3475.801,-174.5924 3547,-156 3573.4594,-149.0906 3601.0602,-134.7903 3620.8679,-123.086\"/>\n<polygon fill=\"#000000\" stroke=\"#000000\" points=\"3622.9185,-125.936 3629.657,-117.7602 3619.2907,-119.9493 3622.9185,-125.936\"/>\n<text text-anchor=\"middle\" x=\"3603\" y=\"-144.8\" font-family=\"Times,serif\" font-size=\"14.00\" fill=\"#000000\">5.310</text>\n</g>\n<!-- 5467 -->\n<g id=\"node73\" class=\"node\">\n<title>5467</title>\n<ellipse fill=\"none\" stroke=\"#000000\" cx=\"3721\" cy=\"-105\" rx=\"27\" ry=\"18\"/>\n<text text-anchor=\"middle\" x=\"3721\" y=\"-101.3\" font-family=\"Times,serif\" font-size=\"14.00\" fill=\"#000000\">54</text>\n</g>\n<!-- 4.600&#45;&gt;5467 -->\n<g id=\"edge72\" class=\"edge\">\n<title>4.600&#45;&gt;5467</title>\n<path fill=\"none\" stroke=\"#000000\" d=\"M2817.8415,-191.4412C2963.2351,-188.8522 3545.2608,-177.2389 3624,-156 3649.1002,-149.2295 3675.0403,-135.1571 3693.7729,-123.5064\"/>\n<polygon fill=\"#000000\" stroke=\"#000000\" points=\"3695.8117,-126.3573 3702.3546,-118.0242 3692.0432,-120.4582 3695.8117,-126.3573\"/>\n<text text-anchor=\"middle\" x=\"3674.5\" y=\"-144.8\" font-family=\"Times,serif\" font-size=\"14.00\" fill=\"#000000\">4.54</text>\n</g>\n<!-- 8568 -->\n<g id=\"node74\" class=\"node\">\n<title>8568</title>\n<ellipse fill=\"none\" stroke=\"#000000\" cx=\"3793\" cy=\"-105\" rx=\"27\" ry=\"18\"/>\n<text text-anchor=\"middle\" x=\"3793\" y=\"-101.3\" font-family=\"Times,serif\" font-size=\"14.00\" fill=\"#000000\">85</text>\n</g>\n<!-- 4.600&#45;&gt;8568 -->\n<g id=\"edge73\" class=\"edge\">\n<title>4.600&#45;&gt;8568</title>\n<path fill=\"none\" stroke=\"#000000\" d=\"M2817.65,-191.5265C2969.8761,-189.2083 3606.1444,-178.2553 3692,-156 3718.2644,-149.1918 3745.5894,-134.8835 3765.1847,-123.1504\"/>\n<polygon fill=\"#000000\" stroke=\"#000000\" points=\"3767.1896,-126.0264 3773.878,-117.8096 3763.5254,-120.062 3767.1896,-126.0264\"/>\n<text text-anchor=\"middle\" x=\"3747\" y=\"-144.8\" font-family=\"Times,serif\" font-size=\"14.00\" fill=\"#000000\">5.460</text>\n</g>\n<!-- 5269 -->\n<g id=\"node75\" class=\"node\">\n<title>5269</title>\n<ellipse fill=\"none\" stroke=\"#000000\" cx=\"3865\" cy=\"-105\" rx=\"27\" ry=\"18\"/>\n<text text-anchor=\"middle\" x=\"3865\" y=\"-101.3\" font-family=\"Times,serif\" font-size=\"14.00\" fill=\"#000000\">52</text>\n</g>\n<!-- 4.600&#45;&gt;5269 -->\n<g id=\"edge74\" class=\"edge\">\n<title>4.600&#45;&gt;5269</title>\n<path fill=\"none\" stroke=\"#000000\" d=\"M2817.6935,-191.6647C2977.7318,-189.9077 3674.609,-180.877 3768,-156 3793.1214,-149.3083 3819.06,-135.2306 3837.7867,-123.5578\"/>\n<polygon fill=\"#000000\" stroke=\"#000000\" points=\"3839.8319,-126.4043 3846.3652,-118.0636 3836.0566,-120.5096 3839.8319,-126.4043\"/>\n<text text-anchor=\"middle\" x=\"3822\" y=\"-144.8\" font-family=\"Times,serif\" font-size=\"14.00\" fill=\"#000000\">5.320</text>\n</g>\n<!-- 6570 -->\n<g id=\"node76\" class=\"node\">\n<title>6570</title>\n<ellipse fill=\"none\" stroke=\"#000000\" cx=\"3937\" cy=\"-105\" rx=\"27\" ry=\"18\"/>\n<text text-anchor=\"middle\" x=\"3937\" y=\"-101.3\" font-family=\"Times,serif\" font-size=\"14.00\" fill=\"#000000\">65</text>\n</g>\n<!-- 4.600&#45;&gt;6570 -->\n<g id=\"edge75\" class=\"edge\">\n<title>4.600&#45;&gt;6570</title>\n<path fill=\"none\" stroke=\"#000000\" d=\"M2817.6684,-191.7808C2984.9994,-190.5388 3742.1354,-183.4336 3843,-156 3867.1052,-149.4438 3891.8376,-135.6915 3909.8795,-124.1183\"/>\n<polygon fill=\"#000000\" stroke=\"#000000\" points=\"3912.2508,-126.7466 3918.6657,-118.3145 3908.3926,-120.9059 3912.2508,-126.7466\"/>\n<text text-anchor=\"middle\" x=\"3896\" y=\"-144.8\" font-family=\"Times,serif\" font-size=\"14.00\" fill=\"#000000\">5.050</text>\n</g>\n<!-- 7371 -->\n<g id=\"node77\" class=\"node\">\n<title>7371</title>\n<ellipse fill=\"none\" stroke=\"#000000\" cx=\"4009\" cy=\"-105\" rx=\"27\" ry=\"18\"/>\n<text text-anchor=\"middle\" x=\"4009\" y=\"-101.3\" font-family=\"Times,serif\" font-size=\"14.00\" fill=\"#000000\">73</text>\n</g>\n<!-- 4.600&#45;&gt;7371 -->\n<g id=\"edge76\" class=\"edge\">\n<title>4.600&#45;&gt;7371</title>\n<path fill=\"none\" stroke=\"#000000\" d=\"M2817.6329,-191.8763C2991.8763,-191.0941 3808.7157,-185.8501 3917,-156 3940.5378,-149.5115 3964.5827,-135.8903 3982.1854,-124.3562\"/>\n<polygon fill=\"#000000\" stroke=\"#000000\" points=\"3984.4363,-127.0596 3990.7664,-118.5637 3980.5198,-121.2578 3984.4363,-127.0596\"/>\n<text text-anchor=\"middle\" x=\"3956\" y=\"-144.8\" font-family=\"Times,serif\" font-size=\"14.00\" fill=\"#000000\">4</text>\n</g>\n<!-- 1.272 -->\n<g id=\"node78\" class=\"node\">\n<title>1.272</title>\n<ellipse fill=\"none\" stroke=\"#000000\" cx=\"4081\" cy=\"-105\" rx=\"27\" ry=\"18\"/>\n<text text-anchor=\"middle\" x=\"4081\" y=\"-101.3\" font-family=\"Times,serif\" font-size=\"14.00\" fill=\"#000000\">1.2</text>\n</g>\n<!-- 4.600&#45;&gt;1.272 -->\n<g id=\"edge77\" class=\"edge\">\n<title>4.600&#45;&gt;1.272</title>\n<path fill=\"none\" stroke=\"#000000\" d=\"M2817.7505,-191.6937C2996.3872,-189.9305 3849.3057,-180.2904 3964,-156 3995.2462,-149.3826 4028.398,-134.0488 4051.4036,-121.912\"/>\n<polygon fill=\"#000000\" stroke=\"#000000\" points=\"4053.1656,-124.9383 4060.3033,-117.1087 4049.8408,-118.7782 4053.1656,-124.9383\"/>\n<text text-anchor=\"middle\" x=\"4028\" y=\"-144.8\" font-family=\"Times,serif\" font-size=\"14.00\" fill=\"#000000\">4.490</text>\n</g>\n<!-- 5975 -->\n<g id=\"node81\" class=\"node\">\n<title>5975</title>\n<ellipse fill=\"none\" stroke=\"#000000\" cx=\"4153\" cy=\"-105\" rx=\"27\" ry=\"18\"/>\n<text text-anchor=\"middle\" x=\"4153\" y=\"-101.3\" font-family=\"Times,serif\" font-size=\"14.00\" fill=\"#000000\">59</text>\n</g>\n<!-- 4.600&#45;&gt;5975 -->\n<g id=\"edge80\" class=\"edge\">\n<title>4.600&#45;&gt;5975</title>\n<path fill=\"none\" stroke=\"#000000\" d=\"M2817.6718,-191.8905C3003.8069,-191.1573 3926.3906,-186.0232 4049,-156 4076.2709,-149.3222 4104.7294,-134.7589 4124.9688,-122.8975\"/>\n<polygon fill=\"#000000\" stroke=\"#000000\" points=\"4126.8881,-125.8275 4133.6558,-117.6758 4123.2818,-119.8279 4126.8881,-125.8275\"/>\n<text text-anchor=\"middle\" x=\"4101.5\" y=\"-144.8\" font-family=\"Times,serif\" font-size=\"14.00\" fill=\"#000000\">3.42</text>\n</g>\n<!-- 5676 -->\n<g id=\"node82\" class=\"node\">\n<title>5676</title>\n<ellipse fill=\"none\" stroke=\"#000000\" cx=\"4225\" cy=\"-105\" rx=\"27\" ry=\"18\"/>\n<text text-anchor=\"middle\" x=\"4225\" y=\"-101.3\" font-family=\"Times,serif\" font-size=\"14.00\" fill=\"#000000\">56</text>\n</g>\n<!-- 4.600&#45;&gt;5676 -->\n<g id=\"edge81\" class=\"edge\">\n<title>4.600&#45;&gt;5676</title>\n<path fill=\"none\" stroke=\"#000000\" d=\"M2817.5786,-191.9219C3009.5268,-191.3556 3988.9836,-186.9579 4119,-156 4146.7372,-149.3956 4175.7483,-134.8256 4196.3937,-122.943\"/>\n<polygon fill=\"#000000\" stroke=\"#000000\" points=\"4198.4242,-125.8087 4205.2561,-117.7108 4194.8654,-119.7808 4198.4242,-125.8087\"/>\n<text text-anchor=\"middle\" x=\"4163\" y=\"-144.8\" font-family=\"Times,serif\" font-size=\"14.00\" fill=\"#000000\">5</text>\n</g>\n<!-- 5977 -->\n<g id=\"node83\" class=\"node\">\n<title>5977</title>\n<ellipse fill=\"none\" stroke=\"#000000\" cx=\"4297\" cy=\"-105\" rx=\"27\" ry=\"18\"/>\n<text text-anchor=\"middle\" x=\"4297\" y=\"-101.3\" font-family=\"Times,serif\" font-size=\"14.00\" fill=\"#000000\">59</text>\n</g>\n<!-- 4.600&#45;&gt;5977 -->\n<g id=\"edge82\" class=\"edge\">\n<title>4.600&#45;&gt;5977</title>\n<path fill=\"none\" stroke=\"#000000\" d=\"M2817.5269,-191.7876C3013.6113,-190.4231 4034.3121,-182.1045 4171,-156 4205.3255,-149.4446 4242.0996,-133.4085 4267.0043,-121.0533\"/>\n<polygon fill=\"#000000\" stroke=\"#000000\" points=\"4268.6005,-124.1682 4275.9383,-116.5257 4265.4361,-117.9243 4268.6005,-124.1682\"/>\n<text text-anchor=\"middle\" x=\"4234.5\" y=\"-144.8\" font-family=\"Times,serif\" font-size=\"14.00\" fill=\"#000000\">4.04</text>\n</g>\n<!-- 6678 -->\n<g id=\"node84\" class=\"node\">\n<title>6678</title>\n<ellipse fill=\"none\" stroke=\"#000000\" cx=\"4369\" cy=\"-105\" rx=\"27\" ry=\"18\"/>\n<text text-anchor=\"middle\" x=\"4369\" y=\"-101.3\" font-family=\"Times,serif\" font-size=\"14.00\" fill=\"#000000\">66</text>\n</g>\n<!-- 4.600&#45;&gt;6678 -->\n<g id=\"edge83\" class=\"edge\">\n<title>4.600&#45;&gt;6678</title>\n<path fill=\"none\" stroke=\"#000000\" d=\"M2817.7774,-191.9048C3021.2188,-191.22 4107.43,-186.1655 4252,-156 4283.4565,-149.4364 4316.8195,-133.9431 4339.8345,-121.7434\"/>\n<polygon fill=\"#000000\" stroke=\"#000000\" points=\"4341.6047,-124.765 4348.726,-116.9204 4338.2671,-118.6119 4341.6047,-124.765\"/>\n<text text-anchor=\"middle\" x=\"4316\" y=\"-144.8\" font-family=\"Times,serif\" font-size=\"14.00\" fill=\"#000000\">6.150</text>\n</g>\n<!-- 5579 -->\n<g id=\"node85\" class=\"node\">\n<title>5579</title>\n<ellipse fill=\"none\" stroke=\"#000000\" cx=\"4441\" cy=\"-105\" rx=\"27\" ry=\"18\"/>\n<text text-anchor=\"middle\" x=\"4441\" y=\"-101.3\" font-family=\"Times,serif\" font-size=\"14.00\" fill=\"#000000\">55</text>\n</g>\n<!-- 4.600&#45;&gt;5579 -->\n<g id=\"edge84\" class=\"edge\">\n<title>4.600&#45;&gt;5579</title>\n<path fill=\"none\" stroke=\"#000000\" d=\"M2817.7823,-191.6356C3035.0125,-189.1719 4260.6249,-174.4882 4337,-156 4364.2884,-149.3942 4392.7454,-134.8244 4412.9797,-122.9422\"/>\n<polygon fill=\"#000000\" stroke=\"#000000\" points=\"4414.9047,-125.8686 4421.6642,-117.7102 4411.2923,-119.8726 4414.9047,-125.8686\"/>\n<text text-anchor=\"middle\" x=\"4393\" y=\"-144.8\" font-family=\"Times,serif\" font-size=\"14.00\" fill=\"#000000\">4.160</text>\n</g>\n<!-- 6080 -->\n<g id=\"node86\" class=\"node\">\n<title>6080</title>\n<ellipse fill=\"none\" stroke=\"#000000\" cx=\"4513\" cy=\"-105\" rx=\"27\" ry=\"18\"/>\n<text text-anchor=\"middle\" x=\"4513\" y=\"-101.3\" font-family=\"Times,serif\" font-size=\"14.00\" fill=\"#000000\">60</text>\n</g>\n<!-- 4.600&#45;&gt;6080 -->\n<g id=\"edge85\" class=\"edge\">\n<title>4.600&#45;&gt;6080</title>\n<path fill=\"none\" stroke=\"#000000\" d=\"M2817.6038,-191.6963C3040.5534,-189.5675 4333.8497,-176.3715 4414,-156 4439.7205,-149.4627 4466.3207,-135.2739 4485.4629,-123.5181\"/>\n<polygon fill=\"#000000\" stroke=\"#000000\" points=\"4487.3729,-126.4515 4493.9634,-118.1559 4483.6382,-120.531 4487.3729,-126.4515\"/>\n<text text-anchor=\"middle\" x=\"4469\" y=\"-144.8\" font-family=\"Times,serif\" font-size=\"14.00\" fill=\"#000000\">5.250</text>\n</g>\n<!-- 7481 -->\n<g id=\"node87\" class=\"node\">\n<title>7481</title>\n<ellipse fill=\"none\" stroke=\"#000000\" cx=\"4585\" cy=\"-105\" rx=\"27\" ry=\"18\"/>\n<text text-anchor=\"middle\" x=\"4585\" y=\"-101.3\" font-family=\"Times,serif\" font-size=\"14.00\" fill=\"#000000\">74</text>\n</g>\n<!-- 4.600&#45;&gt;7481 -->\n<g id=\"edge86\" class=\"edge\">\n<title>4.600&#45;&gt;7481</title>\n<path fill=\"none\" stroke=\"#000000\" d=\"M2817.6474,-191.7445C3046.7121,-189.8983 4406.1065,-178.0391 4490,-156 4514.5833,-149.5419 4539.8142,-135.5872 4558.09,-123.905\"/>\n<polygon fill=\"#000000\" stroke=\"#000000\" points=\"4560.0368,-126.8138 4566.4697,-118.3955 4556.1911,-120.9648 4560.0368,-126.8138\"/>\n<text text-anchor=\"middle\" x=\"4539.5\" y=\"-144.8\" font-family=\"Times,serif\" font-size=\"14.00\" fill=\"#000000\">4.56</text>\n</g>\n<!-- 6282 -->\n<g id=\"node88\" class=\"node\">\n<title>6282</title>\n<ellipse fill=\"none\" stroke=\"#000000\" cx=\"4657\" cy=\"-105\" rx=\"27\" ry=\"18\"/>\n<text text-anchor=\"middle\" x=\"4657\" y=\"-101.3\" font-family=\"Times,serif\" font-size=\"14.00\" fill=\"#000000\">62</text>\n</g>\n<!-- 4.600&#45;&gt;6282 -->\n<g id=\"edge87\" class=\"edge\">\n<title>4.600&#45;&gt;6282</title>\n<path fill=\"none\" stroke=\"#000000\" d=\"M2817.7916,-191.7515C3052.4314,-189.9214 4469.4261,-177.9852 4557,-156 4583.1084,-149.4455 4610.1547,-135.1171 4629.5263,-123.3118\"/>\n<polygon fill=\"#000000\" stroke=\"#000000\" points=\"4631.4989,-126.2062 4638.1182,-117.9336 4627.7848,-120.2727 4631.4989,-126.2062\"/>\n<text text-anchor=\"middle\" x=\"4608.5\" y=\"-144.8\" font-family=\"Times,serif\" font-size=\"14.00\" fill=\"#000000\">4.51</text>\n</g>\n<!-- 6683 -->\n<g id=\"node89\" class=\"node\">\n<title>6683</title>\n<ellipse fill=\"none\" stroke=\"#000000\" cx=\"4729\" cy=\"-105\" rx=\"27\" ry=\"18\"/>\n<text text-anchor=\"middle\" x=\"4729\" y=\"-101.3\" font-family=\"Times,serif\" font-size=\"14.00\" fill=\"#000000\">66</text>\n</g>\n<!-- 4.600&#45;&gt;6683 -->\n<g id=\"edge88\" class=\"edge\">\n<title>4.600&#45;&gt;6683</title>\n<path fill=\"none\" stroke=\"#000000\" d=\"M2817.5243,-191.7667C3056.5408,-190.0023 4534.6577,-178.2181 4626,-156 4653.0699,-149.4155 4681.2492,-134.8438 4701.2763,-122.9554\"/>\n<polygon fill=\"#000000\" stroke=\"#000000\" points=\"4703.1512,-125.9115 4709.871,-117.7203 4699.5098,-119.9332 4703.1512,-125.9115\"/>\n<text text-anchor=\"middle\" x=\"4682\" y=\"-144.8\" font-family=\"Times,serif\" font-size=\"14.00\" fill=\"#000000\">5.819</text>\n</g>\n<!-- 6184 -->\n<g id=\"node90\" class=\"node\">\n<title>6184</title>\n<ellipse fill=\"none\" stroke=\"#000000\" cx=\"4801\" cy=\"-105\" rx=\"27\" ry=\"18\"/>\n<text text-anchor=\"middle\" x=\"4801\" y=\"-101.3\" font-family=\"Times,serif\" font-size=\"14.00\" fill=\"#000000\">61</text>\n</g>\n<!-- 4.600&#45;&gt;6184 -->\n<g id=\"edge89\" class=\"edge\">\n<title>4.600&#45;&gt;6184</title>\n<path fill=\"none\" stroke=\"#000000\" d=\"M2817.7085,-191.8121C3063.0254,-190.3501 4607.9405,-180.2022 4703,-156 4728.3973,-149.5338 4754.6023,-135.4409 4773.5172,-123.7049\"/>\n<polygon fill=\"#000000\" stroke=\"#000000\" points=\"4775.634,-126.5061 4782.1816,-118.1767 4771.8688,-120.6049 4775.634,-126.5061\"/>\n<text text-anchor=\"middle\" x=\"4757\" y=\"-144.8\" font-family=\"Times,serif\" font-size=\"14.00\" fill=\"#000000\">4.070</text>\n</g>\n<!-- 7085 -->\n<g id=\"node91\" class=\"node\">\n<title>7085</title>\n<ellipse fill=\"none\" stroke=\"#000000\" cx=\"4873\" cy=\"-105\" rx=\"27\" ry=\"18\"/>\n<text text-anchor=\"middle\" x=\"4873\" y=\"-101.3\" font-family=\"Times,serif\" font-size=\"14.00\" fill=\"#000000\">70</text>\n</g>\n<!-- 4.600&#45;&gt;7085 -->\n<g id=\"edge90\" class=\"edge\">\n<title>4.600&#45;&gt;7085</title>\n<path fill=\"none\" stroke=\"#000000\" d=\"M2817.7836,-191.8473C3068.8079,-190.6241 4679.2221,-181.7883 4778,-156 4802.5932,-149.5794 4827.8235,-135.6224 4846.0965,-123.9298\"/>\n<polygon fill=\"#000000\" stroke=\"#000000\" points=\"4848.0464,-126.8365 4854.4747,-118.4147 4844.1976,-120.9896 4848.0464,-126.8365\"/>\n<text text-anchor=\"middle\" x=\"4827.5\" y=\"-144.8\" font-family=\"Times,serif\" font-size=\"14.00\" fill=\"#000000\">5.57</text>\n</g>\n<!-- 5586 -->\n<g id=\"node92\" class=\"node\">\n<title>5586</title>\n<ellipse fill=\"none\" stroke=\"#000000\" cx=\"4945\" cy=\"-105\" rx=\"27\" ry=\"18\"/>\n<text text-anchor=\"middle\" x=\"4945\" y=\"-101.3\" font-family=\"Times,serif\" font-size=\"14.00\" fill=\"#000000\">55</text>\n</g>\n<!-- 4.600&#45;&gt;5586 -->\n<g id=\"edge91\" class=\"edge\">\n<title>4.600&#45;&gt;5586</title>\n<path fill=\"none\" stroke=\"#000000\" d=\"M2817.6545,-191.8489C3073.0118,-190.6153 4742.4572,-181.5884 4845,-156 4871.1177,-149.4826 4898.1633,-135.1513 4917.5322,-123.3354\"/>\n<polygon fill=\"#000000\" stroke=\"#000000\" points=\"4919.5078,-126.2278 4926.1228,-117.9518 4915.7906,-120.2963 4919.5078,-126.2278\"/>\n<text text-anchor=\"middle\" x=\"4900\" y=\"-144.8\" font-family=\"Times,serif\" font-size=\"14.00\" fill=\"#000000\">4.290</text>\n</g>\n<!-- 6987 -->\n<g id=\"node93\" class=\"node\">\n<title>6987</title>\n<ellipse fill=\"none\" stroke=\"#000000\" cx=\"5017\" cy=\"-105\" rx=\"27\" ry=\"18\"/>\n<text text-anchor=\"middle\" x=\"5017\" y=\"-101.3\" font-family=\"Times,serif\" font-size=\"14.00\" fill=\"#000000\">69</text>\n</g>\n<!-- 4.600&#45;&gt;6987 -->\n<g id=\"edge92\" class=\"edge\">\n<title>4.600&#45;&gt;6987</title>\n<path fill=\"none\" stroke=\"#000000\" d=\"M2817.6138,-191.8852C3078.1738,-190.9148 4814.7238,-183.4305 4921,-156 4945.9693,-149.5553 4971.6334,-135.4608 4990.137,-123.7189\"/>\n<polygon fill=\"#000000\" stroke=\"#000000\" points=\"4992.1502,-126.5844 4998.6109,-118.1874 4988.3239,-120.7227 4992.1502,-126.5844\"/>\n<text text-anchor=\"middle\" x=\"4975\" y=\"-144.8\" font-family=\"Times,serif\" font-size=\"14.00\" fill=\"#000000\">5.390</text>\n</g>\n<!-- 5288 -->\n<g id=\"node94\" class=\"node\">\n<title>5288</title>\n<ellipse fill=\"none\" stroke=\"#000000\" cx=\"5089\" cy=\"-105\" rx=\"27\" ry=\"18\"/>\n<text text-anchor=\"middle\" x=\"5089\" y=\"-101.3\" font-family=\"Times,serif\" font-size=\"14.00\" fill=\"#000000\">52</text>\n</g>\n<!-- 4.600&#45;&gt;5288 -->\n<g id=\"edge93\" class=\"edge\">\n<title>4.600&#45;&gt;5288</title>\n<path fill=\"none\" stroke=\"#000000\" d=\"M2817.9127,-191.9158C3084.6969,-191.1773 4886.0598,-185.122 4996,-156 5019.9498,-149.656 5044.414,-135.8928 5062.2363,-124.2616\"/>\n<polygon fill=\"#000000\" stroke=\"#000000\" points=\"5064.5696,-126.9102 5070.9129,-118.4241 5060.6621,-121.1023 5064.5696,-126.9102\"/>\n<text text-anchor=\"middle\" x=\"5045.5\" y=\"-144.8\" font-family=\"Times,serif\" font-size=\"14.00\" fill=\"#000000\">6.21</text>\n</g>\n<!-- 6289 -->\n<g id=\"node95\" class=\"node\">\n<title>6289</title>\n<ellipse fill=\"none\" stroke=\"#000000\" cx=\"5161\" cy=\"-105\" rx=\"27\" ry=\"18\"/>\n<text text-anchor=\"middle\" x=\"5161\" y=\"-101.3\" font-family=\"Times,serif\" font-size=\"14.00\" fill=\"#000000\">62</text>\n</g>\n<!-- 4.600&#45;&gt;6289 -->\n<g id=\"edge94\" class=\"edge\">\n<title>4.600&#45;&gt;6289</title>\n<path fill=\"none\" stroke=\"#000000\" d=\"M2817.612,-191.9132C3087.8536,-191.1412 4949.2227,-184.7882 5063,-156 5088.4069,-149.5715 5114.6112,-135.476 5133.5234,-123.7294\"/>\n<polygon fill=\"#000000\" stroke=\"#000000\" points=\"5135.6433,-126.5285 5142.1864,-118.1955 5131.8749,-120.6294 5135.6433,-126.5285\"/>\n<text text-anchor=\"middle\" x=\"5113.5\" y=\"-144.8\" font-family=\"Times,serif\" font-size=\"14.00\" fill=\"#000000\">3.92</text>\n</g>\n<!-- 5990 -->\n<g id=\"node96\" class=\"node\">\n<title>5990</title>\n<ellipse fill=\"none\" stroke=\"#000000\" cx=\"5233\" cy=\"-105\" rx=\"27\" ry=\"18\"/>\n<text text-anchor=\"middle\" x=\"5233\" y=\"-101.3\" font-family=\"Times,serif\" font-size=\"14.00\" fill=\"#000000\">59</text>\n</g>\n<!-- 4.600&#45;&gt;5990 -->\n<g id=\"edge95\" class=\"edge\">\n<title>4.600&#45;&gt;5990</title>\n<path fill=\"none\" stroke=\"#000000\" d=\"M2817.7079,-191.9138C3092.8194,-191.1377 5013.4608,-184.701 5131,-156 5157.5662,-149.513 5185.1585,-135.1793 5204.9358,-123.3547\"/>\n<polygon fill=\"#000000\" stroke=\"#000000\" points=\"5207.0195,-126.1824 5213.7091,-117.9666 5203.3561,-120.2175 5207.0195,-126.1824\"/>\n<text text-anchor=\"middle\" x=\"5185.5\" y=\"-144.8\" font-family=\"Times,serif\" font-size=\"14.00\" fill=\"#000000\">5.36</text>\n</g>\n<!-- 6591 -->\n<g id=\"node97\" class=\"node\">\n<title>6591</title>\n<ellipse fill=\"none\" stroke=\"#000000\" cx=\"5305\" cy=\"-105\" rx=\"27\" ry=\"18\"/>\n<text text-anchor=\"middle\" x=\"5305\" y=\"-101.3\" font-family=\"Times,serif\" font-size=\"14.00\" fill=\"#000000\">65</text>\n</g>\n<!-- 4.600&#45;&gt;6591 -->\n<g id=\"edge96\" class=\"edge\">\n<title>4.600&#45;&gt;6591</title>\n<path fill=\"none\" stroke=\"#000000\" d=\"M2817.8223,-191.9291C3098.0983,-191.2721 5081.7201,-185.5851 5203,-156 5229.5676,-149.5191 5257.1598,-135.1849 5276.9367,-123.3585\"/>\n<polygon fill=\"#000000\" stroke=\"#000000\" points=\"5279.0209,-126.186 5285.7098,-117.9696 5275.3571,-120.2213 5279.0209,-126.186\"/>\n<text text-anchor=\"middle\" x=\"5257.5\" y=\"-144.8\" font-family=\"Times,serif\" font-size=\"14.00\" fill=\"#000000\">5.78</text>\n</g>\n<!-- 3592 -->\n<g id=\"node98\" class=\"node\">\n<title>3592</title>\n<ellipse fill=\"none\" stroke=\"#000000\" cx=\"5377\" cy=\"-105\" rx=\"27\" ry=\"18\"/>\n<text text-anchor=\"middle\" x=\"5377\" y=\"-101.3\" font-family=\"Times,serif\" font-size=\"14.00\" fill=\"#000000\">35</text>\n</g>\n<!-- 4.600&#45;&gt;3592 -->\n<g id=\"edge97\" class=\"edge\">\n<title>4.600&#45;&gt;3592</title>\n<path fill=\"none\" stroke=\"#000000\" d=\"M2817.8954,-191.9436C3103.1248,-191.4034 5149.9718,-186.4709 5275,-156 5301.569,-149.5248 5329.1611,-135.1901 5348.9376,-123.3622\"/>\n<polygon fill=\"#000000\" stroke=\"#000000\" points=\"5351.0222,-126.1893 5357.7105,-117.9724 5347.3579,-120.225 5351.0222,-126.1893\"/>\n<text text-anchor=\"middle\" x=\"5333\" y=\"-144.8\" font-family=\"Times,serif\" font-size=\"14.00\" fill=\"#000000\">4.170</text>\n</g>\n<!-- 6893 -->\n<g id=\"node99\" class=\"node\">\n<title>6893</title>\n<ellipse fill=\"none\" stroke=\"#000000\" cx=\"5449\" cy=\"-105\" rx=\"27\" ry=\"18\"/>\n<text text-anchor=\"middle\" x=\"5449\" y=\"-101.3\" font-family=\"Times,serif\" font-size=\"14.00\" fill=\"#000000\">68</text>\n</g>\n<!-- 4.600&#45;&gt;6893 -->\n<g id=\"edge98\" class=\"edge\">\n<title>4.600&#45;&gt;6893</title>\n<path fill=\"none\" stroke=\"#000000\" d=\"M2817.5688,-191.9856C3106.6252,-191.8033 5225.266,-189.3308 5354,-156 5378.6061,-149.6292 5403.8356,-135.6692 5422.1051,-123.9628\"/>\n<polygon fill=\"#000000\" stroke=\"#000000\" points=\"5424.0592,-126.8667 5430.4814,-118.4401 5420.2061,-121.0226 5424.0592,-126.8667\"/>\n<text text-anchor=\"middle\" x=\"5410\" y=\"-144.8\" font-family=\"Times,serif\" font-size=\"14.00\" fill=\"#000000\">3.880</text>\n</g>\n<!-- 6294 -->\n<g id=\"node100\" class=\"node\">\n<title>6294</title>\n<ellipse fill=\"none\" stroke=\"#000000\" cx=\"5521\" cy=\"-105\" rx=\"27\" ry=\"18\"/>\n<text text-anchor=\"middle\" x=\"5521\" y=\"-101.3\" font-family=\"Times,serif\" font-size=\"14.00\" fill=\"#000000\">62</text>\n</g>\n<!-- 4.600&#45;&gt;6294 -->\n<g id=\"edge99\" class=\"edge\">\n<title>4.600&#45;&gt;6294</title>\n<path fill=\"none\" stroke=\"#000000\" d=\"M2817.5789,-191.7822C3115.9564,-189.7609 5364.7625,-173.9456 5431,-156 5454.1753,-149.7212 5477.6909,-136.0907 5494.8705,-124.4998\"/>\n<polygon fill=\"#000000\" stroke=\"#000000\" points=\"5497.0327,-127.2592 5503.2414,-118.6742 5493.0342,-121.5137 5497.0327,-127.2592\"/>\n<text text-anchor=\"middle\" x=\"5480.5\" y=\"-144.8\" font-family=\"Times,serif\" font-size=\"14.00\" fill=\"#000000\">4.42</text>\n</g>\n<!-- 614 -->\n<g id=\"node7\" class=\"node\">\n<title>614</title>\n<ellipse fill=\"none\" stroke=\"#000000\" cx=\"243\" cy=\"-18\" rx=\"27\" ry=\"18\"/>\n<text text-anchor=\"middle\" x=\"243\" y=\"-14.3\" font-family=\"Times,serif\" font-size=\"14.00\" fill=\"#000000\">61</text>\n</g>\n<!-- 1.1&#45;&gt;614 -->\n<g id=\"edge6\" class=\"edge\">\n<title>1.1&#45;&gt;614</title>\n<path fill=\"none\" stroke=\"#000000\" d=\"M301.303,-89.3269C295.8682,-83.0476 289.5922,-75.7204 284,-69 276.8061,-60.3546 269.0446,-50.7688 262.2304,-42.2628\"/>\n<polygon fill=\"#000000\" stroke=\"#000000\" points=\"264.7619,-39.8238 255.788,-34.1916 259.2909,-44.1907 264.7619,-39.8238\"/>\n<text text-anchor=\"middle\" x=\"297.5\" y=\"-57.8\" font-family=\"Times,serif\" font-size=\"14.00\" fill=\"#000000\">0.57</text>\n</g>\n<!-- 625 -->\n<g id=\"node8\" class=\"node\">\n<title>625</title>\n<ellipse fill=\"none\" stroke=\"#000000\" cx=\"315\" cy=\"-18\" rx=\"27\" ry=\"18\"/>\n<text text-anchor=\"middle\" x=\"315\" y=\"-14.3\" font-family=\"Times,serif\" font-size=\"14.00\" fill=\"#000000\">62</text>\n</g>\n<!-- 1.1&#45;&gt;625 -->\n<g id=\"edge7\" class=\"edge\">\n<title>1.1&#45;&gt;625</title>\n<path fill=\"none\" stroke=\"#000000\" d=\"M315,-86.9735C315,-75.1918 315,-59.5607 315,-46.1581\"/>\n<polygon fill=\"#000000\" stroke=\"#000000\" points=\"318.5001,-46.0033 315,-36.0034 311.5001,-46.0034 318.5001,-46.0033\"/>\n<text text-anchor=\"middle\" x=\"332\" y=\"-57.8\" font-family=\"Times,serif\" font-size=\"14.00\" fill=\"#000000\">0.786</text>\n</g>\n<!-- 556 -->\n<g id=\"node9\" class=\"node\">\n<title>556</title>\n<ellipse fill=\"none\" stroke=\"#000000\" cx=\"387\" cy=\"-18\" rx=\"27\" ry=\"18\"/>\n<text text-anchor=\"middle\" x=\"387\" y=\"-14.3\" font-family=\"Times,serif\" font-size=\"14.00\" fill=\"#000000\">55</text>\n</g>\n<!-- 1.1&#45;&gt;556 -->\n<g id=\"edge8\" class=\"edge\">\n<title>1.1&#45;&gt;556</title>\n<path fill=\"none\" stroke=\"#000000\" d=\"M331.696,-90.6873C338.6367,-84.3661 346.5585,-76.6443 353,-69 359.5464,-61.2312 365.9386,-52.164 371.3813,-43.8473\"/>\n<polygon fill=\"#000000\" stroke=\"#000000\" points=\"374.4593,-45.5297 376.8768,-35.2143 368.5542,-41.7706 374.4593,-45.5297\"/>\n<text text-anchor=\"middle\" x=\"382\" y=\"-57.8\" font-family=\"Times,serif\" font-size=\"14.00\" fill=\"#000000\">0.857</text>\n</g>\n<!-- ?13 -->\n<g id=\"node17\" class=\"node\">\n<title>?13</title>\n<ellipse fill=\"none\" stroke=\"#000000\" cx=\"553\" cy=\"-18\" rx=\"27\" ry=\"18\"/>\n<text text-anchor=\"middle\" x=\"553\" y=\"-14.3\" font-family=\"Times,serif\" font-size=\"14.00\" fill=\"#000000\">?</text>\n</g>\n<!-- 1&#45;&gt;?13 -->\n<g id=\"edge16\" class=\"edge\">\n<title>1&#45;&gt;?13</title>\n<path fill=\"none\" stroke=\"#000000\" d=\"M820.1638,-93.1307C815.3116,-90.7798 810.0764,-88.5598 805,-87 747.1387,-69.2218 728.501,-84.5446 670,-69 632.4306,-59.0173 624.4106,-52.0374 589,-36 587.2336,-35.2 585.4272,-34.362 583.6101,-33.5035\"/>\n<polygon fill=\"#000000\" stroke=\"#000000\" points=\"585.0978,-30.3351 574.5726,-29.1227 582.0445,-36.6341 585.0978,-30.3351\"/>\n<text text-anchor=\"middle\" x=\"674\" y=\"-57.8\" font-family=\"Times,serif\" font-size=\"14.00\" fill=\"#000000\">3</text>\n</g>\n<!-- 6114 -->\n<g id=\"node18\" class=\"node\">\n<title>6114</title>\n<ellipse fill=\"none\" stroke=\"#000000\" cx=\"625\" cy=\"-18\" rx=\"27\" ry=\"18\"/>\n<text text-anchor=\"middle\" x=\"625\" y=\"-14.3\" font-family=\"Times,serif\" font-size=\"14.00\" fill=\"#000000\">61</text>\n</g>\n<!-- 1&#45;&gt;6114 -->\n<g id=\"edge17\" class=\"edge\">\n<title>1&#45;&gt;6114</title>\n<path fill=\"none\" stroke=\"#000000\" d=\"M820.0953,-93.343C815.2466,-90.9811 810.0302,-88.7029 805,-87 764.7093,-73.3603 750.7765,-84.0736 711,-69 689.9085,-61.0072 668.0719,-47.9893 651.6804,-37.1066\"/>\n<polygon fill=\"#000000\" stroke=\"#000000\" points=\"653.4117,-34.0514 643.1734,-31.3258 649.4773,-39.8412 653.4117,-34.0514\"/>\n<text text-anchor=\"middle\" x=\"724.5\" y=\"-57.8\" font-family=\"Times,serif\" font-size=\"14.00\" fill=\"#000000\">2.33</text>\n</g>\n<!-- 6315 -->\n<g id=\"node19\" class=\"node\">\n<title>6315</title>\n<ellipse fill=\"none\" stroke=\"#000000\" cx=\"697\" cy=\"-18\" rx=\"27\" ry=\"18\"/>\n<text text-anchor=\"middle\" x=\"697\" y=\"-14.3\" font-family=\"Times,serif\" font-size=\"14.00\" fill=\"#000000\">63</text>\n</g>\n<!-- 1&#45;&gt;6315 -->\n<g id=\"edge18\" class=\"edge\">\n<title>1&#45;&gt;6315</title>\n<path fill=\"none\" stroke=\"#000000\" d=\"M819.398,-93.9415C814.678,-91.5975 809.6909,-89.1756 805,-87 786.5764,-78.4551 780.5082,-79.2911 763,-69 748.2925,-60.3551 733.1439,-48.8659 721.075,-38.9811\"/>\n<polygon fill=\"#000000\" stroke=\"#000000\" points=\"723.1735,-36.1736 713.255,-32.4488 718.6859,-41.5459 723.1735,-36.1736\"/>\n<text text-anchor=\"middle\" x=\"780\" y=\"-57.8\" font-family=\"Times,serif\" font-size=\"14.00\" fill=\"#000000\">1.170</text>\n</g>\n<!-- 6416 -->\n<g id=\"node20\" class=\"node\">\n<title>6416</title>\n<ellipse fill=\"none\" stroke=\"#000000\" cx=\"769\" cy=\"-18\" rx=\"27\" ry=\"18\"/>\n<text text-anchor=\"middle\" x=\"769\" y=\"-14.3\" font-family=\"Times,serif\" font-size=\"14.00\" fill=\"#000000\">64</text>\n</g>\n<!-- 1&#45;&gt;6416 -->\n<g id=\"edge19\" class=\"edge\">\n<title>1&#45;&gt;6416</title>\n<path fill=\"none\" stroke=\"#000000\" d=\"M827.7941,-89.0429C816.8328,-75.798 801.0821,-56.7659 788.6416,-41.7336\"/>\n<polygon fill=\"#000000\" stroke=\"#000000\" points=\"791.1943,-39.3284 782.1222,-33.856 785.8015,-43.7914 791.1943,-39.3284\"/>\n<text text-anchor=\"middle\" x=\"814\" y=\"-57.8\" font-family=\"Times,serif\" font-size=\"14.00\" fill=\"#000000\">2</text>\n</g>\n<!-- 5517 -->\n<g id=\"node21\" class=\"node\">\n<title>5517</title>\n<ellipse fill=\"none\" stroke=\"#000000\" cx=\"841\" cy=\"-18\" rx=\"27\" ry=\"18\"/>\n<text text-anchor=\"middle\" x=\"841\" y=\"-14.3\" font-family=\"Times,serif\" font-size=\"14.00\" fill=\"#000000\">55</text>\n</g>\n<!-- 1&#45;&gt;5517 -->\n<g id=\"edge20\" class=\"edge\">\n<title>1&#45;&gt;5517</title>\n<path fill=\"none\" stroke=\"#000000\" d=\"M841,-86.9735C841,-75.1918 841,-59.5607 841,-46.1581\"/>\n<polygon fill=\"#000000\" stroke=\"#000000\" points=\"844.5001,-46.0033 841,-36.0034 837.5001,-46.0034 844.5001,-46.0033\"/>\n<text text-anchor=\"middle\" x=\"845\" y=\"-57.8\" font-family=\"Times,serif\" font-size=\"14.00\" fill=\"#000000\">1</text>\n</g>\n<!-- 6318 -->\n<g id=\"node22\" class=\"node\">\n<title>6318</title>\n<ellipse fill=\"none\" stroke=\"#000000\" cx=\"913\" cy=\"-18\" rx=\"27\" ry=\"18\"/>\n<text text-anchor=\"middle\" x=\"913\" y=\"-14.3\" font-family=\"Times,serif\" font-size=\"14.00\" fill=\"#000000\">63</text>\n</g>\n<!-- 1&#45;&gt;6318 -->\n<g id=\"edge21\" class=\"edge\">\n<title>1&#45;&gt;6318</title>\n<path fill=\"none\" stroke=\"#000000\" d=\"M854.2059,-89.0429C865.1672,-75.798 880.9179,-56.7659 893.3584,-41.7336\"/>\n<polygon fill=\"#000000\" stroke=\"#000000\" points=\"896.1985,-43.7914 899.8778,-33.856 890.8057,-39.3284 896.1985,-43.7914\"/>\n<text text-anchor=\"middle\" x=\"899\" y=\"-57.8\" font-family=\"Times,serif\" font-size=\"14.00\" fill=\"#000000\">2.300</text>\n</g>\n<!-- 6519 -->\n<g id=\"node23\" class=\"node\">\n<title>6519</title>\n<ellipse fill=\"none\" stroke=\"#000000\" cx=\"985\" cy=\"-18\" rx=\"27\" ry=\"18\"/>\n<text text-anchor=\"middle\" x=\"985\" y=\"-14.3\" font-family=\"Times,serif\" font-size=\"14.00\" fill=\"#000000\">65</text>\n</g>\n<!-- 1&#45;&gt;6519 -->\n<g id=\"edge22\" class=\"edge\">\n<title>1&#45;&gt;6519</title>\n<path fill=\"none\" stroke=\"#000000\" d=\"M862.5881,-93.9114C867.309,-91.5693 872.2999,-89.1558 877,-87 895.8315,-78.3624 902.1335,-79.4891 920,-69 934.4724,-60.5036 949.2931,-49.1206 961.1209,-39.2644\"/>\n<polygon fill=\"#000000\" stroke=\"#000000\" points=\"963.442,-41.8849 968.7901,-32.739 958.9058,-36.5536 963.442,-41.8849\"/>\n<text text-anchor=\"middle\" x=\"958\" y=\"-57.8\" font-family=\"Times,serif\" font-size=\"14.00\" fill=\"#000000\">2.150</text>\n</g>\n<!-- 5721 -->\n<g id=\"node26\" class=\"node\">\n<title>5721</title>\n<ellipse fill=\"none\" stroke=\"#000000\" cx=\"1057\" cy=\"-18\" rx=\"27\" ry=\"18\"/>\n<text text-anchor=\"middle\" x=\"1057\" y=\"-14.3\" font-family=\"Times,serif\" font-size=\"14.00\" fill=\"#000000\">57</text>\n</g>\n<!-- 1.2&#45;&gt;5721 -->\n<g id=\"edge25\" class=\"edge\">\n<title>1.2&#45;&gt;5721</title>\n<path fill=\"none\" stroke=\"#000000\" d=\"M1001.696,-90.6873C1008.6367,-84.3661 1016.5585,-76.6443 1023,-69 1029.5464,-61.2312 1035.9386,-52.164 1041.3813,-43.8473\"/>\n<polygon fill=\"#000000\" stroke=\"#000000\" points=\"1044.4593,-45.5297 1046.8768,-35.2143 1038.5542,-41.7706 1044.4593,-45.5297\"/>\n<text text-anchor=\"middle\" x=\"1038.5\" y=\"-57.8\" font-family=\"Times,serif\" font-size=\"14.00\" fill=\"#000000\">?</text>\n</g>\n<!-- 6422 -->\n<g id=\"node27\" class=\"node\">\n<title>6422</title>\n<ellipse fill=\"none\" stroke=\"#000000\" cx=\"1129\" cy=\"-18\" rx=\"27\" ry=\"18\"/>\n<text text-anchor=\"middle\" x=\"1129\" y=\"-14.3\" font-family=\"Times,serif\" font-size=\"14.00\" fill=\"#000000\">64</text>\n</g>\n<!-- 1.2&#45;&gt;6422 -->\n<g id=\"edge26\" class=\"edge\">\n<title>1.2&#45;&gt;6422</title>\n<path fill=\"none\" stroke=\"#000000\" d=\"M1005.3872,-93.0904C1017.2663,-86.1205 1032.5163,-77.1205 1046,-69 1064.0456,-58.1321 1084.1793,-45.7667 1100.0974,-35.9337\"/>\n<polygon fill=\"#000000\" stroke=\"#000000\" points=\"1102.2716,-38.7044 1108.935,-30.4673 1098.5892,-32.7512 1102.2716,-38.7044\"/>\n<text text-anchor=\"middle\" x=\"1073\" y=\"-57.8\" font-family=\"Times,serif\" font-size=\"14.00\" fill=\"#000000\">2</text>\n</g>\n<!-- 5030 -->\n<g id=\"node36\" class=\"node\">\n<title>5030</title>\n<ellipse fill=\"none\" stroke=\"#000000\" cx=\"1525\" cy=\"-18\" rx=\"27\" ry=\"18\"/>\n<text text-anchor=\"middle\" x=\"1525\" y=\"-14.3\" font-family=\"Times,serif\" font-size=\"14.00\" fill=\"#000000\">50</text>\n</g>\n<!-- 0.2&#45;&gt;5030 -->\n<g id=\"edge35\" class=\"edge\">\n<title>0.2&#45;&gt;5030</title>\n<path fill=\"none\" stroke=\"#000000\" d=\"M1553.7149,-87.3943C1548.6889,-75.2482 1541.9107,-58.8674 1536.2018,-45.0711\"/>\n<polygon fill=\"#000000\" stroke=\"#000000\" points=\"1539.3319,-43.4815 1532.2743,-35.5796 1532.8638,-46.158 1539.3319,-43.4815\"/>\n<text text-anchor=\"middle\" x=\"1549.5\" y=\"-57.8\" font-family=\"Times,serif\" font-size=\"14.00\" fill=\"#000000\">?</text>\n</g>\n<!-- 5931 -->\n<g id=\"node37\" class=\"node\">\n<title>5931</title>\n<ellipse fill=\"none\" stroke=\"#000000\" cx=\"1597\" cy=\"-18\" rx=\"27\" ry=\"18\"/>\n<text text-anchor=\"middle\" x=\"1597\" y=\"-14.3\" font-family=\"Times,serif\" font-size=\"14.00\" fill=\"#000000\">59</text>\n</g>\n<!-- 0.2&#45;&gt;5931 -->\n<g id=\"edge36\" class=\"edge\">\n<title>0.2&#45;&gt;5931</title>\n<path fill=\"none\" stroke=\"#000000\" d=\"M1568.2851,-87.3943C1573.3111,-75.2482 1580.0893,-58.8674 1585.7982,-45.0711\"/>\n<polygon fill=\"#000000\" stroke=\"#000000\" points=\"1589.1362,-46.158 1589.7257,-35.5796 1582.6681,-43.4815 1589.1362,-46.158\"/>\n<text text-anchor=\"middle\" x=\"1586\" y=\"-57.8\" font-family=\"Times,serif\" font-size=\"14.00\" fill=\"#000000\">0</text>\n</g>\n<!-- ?38 -->\n<g id=\"node44\" class=\"node\">\n<title>?38</title>\n<ellipse fill=\"none\" stroke=\"#000000\" cx=\"1957\" cy=\"-18\" rx=\"27\" ry=\"18\"/>\n<text text-anchor=\"middle\" x=\"1957\" y=\"-14.3\" font-family=\"Times,serif\" font-size=\"14.00\" fill=\"#000000\">?</text>\n</g>\n<!-- 1.237&#45;&gt;?38 -->\n<g id=\"edge43\" class=\"edge\">\n<title>1.237&#45;&gt;?38</title>\n<path fill=\"none\" stroke=\"#000000\" d=\"M1985.7149,-87.3943C1980.6889,-75.2482 1973.9107,-58.8674 1968.2018,-45.0711\"/>\n<polygon fill=\"#000000\" stroke=\"#000000\" points=\"1971.3319,-43.4815 1964.2743,-35.5796 1964.8638,-46.158 1971.3319,-43.4815\"/>\n<text text-anchor=\"middle\" x=\"1981.5\" y=\"-57.8\" font-family=\"Times,serif\" font-size=\"14.00\" fill=\"#000000\">?</text>\n</g>\n<!-- 5939 -->\n<g id=\"node45\" class=\"node\">\n<title>5939</title>\n<ellipse fill=\"none\" stroke=\"#000000\" cx=\"2029\" cy=\"-18\" rx=\"27\" ry=\"18\"/>\n<text text-anchor=\"middle\" x=\"2029\" y=\"-14.3\" font-family=\"Times,serif\" font-size=\"14.00\" fill=\"#000000\">59</text>\n</g>\n<!-- 1.237&#45;&gt;5939 -->\n<g id=\"edge44\" class=\"edge\">\n<title>1.237&#45;&gt;5939</title>\n<path fill=\"none\" stroke=\"#000000\" d=\"M2000.2851,-87.3943C2005.3111,-75.2482 2012.0893,-58.8674 2017.7982,-45.0711\"/>\n<polygon fill=\"#000000\" stroke=\"#000000\" points=\"2021.1362,-46.158 2021.7257,-35.5796 2014.6681,-43.4815 2021.1362,-46.158\"/>\n<text text-anchor=\"middle\" x=\"2018\" y=\"-57.8\" font-family=\"Times,serif\" font-size=\"14.00\" fill=\"#000000\">2</text>\n</g>\n<!-- ?45 -->\n<g id=\"node51\" class=\"node\">\n<title>?45</title>\n<ellipse fill=\"none\" stroke=\"#000000\" cx=\"2317\" cy=\"-18\" rx=\"27\" ry=\"18\"/>\n<text text-anchor=\"middle\" x=\"2317\" y=\"-14.3\" font-family=\"Times,serif\" font-size=\"14.00\" fill=\"#000000\">?</text>\n</g>\n<!-- 0.244&#45;&gt;?45 -->\n<g id=\"edge50\" class=\"edge\">\n<title>0.244&#45;&gt;?45</title>\n<path fill=\"none\" stroke=\"#000000\" d=\"M2345.7149,-87.3943C2340.6889,-75.2482 2333.9107,-58.8674 2328.2018,-45.0711\"/>\n<polygon fill=\"#000000\" stroke=\"#000000\" points=\"2331.3319,-43.4815 2324.2743,-35.5796 2324.8638,-46.158 2331.3319,-43.4815\"/>\n<text text-anchor=\"middle\" x=\"2342\" y=\"-57.8\" font-family=\"Times,serif\" font-size=\"14.00\" fill=\"#000000\">1</text>\n</g>\n<!-- 5746 -->\n<g id=\"node52\" class=\"node\">\n<title>5746</title>\n<ellipse fill=\"none\" stroke=\"#000000\" cx=\"2389\" cy=\"-18\" rx=\"27\" ry=\"18\"/>\n<text text-anchor=\"middle\" x=\"2389\" y=\"-14.3\" font-family=\"Times,serif\" font-size=\"14.00\" fill=\"#000000\">57</text>\n</g>\n<!-- 0.244&#45;&gt;5746 -->\n<g id=\"edge51\" class=\"edge\">\n<title>0.244&#45;&gt;5746</title>\n<path fill=\"none\" stroke=\"#000000\" d=\"M2360.2851,-87.3943C2365.3111,-75.2482 2372.0893,-58.8674 2377.7982,-45.0711\"/>\n<polygon fill=\"#000000\" stroke=\"#000000\" points=\"2381.1362,-46.158 2381.7257,-35.5796 2374.6681,-43.4815 2381.1362,-46.158\"/>\n<text text-anchor=\"middle\" x=\"2377.5\" y=\"-57.8\" font-family=\"Times,serif\" font-size=\"14.00\" fill=\"#000000\">?</text>\n</g>\n<!-- 5955 -->\n<g id=\"node61\" class=\"node\">\n<title>5955</title>\n<ellipse fill=\"none\" stroke=\"#000000\" cx=\"2893\" cy=\"-18\" rx=\"27\" ry=\"18\"/>\n<text text-anchor=\"middle\" x=\"2893\" y=\"-14.3\" font-family=\"Times,serif\" font-size=\"14.00\" fill=\"#000000\">59</text>\n</g>\n<!-- 0.254&#45;&gt;5955 -->\n<g id=\"edge60\" class=\"edge\">\n<title>0.254&#45;&gt;5955</title>\n<path fill=\"none\" stroke=\"#000000\" d=\"M2921.7149,-87.3943C2916.6889,-75.2482 2909.9107,-58.8674 2904.2018,-45.0711\"/>\n<polygon fill=\"#000000\" stroke=\"#000000\" points=\"2907.3319,-43.4815 2900.2743,-35.5796 2900.8638,-46.158 2907.3319,-43.4815\"/>\n<text text-anchor=\"middle\" x=\"2918\" y=\"-57.8\" font-family=\"Times,serif\" font-size=\"14.00\" fill=\"#000000\">0</text>\n</g>\n<!-- ?56 -->\n<g id=\"node62\" class=\"node\">\n<title>?56</title>\n<ellipse fill=\"none\" stroke=\"#000000\" cx=\"2965\" cy=\"-18\" rx=\"27\" ry=\"18\"/>\n<text text-anchor=\"middle\" x=\"2965\" y=\"-14.3\" font-family=\"Times,serif\" font-size=\"14.00\" fill=\"#000000\">?</text>\n</g>\n<!-- 0.254&#45;&gt;?56 -->\n<g id=\"edge61\" class=\"edge\">\n<title>0.254&#45;&gt;?56</title>\n<path fill=\"none\" stroke=\"#000000\" d=\"M2936.2851,-87.3943C2941.3111,-75.2482 2948.0893,-58.8674 2953.7982,-45.0711\"/>\n<polygon fill=\"#000000\" stroke=\"#000000\" points=\"2957.1362,-46.158 2957.7257,-35.5796 2950.6681,-43.4815 2957.1362,-46.158\"/>\n<text text-anchor=\"middle\" x=\"2953.5\" y=\"-57.8\" font-family=\"Times,serif\" font-size=\"14.00\" fill=\"#000000\">?</text>\n</g>\n<!-- 5473 -->\n<g id=\"node79\" class=\"node\">\n<title>5473</title>\n<ellipse fill=\"none\" stroke=\"#000000\" cx=\"4045\" cy=\"-18\" rx=\"27\" ry=\"18\"/>\n<text text-anchor=\"middle\" x=\"4045\" y=\"-14.3\" font-family=\"Times,serif\" font-size=\"14.00\" fill=\"#000000\">54</text>\n</g>\n<!-- 1.272&#45;&gt;5473 -->\n<g id=\"edge78\" class=\"edge\">\n<title>1.272&#45;&gt;5473</title>\n<path fill=\"none\" stroke=\"#000000\" d=\"M4073.7149,-87.3943C4068.6889,-75.2482 4061.9107,-58.8674 4056.2018,-45.0711\"/>\n<polygon fill=\"#000000\" stroke=\"#000000\" points=\"4059.3319,-43.4815 4052.2743,-35.5796 4052.8638,-46.158 4059.3319,-43.4815\"/>\n<text text-anchor=\"middle\" x=\"4070\" y=\"-57.8\" font-family=\"Times,serif\" font-size=\"14.00\" fill=\"#000000\">1</text>\n</g>\n<!-- 7074 -->\n<g id=\"node80\" class=\"node\">\n<title>7074</title>\n<ellipse fill=\"none\" stroke=\"#000000\" cx=\"4117\" cy=\"-18\" rx=\"27\" ry=\"18\"/>\n<text text-anchor=\"middle\" x=\"4117\" y=\"-14.3\" font-family=\"Times,serif\" font-size=\"14.00\" fill=\"#000000\">70</text>\n</g>\n<!-- 1.272&#45;&gt;7074 -->\n<g id=\"edge79\" class=\"edge\">\n<title>1.272&#45;&gt;7074</title>\n<path fill=\"none\" stroke=\"#000000\" d=\"M4088.2851,-87.3943C4093.3111,-75.2482 4100.0893,-58.8674 4105.7982,-45.0711\"/>\n<polygon fill=\"#000000\" stroke=\"#000000\" points=\"4109.1362,-46.158 4109.7257,-35.5796 4102.6681,-43.4815 4109.1362,-46.158\"/>\n<text text-anchor=\"middle\" x=\"4106\" y=\"-57.8\" font-family=\"Times,serif\" font-size=\"14.00\" fill=\"#000000\">2</text>\n</g>\n</g>\n</svg>\n"
          },
          "metadata": {},
          "execution_count": 186
        }
      ]
    },
    {
      "cell_type": "code",
      "source": [
        "print(d.tree.no_leafs)"
      ],
      "metadata": {
        "colab": {
          "base_uri": "https://localhost:8080/"
        },
        "id": "ifPh6CH60c9F",
        "outputId": "a061ef82-1b10-421c-f74e-5f88018442e1"
      },
      "execution_count": 187,
      "outputs": [
        {
          "output_type": "stream",
          "name": "stdout",
          "text": [
            "91\n"
          ]
        }
      ]
    },
    {
      "cell_type": "code",
      "source": [
        "d.get_rules()"
      ],
      "metadata": {
        "colab": {
          "base_uri": "https://localhost:8080/"
        },
        "id": "bt-AoT2V0f7_",
        "outputId": "0213ce20-e1b6-45bd-d0bb-e96dfd401bbc"
      },
      "execution_count": 188,
      "outputs": [
        {
          "output_type": "execute_result",
          "data": {
            "text/plain": [
              "['4.600 ->  ( 3.52 ) 63',\n",
              " '4.600 ->  ( 4.79 ) 54',\n",
              " '4.600 ->  ( 5.30 ) 70',\n",
              " '4.600 ->  ( 6.290 ) 59',\n",
              " '4.600 ->  ( 4.48 ) 1.1 ->  ( 0.57 ) 61',\n",
              " '4.600 ->  ( 4.48 ) 1.1 ->  ( 0.786 ) 62',\n",
              " '4.600 ->  ( 4.48 ) 1.1 ->  ( 0.857 ) 55',\n",
              " '4.600 ->  ( 5.95 ) 50',\n",
              " '4.600 ->  ( 5.47 ) 65',\n",
              " '4.600 ->  ( 5.200 ) 62.529',\n",
              " '4.600 ->  ( 5.26 ) 51',\n",
              " '4.600 ->  ( 5.400 ) 66',\n",
              " '4.600 ->  ( 5.750 ) 57',\n",
              " '4.600 ->  ( ? ) 1 ->  ( 3 ) ?',\n",
              " '4.600 ->  ( ? ) 1 ->  ( 2.33 ) 61',\n",
              " '4.600 ->  ( ? ) 1 ->  ( 1.170 ) 63',\n",
              " '4.600 ->  ( ? ) 1 ->  ( 2 ) 64',\n",
              " '4.600 ->  ( ? ) 1 ->  ( 1 ) 55',\n",
              " '4.600 ->  ( ? ) 1 ->  ( 2.300 ) 63',\n",
              " '4.600 ->  ( ? ) 1 ->  ( 2.150 ) 65',\n",
              " '4.600 ->  ( 4.68 ) 67',\n",
              " '4.600 ->  ( 4.36 ) 1.2 ->  ( ? ) 57',\n",
              " '4.600 ->  ( 4.36 ) 1.2 ->  ( 2 ) 64',\n",
              " '4.600 ->  ( 4.72 ) 56',\n",
              " '4.600 ->  ( 4.16 ) 54',\n",
              " '4.600 ->  ( 6.74 ) 65',\n",
              " '4.600 ->  ( 4.31 ) 60',\n",
              " '4.600 ->  ( 4.14 ) 73',\n",
              " '4.600 ->  ( 4.100 ) 72',\n",
              " '4.600 ->  ( 4.02 ) 61',\n",
              " '4.600 ->  ( 4.75 ) 0.2 ->  ( ? ) 50',\n",
              " '4.600 ->  ( 4.75 ) 0.2 ->  ( 0 ) 59',\n",
              " '4.600 ->  ( 4.270 ) 79',\n",
              " '4.600 ->  ( 3.850 ) 54',\n",
              " '4.600 ->  ( 4.06 ) 61',\n",
              " '4.600 ->  ( 3.66 ) 48',\n",
              " '4.600 ->  ( 3.960 ) 67',\n",
              " '4.600 ->  ( 4.96 ) 1.2 ->  ( ? ) ?',\n",
              " '4.600 ->  ( 4.96 ) 1.2 ->  ( 2 ) 59',\n",
              " '4.600 ->  ( 6.23 ) 78',\n",
              " '4.600 ->  ( 6.060 ) 73',\n",
              " '4.600 ->  ( 5.62 ) 78',\n",
              " '4.600 ->  ( 5.86 ) 62',\n",
              " '4.600 ->  ( 4.77 ) 0.2 ->  ( 1 ) ?',\n",
              " '4.600 ->  ( 4.77 ) 0.2 ->  ( ? ) 57',\n",
              " '4.600 ->  ( 5.02 ) 72',\n",
              " '4.600 ->  ( 6.78 ) 73',\n",
              " '4.600 ->  ( 3.630 ) 54',\n",
              " '4.600 ->  ( 4.603 ) 60',\n",
              " '4.600 ->  ( 5.800 ) 62',\n",
              " '4.600 ->  ( 4.12 ) 57',\n",
              " '4.600 ->  ( 5.430 ) 62',\n",
              " '4.600 ->  ( 5.49 ) 0.2 ->  ( 0 ) 59',\n",
              " '4.600 ->  ( 5.49 ) 0.2 ->  ( ? ) ?',\n",
              " '4.600 ->  ( 4.650 ) 71',\n",
              " '4.600 ->  ( 4.38 ) ?',\n",
              " '4.600 ->  ( 5.20 ) 63',\n",
              " '4.600 ->  ( 2.32 ) 57',\n",
              " '4.600 ->  ( 4.230 ) 77',\n",
              " '4.600 ->  ( 5.04 ) 61',\n",
              " '4.600 ->  ( 4.29 ) 57',\n",
              " '4.600 ->  ( 4.360 ) 80',\n",
              " '4.600 ->  ( 4.57 ) 63',\n",
              " '4.600 ->  ( 5.310 ) 63',\n",
              " '4.600 ->  ( 4.54 ) 54',\n",
              " '4.600 ->  ( 5.460 ) 85',\n",
              " '4.600 ->  ( 5.320 ) 52',\n",
              " '4.600 ->  ( 5.050 ) 65',\n",
              " '4.600 ->  ( 4 ) 73',\n",
              " '4.600 ->  ( 4.490 ) 1.2 ->  ( 1 ) 54',\n",
              " '4.600 ->  ( 4.490 ) 1.2 ->  ( 2 ) 70',\n",
              " '4.600 ->  ( 3.42 ) 59',\n",
              " '4.600 ->  ( 5 ) 56',\n",
              " '4.600 ->  ( 4.04 ) 59',\n",
              " '4.600 ->  ( 6.150 ) 66',\n",
              " '4.600 ->  ( 4.160 ) 55',\n",
              " '4.600 ->  ( 5.250 ) 60',\n",
              " '4.600 ->  ( 4.56 ) 74',\n",
              " '4.600 ->  ( 4.51 ) 62',\n",
              " '4.600 ->  ( 5.819 ) 66',\n",
              " '4.600 ->  ( 4.070 ) 61',\n",
              " '4.600 ->  ( 5.57 ) 70',\n",
              " '4.600 ->  ( 4.290 ) 55',\n",
              " '4.600 ->  ( 5.390 ) 69',\n",
              " '4.600 ->  ( 6.21 ) 52',\n",
              " '4.600 ->  ( 3.92 ) 62',\n",
              " '4.600 ->  ( 5.36 ) 59',\n",
              " '4.600 ->  ( 5.78 ) 65',\n",
              " '4.600 ->  ( 4.170 ) 35',\n",
              " '4.600 ->  ( 3.880 ) 68',\n",
              " '4.600 ->  ( 4.42 ) 62']"
            ]
          },
          "metadata": {},
          "execution_count": 188
        }
      ]
    },
    {
      "cell_type": "code",
      "source": [
        "inp=[]\n",
        "n=1000\n",
        "n=n if n < len(test_df) else len(test_df)\n",
        "for i in range(n):\n",
        "  inp.append(test_df.iloc[i].to_dict())\n",
        "print(d.predict(inp))\n"
      ],
      "metadata": {
        "colab": {
          "base_uri": "https://localhost:8080/"
        },
        "id": "MDdjC-pN0gOP",
        "outputId": "cea76d16-fd8f-4634-eb63-f2f315776a3e"
      },
      "execution_count": 189,
      "outputs": [
        {
          "output_type": "stream",
          "name": "stdout",
          "text": [
            "['35', '55', '54', 'Not valid instance, path: 4.600 ( 5.16 ) -> ', '55', '63', '64', '63', 'Not valid instance, path: 4.600 ( 5.16 ) -> ', '50', '67', 'Not valid instance, path: 4.600 ( 3.480 ) -> ', 'Not valid instance, path: 4.600 ( 3.420 ) -> ', '57', '59', '59', '59', '?', '69', '59', '48', '71', '?', '63', 'Not valid instance, path: 4.600 ( 6.63 ) -> ', 'Not valid instance, path: 4.600 ( 5.25 ) -> ', '62', 'Not valid instance, path: 4.600 ( 3.100 ) -> ', '?', '54', '65', 'Not valid instance, path: 4.600 ( 5.650 ) -> ', '56', '61', '65', '54', '?', 'Not valid instance, path: 4.600 ( 3.730 ) -> ', '70']\n"
          ]
        }
      ]
    },
    {
      "cell_type": "code",
      "source": [
        "d.tree.printt()"
      ],
      "metadata": {
        "colab": {
          "base_uri": "https://localhost:8080/"
        },
        "id": "F77AMvp50p6o",
        "outputId": "234d202d-99f4-449a-81c8-951514aceb5d"
      },
      "execution_count": 190,
      "outputs": [
        {
          "output_type": "stream",
          "name": "stdout",
          "text": [
            "| 4.600\n",
            "|----- ( 3.52) 63\n",
            "|----- ( 4.79) 54\n",
            "|----- ( 5.30) 70\n",
            "|----- ( 6.290) 59\n",
            "|----- ( 4.48) 1.1\n",
            "|---------- ( 0.57) 61\n",
            "|---------- ( 0.786) 62\n",
            "|---------- ( 0.857) 55\n",
            "|----- ( 5.95) 50\n",
            "|----- ( 5.47) 65\n",
            "|----- ( 5.200) 62.529\n",
            "|----- ( 5.26) 51\n",
            "|----- ( 5.400) 66\n",
            "|----- ( 5.750) 57\n",
            "|----- ( ?) 1\n",
            "|---------- ( 3) ?\n",
            "|---------- ( 2.33) 61\n",
            "|---------- ( 1.170) 63\n",
            "|---------- ( 2) 64\n",
            "|---------- ( 1) 55\n",
            "|---------- ( 2.300) 63\n",
            "|---------- ( 2.150) 65\n",
            "|----- ( 4.68) 67\n",
            "|----- ( 4.36) 1.2\n",
            "|---------- ( ?) 57\n",
            "|---------- ( 2) 64\n",
            "|----- ( 4.72) 56\n",
            "|----- ( 4.16) 54\n",
            "|----- ( 6.74) 65\n",
            "|----- ( 4.31) 60\n",
            "|----- ( 4.14) 73\n",
            "|----- ( 4.100) 72\n",
            "|----- ( 4.02) 61\n",
            "|----- ( 4.75) 0.2\n",
            "|---------- ( ?) 50\n",
            "|---------- ( 0) 59\n",
            "|----- ( 4.270) 79\n",
            "|----- ( 3.850) 54\n",
            "|----- ( 4.06) 61\n",
            "|----- ( 3.66) 48\n",
            "|----- ( 3.960) 67\n",
            "|----- ( 4.96) 1.237\n",
            "|---------- ( ?) ?\n",
            "|---------- ( 2) 59\n",
            "|----- ( 6.23) 78\n",
            "|----- ( 6.060) 73\n",
            "|----- ( 5.62) 78\n",
            "|----- ( 5.86) 62\n",
            "|----- ( 4.77) 0.244\n",
            "|---------- ( 1) ?\n",
            "|---------- ( ?) 57\n",
            "|----- ( 5.02) 72\n",
            "|----- ( 6.78) 73\n",
            "|----- ( 3.630) 54\n",
            "|----- ( 4.603) 60\n",
            "|----- ( 5.800) 62\n",
            "|----- ( 4.12) 57\n",
            "|----- ( 5.430) 62\n",
            "|----- ( 5.49) 0.254\n",
            "|---------- ( 0) 59\n",
            "|---------- ( ?) ?\n",
            "|----- ( 4.650) 71\n",
            "|----- ( 4.38) ?\n",
            "|----- ( 5.20) 63\n",
            "|----- ( 2.32) 57\n",
            "|----- ( 4.230) 77\n",
            "|----- ( 5.04) 61\n",
            "|----- ( 4.29) 57\n",
            "|----- ( 4.360) 80\n",
            "|----- ( 4.57) 63\n",
            "|----- ( 5.310) 63\n",
            "|----- ( 4.54) 54\n",
            "|----- ( 5.460) 85\n",
            "|----- ( 5.320) 52\n",
            "|----- ( 5.050) 65\n",
            "|----- ( 4) 73\n",
            "|----- ( 4.490) 1.272\n",
            "|---------- ( 1) 54\n",
            "|---------- ( 2) 70\n",
            "|----- ( 3.42) 59\n",
            "|----- ( 5) 56\n",
            "|----- ( 4.04) 59\n",
            "|----- ( 6.150) 66\n",
            "|----- ( 4.160) 55\n",
            "|----- ( 5.250) 60\n",
            "|----- ( 4.56) 74\n",
            "|----- ( 4.51) 62\n",
            "|----- ( 5.819) 66\n",
            "|----- ( 4.070) 61\n",
            "|----- ( 5.57) 70\n",
            "|----- ( 4.290) 55\n",
            "|----- ( 5.390) 69\n",
            "|----- ( 6.21) 52\n",
            "|----- ( 3.92) 62\n",
            "|----- ( 5.36) 59\n",
            "|----- ( 5.78) 65\n",
            "|----- ( 4.170) 35\n",
            "|----- ( 3.880) 68\n",
            "|----- ( 4.42) 62\n"
          ]
        }
      ]
    },
    {
      "cell_type": "code",
      "source": [
        "o=list(enumerate(d.predict(data)))\n",
        "o"
      ],
      "metadata": {
        "colab": {
          "base_uri": "https://localhost:8080/"
        },
        "id": "ET2pWEIz0rrw",
        "outputId": "b2f61e51-de8b-41d5-981c-8d23e954bd08"
      },
      "execution_count": 191,
      "outputs": [
        {
          "output_type": "execute_result",
          "data": {
            "text/plain": [
              "[(0, '72'),\n",
              " (1, 'Not valid instance, path: 4.600 ( 3.420 ) -> '),\n",
              " (2, '60'),\n",
              " (3, '57'),\n",
              " (4, 'Not valid instance, path: 4.600 ( 4.310 ) -> '),\n",
              " (5, '62'),\n",
              " (6, '60'),\n",
              " (7, 'Not valid instance, path: 4.600 ( 5.090 ) -> '),\n",
              " (8, '54'),\n",
              " (9, '77'),\n",
              " (10, 'Not valid instance, path: 4.600 ( 3.600 ) -> '),\n",
              " (11, '73'),\n",
              " (12, 'Not valid instance, path: 4.600 ( 3.730 ) -> '),\n",
              " (13, '62'),\n",
              " (14, '55'),\n",
              " (15, '71'),\n",
              " (16, '62.529'),\n",
              " (17, '66'),\n",
              " (18, '66'),\n",
              " (19, '69'),\n",
              " (20, '85'),\n",
              " (21, '73'),\n",
              " (22, '71'),\n",
              " (23, 'Not valid instance, path: 4.600 ( 3.480 ) -> '),\n",
              " (24, '54'),\n",
              " (25, '35'),\n",
              " (26, '55'),\n",
              " (27, '55'),\n",
              " (28, '55'),\n",
              " (29, '65'),\n",
              " (30, '52'),\n",
              " (31, '?'),\n",
              " (32, 'Not valid instance, path: 4.600 ( 3.100 ) -> '),\n",
              " (33, '63'),\n",
              " (34, '61'),\n",
              " (35, '63'),\n",
              " (36, '65'),\n",
              " (37, '68'),\n",
              " (38, '80'),\n",
              " (39, '54'),\n",
              " (40, '70'),\n",
              " (41, '79'),\n",
              " (42, 'Not valid instance, path: 4.600 ( 3.590 ) -> '),\n",
              " (43, '67'),\n",
              " (44, '64'),\n",
              " (45, 'Not valid instance, path: 4.600 ( ? ) -> 1 ( 1.250 ) -> '),\n",
              " (46, '59'),\n",
              " (47, '63'),\n",
              " (48, '56'),\n",
              " (49, 'Not valid instance, path: 4.600 ( ? ) -> 1 ( 1.500 ) -> '),\n",
              " (50, 'Not valid instance, path: 4.600 ( 5.260 ) -> '),\n",
              " (51, 'Not valid instance, path: 4.600 ( 3.490 ) -> '),\n",
              " (52, 'Not valid instance, path: 4.600 ( 5.650 ) -> '),\n",
              " (53, '66'),\n",
              " (54, '63'),\n",
              " (55, 'Not valid instance, path: 4.600 ( 4.37 ) -> '),\n",
              " (56, '70'),\n",
              " (57, 'Not valid instance, path: 4.600 ( 4.41 ) -> '),\n",
              " (58, 'Not valid instance, path: 4.600 ( 5.15 ) -> '),\n",
              " (59, '73'),\n",
              " (60, '72'),\n",
              " (61, '59'),\n",
              " (62, '67'),\n",
              " (63, '51'),\n",
              " (64, '50'),\n",
              " (65, '70'),\n",
              " (66, '65'),\n",
              " (67, '78'),\n",
              " (68, '63'),\n",
              " (69, '56'),\n",
              " (70, '60'),\n",
              " (71, '59'),\n",
              " (72, '50'),\n",
              " (73, '54'),\n",
              " (74, 'Not valid instance, path: 4.600 ( 4.85 ) -> '),\n",
              " (75, '?'),\n",
              " (76, 'Not valid instance, path: 4.600 ( 4.58 ) -> '),\n",
              " (77, '63'),\n",
              " (78, '65'),\n",
              " (79, '54'),\n",
              " (80, '62'),\n",
              " (81, 'Not valid instance, path: 4.600 ( 4.44 ) -> '),\n",
              " (82, '61'),\n",
              " (83, '52'),\n",
              " (84, '73'),\n",
              " (85, 'Not valid instance, path: 4.600 ( 5.25 ) -> '),\n",
              " (86, '55'),\n",
              " (87, '74'),\n",
              " (88, 'Not valid instance, path: 4.600 ( 5.16 ) -> '),\n",
              " (89, '64'),\n",
              " (90, '59'),\n",
              " (91, '59'),\n",
              " (92, '61'),\n",
              " (93, 'Not valid instance, path: 4.600 ( 3.87 ) -> '),\n",
              " (94, '74'),\n",
              " (95, '59'),\n",
              " (96, '65'),\n",
              " (97, 'Not valid instance, path: 4.600 ( 6.73 ) -> '),\n",
              " (98, 'Not valid instance, path: 4.600 ( 4.69 ) -> '),\n",
              " (99, 'Not valid instance, path: 4.600 ( 4.23 ) -> '),\n",
              " (100, 'Not valid instance, path: 4.600 ( 4.55 ) -> '),\n",
              " (101, 'Not valid instance, path: 4.600 ( 4.87 ) -> '),\n",
              " (102, '63'),\n",
              " (103, '59'),\n",
              " (104, '57'),\n",
              " (105, '57'),\n",
              " (106, '78'),\n",
              " (107, '62'),\n",
              " (108, '62'),\n",
              " (109, '?'),\n",
              " (110, '61'),\n",
              " (111, '59'),\n",
              " (112, '57'),\n",
              " (113, 'Not valid instance, path: 4.600 ( 6.63 ) -> '),\n",
              " (114, '?'),\n",
              " (115, '54'),\n",
              " (116, '62'),\n",
              " (117, '?'),\n",
              " (118, 'Not valid instance, path: 4.600 ( 4.17 ) -> '),\n",
              " (119, '57'),\n",
              " (120, '61'),\n",
              " (121, '61'),\n",
              " (122, '48'),\n",
              " (123, '?'),\n",
              " (124, 'Not valid instance, path: 4.600 ( 5.16 ) -> '),\n",
              " (125, '56'),\n",
              " (126, '65'),\n",
              " (127, 'Not valid instance, path: 4.600 ( 5.05 ) -> '),\n",
              " (128, '57'),\n",
              " (129, '62')]"
            ]
          },
          "metadata": {},
          "execution_count": 191
        }
      ]
    },
    {
      "cell_type": "code",
      "source": [
        "data[target_name]"
      ],
      "metadata": {
        "colab": {
          "base_uri": "https://localhost:8080/"
        },
        "id": "QJrQQCVy0xIg",
        "outputId": "11f7e4a7-6fde-4f5c-c5d5-9ef8bc3a42fd"
      },
      "execution_count": 192,
      "outputs": [
        {
          "output_type": "execute_result",
          "data": {
            "text/plain": [
              "0      72\n",
              "1      55\n",
              "2      60\n",
              "3      57\n",
              "4      68\n",
              "       ..\n",
              "125    64\n",
              "126    64\n",
              "127    69\n",
              "128    57\n",
              "129    62\n",
              "Name: 71, Length: 130, dtype: object"
            ]
          },
          "metadata": {},
          "execution_count": 192
        }
      ]
    },
    {
      "cell_type": "code",
      "source": [
        "count=0\n",
        "for i in o:\n",
        "  if i[1]=='Not valid instance':\n",
        "    print(\"Something went wrong\")\n",
        "    count+=1\n",
        "print(count)"
      ],
      "metadata": {
        "colab": {
          "base_uri": "https://localhost:8080/"
        },
        "id": "sHVMZvXt0y1T",
        "outputId": "0c0aa74f-0498-49a4-ef7e-62b4b2eb1ac5"
      },
      "execution_count": 193,
      "outputs": [
        {
          "output_type": "stream",
          "name": "stdout",
          "text": [
            "0\n"
          ]
        }
      ]
    },
    {
      "cell_type": "code",
      "source": [
        "print(df.iloc[0].to_dict())\n",
        "d.predict(df.iloc[0].to_dict(),trace=True)"
      ],
      "metadata": {
        "colab": {
          "base_uri": "https://localhost:8080/",
          "height": 91
        },
        "id": "LHy6C8db01zu",
        "outputId": "168db88c-27d2-4176-a1b4-177e2b0a0ae6"
      },
      "execution_count": 194,
      "outputs": [
        {
          "output_type": "stream",
          "name": "stdout",
          "text": [
            "{'11': '1.25', '0': 1, '71': '63', '0.1': 0, '0.260': '0.30', '9': '6.9', '4.600': '3.52', '14': '18.16', '1': '1.51', '1.1': '0.857', 'name': 'name', '1.2': '2', '0.2': '1'}\n",
            "4.600 ( 3.52 ) -> 63\n"
          ]
        },
        {
          "output_type": "execute_result",
          "data": {
            "text/plain": [
              "'63'"
            ],
            "application/vnd.google.colaboratory.intrinsic+json": {
              "type": "string"
            }
          },
          "metadata": {},
          "execution_count": 194
        }
      ]
    }
  ]
}