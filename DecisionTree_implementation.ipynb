{
  "nbformat": 4,
  "nbformat_minor": 0,
  "metadata": {
    "colab": {
      "name": "DecisionTree_implementation-multpleclass.ipynb",
      "provenance": []
    },
    "kernelspec": {
      "name": "python3",
      "display_name": "Python 3"
    },
    "language_info": {
      "name": "python"
    }
  },
  "cells": [
    {
      "cell_type": "code",
      "execution_count": 539,
      "metadata": {
        "id": "ap19xBrlw_Wt"
      },
      "outputs": [],
      "source": [
        "import numpy as np\n",
        "import pandas as pd\n",
        "import matplotlib.pyplot as mtp\n",
        "from math import*\n",
        "from pandas.io.parsers.readers import read_csv"
      ]
    },
    {
      "cell_type": "code",
      "source": [
        "import copy\n",
        "from graphviz import Digraph"
      ],
      "metadata": {
        "id": "-5ryv0hZycvI"
      },
      "execution_count": 540,
      "outputs": []
    },
    {
      "cell_type": "code",
      "source": [
        "## Variables ##\n",
        "\n",
        "dataset='tennis'\n",
        "split_func='IG'\n",
        "\n"
      ],
      "metadata": {
        "id": "ezlij2Kj7STC"
      },
      "execution_count": 541,
      "outputs": []
    },
    {
      "cell_type": "code",
      "source": [
        "datasets={'tennis':['https://raw.githubusercontent.com/Kvnpsiddhartha/DecisionTreeImplementation/main/data.csv','PlayTennis'],'cars':['https://raw.githubusercontent.com/Kvnpsiddhartha/DecisionTreeImplementation/main/car.csv','class'],'lenses':['https://raw.githubusercontent.com/Kvnpsiddhartha/DecisionTreeImplementation/main/lenses.csv','Class'],'chess':['https://raw.githubusercontent.com/Kvnpsiddhartha/DecisionTreeImplementation/main/kr-vs-kp.csv','result']}"
      ],
      "metadata": {
        "id": "8Tva_wtbXpFA"
      },
      "execution_count": 542,
      "outputs": []
    },
    {
      "cell_type": "code",
      "source": [
        "dataset_url,target_name=datasets[dataset]\n",
        "data=pd.read_csv(dataset_url)\n",
        "data=data.applymap(lambda x: x.strip() if isinstance(x, str) else x)"
      ],
      "metadata": {
        "id": "p1VJr-UMXdFE"
      },
      "execution_count": 543,
      "outputs": []
    },
    {
      "cell_type": "code",
      "source": [
        "print(data)"
      ],
      "metadata": {
        "colab": {
          "base_uri": "https://localhost:8080/"
        },
        "id": "dX17ut6rAWKy",
        "outputId": "312bddfa-5a39-4f27-b256-d3aab5d7d3ea"
      },
      "execution_count": 544,
      "outputs": [
        {
          "output_type": "stream",
          "name": "stdout",
          "text": [
            "     Outlook Temperature Humidity    wind PlayTennis\n",
            "0      sunny         hot     high    weak         no\n",
            "1      sunny         hot     high  strong         no\n",
            "2   overcast         hot     high    weak        yes\n",
            "3       rain        mild     high    weak        yes\n",
            "4       rain        cool   normal    weak        yes\n",
            "5       rain        cool   normal  strong         no\n",
            "6   overcast        cool   normal  strong        yes\n",
            "7      sunny        mild     high    weak         no\n",
            "8      sunny        cool   normal    weak        yes\n",
            "9       rain        mild   normal    weak        yes\n",
            "10     sunny        mild   normal  strong        yes\n",
            "11  overcast        mild     high  strong        yes\n",
            "12  overcast         hot   normal    weak        yes\n",
            "13      rain        mild     high  strong         no\n"
          ]
        }
      ]
    },
    {
      "cell_type": "code",
      "source": [
        "data"
      ],
      "metadata": {
        "colab": {
          "base_uri": "https://localhost:8080/",
          "height": 488
        },
        "id": "-WaOcO49RHCV",
        "outputId": "6b2a6e8f-a848-4276-8c10-1764f494107f"
      },
      "execution_count": 545,
      "outputs": [
        {
          "output_type": "execute_result",
          "data": {
            "text/plain": [
              "     Outlook Temperature Humidity    wind PlayTennis\n",
              "0      sunny         hot     high    weak         no\n",
              "1      sunny         hot     high  strong         no\n",
              "2   overcast         hot     high    weak        yes\n",
              "3       rain        mild     high    weak        yes\n",
              "4       rain        cool   normal    weak        yes\n",
              "5       rain        cool   normal  strong         no\n",
              "6   overcast        cool   normal  strong        yes\n",
              "7      sunny        mild     high    weak         no\n",
              "8      sunny        cool   normal    weak        yes\n",
              "9       rain        mild   normal    weak        yes\n",
              "10     sunny        mild   normal  strong        yes\n",
              "11  overcast        mild     high  strong        yes\n",
              "12  overcast         hot   normal    weak        yes\n",
              "13      rain        mild     high  strong         no"
            ],
            "text/html": [
              "\n",
              "  <div id=\"df-96a68515-5f06-4ab9-a436-3230144ab059\">\n",
              "    <div class=\"colab-df-container\">\n",
              "      <div>\n",
              "<style scoped>\n",
              "    .dataframe tbody tr th:only-of-type {\n",
              "        vertical-align: middle;\n",
              "    }\n",
              "\n",
              "    .dataframe tbody tr th {\n",
              "        vertical-align: top;\n",
              "    }\n",
              "\n",
              "    .dataframe thead th {\n",
              "        text-align: right;\n",
              "    }\n",
              "</style>\n",
              "<table border=\"1\" class=\"dataframe\">\n",
              "  <thead>\n",
              "    <tr style=\"text-align: right;\">\n",
              "      <th></th>\n",
              "      <th>Outlook</th>\n",
              "      <th>Temperature</th>\n",
              "      <th>Humidity</th>\n",
              "      <th>wind</th>\n",
              "      <th>PlayTennis</th>\n",
              "    </tr>\n",
              "  </thead>\n",
              "  <tbody>\n",
              "    <tr>\n",
              "      <th>0</th>\n",
              "      <td>sunny</td>\n",
              "      <td>hot</td>\n",
              "      <td>high</td>\n",
              "      <td>weak</td>\n",
              "      <td>no</td>\n",
              "    </tr>\n",
              "    <tr>\n",
              "      <th>1</th>\n",
              "      <td>sunny</td>\n",
              "      <td>hot</td>\n",
              "      <td>high</td>\n",
              "      <td>strong</td>\n",
              "      <td>no</td>\n",
              "    </tr>\n",
              "    <tr>\n",
              "      <th>2</th>\n",
              "      <td>overcast</td>\n",
              "      <td>hot</td>\n",
              "      <td>high</td>\n",
              "      <td>weak</td>\n",
              "      <td>yes</td>\n",
              "    </tr>\n",
              "    <tr>\n",
              "      <th>3</th>\n",
              "      <td>rain</td>\n",
              "      <td>mild</td>\n",
              "      <td>high</td>\n",
              "      <td>weak</td>\n",
              "      <td>yes</td>\n",
              "    </tr>\n",
              "    <tr>\n",
              "      <th>4</th>\n",
              "      <td>rain</td>\n",
              "      <td>cool</td>\n",
              "      <td>normal</td>\n",
              "      <td>weak</td>\n",
              "      <td>yes</td>\n",
              "    </tr>\n",
              "    <tr>\n",
              "      <th>5</th>\n",
              "      <td>rain</td>\n",
              "      <td>cool</td>\n",
              "      <td>normal</td>\n",
              "      <td>strong</td>\n",
              "      <td>no</td>\n",
              "    </tr>\n",
              "    <tr>\n",
              "      <th>6</th>\n",
              "      <td>overcast</td>\n",
              "      <td>cool</td>\n",
              "      <td>normal</td>\n",
              "      <td>strong</td>\n",
              "      <td>yes</td>\n",
              "    </tr>\n",
              "    <tr>\n",
              "      <th>7</th>\n",
              "      <td>sunny</td>\n",
              "      <td>mild</td>\n",
              "      <td>high</td>\n",
              "      <td>weak</td>\n",
              "      <td>no</td>\n",
              "    </tr>\n",
              "    <tr>\n",
              "      <th>8</th>\n",
              "      <td>sunny</td>\n",
              "      <td>cool</td>\n",
              "      <td>normal</td>\n",
              "      <td>weak</td>\n",
              "      <td>yes</td>\n",
              "    </tr>\n",
              "    <tr>\n",
              "      <th>9</th>\n",
              "      <td>rain</td>\n",
              "      <td>mild</td>\n",
              "      <td>normal</td>\n",
              "      <td>weak</td>\n",
              "      <td>yes</td>\n",
              "    </tr>\n",
              "    <tr>\n",
              "      <th>10</th>\n",
              "      <td>sunny</td>\n",
              "      <td>mild</td>\n",
              "      <td>normal</td>\n",
              "      <td>strong</td>\n",
              "      <td>yes</td>\n",
              "    </tr>\n",
              "    <tr>\n",
              "      <th>11</th>\n",
              "      <td>overcast</td>\n",
              "      <td>mild</td>\n",
              "      <td>high</td>\n",
              "      <td>strong</td>\n",
              "      <td>yes</td>\n",
              "    </tr>\n",
              "    <tr>\n",
              "      <th>12</th>\n",
              "      <td>overcast</td>\n",
              "      <td>hot</td>\n",
              "      <td>normal</td>\n",
              "      <td>weak</td>\n",
              "      <td>yes</td>\n",
              "    </tr>\n",
              "    <tr>\n",
              "      <th>13</th>\n",
              "      <td>rain</td>\n",
              "      <td>mild</td>\n",
              "      <td>high</td>\n",
              "      <td>strong</td>\n",
              "      <td>no</td>\n",
              "    </tr>\n",
              "  </tbody>\n",
              "</table>\n",
              "</div>\n",
              "      <button class=\"colab-df-convert\" onclick=\"convertToInteractive('df-96a68515-5f06-4ab9-a436-3230144ab059')\"\n",
              "              title=\"Convert this dataframe to an interactive table.\"\n",
              "              style=\"display:none;\">\n",
              "        \n",
              "  <svg xmlns=\"http://www.w3.org/2000/svg\" height=\"24px\"viewBox=\"0 0 24 24\"\n",
              "       width=\"24px\">\n",
              "    <path d=\"M0 0h24v24H0V0z\" fill=\"none\"/>\n",
              "    <path d=\"M18.56 5.44l.94 2.06.94-2.06 2.06-.94-2.06-.94-.94-2.06-.94 2.06-2.06.94zm-11 1L8.5 8.5l.94-2.06 2.06-.94-2.06-.94L8.5 2.5l-.94 2.06-2.06.94zm10 10l.94 2.06.94-2.06 2.06-.94-2.06-.94-.94-2.06-.94 2.06-2.06.94z\"/><path d=\"M17.41 7.96l-1.37-1.37c-.4-.4-.92-.59-1.43-.59-.52 0-1.04.2-1.43.59L10.3 9.45l-7.72 7.72c-.78.78-.78 2.05 0 2.83L4 21.41c.39.39.9.59 1.41.59.51 0 1.02-.2 1.41-.59l7.78-7.78 2.81-2.81c.8-.78.8-2.07 0-2.86zM5.41 20L4 18.59l7.72-7.72 1.47 1.35L5.41 20z\"/>\n",
              "  </svg>\n",
              "      </button>\n",
              "      \n",
              "  <style>\n",
              "    .colab-df-container {\n",
              "      display:flex;\n",
              "      flex-wrap:wrap;\n",
              "      gap: 12px;\n",
              "    }\n",
              "\n",
              "    .colab-df-convert {\n",
              "      background-color: #E8F0FE;\n",
              "      border: none;\n",
              "      border-radius: 50%;\n",
              "      cursor: pointer;\n",
              "      display: none;\n",
              "      fill: #1967D2;\n",
              "      height: 32px;\n",
              "      padding: 0 0 0 0;\n",
              "      width: 32px;\n",
              "    }\n",
              "\n",
              "    .colab-df-convert:hover {\n",
              "      background-color: #E2EBFA;\n",
              "      box-shadow: 0px 1px 2px rgba(60, 64, 67, 0.3), 0px 1px 3px 1px rgba(60, 64, 67, 0.15);\n",
              "      fill: #174EA6;\n",
              "    }\n",
              "\n",
              "    [theme=dark] .colab-df-convert {\n",
              "      background-color: #3B4455;\n",
              "      fill: #D2E3FC;\n",
              "    }\n",
              "\n",
              "    [theme=dark] .colab-df-convert:hover {\n",
              "      background-color: #434B5C;\n",
              "      box-shadow: 0px 1px 3px 1px rgba(0, 0, 0, 0.15);\n",
              "      filter: drop-shadow(0px 1px 2px rgba(0, 0, 0, 0.3));\n",
              "      fill: #FFFFFF;\n",
              "    }\n",
              "  </style>\n",
              "\n",
              "      <script>\n",
              "        const buttonEl =\n",
              "          document.querySelector('#df-96a68515-5f06-4ab9-a436-3230144ab059 button.colab-df-convert');\n",
              "        buttonEl.style.display =\n",
              "          google.colab.kernel.accessAllowed ? 'block' : 'none';\n",
              "\n",
              "        async function convertToInteractive(key) {\n",
              "          const element = document.querySelector('#df-96a68515-5f06-4ab9-a436-3230144ab059');\n",
              "          const dataTable =\n",
              "            await google.colab.kernel.invokeFunction('convertToInteractive',\n",
              "                                                     [key], {});\n",
              "          if (!dataTable) return;\n",
              "\n",
              "          const docLinkHtml = 'Like what you see? Visit the ' +\n",
              "            '<a target=\"_blank\" href=https://colab.research.google.com/notebooks/data_table.ipynb>data table notebook</a>'\n",
              "            + ' to learn more about interactive tables.';\n",
              "          element.innerHTML = '';\n",
              "          dataTable['output_type'] = 'display_data';\n",
              "          await google.colab.output.renderOutput(dataTable, element);\n",
              "          const docLink = document.createElement('div');\n",
              "          docLink.innerHTML = docLinkHtml;\n",
              "          element.appendChild(docLink);\n",
              "        }\n",
              "      </script>\n",
              "    </div>\n",
              "  </div>\n",
              "  "
            ]
          },
          "metadata": {},
          "execution_count": 545
        }
      ]
    },
    {
      "cell_type": "code",
      "source": [
        "print(pd.DataFrame(data))\n",
        "df=pd.DataFrame(data)\n",
        "df.dtypes"
      ],
      "metadata": {
        "colab": {
          "base_uri": "https://localhost:8080/"
        },
        "id": "Ho5s2hKoBDO5",
        "outputId": "2c9af0dd-e502-43fc-b894-9f956f024722"
      },
      "execution_count": 546,
      "outputs": [
        {
          "output_type": "stream",
          "name": "stdout",
          "text": [
            "     Outlook Temperature Humidity    wind PlayTennis\n",
            "0      sunny         hot     high    weak         no\n",
            "1      sunny         hot     high  strong         no\n",
            "2   overcast         hot     high    weak        yes\n",
            "3       rain        mild     high    weak        yes\n",
            "4       rain        cool   normal    weak        yes\n",
            "5       rain        cool   normal  strong         no\n",
            "6   overcast        cool   normal  strong        yes\n",
            "7      sunny        mild     high    weak         no\n",
            "8      sunny        cool   normal    weak        yes\n",
            "9       rain        mild   normal    weak        yes\n",
            "10     sunny        mild   normal  strong        yes\n",
            "11  overcast        mild     high  strong        yes\n",
            "12  overcast         hot   normal    weak        yes\n",
            "13      rain        mild     high  strong         no\n"
          ]
        },
        {
          "output_type": "execute_result",
          "data": {
            "text/plain": [
              "Outlook        object\n",
              "Temperature    object\n",
              "Humidity       object\n",
              "wind           object\n",
              "PlayTennis     object\n",
              "dtype: object"
            ]
          },
          "metadata": {},
          "execution_count": 546
        }
      ]
    },
    {
      "cell_type": "code",
      "source": [
        "print(df.count())\n",
        "print(sum(df[target_name].value_counts().to_dict().values()))"
      ],
      "metadata": {
        "colab": {
          "base_uri": "https://localhost:8080/"
        },
        "id": "g6JtbofyB_O7",
        "outputId": "a92572c4-465a-4aec-9d6c-637773ccdabf"
      },
      "execution_count": 547,
      "outputs": [
        {
          "output_type": "stream",
          "name": "stdout",
          "text": [
            "Outlook        14\n",
            "Temperature    14\n",
            "Humidity       14\n",
            "wind           14\n",
            "PlayTennis     14\n",
            "dtype: int64\n",
            "14\n"
          ]
        }
      ]
    },
    {
      "cell_type": "code",
      "source": [
        "import random\n",
        "def train_test_split(df,test_size):\n",
        "  df=df.sample(frac = 1)\n",
        "  n=len(df)\n",
        "  no_test_rows=int(n*test_size)\n",
        "  l=list(random.sample(list(range(n)), no_test_rows))\n",
        "  test=df.iloc[l]\n",
        "  train=df.drop(l,axis=0)\n",
        "  return train.sample(frac = 1),test.sample(frac = 1)\n",
        "# test_df=data\n",
        "df,test_df=train_test_split(df,0.3)\n",
        "print(len(df),len(test_df))\n",
        "\n",
        "# from sklearn.model_selection import train_test_split\n",
        "# df,test_df=test_train_split(df,test_size=0.3)"
      ],
      "metadata": {
        "id": "QBeLqydXKkZS",
        "colab": {
          "base_uri": "https://localhost:8080/"
        },
        "outputId": "00a3ed82-f90e-41a1-eb0f-0f2ba21f5289"
      },
      "execution_count": 548,
      "outputs": [
        {
          "output_type": "stream",
          "name": "stdout",
          "text": [
            "10 4\n"
          ]
        }
      ]
    },
    {
      "cell_type": "code",
      "source": [
        "class DecisionTree():\n",
        "  \n",
        "  ## Class Member Functions ##\n",
        "\n",
        "  def entropy_help(p):\n",
        "    return -p*log(p,2)\n",
        "  \n",
        "  def getEntropy(df,target_name):  \n",
        "    n=df.count()[0]\n",
        "    target_counts=df[target_name].value_counts().to_dict()\n",
        "    s=0\n",
        "    for p in target_counts.values():\n",
        "      if p/n==1 or p/n==0:\n",
        "        return 0\n",
        "      s+=DecisionTree.entropy_help(p/n)\n",
        "    return s\n",
        "  \n",
        "  def getProbability(df,column,value):\n",
        "    return df[df[column]==value].count()[0]/df.count()[0]\n",
        "  \n",
        "  def informationGain(df,target_name,col):\n",
        "    total_entropy=DecisionTree.getEntropy(df,target_name)\n",
        "    col_vals_count=df[col].value_counts().to_dict()\n",
        "    sum=0\n",
        "    for value in col_vals_count:\n",
        "      n=col_vals_count[value]\n",
        "      sum+=(DecisionTree.getEntropy(df[df[col]==value],target_name)*DecisionTree.getProbability(df,col,value))\n",
        "    return total_entropy-sum\n",
        "\n",
        "  ## Class Data Members ##\n",
        "\n",
        "  split_functions={'IG':informationGain}\n",
        "  \n",
        "  ## Countructor ##\n",
        "  def __init__(self,df,target_name,split_function=\"IG\"):\n",
        "    self.tree=self.Tree()\n",
        "    self.df=df\n",
        "    self.target_name=target_name\n",
        "    self.cols=list(self.df.columns)\n",
        "    self.cols.remove(self.target_name)\n",
        "    self.cnt=0\n",
        "    self.gnodes=[]\n",
        "    self.output_classes=self.df[self.target_name].unique()\n",
        "    if split_function in DecisionTree.split_functions:\n",
        "      self.split_function=DecisionTree.split_functions[split_function]\n",
        "    else:\n",
        "      raise Exception(\"Split function not found\")\n",
        "\n",
        "  ## Instance Methods ##\n",
        "\n",
        "  def getGraph(self):\n",
        "    return self.tree.g\n",
        "\n",
        "  def find_leaf(self,df):\n",
        "      unique_vals=list(df[self.target_name].unique())\n",
        "      for val in unique_vals:      \n",
        "        if df[df[self.target_name]==val].count()[0]==df.count()[0]:\n",
        "          return val\n",
        "\n",
        "  def construct(self):\n",
        "    maxig=[-1,\"\"]\n",
        "    for i in self.cols:\n",
        "      etemp=self.split_function(df,self.target_name,i)\n",
        "      maxig=maxig if maxig[0]>etemp else [etemp,i]\n",
        "    root=self.Node(maxig[1],maxig[0],0)\n",
        "    self.tree.insert_root(root)\n",
        "    c=copy.deepcopy(self.cols)\n",
        "    c.remove(root.name)\n",
        "    self.gnodes.append(root)\n",
        "    root.gname=str(root)\n",
        "    self.tree.g.node(str(root),str(root))\n",
        "    self.construct_help(df,c,root)\n",
        "\n",
        "  def construct_help(self,df,cols,parent):\n",
        "    vals=list(df[parent.name].unique())\n",
        "    dftemp=df\n",
        "\n",
        "    for k in vals:\n",
        "      df=dftemp\n",
        "      df=df[df[parent.name]==k]\n",
        "      e=DecisionTree.getEntropy(df,self.target_name)\n",
        "\n",
        "      if e==0:\n",
        "        value=self.find_leaf(df)\n",
        "        node=self.Node(value,1,parent.level+1)\n",
        "        node.gname=str(value)\n",
        "        parent.insert_child(node)\n",
        "        parent.insert_edge(k)\n",
        "        self.tree.no_leafs+=1\n",
        "        name=value\n",
        "        if not isinstance(value, str):\n",
        "          name='class'\n",
        "        self.tree.g.node(name+str(self.cnt),str(value))\n",
        "        self.tree.g.edge(str(parent.gname),name+str(self.cnt),label=str(k))\n",
        "        \n",
        "        self.cnt+=1\n",
        "        continue\n",
        "      maxig=[-1,\"\"]\n",
        "      for i in cols:\n",
        "        etemp=self.split_function(df,self.target_name,i)\n",
        "        maxig=maxig if maxig[0]>etemp else [etemp,i]\n",
        "      node=self.Node(maxig[1],maxig[0],parent.level+1)\n",
        "      node.gname=str(node.name)\n",
        "      c=copy.deepcopy(cols)\n",
        "      \n",
        "      c.remove(node.name)\n",
        "      name=str(node)\n",
        "      if name in self.gnodes:\n",
        "        name+=str(self.cnt)\n",
        "        self.cnt+=1\n",
        "      else:\n",
        "        self.gnodes.append(name)\n",
        "      node.gname=name\n",
        "      self.tree.g.node(name,str(node))\n",
        "      parent.insert_child(node)\n",
        "      parent.insert_edge(k)\n",
        "      self.tree.g.edge(str(parent.gname),name,label=str(k))\n",
        "      self.construct_help(df[df[parent.name]==k],c,node)\n",
        "      \n",
        "  def predict(self,instances,trace=False):\n",
        "    node=self.tree.root\n",
        "    op=[]\n",
        "    if isinstance(instances,dict):\n",
        "      return self.predict_help(node,instances,trace,\"\")\n",
        "    if isinstance(instances,list):\n",
        "      \n",
        "      for instance in instances:\n",
        "        op.append(self.predict_help(node,instance,trace,\"\"))\n",
        "    else:\n",
        "      n=len(instances)\n",
        "      for i in range(n):\n",
        "        instance=data.iloc[i].to_dict()\n",
        "        op.append(self.predict_help(node,instance,trace,\"\"))\n",
        "    return op\n",
        "\n",
        "  def predict_help(self,node,instance,trace,path):\n",
        "    if node.name in self.output_classes:\n",
        "      if trace:\n",
        "        print(path+str(node))\n",
        "      return node.name\n",
        "    value=instance[node.name]\n",
        "    try:\n",
        "      path+=str(node)+\" ( \"+str(value)+\" ) ->\"\n",
        "      ind=node.edges.index(value)\n",
        "      return self.predict_help(node.childs[ind],instance,trace,path)\n",
        "    except Exception as e:\n",
        "      return \"Not valid instance, path: \"+path\n",
        "  \n",
        "  ## Inner classes ##\n",
        "  class Node:\n",
        "    ## Countructor ##\n",
        "    def __init__(self,name,ig,level):\n",
        "      self.name=name\n",
        "      self.ig=ig\n",
        "      self.childs=[]\n",
        "      self.edges=[]\n",
        "      self.gname=''\n",
        "      self.level=level\n",
        "\n",
        "    ## Instance Methods ##\n",
        "\n",
        "    def insert_child(self,node):\n",
        "      self.childs.append(node)\n",
        "\n",
        "    def insert_edge(self,edge):\n",
        "      self.edges.append(edge)\n",
        "\n",
        "    def printn(self,edge=\"\"):\n",
        "      # if self.childs:\n",
        "      dashes=\"|\"+\"-\"*(self.level*5)\n",
        "      value=\"( \"+edge+\") \"+self.gname if edge else self.gname\n",
        "      # print(\" \"*(self.level*2+1),''.join(['-']*31))\n",
        "      # print(dashes,'|{:^15} - level - {:^2} | '.format(self.gname,self.level),list(zip(self.edges,list(map(lambda x:x.gname,self.childs)))))\n",
        "      # print(\" \"*(self.level*2+1),''.join(['-']*31))\n",
        "      print(dashes,value)\n",
        "\n",
        "    def __str__(self):\n",
        "      return str(self.name)\n",
        "\n",
        "  class Tree:\n",
        "\n",
        "    ## Countructor ##\n",
        "    def __init__(self):\n",
        "      self.root=None\n",
        "      self.g=Digraph(encoding='utf-8')\n",
        "      self.no_leafs=0\n",
        "\n",
        "    ## Instance Methods ##\n",
        "\n",
        "    def insert_root(self,node):\n",
        "      self.root=node\n",
        "\n",
        "    def printt(self):\n",
        "      self.print_help(self.root,\"\")\n",
        "\n",
        "    def print_help(self,node,edge):\n",
        "      if node:\n",
        "        node.printn(edge)\n",
        "        # print(\"(\",edge,\")\")\n",
        "      for i in range(len(node.childs)):\n",
        "        self.print_help(node.childs[i],node.edges[i])"
      ],
      "metadata": {
        "id": "id5zpEHsz9uY"
      },
      "execution_count": 549,
      "outputs": []
    },
    {
      "cell_type": "code",
      "source": [
        "d=DecisionTree(data,target_name,split_function=split_func)"
      ],
      "metadata": {
        "id": "OFMbtje11lrz"
      },
      "execution_count": 550,
      "outputs": []
    },
    {
      "cell_type": "code",
      "source": [
        "d.construct()"
      ],
      "metadata": {
        "id": "EDWt9Tv35vp4"
      },
      "execution_count": 551,
      "outputs": []
    },
    {
      "cell_type": "code",
      "source": [
        "d.getGraph()"
      ],
      "metadata": {
        "colab": {
          "base_uri": "https://localhost:8080/",
          "height": 312
        },
        "id": "W7Q1YW9pyk6C",
        "outputId": "a86791be-3b85-42fb-e78f-fa33ae0a543d"
      },
      "execution_count": 552,
      "outputs": [
        {
          "output_type": "execute_result",
          "data": {
            "text/plain": [
              "<graphviz.dot.Digraph at 0x7f6137d8d250>"
            ],
            "image/svg+xml": "<?xml version=\"1.0\" encoding=\"UTF-8\" standalone=\"no\"?>\n<!DOCTYPE svg PUBLIC \"-//W3C//DTD SVG 1.1//EN\"\n \"http://www.w3.org/Graphics/SVG/1.1/DTD/svg11.dtd\">\n<!-- Generated by graphviz version 2.40.1 (20161225.0304)\n -->\n<!-- Title: %3 Pages: 1 -->\n<svg width=\"297pt\" height=\"218pt\"\n viewBox=\"0.00 0.00 297.00 218.00\" xmlns=\"http://www.w3.org/2000/svg\" xmlns:xlink=\"http://www.w3.org/1999/xlink\">\n<g id=\"graph0\" class=\"graph\" transform=\"scale(1 1) rotate(0) translate(4 214)\">\n<title>%3</title>\n<polygon fill=\"#ffffff\" stroke=\"transparent\" points=\"-4,4 -4,-214 293,-214 293,4 -4,4\"/>\n<!-- Outlook -->\n<g id=\"node1\" class=\"node\">\n<title>Outlook</title>\n<ellipse fill=\"none\" stroke=\"#000000\" cx=\"135\" cy=\"-192\" rx=\"42.4939\" ry=\"18\"/>\n<text text-anchor=\"middle\" x=\"135\" y=\"-188.3\" font-family=\"Times,serif\" font-size=\"14.00\" fill=\"#000000\">Outlook</text>\n</g>\n<!-- wind -->\n<g id=\"node2\" class=\"node\">\n<title>wind</title>\n<ellipse fill=\"none\" stroke=\"#000000\" cx=\"60\" cy=\"-105\" rx=\"29.795\" ry=\"18\"/>\n<text text-anchor=\"middle\" x=\"60\" y=\"-101.3\" font-family=\"Times,serif\" font-size=\"14.00\" fill=\"#000000\">wind</text>\n</g>\n<!-- Outlook&#45;&gt;wind -->\n<g id=\"edge1\" class=\"edge\">\n<title>Outlook&#45;&gt;wind</title>\n<path fill=\"none\" stroke=\"#000000\" d=\"M120.1824,-174.8116C108.8002,-161.6082 92.9522,-143.2245 80.3762,-128.6363\"/>\n<polygon fill=\"#000000\" stroke=\"#000000\" points=\"82.9556,-126.2681 73.7753,-120.9793 77.6537,-130.8387 82.9556,-126.2681\"/>\n<text text-anchor=\"middle\" x=\"113\" y=\"-144.8\" font-family=\"Times,serif\" font-size=\"14.00\" fill=\"#000000\">rain</text>\n</g>\n<!-- yes2 -->\n<g id=\"node5\" class=\"node\">\n<title>yes2</title>\n<ellipse fill=\"none\" stroke=\"#000000\" cx=\"135\" cy=\"-105\" rx=\"27\" ry=\"18\"/>\n<text text-anchor=\"middle\" x=\"135\" y=\"-101.3\" font-family=\"Times,serif\" font-size=\"14.00\" fill=\"#000000\">yes</text>\n</g>\n<!-- Outlook&#45;&gt;yes2 -->\n<g id=\"edge4\" class=\"edge\">\n<title>Outlook&#45;&gt;yes2</title>\n<path fill=\"none\" stroke=\"#000000\" d=\"M135,-173.9735C135,-162.1918 135,-146.5607 135,-133.1581\"/>\n<polygon fill=\"#000000\" stroke=\"#000000\" points=\"138.5001,-133.0033 135,-123.0034 131.5001,-133.0034 138.5001,-133.0033\"/>\n<text text-anchor=\"middle\" x=\"158.5\" y=\"-144.8\" font-family=\"Times,serif\" font-size=\"14.00\" fill=\"#000000\">overcast</text>\n</g>\n<!-- wind3 -->\n<g id=\"node6\" class=\"node\">\n<title>wind3</title>\n<ellipse fill=\"none\" stroke=\"#000000\" cx=\"210\" cy=\"-105\" rx=\"29.795\" ry=\"18\"/>\n<text text-anchor=\"middle\" x=\"210\" y=\"-101.3\" font-family=\"Times,serif\" font-size=\"14.00\" fill=\"#000000\">wind</text>\n</g>\n<!-- Outlook&#45;&gt;wind3 -->\n<g id=\"edge5\" class=\"edge\">\n<title>Outlook&#45;&gt;wind3</title>\n<path fill=\"none\" stroke=\"#000000\" d=\"M160.1271,-177.4668C168.7767,-171.5987 178.0297,-164.2541 185,-156 190.9446,-148.9606 195.8801,-140.2657 199.7514,-132.0616\"/>\n<polygon fill=\"#000000\" stroke=\"#000000\" points=\"203.008,-133.3496 203.8036,-122.7847 196.5933,-130.5475 203.008,-133.3496\"/>\n<text text-anchor=\"middle\" x=\"213\" y=\"-144.8\" font-family=\"Times,serif\" font-size=\"14.00\" fill=\"#000000\">sunny</text>\n</g>\n<!-- yes0 -->\n<g id=\"node3\" class=\"node\">\n<title>yes0</title>\n<ellipse fill=\"none\" stroke=\"#000000\" cx=\"27\" cy=\"-18\" rx=\"27\" ry=\"18\"/>\n<text text-anchor=\"middle\" x=\"27\" y=\"-14.3\" font-family=\"Times,serif\" font-size=\"14.00\" fill=\"#000000\">yes</text>\n</g>\n<!-- wind&#45;&gt;yes0 -->\n<g id=\"edge2\" class=\"edge\">\n<title>wind&#45;&gt;yes0</title>\n<path fill=\"none\" stroke=\"#000000\" d=\"M53.1138,-87.4412C50.8318,-81.5831 48.2905,-75.0165 46,-69 43.0217,-61.1768 39.8293,-52.6604 36.9277,-44.8675\"/>\n<polygon fill=\"#000000\" stroke=\"#000000\" points=\"40.2078,-43.6464 33.4458,-35.4901 33.6456,-46.083 40.2078,-43.6464\"/>\n<text text-anchor=\"middle\" x=\"61.5\" y=\"-57.8\" font-family=\"Times,serif\" font-size=\"14.00\" fill=\"#000000\">weak</text>\n</g>\n<!-- no1 -->\n<g id=\"node4\" class=\"node\">\n<title>no1</title>\n<ellipse fill=\"none\" stroke=\"#000000\" cx=\"99\" cy=\"-18\" rx=\"27\" ry=\"18\"/>\n<text text-anchor=\"middle\" x=\"99\" y=\"-14.3\" font-family=\"Times,serif\" font-size=\"14.00\" fill=\"#000000\">no</text>\n</g>\n<!-- wind&#45;&gt;no1 -->\n<g id=\"edge3\" class=\"edge\">\n<title>wind&#45;&gt;no1</title>\n<path fill=\"none\" stroke=\"#000000\" d=\"M68.4205,-87.4772C71.1954,-81.6215 74.2688,-75.0472 77,-69 80.5163,-61.2143 84.2337,-52.7094 87.5918,-44.9156\"/>\n<polygon fill=\"#000000\" stroke=\"#000000\" points=\"90.8913,-46.1017 91.6111,-35.5313 84.4566,-43.3456 90.8913,-46.1017\"/>\n<text text-anchor=\"middle\" x=\"102.5\" y=\"-57.8\" font-family=\"Times,serif\" font-size=\"14.00\" fill=\"#000000\">strong</text>\n</g>\n<!-- yes4 -->\n<g id=\"node7\" class=\"node\">\n<title>yes4</title>\n<ellipse fill=\"none\" stroke=\"#000000\" cx=\"190\" cy=\"-18\" rx=\"27\" ry=\"18\"/>\n<text text-anchor=\"middle\" x=\"190\" y=\"-14.3\" font-family=\"Times,serif\" font-size=\"14.00\" fill=\"#000000\">yes</text>\n</g>\n<!-- wind3&#45;&gt;yes4 -->\n<g id=\"edge6\" class=\"edge\">\n<title>wind3&#45;&gt;yes4</title>\n<path fill=\"none\" stroke=\"#000000\" d=\"M205.856,-86.9735C203.1207,-75.0751 199.4829,-59.2508 196.3818,-45.7606\"/>\n<polygon fill=\"#000000\" stroke=\"#000000\" points=\"199.7902,-44.965 194.1387,-36.0034 192.9682,-46.5333 199.7902,-44.965\"/>\n<text text-anchor=\"middle\" x=\"219.5\" y=\"-57.8\" font-family=\"Times,serif\" font-size=\"14.00\" fill=\"#000000\">strong</text>\n</g>\n<!-- no5 -->\n<g id=\"node8\" class=\"node\">\n<title>no5</title>\n<ellipse fill=\"none\" stroke=\"#000000\" cx=\"262\" cy=\"-18\" rx=\"27\" ry=\"18\"/>\n<text text-anchor=\"middle\" x=\"262\" y=\"-14.3\" font-family=\"Times,serif\" font-size=\"14.00\" fill=\"#000000\">no</text>\n</g>\n<!-- wind3&#45;&gt;no5 -->\n<g id=\"edge7\" class=\"edge\">\n<title>wind3&#45;&gt;no5</title>\n<path fill=\"none\" stroke=\"#000000\" d=\"M224.7909,-89.2667C230.0104,-83.2215 235.6555,-76.0703 240,-69 244.594,-61.5237 248.7019,-52.9183 252.0887,-44.9312\"/>\n<polygon fill=\"#000000\" stroke=\"#000000\" points=\"255.3524,-46.1962 255.8464,-35.6129 248.8604,-43.5782 255.3524,-46.1962\"/>\n<text text-anchor=\"middle\" x=\"262.5\" y=\"-57.8\" font-family=\"Times,serif\" font-size=\"14.00\" fill=\"#000000\">weak</text>\n</g>\n</g>\n</svg>\n"
          },
          "metadata": {},
          "execution_count": 552
        }
      ]
    },
    {
      "cell_type": "code",
      "source": [
        "print(d.tree.no_leafs)"
      ],
      "metadata": {
        "colab": {
          "base_uri": "https://localhost:8080/"
        },
        "id": "rMXXe-Ny_HQk",
        "outputId": "d3ffe38e-e9ff-4654-891a-02d467f8e7ff"
      },
      "execution_count": 553,
      "outputs": [
        {
          "output_type": "stream",
          "name": "stdout",
          "text": [
            "5\n"
          ]
        }
      ]
    },
    {
      "cell_type": "code",
      "source": [
        "inp=[]\n",
        "n=1000\n",
        "n=n if n < len(test_df) else len(test_df)\n",
        "for i in range(n):\n",
        "  inp.append(test_df.iloc[i].to_dict())\n",
        "print(d.predict(inp))"
      ],
      "metadata": {
        "id": "rc2RvfZ1E_I5",
        "colab": {
          "base_uri": "https://localhost:8080/"
        },
        "outputId": "7f56e94b-1836-495e-f21c-a0d2e5468cf3"
      },
      "execution_count": 554,
      "outputs": [
        {
          "output_type": "stream",
          "name": "stdout",
          "text": [
            "['yes', 'yes', 'yes', 'yes']\n"
          ]
        }
      ]
    },
    {
      "cell_type": "code",
      "source": [
        "d.tree.printt()"
      ],
      "metadata": {
        "id": "YDlC1Uz83Fo3",
        "colab": {
          "base_uri": "https://localhost:8080/"
        },
        "outputId": "414c2ef8-3ee9-4fd0-c0a4-e95effcee9f9"
      },
      "execution_count": 555,
      "outputs": [
        {
          "output_type": "stream",
          "name": "stdout",
          "text": [
            "| Outlook\n",
            "|----- ( rain) wind\n",
            "|---------- ( weak) yes\n",
            "|---------- ( strong) no\n",
            "|----- ( overcast) yes\n",
            "|----- ( sunny) wind3\n",
            "|---------- ( strong) yes\n",
            "|---------- ( weak) no\n"
          ]
        }
      ]
    },
    {
      "cell_type": "code",
      "source": [
        "o=list(enumerate(d.predict(data)))\n",
        "o"
      ],
      "metadata": {
        "colab": {
          "base_uri": "https://localhost:8080/"
        },
        "id": "s0NCJaBZ1pU_",
        "outputId": "d318cb93-1962-413a-91ff-1eafc5246f52"
      },
      "execution_count": 556,
      "outputs": [
        {
          "output_type": "execute_result",
          "data": {
            "text/plain": [
              "[(0, 'no'),\n",
              " (1, 'yes'),\n",
              " (2, 'yes'),\n",
              " (3, 'yes'),\n",
              " (4, 'yes'),\n",
              " (5, 'no'),\n",
              " (6, 'yes'),\n",
              " (7, 'no'),\n",
              " (8, 'no'),\n",
              " (9, 'yes'),\n",
              " (10, 'yes'),\n",
              " (11, 'yes'),\n",
              " (12, 'yes'),\n",
              " (13, 'no')]"
            ]
          },
          "metadata": {},
          "execution_count": 556
        }
      ]
    },
    {
      "cell_type": "code",
      "source": [
        "data[target_name]"
      ],
      "metadata": {
        "id": "axUlr-sBF5WR",
        "colab": {
          "base_uri": "https://localhost:8080/"
        },
        "outputId": "506cf6ea-1c73-469a-a13e-59cce91c475c"
      },
      "execution_count": 557,
      "outputs": [
        {
          "output_type": "execute_result",
          "data": {
            "text/plain": [
              "0      no\n",
              "1      no\n",
              "2     yes\n",
              "3     yes\n",
              "4     yes\n",
              "5      no\n",
              "6     yes\n",
              "7      no\n",
              "8     yes\n",
              "9     yes\n",
              "10    yes\n",
              "11    yes\n",
              "12    yes\n",
              "13     no\n",
              "Name: PlayTennis, dtype: object"
            ]
          },
          "metadata": {},
          "execution_count": 557
        }
      ]
    },
    {
      "cell_type": "code",
      "source": [
        "count=0\n",
        "for i in o:\n",
        "  if i[1]=='Not valid instance':\n",
        "    print(\"Something went wrong\")\n",
        "    count+=1\n",
        "print(count)"
      ],
      "metadata": {
        "id": "QJaEpB60H2wE",
        "colab": {
          "base_uri": "https://localhost:8080/"
        },
        "outputId": "cff3e78d-f940-4b95-818c-24b53411887c"
      },
      "execution_count": 558,
      "outputs": [
        {
          "output_type": "stream",
          "name": "stdout",
          "text": [
            "0\n"
          ]
        }
      ]
    },
    {
      "cell_type": "code",
      "source": [
        "print(df.iloc[0].to_dict())\n",
        "d.predict(df.iloc[0].to_dict(),trace=True)"
      ],
      "metadata": {
        "id": "EVF9hTDVFaze",
        "colab": {
          "base_uri": "https://localhost:8080/",
          "height": 70
        },
        "outputId": "e51e2ae0-0841-4060-c43e-7b6860c9c951"
      },
      "execution_count": 559,
      "outputs": [
        {
          "output_type": "stream",
          "name": "stdout",
          "text": [
            "{'Outlook': 'rain', 'Temperature': 'mild', 'Humidity': 'high', 'wind': 'weak', 'PlayTennis': 'yes'}\n",
            "Outlook ( rain ) ->wind ( weak ) ->yes\n"
          ]
        },
        {
          "output_type": "execute_result",
          "data": {
            "text/plain": [
              "'yes'"
            ],
            "application/vnd.google.colaboratory.intrinsic+json": {
              "type": "string"
            }
          },
          "metadata": {},
          "execution_count": 559
        }
      ]
    }
  ]
}