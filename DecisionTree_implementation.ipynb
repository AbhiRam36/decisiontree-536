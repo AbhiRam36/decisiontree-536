{
  "nbformat": 4,
  "nbformat_minor": 0,
  "metadata": {
    "colab": {
      "name": "DecisionTree_implementation-multpleclass.ipynb",
      "provenance": []
    },
    "kernelspec": {
      "name": "python3",
      "display_name": "Python 3"
    },
    "language_info": {
      "name": "python"
    }
  },
  "cells": [
    {
      "cell_type": "code",
      "execution_count": 82,
      "metadata": {
        "id": "ap19xBrlw_Wt"
      },
      "outputs": [],
      "source": [
        "import numpy as np\n",
        "import pandas as pd\n",
        "import matplotlib.pyplot as mtp\n",
        "from math import*"
      ]
    },
    {
      "cell_type": "code",
      "source": [
        "import copy\n",
        "from graphviz import Digraph"
      ],
      "metadata": {
        "id": "-5ryv0hZycvI"
      },
      "execution_count": 83,
      "outputs": []
    },
    {
      "cell_type": "code",
      "source": [
        "from pandas.io.parsers.readers import read_csv\n",
        "dataset_url=\"/content/data.csv\"\n",
        "data=pd.read_csv(dataset_url)\n",
        "data=data.applymap(lambda x: x.strip() if isinstance(x, str) else x)"
      ],
      "metadata": {
        "id": "ezlij2Kj7STC"
      },
      "execution_count": 84,
      "outputs": []
    },
    {
      "cell_type": "code",
      "source": [
        "print(data)"
      ],
      "metadata": {
        "colab": {
          "base_uri": "https://localhost:8080/"
        },
        "id": "dX17ut6rAWKy",
        "outputId": "c985206b-18aa-460e-dddd-840bd085c557"
      },
      "execution_count": 85,
      "outputs": [
        {
          "output_type": "stream",
          "name": "stdout",
          "text": [
            "     Outlook Temperature Humidity    wind PlayTennis\n",
            "0      sunny         hot     high    weak         no\n",
            "1      sunny         hot     high  strong         no\n",
            "2   overcast         hot     high    weak        yes\n",
            "3       rain        mild     high    weak        yes\n",
            "4       rain        cool   normal    weak        yes\n",
            "5       rain        cool   normal  strong         no\n",
            "6   overcast        cool   normal  strong        yes\n",
            "7      sunny        mild     high    weak         no\n",
            "8      sunny        cool   normal    weak        yes\n",
            "9       rain        mild   normal    weak        yes\n",
            "10     sunny        mild   normal  strong        yes\n",
            "11  overcast        mild     high  strong        yes\n",
            "12  overcast         hot   normal    weak        yes\n",
            "13      rain        mild     high  strong         no\n"
          ]
        }
      ]
    },
    {
      "cell_type": "code",
      "source": [
        "#target\n",
        "\n",
        "target_name='PlayTennis' #data.csv\n",
        "# target_name='result' #kr-vs-kp.csv\n",
        "# target_name='Class' #lenses.csv'\n",
        "# target_name='class' #car.csv"
      ],
      "metadata": {
        "id": "G10FwY-X-9Jx"
      },
      "execution_count": 86,
      "outputs": []
    },
    {
      "cell_type": "code",
      "source": [
        "data"
      ],
      "metadata": {
        "colab": {
          "base_uri": "https://localhost:8080/",
          "height": 488
        },
        "id": "-WaOcO49RHCV",
        "outputId": "e78b37ad-9dfd-47bf-d990-fdcc1a539549"
      },
      "execution_count": 87,
      "outputs": [
        {
          "output_type": "execute_result",
          "data": {
            "text/plain": [
              "     Outlook Temperature Humidity    wind PlayTennis\n",
              "0      sunny         hot     high    weak         no\n",
              "1      sunny         hot     high  strong         no\n",
              "2   overcast         hot     high    weak        yes\n",
              "3       rain        mild     high    weak        yes\n",
              "4       rain        cool   normal    weak        yes\n",
              "5       rain        cool   normal  strong         no\n",
              "6   overcast        cool   normal  strong        yes\n",
              "7      sunny        mild     high    weak         no\n",
              "8      sunny        cool   normal    weak        yes\n",
              "9       rain        mild   normal    weak        yes\n",
              "10     sunny        mild   normal  strong        yes\n",
              "11  overcast        mild     high  strong        yes\n",
              "12  overcast         hot   normal    weak        yes\n",
              "13      rain        mild     high  strong         no"
            ],
            "text/html": [
              "\n",
              "  <div id=\"df-398d0cbb-476e-4719-afad-0d929a4e0d15\">\n",
              "    <div class=\"colab-df-container\">\n",
              "      <div>\n",
              "<style scoped>\n",
              "    .dataframe tbody tr th:only-of-type {\n",
              "        vertical-align: middle;\n",
              "    }\n",
              "\n",
              "    .dataframe tbody tr th {\n",
              "        vertical-align: top;\n",
              "    }\n",
              "\n",
              "    .dataframe thead th {\n",
              "        text-align: right;\n",
              "    }\n",
              "</style>\n",
              "<table border=\"1\" class=\"dataframe\">\n",
              "  <thead>\n",
              "    <tr style=\"text-align: right;\">\n",
              "      <th></th>\n",
              "      <th>Outlook</th>\n",
              "      <th>Temperature</th>\n",
              "      <th>Humidity</th>\n",
              "      <th>wind</th>\n",
              "      <th>PlayTennis</th>\n",
              "    </tr>\n",
              "  </thead>\n",
              "  <tbody>\n",
              "    <tr>\n",
              "      <th>0</th>\n",
              "      <td>sunny</td>\n",
              "      <td>hot</td>\n",
              "      <td>high</td>\n",
              "      <td>weak</td>\n",
              "      <td>no</td>\n",
              "    </tr>\n",
              "    <tr>\n",
              "      <th>1</th>\n",
              "      <td>sunny</td>\n",
              "      <td>hot</td>\n",
              "      <td>high</td>\n",
              "      <td>strong</td>\n",
              "      <td>no</td>\n",
              "    </tr>\n",
              "    <tr>\n",
              "      <th>2</th>\n",
              "      <td>overcast</td>\n",
              "      <td>hot</td>\n",
              "      <td>high</td>\n",
              "      <td>weak</td>\n",
              "      <td>yes</td>\n",
              "    </tr>\n",
              "    <tr>\n",
              "      <th>3</th>\n",
              "      <td>rain</td>\n",
              "      <td>mild</td>\n",
              "      <td>high</td>\n",
              "      <td>weak</td>\n",
              "      <td>yes</td>\n",
              "    </tr>\n",
              "    <tr>\n",
              "      <th>4</th>\n",
              "      <td>rain</td>\n",
              "      <td>cool</td>\n",
              "      <td>normal</td>\n",
              "      <td>weak</td>\n",
              "      <td>yes</td>\n",
              "    </tr>\n",
              "    <tr>\n",
              "      <th>5</th>\n",
              "      <td>rain</td>\n",
              "      <td>cool</td>\n",
              "      <td>normal</td>\n",
              "      <td>strong</td>\n",
              "      <td>no</td>\n",
              "    </tr>\n",
              "    <tr>\n",
              "      <th>6</th>\n",
              "      <td>overcast</td>\n",
              "      <td>cool</td>\n",
              "      <td>normal</td>\n",
              "      <td>strong</td>\n",
              "      <td>yes</td>\n",
              "    </tr>\n",
              "    <tr>\n",
              "      <th>7</th>\n",
              "      <td>sunny</td>\n",
              "      <td>mild</td>\n",
              "      <td>high</td>\n",
              "      <td>weak</td>\n",
              "      <td>no</td>\n",
              "    </tr>\n",
              "    <tr>\n",
              "      <th>8</th>\n",
              "      <td>sunny</td>\n",
              "      <td>cool</td>\n",
              "      <td>normal</td>\n",
              "      <td>weak</td>\n",
              "      <td>yes</td>\n",
              "    </tr>\n",
              "    <tr>\n",
              "      <th>9</th>\n",
              "      <td>rain</td>\n",
              "      <td>mild</td>\n",
              "      <td>normal</td>\n",
              "      <td>weak</td>\n",
              "      <td>yes</td>\n",
              "    </tr>\n",
              "    <tr>\n",
              "      <th>10</th>\n",
              "      <td>sunny</td>\n",
              "      <td>mild</td>\n",
              "      <td>normal</td>\n",
              "      <td>strong</td>\n",
              "      <td>yes</td>\n",
              "    </tr>\n",
              "    <tr>\n",
              "      <th>11</th>\n",
              "      <td>overcast</td>\n",
              "      <td>mild</td>\n",
              "      <td>high</td>\n",
              "      <td>strong</td>\n",
              "      <td>yes</td>\n",
              "    </tr>\n",
              "    <tr>\n",
              "      <th>12</th>\n",
              "      <td>overcast</td>\n",
              "      <td>hot</td>\n",
              "      <td>normal</td>\n",
              "      <td>weak</td>\n",
              "      <td>yes</td>\n",
              "    </tr>\n",
              "    <tr>\n",
              "      <th>13</th>\n",
              "      <td>rain</td>\n",
              "      <td>mild</td>\n",
              "      <td>high</td>\n",
              "      <td>strong</td>\n",
              "      <td>no</td>\n",
              "    </tr>\n",
              "  </tbody>\n",
              "</table>\n",
              "</div>\n",
              "      <button class=\"colab-df-convert\" onclick=\"convertToInteractive('df-398d0cbb-476e-4719-afad-0d929a4e0d15')\"\n",
              "              title=\"Convert this dataframe to an interactive table.\"\n",
              "              style=\"display:none;\">\n",
              "        \n",
              "  <svg xmlns=\"http://www.w3.org/2000/svg\" height=\"24px\"viewBox=\"0 0 24 24\"\n",
              "       width=\"24px\">\n",
              "    <path d=\"M0 0h24v24H0V0z\" fill=\"none\"/>\n",
              "    <path d=\"M18.56 5.44l.94 2.06.94-2.06 2.06-.94-2.06-.94-.94-2.06-.94 2.06-2.06.94zm-11 1L8.5 8.5l.94-2.06 2.06-.94-2.06-.94L8.5 2.5l-.94 2.06-2.06.94zm10 10l.94 2.06.94-2.06 2.06-.94-2.06-.94-.94-2.06-.94 2.06-2.06.94z\"/><path d=\"M17.41 7.96l-1.37-1.37c-.4-.4-.92-.59-1.43-.59-.52 0-1.04.2-1.43.59L10.3 9.45l-7.72 7.72c-.78.78-.78 2.05 0 2.83L4 21.41c.39.39.9.59 1.41.59.51 0 1.02-.2 1.41-.59l7.78-7.78 2.81-2.81c.8-.78.8-2.07 0-2.86zM5.41 20L4 18.59l7.72-7.72 1.47 1.35L5.41 20z\"/>\n",
              "  </svg>\n",
              "      </button>\n",
              "      \n",
              "  <style>\n",
              "    .colab-df-container {\n",
              "      display:flex;\n",
              "      flex-wrap:wrap;\n",
              "      gap: 12px;\n",
              "    }\n",
              "\n",
              "    .colab-df-convert {\n",
              "      background-color: #E8F0FE;\n",
              "      border: none;\n",
              "      border-radius: 50%;\n",
              "      cursor: pointer;\n",
              "      display: none;\n",
              "      fill: #1967D2;\n",
              "      height: 32px;\n",
              "      padding: 0 0 0 0;\n",
              "      width: 32px;\n",
              "    }\n",
              "\n",
              "    .colab-df-convert:hover {\n",
              "      background-color: #E2EBFA;\n",
              "      box-shadow: 0px 1px 2px rgba(60, 64, 67, 0.3), 0px 1px 3px 1px rgba(60, 64, 67, 0.15);\n",
              "      fill: #174EA6;\n",
              "    }\n",
              "\n",
              "    [theme=dark] .colab-df-convert {\n",
              "      background-color: #3B4455;\n",
              "      fill: #D2E3FC;\n",
              "    }\n",
              "\n",
              "    [theme=dark] .colab-df-convert:hover {\n",
              "      background-color: #434B5C;\n",
              "      box-shadow: 0px 1px 3px 1px rgba(0, 0, 0, 0.15);\n",
              "      filter: drop-shadow(0px 1px 2px rgba(0, 0, 0, 0.3));\n",
              "      fill: #FFFFFF;\n",
              "    }\n",
              "  </style>\n",
              "\n",
              "      <script>\n",
              "        const buttonEl =\n",
              "          document.querySelector('#df-398d0cbb-476e-4719-afad-0d929a4e0d15 button.colab-df-convert');\n",
              "        buttonEl.style.display =\n",
              "          google.colab.kernel.accessAllowed ? 'block' : 'none';\n",
              "\n",
              "        async function convertToInteractive(key) {\n",
              "          const element = document.querySelector('#df-398d0cbb-476e-4719-afad-0d929a4e0d15');\n",
              "          const dataTable =\n",
              "            await google.colab.kernel.invokeFunction('convertToInteractive',\n",
              "                                                     [key], {});\n",
              "          if (!dataTable) return;\n",
              "\n",
              "          const docLinkHtml = 'Like what you see? Visit the ' +\n",
              "            '<a target=\"_blank\" href=https://colab.research.google.com/notebooks/data_table.ipynb>data table notebook</a>'\n",
              "            + ' to learn more about interactive tables.';\n",
              "          element.innerHTML = '';\n",
              "          dataTable['output_type'] = 'display_data';\n",
              "          await google.colab.output.renderOutput(dataTable, element);\n",
              "          const docLink = document.createElement('div');\n",
              "          docLink.innerHTML = docLinkHtml;\n",
              "          element.appendChild(docLink);\n",
              "        }\n",
              "      </script>\n",
              "    </div>\n",
              "  </div>\n",
              "  "
            ]
          },
          "metadata": {},
          "execution_count": 87
        }
      ]
    },
    {
      "cell_type": "code",
      "source": [
        "print(pd.DataFrame(data))\n",
        "df=pd.DataFrame(data)\n",
        "df.dtypes"
      ],
      "metadata": {
        "colab": {
          "base_uri": "https://localhost:8080/"
        },
        "id": "Ho5s2hKoBDO5",
        "outputId": "ed55fce0-9d25-4788-8a94-2be260522780"
      },
      "execution_count": 88,
      "outputs": [
        {
          "output_type": "stream",
          "name": "stdout",
          "text": [
            "     Outlook Temperature Humidity    wind PlayTennis\n",
            "0      sunny         hot     high    weak         no\n",
            "1      sunny         hot     high  strong         no\n",
            "2   overcast         hot     high    weak        yes\n",
            "3       rain        mild     high    weak        yes\n",
            "4       rain        cool   normal    weak        yes\n",
            "5       rain        cool   normal  strong         no\n",
            "6   overcast        cool   normal  strong        yes\n",
            "7      sunny        mild     high    weak         no\n",
            "8      sunny        cool   normal    weak        yes\n",
            "9       rain        mild   normal    weak        yes\n",
            "10     sunny        mild   normal  strong        yes\n",
            "11  overcast        mild     high  strong        yes\n",
            "12  overcast         hot   normal    weak        yes\n",
            "13      rain        mild     high  strong         no\n"
          ]
        },
        {
          "output_type": "execute_result",
          "data": {
            "text/plain": [
              "Outlook        object\n",
              "Temperature    object\n",
              "Humidity       object\n",
              "wind           object\n",
              "PlayTennis     object\n",
              "dtype: object"
            ]
          },
          "metadata": {},
          "execution_count": 88
        }
      ]
    },
    {
      "cell_type": "code",
      "source": [
        "print(df.count())\n",
        "print(sum(df[target_name].value_counts().to_dict().values()))"
      ],
      "metadata": {
        "colab": {
          "base_uri": "https://localhost:8080/"
        },
        "id": "g6JtbofyB_O7",
        "outputId": "9fa1047a-1968-43d7-b34c-df0bf844ff5b"
      },
      "execution_count": 89,
      "outputs": [
        {
          "output_type": "stream",
          "name": "stdout",
          "text": [
            "Outlook        14\n",
            "Temperature    14\n",
            "Humidity       14\n",
            "wind           14\n",
            "PlayTennis     14\n",
            "dtype: int64\n",
            "14\n"
          ]
        }
      ]
    },
    {
      "cell_type": "code",
      "source": [
        "import random\n",
        "def train_test_split(df,test_size):\n",
        "  df=df.sample(frac = 1)\n",
        "  n=len(df)\n",
        "  no_test_rows=int(n*test_size)\n",
        "  l=list(random.sample(list(range(n)), no_test_rows))\n",
        "  test=df.iloc[l]\n",
        "  train=df.drop(l,axis=0)\n",
        "  return train.sample(frac = 1),test.sample(frac = 1)\n",
        "# test_df=data\n",
        "df,test_df=train_test_split(df,0.3)\n",
        "print(len(df),len(test_df))\n",
        "\n",
        "# from sklearn.model_selection import train_test_split\n",
        "# df,test_df=test_train_split(df,test_size=0.3)"
      ],
      "metadata": {
        "id": "QBeLqydXKkZS",
        "colab": {
          "base_uri": "https://localhost:8080/"
        },
        "outputId": "00754b05-e9c3-4166-8744-b80b57e0988b"
      },
      "execution_count": 90,
      "outputs": [
        {
          "output_type": "stream",
          "name": "stdout",
          "text": [
            "10 4\n"
          ]
        }
      ]
    },
    {
      "cell_type": "code",
      "source": [
        "class DecisionTree():\n",
        "  \n",
        "  ## Class Member Functions ##\n",
        "\n",
        "  def entropy_help(p):\n",
        "    return -p*log(p,2)\n",
        "  \n",
        "  def getEntropy(df,target_name):  \n",
        "    n=df.count()[0]\n",
        "    target_counts=df[target_name].value_counts().to_dict()\n",
        "    s=0\n",
        "    for p in target_counts.values():\n",
        "      if p/n==1 or p/n==0:\n",
        "        return 0\n",
        "      s+=DecisionTree.entropy_help(p/n)\n",
        "    return s\n",
        "  \n",
        "  def getProbability(df,column,value):\n",
        "    return df[df[column]==value].count()[0]/df.count()[0]\n",
        "  \n",
        "  def informationGain(df,target_name,col):\n",
        "    total_entropy=DecisionTree.getEntropy(df,target_name)\n",
        "    col_vals_count=df[col].value_counts().to_dict()\n",
        "    sum=0\n",
        "    for value in col_vals_count:\n",
        "      n=col_vals_count[value]\n",
        "      sum+=(DecisionTree.getEntropy(df[df[col]==value],target_name)*DecisionTree.getProbability(df,col,value))\n",
        "    return total_entropy-sum\n",
        "\n",
        "  ## Class Data Members ##\n",
        "\n",
        "  split_functions={'IG':informationGain}\n",
        "  \n",
        "  ## Countructor ##\n",
        "  def __init__(self,df,target_name,split_function=\"IG\"):\n",
        "    self.tree=self.Tree()\n",
        "    self.df=df\n",
        "    self.target_name=target_name\n",
        "    self.cols=list(self.df.columns)\n",
        "    self.cols.remove(self.target_name)\n",
        "    self.cnt=0\n",
        "    self.gnodes=[]\n",
        "    self.output_classes=self.df[self.target_name].unique()\n",
        "    if split_function in DecisionTree.split_functions:\n",
        "      self.split_function=DecisionTree.split_functions[split_function]\n",
        "    else:\n",
        "      raise Exception(\"Split function not found\")\n",
        "\n",
        "  ## Instance Methods ##\n",
        "\n",
        "  def getGraph(self):\n",
        "    return self.tree.g\n",
        "\n",
        "  def find_leaf(self,df):\n",
        "      unique_vals=list(df[self.target_name].unique())\n",
        "      for val in unique_vals:      \n",
        "        if df[df[self.target_name]==val].count()[0]==df.count()[0]:\n",
        "          return val\n",
        "\n",
        "  def construct(self):\n",
        "    maxig=[-1,\"\"]\n",
        "    for i in self.cols:\n",
        "      etemp=self.split_function(df,self.target_name,i)\n",
        "      maxig=maxig if maxig[0]>etemp else [etemp,i]\n",
        "    root=self.Node(maxig[1],maxig[0],0)\n",
        "    self.tree.insert_root(root)\n",
        "    c=copy.deepcopy(self.cols)\n",
        "    c.remove(root.name)\n",
        "    self.gnodes.append(root)\n",
        "    root.gname=str(root)\n",
        "    self.tree.g.node(str(root),str(root))\n",
        "    self.construct_help(df,c,root)\n",
        "\n",
        "  def construct_help(self,df,cols,parent):\n",
        "    vals=list(df[parent.name].unique())\n",
        "    dftemp=df\n",
        "\n",
        "    for k in vals:\n",
        "      df=dftemp\n",
        "      df=df[df[parent.name]==k]\n",
        "      e=DecisionTree.getEntropy(df,self.target_name)\n",
        "\n",
        "      if e==0:\n",
        "        value=self.find_leaf(df)\n",
        "        node=self.Node(value,1,parent.level+1)\n",
        "        parent.insert_child(node)\n",
        "        parent.insert_edge(k)\n",
        "        self.tree.no_leafs+=1\n",
        "        name=value\n",
        "        if not isinstance(value, str):\n",
        "          name='class'\n",
        "        self.tree.g.node(name+str(self.cnt),str(value))\n",
        "        self.tree.g.edge(str(parent.gname),name+str(self.cnt),label=str(k))\n",
        "        \n",
        "        self.cnt+=1\n",
        "        continue\n",
        "      maxig=[-1,\"\"]\n",
        "      for i in cols:\n",
        "        etemp=self.split_function(df,self.target_name,i)\n",
        "        maxig=maxig if maxig[0]>etemp else [etemp,i]\n",
        "      node=self.Node(maxig[1],maxig[0],parent.level+1)\n",
        "     \n",
        "      c=copy.deepcopy(cols)\n",
        "      \n",
        "      c.remove(node.name)\n",
        "      name=str(node)\n",
        "      if name in self.gnodes:\n",
        "        name+=str(self.cnt)\n",
        "        self.cnt+=1\n",
        "      else:\n",
        "        self.gnodes.append(name)\n",
        "      node.gname=name\n",
        "      self.tree.g.node(name,str(node))\n",
        "      parent.insert_child(node)\n",
        "      parent.insert_edge(k)\n",
        "      self.tree.g.edge(str(parent.gname),name,label=str(k))\n",
        "      self.construct_help(df[df[parent.name]==k],c,node)\n",
        "      \n",
        "  def predict(self,instances,trace=False):\n",
        "    node=self.tree.root\n",
        "    op=[]\n",
        "    if isinstance(instances,dict):\n",
        "      return self.predict_help(node,instances,trace,\"\")\n",
        "    if isinstance(instances,list):\n",
        "      \n",
        "      for instance in instances:\n",
        "        op.append(self.predict_help(node,instance,trace,\"\"))\n",
        "    else:\n",
        "      n=len(instances)\n",
        "      for i in range(n):\n",
        "        instance=data.iloc[i].to_dict()\n",
        "        op.append(self.predict_help(node,instance,trace,\"\"))\n",
        "    return op\n",
        "\n",
        "  def predict_help(self,node,instance,trace,path):\n",
        "    if node.name in self.output_classes:\n",
        "      if trace:\n",
        "        print(path+str(node))\n",
        "      return node.name\n",
        "    value=instance[node.name]\n",
        "    try:\n",
        "      path+=str(node)+\" ( \"+str(value)+\" ) ->\"\n",
        "      ind=node.edges.index(value)\n",
        "      return self.predict_help(node.childs[ind],instance,trace,path)\n",
        "    except Exception as e:\n",
        "      return \"Not valid instance, path: \"+path\n",
        "  \n",
        "  ## Inner classes ##\n",
        "  class Node:\n",
        "    ## Countructor ##\n",
        "    def __init__(self,name,ig,level):\n",
        "      self.name=name\n",
        "      self.ig=ig\n",
        "      self.childs=[]\n",
        "      self.edges=[]\n",
        "      self.gname=''\n",
        "      self.level=level\n",
        "\n",
        "    ## Instance Methods ##\n",
        "\n",
        "    def insert_child(self,node):\n",
        "      self.childs.append(node)\n",
        "\n",
        "    def insert_edge(self,edge):\n",
        "      self.edges.append(edge)\n",
        "\n",
        "    def printn(self):\n",
        "      if self.childs:\n",
        "        print(''.join(['-']*31))\n",
        "        print('|{:^15} - level - {:^2} | '.format(self.name,self.level),list(zip(self.edges,list(map(str,self.childs)))))\n",
        "        print(''.join(['-']*31))\n",
        "      \n",
        "    def __str__(self):\n",
        "      return str(self.name)\n",
        "\n",
        "  class Tree:\n",
        "\n",
        "    ## Countructor ##\n",
        "    def __init__(self):\n",
        "      self.root=None\n",
        "      self.g=Digraph(encoding='utf-8')\n",
        "      self.no_leafs=0\n",
        "\n",
        "    ## Instance Methods ##\n",
        "\n",
        "    def insert_root(self,node):\n",
        "      self.root=node\n",
        "\n",
        "    def printt(self):\n",
        "      self.print_help(self.root)\n",
        "\n",
        "    def print_help(self,node):\n",
        "      if node:\n",
        "        node.printn()\n",
        "      for i in node.childs:\n",
        "        self.print_help(i)"
      ],
      "metadata": {
        "id": "id5zpEHsz9uY"
      },
      "execution_count": 91,
      "outputs": []
    },
    {
      "cell_type": "code",
      "source": [
        "d=DecisionTree(data,target_name,split_function=\"IG\")"
      ],
      "metadata": {
        "id": "OFMbtje11lrz"
      },
      "execution_count": 92,
      "outputs": []
    },
    {
      "cell_type": "code",
      "source": [
        "d.construct()"
      ],
      "metadata": {
        "id": "EDWt9Tv35vp4"
      },
      "execution_count": 93,
      "outputs": []
    },
    {
      "cell_type": "code",
      "source": [
        "d.getGraph()"
      ],
      "metadata": {
        "colab": {
          "base_uri": "https://localhost:8080/",
          "height": 312
        },
        "id": "W7Q1YW9pyk6C",
        "outputId": "69c53dd7-56b1-4033-a7a9-823acd09e9f8"
      },
      "execution_count": 94,
      "outputs": [
        {
          "output_type": "execute_result",
          "data": {
            "text/plain": [
              "<graphviz.dot.Digraph at 0x7f613bd0a810>"
            ],
            "image/svg+xml": "<?xml version=\"1.0\" encoding=\"UTF-8\" standalone=\"no\"?>\n<!DOCTYPE svg PUBLIC \"-//W3C//DTD SVG 1.1//EN\"\n \"http://www.w3.org/Graphics/SVG/1.1/DTD/svg11.dtd\">\n<!-- Generated by graphviz version 2.40.1 (20161225.0304)\n -->\n<!-- Title: %3 Pages: 1 -->\n<svg width=\"289pt\" height=\"218pt\"\n viewBox=\"0.00 0.00 289.00 218.00\" xmlns=\"http://www.w3.org/2000/svg\" xmlns:xlink=\"http://www.w3.org/1999/xlink\">\n<g id=\"graph0\" class=\"graph\" transform=\"scale(1 1) rotate(0) translate(4 214)\">\n<title>%3</title>\n<polygon fill=\"#ffffff\" stroke=\"transparent\" points=\"-4,4 -4,-214 285,-214 285,4 -4,4\"/>\n<!-- Outlook -->\n<g id=\"node1\" class=\"node\">\n<title>Outlook</title>\n<ellipse fill=\"none\" stroke=\"#000000\" cx=\"132\" cy=\"-192\" rx=\"42.4939\" ry=\"18\"/>\n<text text-anchor=\"middle\" x=\"132\" y=\"-188.3\" font-family=\"Times,serif\" font-size=\"14.00\" fill=\"#000000\">Outlook</text>\n</g>\n<!-- wind -->\n<g id=\"node2\" class=\"node\">\n<title>wind</title>\n<ellipse fill=\"none\" stroke=\"#000000\" cx=\"57\" cy=\"-105\" rx=\"29.795\" ry=\"18\"/>\n<text text-anchor=\"middle\" x=\"57\" y=\"-101.3\" font-family=\"Times,serif\" font-size=\"14.00\" fill=\"#000000\">wind</text>\n</g>\n<!-- Outlook&#45;&gt;wind -->\n<g id=\"edge1\" class=\"edge\">\n<title>Outlook&#45;&gt;wind</title>\n<path fill=\"none\" stroke=\"#000000\" d=\"M117.1824,-174.8116C105.8002,-161.6082 89.9522,-143.2245 77.3762,-128.6363\"/>\n<polygon fill=\"#000000\" stroke=\"#000000\" points=\"79.9556,-126.2681 70.7753,-120.9793 74.6537,-130.8387 79.9556,-126.2681\"/>\n<text text-anchor=\"middle\" x=\"110\" y=\"-144.8\" font-family=\"Times,serif\" font-size=\"14.00\" fill=\"#000000\">rain</text>\n</g>\n<!-- yes2 -->\n<g id=\"node5\" class=\"node\">\n<title>yes2</title>\n<ellipse fill=\"none\" stroke=\"#000000\" cx=\"132\" cy=\"-105\" rx=\"27\" ry=\"18\"/>\n<text text-anchor=\"middle\" x=\"132\" y=\"-101.3\" font-family=\"Times,serif\" font-size=\"14.00\" fill=\"#000000\">yes</text>\n</g>\n<!-- Outlook&#45;&gt;yes2 -->\n<g id=\"edge4\" class=\"edge\">\n<title>Outlook&#45;&gt;yes2</title>\n<path fill=\"none\" stroke=\"#000000\" d=\"M132,-173.9735C132,-162.1918 132,-146.5607 132,-133.1581\"/>\n<polygon fill=\"#000000\" stroke=\"#000000\" points=\"135.5001,-133.0033 132,-123.0034 128.5001,-133.0034 135.5001,-133.0033\"/>\n<text text-anchor=\"middle\" x=\"155.5\" y=\"-144.8\" font-family=\"Times,serif\" font-size=\"14.00\" fill=\"#000000\">overcast</text>\n</g>\n<!-- Humidity -->\n<g id=\"node6\" class=\"node\">\n<title>Humidity</title>\n<ellipse fill=\"none\" stroke=\"#000000\" cx=\"224\" cy=\"-105\" rx=\"46.5926\" ry=\"18\"/>\n<text text-anchor=\"middle\" x=\"224\" y=\"-101.3\" font-family=\"Times,serif\" font-size=\"14.00\" fill=\"#000000\">Humidity</text>\n</g>\n<!-- Outlook&#45;&gt;Humidity -->\n<g id=\"edge5\" class=\"edge\">\n<title>Outlook&#45;&gt;Humidity</title>\n<path fill=\"none\" stroke=\"#000000\" d=\"M156.1573,-176.9838C165.019,-170.9636 174.8639,-163.6431 183,-156 191.0731,-148.4161 198.944,-139.2112 205.5956,-130.7202\"/>\n<polygon fill=\"#000000\" stroke=\"#000000\" points=\"208.5381,-132.6328 211.8032,-122.5536 202.9653,-128.3968 208.5381,-132.6328\"/>\n<text text-anchor=\"middle\" x=\"215\" y=\"-144.8\" font-family=\"Times,serif\" font-size=\"14.00\" fill=\"#000000\">sunny</text>\n</g>\n<!-- no0 -->\n<g id=\"node3\" class=\"node\">\n<title>no0</title>\n<ellipse fill=\"none\" stroke=\"#000000\" cx=\"27\" cy=\"-18\" rx=\"27\" ry=\"18\"/>\n<text text-anchor=\"middle\" x=\"27\" y=\"-14.3\" font-family=\"Times,serif\" font-size=\"14.00\" fill=\"#000000\">no</text>\n</g>\n<!-- wind&#45;&gt;no0 -->\n<g id=\"edge2\" class=\"edge\">\n<title>wind&#45;&gt;no0</title>\n<path fill=\"none\" stroke=\"#000000\" d=\"M48.0115,-87.7072C45.1987,-81.8669 42.2464,-75.2435 40,-69 37.3628,-61.6705 35.0404,-53.5669 33.1156,-46.0176\"/>\n<polygon fill=\"#000000\" stroke=\"#000000\" points=\"36.4927,-45.0918 30.745,-36.1915 29.6879,-46.7335 36.4927,-45.0918\"/>\n<text text-anchor=\"middle\" x=\"58.5\" y=\"-57.8\" font-family=\"Times,serif\" font-size=\"14.00\" fill=\"#000000\">strong</text>\n</g>\n<!-- yes1 -->\n<g id=\"node4\" class=\"node\">\n<title>yes1</title>\n<ellipse fill=\"none\" stroke=\"#000000\" cx=\"99\" cy=\"-18\" rx=\"27\" ry=\"18\"/>\n<text text-anchor=\"middle\" x=\"99\" y=\"-14.3\" font-family=\"Times,serif\" font-size=\"14.00\" fill=\"#000000\">yes</text>\n</g>\n<!-- wind&#45;&gt;yes1 -->\n<g id=\"edge3\" class=\"edge\">\n<title>wind&#45;&gt;yes1</title>\n<path fill=\"none\" stroke=\"#000000\" d=\"M66.9168,-87.9725C70.2513,-82.0364 73.9071,-75.2872 77,-69 80.771,-61.3344 84.5668,-52.8665 87.9185,-45.0696\"/>\n<polygon fill=\"#000000\" stroke=\"#000000\" points=\"91.2247,-46.2373 91.8913,-35.6634 84.7762,-43.5137 91.2247,-46.2373\"/>\n<text text-anchor=\"middle\" x=\"99.5\" y=\"-57.8\" font-family=\"Times,serif\" font-size=\"14.00\" fill=\"#000000\">weak</text>\n</g>\n<!-- no3 -->\n<g id=\"node7\" class=\"node\">\n<title>no3</title>\n<ellipse fill=\"none\" stroke=\"#000000\" cx=\"182\" cy=\"-18\" rx=\"27\" ry=\"18\"/>\n<text text-anchor=\"middle\" x=\"182\" y=\"-14.3\" font-family=\"Times,serif\" font-size=\"14.00\" fill=\"#000000\">no</text>\n</g>\n<!-- Humidity&#45;&gt;no3 -->\n<g id=\"edge6\" class=\"edge\">\n<title>Humidity&#45;&gt;no3</title>\n<path fill=\"none\" stroke=\"#000000\" d=\"M214.9431,-87.0963C212.0559,-81.333 208.8674,-74.9095 206,-69 202.1734,-61.1136 198.0863,-52.5019 194.3894,-44.638\"/>\n<polygon fill=\"#000000\" stroke=\"#000000\" points=\"197.5281,-43.0875 190.1173,-35.5159 191.1888,-46.0564 197.5281,-43.0875\"/>\n<text text-anchor=\"middle\" x=\"219.5\" y=\"-57.8\" font-family=\"Times,serif\" font-size=\"14.00\" fill=\"#000000\">high</text>\n</g>\n<!-- yes4 -->\n<g id=\"node8\" class=\"node\">\n<title>yes4</title>\n<ellipse fill=\"none\" stroke=\"#000000\" cx=\"254\" cy=\"-18\" rx=\"27\" ry=\"18\"/>\n<text text-anchor=\"middle\" x=\"254\" y=\"-14.3\" font-family=\"Times,serif\" font-size=\"14.00\" fill=\"#000000\">yes</text>\n</g>\n<!-- Humidity&#45;&gt;yes4 -->\n<g id=\"edge7\" class=\"edge\">\n<title>Humidity&#45;&gt;yes4</title>\n<path fill=\"none\" stroke=\"#000000\" d=\"M230.216,-86.9735C234.3463,-74.9958 239.8484,-59.0396 244.5203,-45.4912\"/>\n<polygon fill=\"#000000\" stroke=\"#000000\" points=\"247.9434,-46.3004 247.8946,-35.7057 241.3258,-44.0184 247.9434,-46.3004\"/>\n<text text-anchor=\"middle\" x=\"260.5\" y=\"-57.8\" font-family=\"Times,serif\" font-size=\"14.00\" fill=\"#000000\">normal</text>\n</g>\n</g>\n</svg>\n"
          },
          "metadata": {},
          "execution_count": 94
        }
      ]
    },
    {
      "cell_type": "code",
      "source": [
        "print(d.tree.no_leafs)"
      ],
      "metadata": {
        "colab": {
          "base_uri": "https://localhost:8080/"
        },
        "id": "rMXXe-Ny_HQk",
        "outputId": "0dd0ef09-4142-4689-fc17-b15c978ec649"
      },
      "execution_count": 95,
      "outputs": [
        {
          "output_type": "stream",
          "name": "stdout",
          "text": [
            "5\n"
          ]
        }
      ]
    },
    {
      "cell_type": "code",
      "source": [
        "inp=[]\n",
        "n=1000\n",
        "n=n if n < len(test_df) else len(test_df)\n",
        "for i in range(n):\n",
        "  inp.append(test_df.iloc[i].to_dict())\n",
        "print(d.predict(inp))"
      ],
      "metadata": {
        "id": "rc2RvfZ1E_I5",
        "colab": {
          "base_uri": "https://localhost:8080/"
        },
        "outputId": "b10a23f4-f59a-4979-a566-844f4fb550c8"
      },
      "execution_count": 96,
      "outputs": [
        {
          "output_type": "stream",
          "name": "stdout",
          "text": [
            "['yes', 'yes', 'no', 'no']\n"
          ]
        }
      ]
    },
    {
      "cell_type": "code",
      "source": [
        "d.tree.printt()"
      ],
      "metadata": {
        "id": "YDlC1Uz83Fo3",
        "colab": {
          "base_uri": "https://localhost:8080/"
        },
        "outputId": "1bf25f8b-a541-4301-a7af-bb598c7e250e"
      },
      "execution_count": 97,
      "outputs": [
        {
          "output_type": "stream",
          "name": "stdout",
          "text": [
            "-------------------------------\n",
            "|    Outlook     - level - 0  |  [('rain', 'wind'), ('overcast', 'yes'), ('sunny', 'Humidity')]\n",
            "-------------------------------\n",
            "-------------------------------\n",
            "|     wind       - level - 1  |  [('strong', 'no'), ('weak', 'yes')]\n",
            "-------------------------------\n",
            "-------------------------------\n",
            "|   Humidity     - level - 1  |  [('high', 'no'), ('normal', 'yes')]\n",
            "-------------------------------\n"
          ]
        }
      ]
    },
    {
      "cell_type": "code",
      "source": [
        "o=list(enumerate(d.predict(data)))\n",
        "o"
      ],
      "metadata": {
        "colab": {
          "base_uri": "https://localhost:8080/"
        },
        "id": "s0NCJaBZ1pU_",
        "outputId": "23f7518c-b8d2-414c-bace-2f7185b2971f"
      },
      "execution_count": 98,
      "outputs": [
        {
          "output_type": "execute_result",
          "data": {
            "text/plain": [
              "[(0, 'no'),\n",
              " (1, 'no'),\n",
              " (2, 'yes'),\n",
              " (3, 'yes'),\n",
              " (4, 'yes'),\n",
              " (5, 'no'),\n",
              " (6, 'yes'),\n",
              " (7, 'no'),\n",
              " (8, 'yes'),\n",
              " (9, 'yes'),\n",
              " (10, 'yes'),\n",
              " (11, 'yes'),\n",
              " (12, 'yes'),\n",
              " (13, 'no')]"
            ]
          },
          "metadata": {},
          "execution_count": 98
        }
      ]
    },
    {
      "cell_type": "code",
      "source": [
        "data[target_name]"
      ],
      "metadata": {
        "id": "axUlr-sBF5WR",
        "colab": {
          "base_uri": "https://localhost:8080/"
        },
        "outputId": "82be3a71-4286-4ab3-ae38-0b42f181477d"
      },
      "execution_count": 99,
      "outputs": [
        {
          "output_type": "execute_result",
          "data": {
            "text/plain": [
              "0      no\n",
              "1      no\n",
              "2     yes\n",
              "3     yes\n",
              "4     yes\n",
              "5      no\n",
              "6     yes\n",
              "7      no\n",
              "8     yes\n",
              "9     yes\n",
              "10    yes\n",
              "11    yes\n",
              "12    yes\n",
              "13     no\n",
              "Name: PlayTennis, dtype: object"
            ]
          },
          "metadata": {},
          "execution_count": 99
        }
      ]
    },
    {
      "cell_type": "code",
      "source": [
        "count=0\n",
        "for i in o:\n",
        "  if i[1]=='Not valid instance':\n",
        "    print(\"Something went wrong\")\n",
        "    count+=1\n",
        "print(count)"
      ],
      "metadata": {
        "id": "QJaEpB60H2wE",
        "colab": {
          "base_uri": "https://localhost:8080/"
        },
        "outputId": "92316a14-0763-47a7-f4b7-8251b250b840"
      },
      "execution_count": 100,
      "outputs": [
        {
          "output_type": "stream",
          "name": "stdout",
          "text": [
            "0\n"
          ]
        }
      ]
    },
    {
      "cell_type": "code",
      "source": [
        "print(df.iloc[0].to_dict())\n",
        "d.predict(df.iloc[0].to_dict(),trace=True)"
      ],
      "metadata": {
        "id": "EVF9hTDVFaze",
        "colab": {
          "base_uri": "https://localhost:8080/",
          "height": 70
        },
        "outputId": "ee2a65eb-f91a-4a15-e985-c876c50299b5"
      },
      "execution_count": 101,
      "outputs": [
        {
          "output_type": "stream",
          "name": "stdout",
          "text": [
            "{'Outlook': 'rain', 'Temperature': 'cool', 'Humidity': 'normal', 'wind': 'strong', 'PlayTennis': 'no'}\n",
            "Outlook ( rain ) ->wind ( strong ) ->no\n"
          ]
        },
        {
          "output_type": "execute_result",
          "data": {
            "text/plain": [
              "'no'"
            ],
            "application/vnd.google.colaboratory.intrinsic+json": {
              "type": "string"
            }
          },
          "metadata": {},
          "execution_count": 101
        }
      ]
    }
  ]
}