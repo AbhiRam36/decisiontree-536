{
  "nbformat": 4,
  "nbformat_minor": 0,
  "metadata": {
    "colab": {
      "provenance": [],
      "collapsed_sections": [],
      "authorship_tag": "ABX9TyNV/fJ1XHo4oz6+UTjlRy8N",
      "include_colab_link": true
    },
    "kernelspec": {
      "name": "python3",
      "display_name": "Python 3"
    },
    "language_info": {
      "name": "python"
    }
  },
  "cells": [
    {
      "cell_type": "markdown",
      "metadata": {
        "id": "view-in-github",
        "colab_type": "text"
      },
      "source": [
        "<a href=\"https://colab.research.google.com/github/AbhiRam36/decisiontree-536/blob/main/decisionTree4.ipynb\" target=\"_parent\"><img src=\"https://colab.research.google.com/assets/colab-badge.svg\" alt=\"Open In Colab\"/></a>"
      ]
    },
    {
      "cell_type": "code",
      "execution_count": 229,
      "metadata": {
        "id": "Z5To_3qQJJQ5"
      },
      "outputs": [],
      "source": [
        "import numpy as np\n",
        "import pandas as pd\n",
        "import matplotlib.pyplot as mtp\n",
        "from math import*"
      ]
    },
    {
      "cell_type": "code",
      "source": [
        "import copy\n",
        "from graphviz import Digraph"
      ],
      "metadata": {
        "id": "QC_h8NuXt2Vl"
      },
      "execution_count": 230,
      "outputs": []
    },
    {
      "cell_type": "code",
      "source": [
        "dataset='echo'\n",
        "split_func='IG'"
      ],
      "metadata": {
        "id": "KXVAoEzVt9Ol"
      },
      "execution_count": 295,
      "outputs": []
    },
    {
      "cell_type": "code",
      "source": [
        "datasets={'weather':['https://raw.githubusercontent.com/AbhiRam36/decisiontree-536/main/eighthr.data.csv','0'],'dermatology':['https://raw.githubusercontent.com/AbhiRam36/decisiontree-536/main/dermatology.data.csv','2'],'echo':['https://raw.githubusercontent.com/AbhiRam36/decisiontree-536/main/echocardiogram.data.csv','71'],'lymphography':['https://raw.githubusercontent.com/AbhiRam36/decisiontree-536/main/lymph.csv','lymphatics'],'heart':['https://raw.githubusercontent.com/AbhiRam36/decisiontree-536/main/SPECTF.train.csv' ,'1']}"
      ],
      "metadata": {
        "id": "zuD0chwFt--r"
      },
      "execution_count": 296,
      "outputs": []
    },
    {
      "cell_type": "code",
      "source": [
        "dataset_url,target_name=datasets[dataset]\n",
        "data=pd.read_csv(dataset_url,error_bad_lines=False)\n",
        "data=data.applymap(lambda x: x.strip() if isinstance(x, str) else x)"
      ],
      "metadata": {
        "colab": {
          "base_uri": "https://localhost:8080/"
        },
        "id": "HniAte_qxHdQ",
        "outputId": "464d5c22-c0df-461a-ba9e-a13a77f6a965"
      },
      "execution_count": 298,
      "outputs": [
        {
          "output_type": "stream",
          "name": "stderr",
          "text": [
            "/usr/local/lib/python3.7/dist-packages/IPython/core/interactiveshell.py:3326: FutureWarning: The error_bad_lines argument has been deprecated and will be removed in a future version.\n",
            "\n",
            "\n",
            "  exec(code_obj, self.user_global_ns, self.user_ns)\n",
            "b'Skipping line 50: expected 13 fields, saw 14\\n'\n"
          ]
        }
      ]
    },
    {
      "cell_type": "code",
      "source": [
        "print(data)"
      ],
      "metadata": {
        "colab": {
          "base_uri": "https://localhost:8080/"
        },
        "id": "xoCYa7SCxaFP",
        "outputId": "4d8976e2-e534-424a-84fd-8a2744da43ca"
      },
      "execution_count": 299,
      "outputs": [
        {
          "output_type": "stream",
          "name": "stdout",
          "text": [
            "      11  0  71  0.1  0.260       9  4.600    14      1    1.1  name 1.2 0.2\n",
            "0     19  0  72    0  0.380       6  4.100    14  1.700  0.588  name   1   0\n",
            "1     16  0  55    0  0.260       4  3.420    14      1      1  name   1   0\n",
            "2     57  0  60    0  0.253  12.062  4.603    16  1.450  0.788  name   1   0\n",
            "3     19  1  57    0  0.160      22  5.750    18  2.250  0.571  name   1   0\n",
            "4     26  0  68    0  0.260       5  4.310    12      1  0.857  name   1   0\n",
            "..   ... ..  ..  ...    ...     ...    ...   ...    ...    ...   ...  ..  ..\n",
            "125  7.5  1  64    0   0.24    12.9   4.72    12      1  0.857  name   ?   ?\n",
            "126   41  0  64    0   0.28    5.40   5.47    11   1.10  0.714  name   ?   ?\n",
            "127   36  0  69    0   0.20    7.00   5.05  14.5   1.21  0.857  name   ?   ?\n",
            "128   22  0  57    0   0.14    16.1   4.36    15   1.36  0.786  name   ?   ?\n",
            "129   20  0  62    0   0.15       0   4.51  15.5  1.409  0.786  name   ?   ?\n",
            "\n",
            "[130 rows x 13 columns]\n"
          ]
        }
      ]
    },
    {
      "cell_type": "code",
      "source": [
        "data"
      ],
      "metadata": {
        "colab": {
          "base_uri": "https://localhost:8080/",
          "height": 419
        },
        "id": "E4v2DrfBxe2N",
        "outputId": "c0a13fa0-9b3e-4754-8086-9ecb9f3d943b"
      },
      "execution_count": 300,
      "outputs": [
        {
          "output_type": "execute_result",
          "data": {
            "text/plain": [
              "      11  0  71  0.1  0.260       9  4.600    14      1    1.1  name 1.2 0.2\n",
              "0     19  0  72    0  0.380       6  4.100    14  1.700  0.588  name   1   0\n",
              "1     16  0  55    0  0.260       4  3.420    14      1      1  name   1   0\n",
              "2     57  0  60    0  0.253  12.062  4.603    16  1.450  0.788  name   1   0\n",
              "3     19  1  57    0  0.160      22  5.750    18  2.250  0.571  name   1   0\n",
              "4     26  0  68    0  0.260       5  4.310    12      1  0.857  name   1   0\n",
              "..   ... ..  ..  ...    ...     ...    ...   ...    ...    ...   ...  ..  ..\n",
              "125  7.5  1  64    0   0.24    12.9   4.72    12      1  0.857  name   ?   ?\n",
              "126   41  0  64    0   0.28    5.40   5.47    11   1.10  0.714  name   ?   ?\n",
              "127   36  0  69    0   0.20    7.00   5.05  14.5   1.21  0.857  name   ?   ?\n",
              "128   22  0  57    0   0.14    16.1   4.36    15   1.36  0.786  name   ?   ?\n",
              "129   20  0  62    0   0.15       0   4.51  15.5  1.409  0.786  name   ?   ?\n",
              "\n",
              "[130 rows x 13 columns]"
            ],
            "text/html": [
              "\n",
              "  <div id=\"df-8d7f96ed-a3af-4653-9051-d17dcfed2502\">\n",
              "    <div class=\"colab-df-container\">\n",
              "      <div>\n",
              "<style scoped>\n",
              "    .dataframe tbody tr th:only-of-type {\n",
              "        vertical-align: middle;\n",
              "    }\n",
              "\n",
              "    .dataframe tbody tr th {\n",
              "        vertical-align: top;\n",
              "    }\n",
              "\n",
              "    .dataframe thead th {\n",
              "        text-align: right;\n",
              "    }\n",
              "</style>\n",
              "<table border=\"1\" class=\"dataframe\">\n",
              "  <thead>\n",
              "    <tr style=\"text-align: right;\">\n",
              "      <th></th>\n",
              "      <th>11</th>\n",
              "      <th>0</th>\n",
              "      <th>71</th>\n",
              "      <th>0.1</th>\n",
              "      <th>0.260</th>\n",
              "      <th>9</th>\n",
              "      <th>4.600</th>\n",
              "      <th>14</th>\n",
              "      <th>1</th>\n",
              "      <th>1.1</th>\n",
              "      <th>name</th>\n",
              "      <th>1.2</th>\n",
              "      <th>0.2</th>\n",
              "    </tr>\n",
              "  </thead>\n",
              "  <tbody>\n",
              "    <tr>\n",
              "      <th>0</th>\n",
              "      <td>19</td>\n",
              "      <td>0</td>\n",
              "      <td>72</td>\n",
              "      <td>0</td>\n",
              "      <td>0.380</td>\n",
              "      <td>6</td>\n",
              "      <td>4.100</td>\n",
              "      <td>14</td>\n",
              "      <td>1.700</td>\n",
              "      <td>0.588</td>\n",
              "      <td>name</td>\n",
              "      <td>1</td>\n",
              "      <td>0</td>\n",
              "    </tr>\n",
              "    <tr>\n",
              "      <th>1</th>\n",
              "      <td>16</td>\n",
              "      <td>0</td>\n",
              "      <td>55</td>\n",
              "      <td>0</td>\n",
              "      <td>0.260</td>\n",
              "      <td>4</td>\n",
              "      <td>3.420</td>\n",
              "      <td>14</td>\n",
              "      <td>1</td>\n",
              "      <td>1</td>\n",
              "      <td>name</td>\n",
              "      <td>1</td>\n",
              "      <td>0</td>\n",
              "    </tr>\n",
              "    <tr>\n",
              "      <th>2</th>\n",
              "      <td>57</td>\n",
              "      <td>0</td>\n",
              "      <td>60</td>\n",
              "      <td>0</td>\n",
              "      <td>0.253</td>\n",
              "      <td>12.062</td>\n",
              "      <td>4.603</td>\n",
              "      <td>16</td>\n",
              "      <td>1.450</td>\n",
              "      <td>0.788</td>\n",
              "      <td>name</td>\n",
              "      <td>1</td>\n",
              "      <td>0</td>\n",
              "    </tr>\n",
              "    <tr>\n",
              "      <th>3</th>\n",
              "      <td>19</td>\n",
              "      <td>1</td>\n",
              "      <td>57</td>\n",
              "      <td>0</td>\n",
              "      <td>0.160</td>\n",
              "      <td>22</td>\n",
              "      <td>5.750</td>\n",
              "      <td>18</td>\n",
              "      <td>2.250</td>\n",
              "      <td>0.571</td>\n",
              "      <td>name</td>\n",
              "      <td>1</td>\n",
              "      <td>0</td>\n",
              "    </tr>\n",
              "    <tr>\n",
              "      <th>4</th>\n",
              "      <td>26</td>\n",
              "      <td>0</td>\n",
              "      <td>68</td>\n",
              "      <td>0</td>\n",
              "      <td>0.260</td>\n",
              "      <td>5</td>\n",
              "      <td>4.310</td>\n",
              "      <td>12</td>\n",
              "      <td>1</td>\n",
              "      <td>0.857</td>\n",
              "      <td>name</td>\n",
              "      <td>1</td>\n",
              "      <td>0</td>\n",
              "    </tr>\n",
              "    <tr>\n",
              "      <th>...</th>\n",
              "      <td>...</td>\n",
              "      <td>...</td>\n",
              "      <td>...</td>\n",
              "      <td>...</td>\n",
              "      <td>...</td>\n",
              "      <td>...</td>\n",
              "      <td>...</td>\n",
              "      <td>...</td>\n",
              "      <td>...</td>\n",
              "      <td>...</td>\n",
              "      <td>...</td>\n",
              "      <td>...</td>\n",
              "      <td>...</td>\n",
              "    </tr>\n",
              "    <tr>\n",
              "      <th>125</th>\n",
              "      <td>7.5</td>\n",
              "      <td>1</td>\n",
              "      <td>64</td>\n",
              "      <td>0</td>\n",
              "      <td>0.24</td>\n",
              "      <td>12.9</td>\n",
              "      <td>4.72</td>\n",
              "      <td>12</td>\n",
              "      <td>1</td>\n",
              "      <td>0.857</td>\n",
              "      <td>name</td>\n",
              "      <td>?</td>\n",
              "      <td>?</td>\n",
              "    </tr>\n",
              "    <tr>\n",
              "      <th>126</th>\n",
              "      <td>41</td>\n",
              "      <td>0</td>\n",
              "      <td>64</td>\n",
              "      <td>0</td>\n",
              "      <td>0.28</td>\n",
              "      <td>5.40</td>\n",
              "      <td>5.47</td>\n",
              "      <td>11</td>\n",
              "      <td>1.10</td>\n",
              "      <td>0.714</td>\n",
              "      <td>name</td>\n",
              "      <td>?</td>\n",
              "      <td>?</td>\n",
              "    </tr>\n",
              "    <tr>\n",
              "      <th>127</th>\n",
              "      <td>36</td>\n",
              "      <td>0</td>\n",
              "      <td>69</td>\n",
              "      <td>0</td>\n",
              "      <td>0.20</td>\n",
              "      <td>7.00</td>\n",
              "      <td>5.05</td>\n",
              "      <td>14.5</td>\n",
              "      <td>1.21</td>\n",
              "      <td>0.857</td>\n",
              "      <td>name</td>\n",
              "      <td>?</td>\n",
              "      <td>?</td>\n",
              "    </tr>\n",
              "    <tr>\n",
              "      <th>128</th>\n",
              "      <td>22</td>\n",
              "      <td>0</td>\n",
              "      <td>57</td>\n",
              "      <td>0</td>\n",
              "      <td>0.14</td>\n",
              "      <td>16.1</td>\n",
              "      <td>4.36</td>\n",
              "      <td>15</td>\n",
              "      <td>1.36</td>\n",
              "      <td>0.786</td>\n",
              "      <td>name</td>\n",
              "      <td>?</td>\n",
              "      <td>?</td>\n",
              "    </tr>\n",
              "    <tr>\n",
              "      <th>129</th>\n",
              "      <td>20</td>\n",
              "      <td>0</td>\n",
              "      <td>62</td>\n",
              "      <td>0</td>\n",
              "      <td>0.15</td>\n",
              "      <td>0</td>\n",
              "      <td>4.51</td>\n",
              "      <td>15.5</td>\n",
              "      <td>1.409</td>\n",
              "      <td>0.786</td>\n",
              "      <td>name</td>\n",
              "      <td>?</td>\n",
              "      <td>?</td>\n",
              "    </tr>\n",
              "  </tbody>\n",
              "</table>\n",
              "<p>130 rows × 13 columns</p>\n",
              "</div>\n",
              "      <button class=\"colab-df-convert\" onclick=\"convertToInteractive('df-8d7f96ed-a3af-4653-9051-d17dcfed2502')\"\n",
              "              title=\"Convert this dataframe to an interactive table.\"\n",
              "              style=\"display:none;\">\n",
              "        \n",
              "  <svg xmlns=\"http://www.w3.org/2000/svg\" height=\"24px\"viewBox=\"0 0 24 24\"\n",
              "       width=\"24px\">\n",
              "    <path d=\"M0 0h24v24H0V0z\" fill=\"none\"/>\n",
              "    <path d=\"M18.56 5.44l.94 2.06.94-2.06 2.06-.94-2.06-.94-.94-2.06-.94 2.06-2.06.94zm-11 1L8.5 8.5l.94-2.06 2.06-.94-2.06-.94L8.5 2.5l-.94 2.06-2.06.94zm10 10l.94 2.06.94-2.06 2.06-.94-2.06-.94-.94-2.06-.94 2.06-2.06.94z\"/><path d=\"M17.41 7.96l-1.37-1.37c-.4-.4-.92-.59-1.43-.59-.52 0-1.04.2-1.43.59L10.3 9.45l-7.72 7.72c-.78.78-.78 2.05 0 2.83L4 21.41c.39.39.9.59 1.41.59.51 0 1.02-.2 1.41-.59l7.78-7.78 2.81-2.81c.8-.78.8-2.07 0-2.86zM5.41 20L4 18.59l7.72-7.72 1.47 1.35L5.41 20z\"/>\n",
              "  </svg>\n",
              "      </button>\n",
              "      \n",
              "  <style>\n",
              "    .colab-df-container {\n",
              "      display:flex;\n",
              "      flex-wrap:wrap;\n",
              "      gap: 12px;\n",
              "    }\n",
              "\n",
              "    .colab-df-convert {\n",
              "      background-color: #E8F0FE;\n",
              "      border: none;\n",
              "      border-radius: 50%;\n",
              "      cursor: pointer;\n",
              "      display: none;\n",
              "      fill: #1967D2;\n",
              "      height: 32px;\n",
              "      padding: 0 0 0 0;\n",
              "      width: 32px;\n",
              "    }\n",
              "\n",
              "    .colab-df-convert:hover {\n",
              "      background-color: #E2EBFA;\n",
              "      box-shadow: 0px 1px 2px rgba(60, 64, 67, 0.3), 0px 1px 3px 1px rgba(60, 64, 67, 0.15);\n",
              "      fill: #174EA6;\n",
              "    }\n",
              "\n",
              "    [theme=dark] .colab-df-convert {\n",
              "      background-color: #3B4455;\n",
              "      fill: #D2E3FC;\n",
              "    }\n",
              "\n",
              "    [theme=dark] .colab-df-convert:hover {\n",
              "      background-color: #434B5C;\n",
              "      box-shadow: 0px 1px 3px 1px rgba(0, 0, 0, 0.15);\n",
              "      filter: drop-shadow(0px 1px 2px rgba(0, 0, 0, 0.3));\n",
              "      fill: #FFFFFF;\n",
              "    }\n",
              "  </style>\n",
              "\n",
              "      <script>\n",
              "        const buttonEl =\n",
              "          document.querySelector('#df-8d7f96ed-a3af-4653-9051-d17dcfed2502 button.colab-df-convert');\n",
              "        buttonEl.style.display =\n",
              "          google.colab.kernel.accessAllowed ? 'block' : 'none';\n",
              "\n",
              "        async function convertToInteractive(key) {\n",
              "          const element = document.querySelector('#df-8d7f96ed-a3af-4653-9051-d17dcfed2502');\n",
              "          const dataTable =\n",
              "            await google.colab.kernel.invokeFunction('convertToInteractive',\n",
              "                                                     [key], {});\n",
              "          if (!dataTable) return;\n",
              "\n",
              "          const docLinkHtml = 'Like what you see? Visit the ' +\n",
              "            '<a target=\"_blank\" href=https://colab.research.google.com/notebooks/data_table.ipynb>data table notebook</a>'\n",
              "            + ' to learn more about interactive tables.';\n",
              "          element.innerHTML = '';\n",
              "          dataTable['output_type'] = 'display_data';\n",
              "          await google.colab.output.renderOutput(dataTable, element);\n",
              "          const docLink = document.createElement('div');\n",
              "          docLink.innerHTML = docLinkHtml;\n",
              "          element.appendChild(docLink);\n",
              "        }\n",
              "      </script>\n",
              "    </div>\n",
              "  </div>\n",
              "  "
            ]
          },
          "metadata": {},
          "execution_count": 300
        }
      ]
    },
    {
      "cell_type": "code",
      "source": [
        "print(pd.DataFrame(data))\n",
        "df=pd.DataFrame(data)\n",
        "df.dtypes"
      ],
      "metadata": {
        "colab": {
          "base_uri": "https://localhost:8080/"
        },
        "id": "1J1VP60ZxjvZ",
        "outputId": "727813ab-b987-46c6-897d-8ab345869082"
      },
      "execution_count": 302,
      "outputs": [
        {
          "output_type": "stream",
          "name": "stdout",
          "text": [
            "      11  0  71  0.1  0.260       9  4.600    14      1    1.1  name 1.2 0.2\n",
            "0     19  0  72    0  0.380       6  4.100    14  1.700  0.588  name   1   0\n",
            "1     16  0  55    0  0.260       4  3.420    14      1      1  name   1   0\n",
            "2     57  0  60    0  0.253  12.062  4.603    16  1.450  0.788  name   1   0\n",
            "3     19  1  57    0  0.160      22  5.750    18  2.250  0.571  name   1   0\n",
            "4     26  0  68    0  0.260       5  4.310    12      1  0.857  name   1   0\n",
            "..   ... ..  ..  ...    ...     ...    ...   ...    ...    ...   ...  ..  ..\n",
            "125  7.5  1  64    0   0.24    12.9   4.72    12      1  0.857  name   ?   ?\n",
            "126   41  0  64    0   0.28    5.40   5.47    11   1.10  0.714  name   ?   ?\n",
            "127   36  0  69    0   0.20    7.00   5.05  14.5   1.21  0.857  name   ?   ?\n",
            "128   22  0  57    0   0.14    16.1   4.36    15   1.36  0.786  name   ?   ?\n",
            "129   20  0  62    0   0.15       0   4.51  15.5  1.409  0.786  name   ?   ?\n",
            "\n",
            "[130 rows x 13 columns]\n"
          ]
        },
        {
          "output_type": "execute_result",
          "data": {
            "text/plain": [
              "11       object\n",
              "0         int64\n",
              "71       object\n",
              "0.1       int64\n",
              "0.260    object\n",
              "9        object\n",
              "4.600    object\n",
              "14       object\n",
              "1        object\n",
              "1.1      object\n",
              "name     object\n",
              "1.2      object\n",
              "0.2      object\n",
              "dtype: object"
            ]
          },
          "metadata": {},
          "execution_count": 302
        }
      ]
    },
    {
      "cell_type": "code",
      "source": [
        "print(df.count())\n",
        "print(sum(df[target_name].value_counts().to_dict().values()))"
      ],
      "metadata": {
        "colab": {
          "base_uri": "https://localhost:8080/"
        },
        "id": "cijPelRpxrAp",
        "outputId": "a23bce7f-470c-4b77-c85c-cd85f15894ea"
      },
      "execution_count": 303,
      "outputs": [
        {
          "output_type": "stream",
          "name": "stdout",
          "text": [
            "11       130\n",
            "0        130\n",
            "71       130\n",
            "0.1      130\n",
            "0.260    130\n",
            "9        130\n",
            "4.600    130\n",
            "14       130\n",
            "1        130\n",
            "1.1      130\n",
            "name     130\n",
            "1.2      130\n",
            "0.2      130\n",
            "dtype: int64\n",
            "130\n"
          ]
        }
      ]
    },
    {
      "cell_type": "code",
      "source": [
        "import random\n",
        "def train_test_split(df,test_size):\n",
        "  df=df.sample(frac = 1)\n",
        "  n=len(df)\n",
        "  no_test_rows=int(n*test_size)\n",
        "  l=list(random.sample(list(range(n)), no_test_rows))\n",
        "  test=df.iloc[l]\n",
        "  train=df.drop(l,axis=0)\n",
        "  return train.sample(frac = 1),test.sample(frac = 1)\n",
        "# test_df=data\n",
        "df,test_df=train_test_split(df,0.3)\n",
        "print(len(df),len(test_df))"
      ],
      "metadata": {
        "colab": {
          "base_uri": "https://localhost:8080/"
        },
        "id": "NBNE8JJ70E9V",
        "outputId": "bc37e17d-d09b-4f73-a76b-75be1091ee96"
      },
      "execution_count": 304,
      "outputs": [
        {
          "output_type": "stream",
          "name": "stdout",
          "text": [
            "91 39\n"
          ]
        }
      ]
    },
    {
      "cell_type": "code",
      "source": [
        "class DecisionTree():\n",
        "  \n",
        "  ## Class Member Functions ##\n",
        "\n",
        "  def entropy_help(p):\n",
        "    return -p*log(p,2)\n",
        "  \n",
        "  def getEntropy(df,target_name):  \n",
        "    n=df.count()[0]\n",
        "    target_counts=df[target_name].value_counts().to_dict()\n",
        "    s=0\n",
        "    for p in target_counts.values():\n",
        "      if p/n==1 or p/n==0:\n",
        "        return 0\n",
        "      s+=DecisionTree.entropy_help(p/n)\n",
        "    # print(s)\n",
        "    return s\n",
        "  \n",
        "  def getProbability(df,column,value):\n",
        "    return df[df[column]==value].count()[0]/df.count()[0]\n",
        "  \n",
        "  def informationGain(df,target_name,col):\n",
        "    # print(\"Entropy of \",col,DecisionTree.getEntropy(df,target_name))\n",
        "    total_entropy=DecisionTree.getEntropy(df,target_name)\n",
        "    col_vals_count=df[col].value_counts().to_dict()\n",
        "    sum=0\n",
        "    for value in col_vals_count:\n",
        "      n=col_vals_count[value]\n",
        "      # print(\"Entropy of \",col,value,DecisionTree.getEntropy(df[df[col]==value],target_name))\n",
        "      sum+=(DecisionTree.getEntropy(df[df[col]==value],target_name)*DecisionTree.getProbability(df,col,value))\n",
        "    # print(\"IG: \",target_name,col,total_entropy-sum)\n",
        "    return total_entropy-sum\n",
        "\n",
        "  ## Class Data Members ##\n",
        "\n",
        "  split_functions={'IG':informationGain}\n",
        "  \n",
        "  ## Countructor ##\n",
        "  def __init__(self,df,target_name,split_function=\"IG\",level=-1,leaf_nodes=-1):\n",
        "    self.tree=self.Tree()\n",
        "    self.df=df\n",
        "    self.target_name=target_name\n",
        "    self.cols=list(self.df.columns)\n",
        "    self.cols.remove(self.target_name)\n",
        "    self.cnt=0\n",
        "    self.gnodes=[]\n",
        "    self.level=level\n",
        "    self.leaf_nodes=leaf_nodes\n",
        "    self.rules=[]\n",
        "    self.output_classes=self.df[self.target_name].unique()\n",
        "    if split_function in DecisionTree.split_functions:\n",
        "      self.split_function=DecisionTree.split_functions[split_function]\n",
        "    else:\n",
        "      raise Exception(\"Split function not found\")\n",
        "\n",
        "  ## Instance Methods ##\n",
        "\n",
        "  def getGraph(self):\n",
        "    return self.tree.g\n",
        "\n",
        "  def find_leaf(self,df):\n",
        "    counts=df[self.target_name].value_counts().to_dict()\n",
        "    return max(zip(counts.values(), counts.keys()))[1]\n",
        "    \n",
        "      # unique_vals=list(df[self.target_name].unique())\n",
        "      # for val in unique_vals:      \n",
        "      #   if df[df[self.target_name]==val].count()[0]==df.count()[0]:\n",
        "      #     return val\n",
        "\n",
        "  def construct(self):\n",
        "    maxig=[-1,\"\"]\n",
        "    for i in self.cols:\n",
        "      etemp=self.split_function(df,self.target_name,i)\n",
        "      maxig=maxig if maxig[0]>etemp else [etemp,i]\n",
        "    root=self.Node(maxig[1],maxig[0],0)\n",
        "    self.tree.insert_root(root)\n",
        "    c=copy.deepcopy(self.cols)\n",
        "    c.remove(root.name)\n",
        "    root.gname=str(root)\n",
        "    self.gnodes.append(root)\n",
        "    self.tree.g.node(str(root),str(root))\n",
        "    self.construct_help(df,c,root)\n",
        "\n",
        "  def construct_help(self,df,cols,parent):\n",
        "    if not parent.name:\n",
        "      return\n",
        "    vals=list(df[parent.name].unique())\n",
        "    dftemp=df\n",
        "\n",
        "    for k in vals:\n",
        "      if self.leaf_nodes!=-1 and self.tree.no_leafs>=self.leaf_nodes:\n",
        "        return\n",
        "      df=dftemp\n",
        "      df=df[df[parent.name]==k]\n",
        "      e=DecisionTree.getEntropy(df,self.target_name)\n",
        "\n",
        "      if e==0 or parent.level==self.level-1:\n",
        "        value=self.find_leaf(df)\n",
        "        node=self.Node(value,1,parent.level+1)\n",
        "        node.gname=str(value)\n",
        "        parent.insert_child(node)\n",
        "        parent.insert_edge(k)\n",
        "        self.tree.no_leafs+=1\n",
        "        name=value\n",
        "        if not isinstance(value, str):\n",
        "          name='class'\n",
        "        self.tree.g.node(name+str(self.cnt),str(value))\n",
        "        self.tree.g.edge(str(parent.gname),name+str(self.cnt),label=str(k))\n",
        "        \n",
        "        self.cnt+=1\n",
        "        continue\n",
        "      maxig=[-1,\"\"]\n",
        "      for i in cols:\n",
        "        etemp=self.split_function(df,self.target_name,i)\n",
        "        maxig=maxig if maxig[0]>etemp else [etemp,i]\n",
        "      node=self.Node(maxig[1],maxig[0],parent.level+1)\n",
        "      node.gname=str(node.name)\n",
        "      c=copy.deepcopy(cols)\n",
        "      if node.name in c:\n",
        "        c.remove(node.name)\n",
        "      name=str(node)\n",
        "\n",
        "      # checking if node name already exist in graphviz code\n",
        "      \n",
        "      if name in self.gnodes:\n",
        "        name+=str(self.cnt)\n",
        "        self.cnt+=1\n",
        "      else:\n",
        "        self.gnodes.append(name)\n",
        "      node.gname=name\n",
        "\n",
        "      parent.insert_child(node)\n",
        "      parent.insert_edge(k)\n",
        "\n",
        "      self.tree.g.node(name,str(node))\n",
        "      self.tree.g.edge(str(parent.gname),name,label=str(k))\n",
        "      \n",
        "      self.construct_help(df[df[parent.name]==k],c,node)\n",
        "      \n",
        "  def predict(self,instances,trace=False):\n",
        "    node=self.tree.root\n",
        "    op=[]\n",
        "    if isinstance(instances,dict):\n",
        "      return self.predict_help(node,instances,trace,\"\")\n",
        "    if isinstance(instances,list):\n",
        "      \n",
        "      for instance in instances:\n",
        "        op.append(self.predict_help(node,instance,trace,\"\"))\n",
        "    else:\n",
        "      n=len(instances)\n",
        "      for i in range(n):\n",
        "        instance=data.iloc[i].to_dict()\n",
        "        op.append(self.predict_help(node,instance,trace,\"\"))\n",
        "    return op\n",
        "\n",
        "  def predict_help(self,node,instance,trace,path):\n",
        "    if node.name in self.output_classes:\n",
        "      if trace:\n",
        "        print(path+str(node))\n",
        "      return node.name\n",
        "    value=instance[node.name]\n",
        "    try:\n",
        "      path+=str(node)+\" ( \"+str(value)+\" ) -> \"\n",
        "      ind=node.edges.index(value)\n",
        "      return self.predict_help(node.childs[ind],instance,trace,path)\n",
        "    except Exception as e:\n",
        "      return \"Not valid instance, path: \"+path\n",
        "  def get_rules(self):\n",
        "    node=self.tree.root\n",
        "    self.rules_help(node,str(node.name)+\" -> \")\n",
        "    return self.rules\n",
        "\n",
        "  def rules_help(self,node,path):\n",
        "    for n,e in zip(node.childs,node.edges):\n",
        "      if n.name in self.output_classes:\n",
        "        self.rules.append(\"{} ( {} ) {}\".format(path,str(e),str(n.name)))\n",
        "      self.rules_help(n,\"{} ( {} ) {} -> \".format(path,str(e),str(n.name)))\n",
        "  \n",
        "  ## Inner classes ##\n",
        "  class Node:\n",
        "    ## Countructor ##\n",
        "    def __init__(self,name,ig,level):\n",
        "      self.name=name\n",
        "      self.ig=ig\n",
        "      self.childs=[]\n",
        "      self.edges=[]\n",
        "      self.gname=''\n",
        "      self.level=level\n",
        "\n",
        "    ## Instance Methods ##\n",
        "\n",
        "    def insert_child(self,node):\n",
        "      self.childs.append(node)\n",
        "\n",
        "    def insert_edge(self,edge):\n",
        "      self.edges.append(edge)\n",
        "\n",
        "    def printn(self,edge=\"\"):\n",
        "      # if self.childs:\n",
        "      dashes=\"|\"+\"-\"*(self.level*5)\n",
        "      value=\"( \"+str(edge)+\") \"+str(self.gname) if edge else str(self.gname)\n",
        "      # print(\" \"*(self.level*2+1),''.join(['-']*31))\n",
        "      # print(dashes,'|{:^15} - level - {:^2} | '.format(self.gname,self.level),list(zip(self.edges,list(map(lambda x:x.gname,self.childs)))))\n",
        "      # print(\" \"*(self.level*2+1),''.join(['-']*31))\n",
        "      print(dashes,value)\n",
        "\n",
        "    def __str__(self):\n",
        "      return str(self.name)\n",
        "\n",
        "  class Tree:\n",
        "\n",
        "    ## Countructor ##\n",
        "    def __init__(self):\n",
        "      self.root=None\n",
        "      self.g=Digraph(encoding='utf-8')\n",
        "      self.no_leafs=0\n",
        "\n",
        "    ## Instance Methods ##\n",
        "\n",
        "    def insert_root(self,node):\n",
        "      self.root=node\n",
        "\n",
        "    def printt(self):\n",
        "      self.print_help(self.root,\"\")\n",
        "\n",
        "    def print_help(self,node,edge):\n",
        "      if node:\n",
        "        node.printn(edge)\n",
        "        # print(\"(\",edge,\")\")\n",
        "      for i in range(len(node.childs)):\n",
        "        self.print_help(node.childs[i],node.edges[i])"
      ],
      "metadata": {
        "id": "gEt4b3P80G1K"
      },
      "execution_count": 305,
      "outputs": []
    },
    {
      "cell_type": "code",
      "source": [
        "d=DecisionTree(data,target_name,split_function=split_func)"
      ],
      "metadata": {
        "id": "qntW6WSd0Qca"
      },
      "execution_count": 306,
      "outputs": []
    },
    {
      "cell_type": "code",
      "source": [
        "d.construct()"
      ],
      "metadata": {
        "id": "7STRu-WF0WLO"
      },
      "execution_count": 307,
      "outputs": []
    },
    {
      "cell_type": "code",
      "source": [
        "d.getGraph()"
      ],
      "metadata": {
        "colab": {
          "base_uri": "https://localhost:8080/",
          "height": 332
        },
        "id": "0bqw0Rqf0a7l",
        "outputId": "5b02f6a7-4287-43aa-dc0e-297be38454b7"
      },
      "execution_count": 308,
      "outputs": [
        {
          "output_type": "execute_result",
          "data": {
            "text/plain": [
              "<graphviz.dot.Digraph at 0x7f371ddb2c50>"
            ],
            "image/svg+xml": "<?xml version=\"1.0\" encoding=\"UTF-8\" standalone=\"no\"?>\n<!DOCTYPE svg PUBLIC \"-//W3C//DTD SVG 1.1//EN\"\n \"http://www.w3.org/Graphics/SVG/1.1/DTD/svg11.dtd\">\n<!-- Generated by graphviz version 2.40.1 (20161225.0304)\n -->\n<!-- Title: %3 Pages: 1 -->\n<svg width=\"5556pt\" height=\"218pt\"\n viewBox=\"0.00 0.00 5556.00 218.00\" xmlns=\"http://www.w3.org/2000/svg\" xmlns:xlink=\"http://www.w3.org/1999/xlink\">\n<g id=\"graph0\" class=\"graph\" transform=\"scale(1 1) rotate(0) translate(4 214)\">\n<title>%3</title>\n<polygon fill=\"#ffffff\" stroke=\"transparent\" points=\"-4,4 -4,-214 5552,-214 5552,4 -4,4\"/>\n<!-- 4.600 -->\n<g id=\"node1\" class=\"node\">\n<title>4.600</title>\n<ellipse fill=\"none\" stroke=\"#000000\" cx=\"2785\" cy=\"-192\" rx=\"32.4942\" ry=\"18\"/>\n<text text-anchor=\"middle\" x=\"2785\" y=\"-188.3\" font-family=\"Times,serif\" font-size=\"14.00\" fill=\"#000000\">4.600</text>\n</g>\n<!-- 630 -->\n<g id=\"node2\" class=\"node\">\n<title>630</title>\n<ellipse fill=\"none\" stroke=\"#000000\" cx=\"27\" cy=\"-105\" rx=\"27\" ry=\"18\"/>\n<text text-anchor=\"middle\" x=\"27\" y=\"-101.3\" font-family=\"Times,serif\" font-size=\"14.00\" fill=\"#000000\">63</text>\n</g>\n<!-- 4.600&#45;&gt;630 -->\n<g id=\"edge1\" class=\"edge\">\n<title>4.600&#45;&gt;630</title>\n<path fill=\"none\" stroke=\"#000000\" d=\"M2752.24,-191.7696C2452.2042,-189.6345 190.8896,-172.9936 124,-156 98.8031,-149.5986 72.8695,-135.5013 54.1641,-123.7471\"/>\n<polygon fill=\"#000000\" stroke=\"#000000\" points=\"55.8951,-120.6986 45.5969,-118.2091 52.095,-126.5773 55.8951,-120.6986\"/>\n<text text-anchor=\"middle\" x=\"137.5\" y=\"-144.8\" font-family=\"Times,serif\" font-size=\"14.00\" fill=\"#000000\">3.52</text>\n</g>\n<!-- 631 -->\n<g id=\"node3\" class=\"node\">\n<title>631</title>\n<ellipse fill=\"none\" stroke=\"#000000\" cx=\"99\" cy=\"-105\" rx=\"27\" ry=\"18\"/>\n<text text-anchor=\"middle\" x=\"99\" y=\"-101.3\" font-family=\"Times,serif\" font-size=\"14.00\" fill=\"#000000\">63</text>\n</g>\n<!-- 4.600&#45;&gt;631 -->\n<g id=\"edge2\" class=\"edge\">\n<title>4.600&#45;&gt;631</title>\n<path fill=\"none\" stroke=\"#000000\" d=\"M2752.1646,-191.7628C2456.2127,-189.5991 257.9749,-172.9719 193,-156 168.8301,-149.6867 144.1009,-135.922 126.0767,-124.2823\"/>\n<polygon fill=\"#000000\" stroke=\"#000000\" points=\"127.5646,-121.0682 117.3009,-118.4399 123.6854,-126.895 127.5646,-121.0682\"/>\n<text text-anchor=\"middle\" x=\"210\" y=\"-144.8\" font-family=\"Times,serif\" font-size=\"14.00\" fill=\"#000000\">5.310</text>\n</g>\n<!-- 0.2 -->\n<g id=\"node4\" class=\"node\">\n<title>0.2</title>\n<ellipse fill=\"none\" stroke=\"#000000\" cx=\"171\" cy=\"-105\" rx=\"27\" ry=\"18\"/>\n<text text-anchor=\"middle\" x=\"171\" y=\"-101.3\" font-family=\"Times,serif\" font-size=\"14.00\" fill=\"#000000\">0.2</text>\n</g>\n<!-- 4.600&#45;&gt;0.2 -->\n<g id=\"edge3\" class=\"edge\">\n<title>4.600&#45;&gt;0.2</title>\n<path fill=\"none\" stroke=\"#000000\" d=\"M2752.2239,-191.9597C2465.8264,-191.5552 396.1641,-187.5444 270,-156 244.2542,-149.5629 217.6559,-135.3668 198.5208,-123.5827\"/>\n<polygon fill=\"#000000\" stroke=\"#000000\" points=\"200.3458,-120.5957 190.024,-118.2058 196.6026,-126.5108 200.3458,-120.5957\"/>\n<text text-anchor=\"middle\" x=\"283.5\" y=\"-144.8\" font-family=\"Times,serif\" font-size=\"14.00\" fill=\"#000000\">4.75</text>\n</g>\n<!-- 464 -->\n<g id=\"node7\" class=\"node\">\n<title>464</title>\n<ellipse fill=\"none\" stroke=\"#000000\" cx=\"243\" cy=\"-105\" rx=\"27\" ry=\"18\"/>\n<text text-anchor=\"middle\" x=\"243\" y=\"-101.3\" font-family=\"Times,serif\" font-size=\"14.00\" fill=\"#000000\">46</text>\n</g>\n<!-- 4.600&#45;&gt;464 -->\n<g id=\"edge6\" class=\"edge\">\n<title>4.600&#45;&gt;464</title>\n<path fill=\"none\" stroke=\"#000000\" d=\"M2752.2375,-191.9575C2470.3325,-191.5375 461.3722,-187.4457 339,-156 314.0238,-149.5819 288.3602,-135.4857 269.8586,-123.7363\"/>\n<polygon fill=\"#000000\" stroke=\"#000000\" points=\"271.6717,-120.7401 261.3856,-118.2008 267.8431,-126.6003 271.6717,-120.7401\"/>\n<text text-anchor=\"middle\" x=\"356\" y=\"-144.8\" font-family=\"Times,serif\" font-size=\"14.00\" fill=\"#000000\">5.090</text>\n</g>\n<!-- 705 -->\n<g id=\"node8\" class=\"node\">\n<title>705</title>\n<ellipse fill=\"none\" stroke=\"#000000\" cx=\"315\" cy=\"-105\" rx=\"27\" ry=\"18\"/>\n<text text-anchor=\"middle\" x=\"315\" y=\"-101.3\" font-family=\"Times,serif\" font-size=\"14.00\" fill=\"#000000\">70</text>\n</g>\n<!-- 4.600&#45;&gt;705 -->\n<g id=\"edge7\" class=\"edge\">\n<title>4.600&#45;&gt;705</title>\n<path fill=\"none\" stroke=\"#000000\" d=\"M2752.4222,-191.919C2476.3343,-191.1816 535.7056,-184.9769 417,-156 390.4334,-149.5149 362.8411,-135.181 343.0639,-123.3559\"/>\n<polygon fill=\"#000000\" stroke=\"#000000\" points=\"344.6436,-120.2187 334.2907,-117.9675 340.9801,-126.1835 344.6436,-120.2187\"/>\n<text text-anchor=\"middle\" x=\"430.5\" y=\"-144.8\" font-family=\"Times,serif\" font-size=\"14.00\" fill=\"#000000\">5.57</text>\n</g>\n<!-- 666 -->\n<g id=\"node9\" class=\"node\">\n<title>666</title>\n<ellipse fill=\"none\" stroke=\"#000000\" cx=\"387\" cy=\"-105\" rx=\"27\" ry=\"18\"/>\n<text text-anchor=\"middle\" x=\"387\" y=\"-101.3\" font-family=\"Times,serif\" font-size=\"14.00\" fill=\"#000000\">66</text>\n</g>\n<!-- 4.600&#45;&gt;666 -->\n<g id=\"edge8\" class=\"edge\">\n<title>4.600&#45;&gt;666</title>\n<path fill=\"none\" stroke=\"#000000\" d=\"M2752.4876,-191.9226C2481.0607,-191.2236 598.927,-185.3271 484,-156 458.8099,-149.572 432.8758,-135.4764 414.1685,-123.7298\"/>\n<polygon fill=\"#000000\" stroke=\"#000000\" points=\"415.8995,-120.6812 405.6003,-118.1958 412.1016,-126.5614 415.8995,-120.6812\"/>\n<text text-anchor=\"middle\" x=\"501\" y=\"-144.8\" font-family=\"Times,serif\" font-size=\"14.00\" fill=\"#000000\">5.400</text>\n</g>\n<!-- 0.27 -->\n<g id=\"node10\" class=\"node\">\n<title>0.27</title>\n<ellipse fill=\"none\" stroke=\"#000000\" cx=\"459\" cy=\"-105\" rx=\"27\" ry=\"18\"/>\n<text text-anchor=\"middle\" x=\"459\" y=\"-101.3\" font-family=\"Times,serif\" font-size=\"14.00\" fill=\"#000000\">0.2</text>\n</g>\n<!-- 4.600&#45;&gt;0.27 -->\n<g id=\"edge9\" class=\"edge\">\n<title>4.600&#45;&gt;0.27</title>\n<path fill=\"none\" stroke=\"#000000\" d=\"M2752.3578,-191.8742C2485.8247,-190.7973 674.241,-182.517 563,-156 535.6887,-149.4897 507.2338,-134.9112 487.0061,-123.0013\"/>\n<polygon fill=\"#000000\" stroke=\"#000000\" points=\"488.6939,-119.9318 478.3249,-117.7556 485.0736,-125.923 488.6939,-119.9318\"/>\n<text text-anchor=\"middle\" x=\"576.5\" y=\"-144.8\" font-family=\"Times,serif\" font-size=\"14.00\" fill=\"#000000\">4.56</text>\n</g>\n<!-- 7310 -->\n<g id=\"node13\" class=\"node\">\n<title>7310</title>\n<ellipse fill=\"none\" stroke=\"#000000\" cx=\"531\" cy=\"-105\" rx=\"27\" ry=\"18\"/>\n<text text-anchor=\"middle\" x=\"531\" y=\"-101.3\" font-family=\"Times,serif\" font-size=\"14.00\" fill=\"#000000\">73</text>\n</g>\n<!-- 4.600&#45;&gt;7310 -->\n<g id=\"edge12\" class=\"edge\">\n<title>4.600&#45;&gt;7310</title>\n<path fill=\"none\" stroke=\"#000000\" d=\"M2752.1807,-191.855C2489.978,-190.6465 742.4602,-181.6465 635,-156 607.6904,-149.4823 579.2354,-134.9044 559.0072,-122.9967\"/>\n<polygon fill=\"#000000\" stroke=\"#000000\" points=\"560.6949,-119.9273 550.3258,-117.7521 557.0753,-125.9188 560.6949,-119.9273\"/>\n<text text-anchor=\"middle\" x=\"648.5\" y=\"-144.8\" font-family=\"Times,serif\" font-size=\"14.00\" fill=\"#000000\">4.14</text>\n</g>\n<!-- 6611 -->\n<g id=\"node14\" class=\"node\">\n<title>6611</title>\n<ellipse fill=\"none\" stroke=\"#000000\" cx=\"603\" cy=\"-105\" rx=\"27\" ry=\"18\"/>\n<text text-anchor=\"middle\" x=\"603\" y=\"-101.3\" font-family=\"Times,serif\" font-size=\"14.00\" fill=\"#000000\">66</text>\n</g>\n<!-- 4.600&#45;&gt;6611 -->\n<g id=\"edge13\" class=\"edge\">\n<title>4.600&#45;&gt;6611</title>\n<path fill=\"none\" stroke=\"#000000\" d=\"M2752.405,-191.8554C2495.6977,-190.665 806.6948,-181.8657 703,-156 676.8817,-149.485 649.8362,-135.1535 630.4675,-123.3369\"/>\n<polygon fill=\"#000000\" stroke=\"#000000\" points=\"632.209,-120.2978 621.8769,-117.9529 628.4916,-126.2292 632.209,-120.2978\"/>\n<text text-anchor=\"middle\" x=\"720\" y=\"-144.8\" font-family=\"Times,serif\" font-size=\"14.00\" fill=\"#000000\">5.819</text>\n</g>\n<!-- 8512 -->\n<g id=\"node15\" class=\"node\">\n<title>8512</title>\n<ellipse fill=\"none\" stroke=\"#000000\" cx=\"675\" cy=\"-105\" rx=\"27\" ry=\"18\"/>\n<text text-anchor=\"middle\" x=\"675\" y=\"-101.3\" font-family=\"Times,serif\" font-size=\"14.00\" fill=\"#000000\">85</text>\n</g>\n<!-- 4.600&#45;&gt;8512 -->\n<g id=\"edge14\" class=\"edge\">\n<title>4.600&#45;&gt;8512</title>\n<path fill=\"none\" stroke=\"#000000\" d=\"M2752.4991,-191.7897C2501.8943,-190.122 884.0522,-178.5076 784,-156 755.2358,-149.5292 725.0623,-134.6953 703.7736,-122.6846\"/>\n<polygon fill=\"#000000\" stroke=\"#000000\" points=\"705.3482,-119.5521 694.9396,-117.5742 701.843,-125.6112 705.3482,-119.5521\"/>\n<text text-anchor=\"middle\" x=\"801\" y=\"-144.8\" font-family=\"Times,serif\" font-size=\"14.00\" fill=\"#000000\">5.460</text>\n</g>\n<!-- 6613 -->\n<g id=\"node16\" class=\"node\">\n<title>6613</title>\n<ellipse fill=\"none\" stroke=\"#000000\" cx=\"747\" cy=\"-105\" rx=\"27\" ry=\"18\"/>\n<text text-anchor=\"middle\" x=\"747\" y=\"-101.3\" font-family=\"Times,serif\" font-size=\"14.00\" fill=\"#000000\">66</text>\n</g>\n<!-- 4.600&#45;&gt;6613 -->\n<g id=\"edge15\" class=\"edge\">\n<title>4.600&#45;&gt;6613</title>\n<path fill=\"none\" stroke=\"#000000\" d=\"M2752.3665,-191.7049C2507.6089,-189.4521 966.1638,-174.5611 870,-156 836.7367,-149.5797 801.2496,-133.7974 776.9851,-121.4755\"/>\n<polygon fill=\"#000000\" stroke=\"#000000\" points=\"778.4347,-118.2845 767.947,-116.7815 775.2083,-124.4967 778.4347,-118.2845\"/>\n<text text-anchor=\"middle\" x=\"883.5\" y=\"-144.8\" font-family=\"Times,serif\" font-size=\"14.00\" fill=\"#000000\">4.23</text>\n</g>\n<!-- 62.52914 -->\n<g id=\"node17\" class=\"node\">\n<title>62.52914</title>\n<ellipse fill=\"none\" stroke=\"#000000\" cx=\"830\" cy=\"-105\" rx=\"37.8943\" ry=\"18\"/>\n<text text-anchor=\"middle\" x=\"830\" y=\"-101.3\" font-family=\"Times,serif\" font-size=\"14.00\" fill=\"#000000\">62.529</text>\n</g>\n<!-- 4.600&#45;&gt;62.52914 -->\n<g id=\"edge16\" class=\"edge\">\n<title>4.600&#45;&gt;62.52914</title>\n<path fill=\"none\" stroke=\"#000000\" d=\"M2752.4468,-191.7398C2513.2173,-189.7807 1033.7688,-176.8506 942,-156 913.7433,-149.5798 883.9912,-135.648 862.2592,-123.9656\"/>\n<polygon fill=\"#000000\" stroke=\"#000000\" points=\"863.9126,-120.8805 853.4642,-119.125 860.5373,-127.0131 863.9126,-120.8805\"/>\n<text text-anchor=\"middle\" x=\"959\" y=\"-144.8\" font-family=\"Times,serif\" font-size=\"14.00\" fill=\"#000000\">5.200</text>\n</g>\n<!-- 6915 -->\n<g id=\"node18\" class=\"node\">\n<title>6915</title>\n<ellipse fill=\"none\" stroke=\"#000000\" cx=\"913\" cy=\"-105\" rx=\"27\" ry=\"18\"/>\n<text text-anchor=\"middle\" x=\"913\" y=\"-101.3\" font-family=\"Times,serif\" font-size=\"14.00\" fill=\"#000000\">69</text>\n</g>\n<!-- 4.600&#45;&gt;6915 -->\n<g id=\"edge17\" class=\"edge\">\n<title>4.600&#45;&gt;6915</title>\n<path fill=\"none\" stroke=\"#000000\" d=\"M2752.4046,-191.702C2519.1673,-189.5236 1110.619,-175.589 1023,-156 993.8316,-149.4788 963.1802,-134.5025 941.6639,-122.4562\"/>\n<polygon fill=\"#000000\" stroke=\"#000000\" points=\"943.1616,-119.2803 932.7463,-117.3378 939.6769,-125.3514 943.1616,-119.2803\"/>\n<text text-anchor=\"middle\" x=\"1040\" y=\"-144.8\" font-family=\"Times,serif\" font-size=\"14.00\" fill=\"#000000\">5.390</text>\n</g>\n<!-- 14 -->\n<g id=\"node19\" class=\"node\">\n<title>14</title>\n<ellipse fill=\"none\" stroke=\"#000000\" cx=\"985\" cy=\"-105\" rx=\"27\" ry=\"18\"/>\n<text text-anchor=\"middle\" x=\"985\" y=\"-101.3\" font-family=\"Times,serif\" font-size=\"14.00\" fill=\"#000000\">14</text>\n</g>\n<!-- 4.600&#45;&gt;14 -->\n<g id=\"edge18\" class=\"edge\">\n<title>4.600&#45;&gt;14</title>\n<path fill=\"none\" stroke=\"#000000\" d=\"M2752.3228,-191.9511C2532.8243,-191.5363 1276.7922,-187.7801 1110,-156 1076.0559,-149.5324 1039.7512,-133.5996 1015.0627,-121.2486\"/>\n<polygon fill=\"#000000\" stroke=\"#000000\" points=\"1016.3745,-117.9883 1005.8777,-116.5499 1013.1864,-124.2202 1016.3745,-117.9883\"/>\n<text text-anchor=\"middle\" x=\"1113.5\" y=\"-144.8\" font-family=\"Times,serif\" font-size=\"14.00\" fill=\"#000000\">?</text>\n</g>\n<!-- 6123 -->\n<g id=\"node27\" class=\"node\">\n<title>6123</title>\n<ellipse fill=\"none\" stroke=\"#000000\" cx=\"1057\" cy=\"-105\" rx=\"27\" ry=\"18\"/>\n<text text-anchor=\"middle\" x=\"1057\" y=\"-101.3\" font-family=\"Times,serif\" font-size=\"14.00\" fill=\"#000000\">61</text>\n</g>\n<!-- 4.600&#45;&gt;6123 -->\n<g id=\"edge26\" class=\"edge\">\n<title>4.600&#45;&gt;6123</title>\n<path fill=\"none\" stroke=\"#000000\" d=\"M2752.1872,-191.6591C2529.2282,-189.2945 1243.1066,-174.8714 1163,-156 1135.2471,-149.462 1106.2374,-134.886 1085.5966,-122.9842\"/>\n<polygon fill=\"#000000\" stroke=\"#000000\" points=\"1087.1252,-119.8219 1076.7364,-117.7424 1083.5609,-125.8466 1087.1252,-119.8219\"/>\n<text text-anchor=\"middle\" x=\"1180\" y=\"-144.8\" font-family=\"Times,serif\" font-size=\"14.00\" fill=\"#000000\">4.070</text>\n</g>\n<!-- 5424 -->\n<g id=\"node28\" class=\"node\">\n<title>5424</title>\n<ellipse fill=\"none\" stroke=\"#000000\" cx=\"1129\" cy=\"-105\" rx=\"27\" ry=\"18\"/>\n<text text-anchor=\"middle\" x=\"1129\" y=\"-101.3\" font-family=\"Times,serif\" font-size=\"14.00\" fill=\"#000000\">54</text>\n</g>\n<!-- 4.600&#45;&gt;5424 -->\n<g id=\"edge27\" class=\"edge\">\n<title>4.600&#45;&gt;5424</title>\n<path fill=\"none\" stroke=\"#000000\" d=\"M2752.3428,-191.9369C2543.5096,-191.4404 1399.0564,-187.2994 1247,-156 1215.2997,-149.4748 1181.6482,-133.9764 1158.4289,-121.7651\"/>\n<polygon fill=\"#000000\" stroke=\"#000000\" points=\"1159.9225,-118.5942 1149.4581,-116.937 1156.605,-124.7582 1159.9225,-118.5942\"/>\n<text text-anchor=\"middle\" x=\"1260.5\" y=\"-144.8\" font-family=\"Times,serif\" font-size=\"14.00\" fill=\"#000000\">4.79</text>\n</g>\n<!-- 5625 -->\n<g id=\"node29\" class=\"node\">\n<title>5625</title>\n<ellipse fill=\"none\" stroke=\"#000000\" cx=\"1201\" cy=\"-105\" rx=\"27\" ry=\"18\"/>\n<text text-anchor=\"middle\" x=\"1201\" y=\"-101.3\" font-family=\"Times,serif\" font-size=\"14.00\" fill=\"#000000\">56</text>\n</g>\n<!-- 4.600&#45;&gt;5625 -->\n<g id=\"edge28\" class=\"edge\">\n<title>4.600&#45;&gt;5625</title>\n<path fill=\"none\" stroke=\"#000000\" d=\"M2752.4608,-191.8249C2550.496,-190.655 1472.1396,-183.1676 1328,-156 1293.4245,-149.4832 1256.355,-133.441 1231.2457,-121.0739\"/>\n<polygon fill=\"#000000\" stroke=\"#000000\" points=\"1232.7442,-117.9098 1222.2381,-116.5415 1229.5978,-124.1629 1232.7442,-117.9098\"/>\n<text text-anchor=\"middle\" x=\"1332\" y=\"-144.8\" font-family=\"Times,serif\" font-size=\"14.00\" fill=\"#000000\">5</text>\n</g>\n<!-- 0.226 -->\n<g id=\"node30\" class=\"node\">\n<title>0.226</title>\n<ellipse fill=\"none\" stroke=\"#000000\" cx=\"1273\" cy=\"-105\" rx=\"27\" ry=\"18\"/>\n<text text-anchor=\"middle\" x=\"1273\" y=\"-101.3\" font-family=\"Times,serif\" font-size=\"14.00\" fill=\"#000000\">0.2</text>\n</g>\n<!-- 4.600&#45;&gt;0.226 -->\n<g id=\"edge29\" class=\"edge\">\n<title>4.600&#45;&gt;0.226</title>\n<path fill=\"none\" stroke=\"#000000\" d=\"M2752.3926,-191.546C2547.8349,-188.6504 1447.934,-172.3634 1379,-156 1351.2583,-149.4147 1322.2475,-134.843 1301.6035,-122.9549\"/>\n<polygon fill=\"#000000\" stroke=\"#000000\" points=\"1303.1318,-119.7927 1292.7417,-117.7199 1299.5715,-125.8196 1303.1318,-119.7927\"/>\n<text text-anchor=\"middle\" x=\"1392.5\" y=\"-144.8\" font-family=\"Times,serif\" font-size=\"14.00\" fill=\"#000000\">5.20</text>\n</g>\n<!-- 6229 -->\n<g id=\"node33\" class=\"node\">\n<title>6229</title>\n<ellipse fill=\"none\" stroke=\"#000000\" cx=\"1345\" cy=\"-105\" rx=\"27\" ry=\"18\"/>\n<text text-anchor=\"middle\" x=\"1345\" y=\"-101.3\" font-family=\"Times,serif\" font-size=\"14.00\" fill=\"#000000\">62</text>\n</g>\n<!-- 4.600&#45;&gt;6229 -->\n<g id=\"edge32\" class=\"edge\">\n<title>4.600&#45;&gt;6229</title>\n<path fill=\"none\" stroke=\"#000000\" d=\"M2752.4751,-191.9002C2560.8421,-191.209 1582.9856,-186.2148 1453,-156 1424.4986,-149.3749 1394.602,-134.5568 1373.5089,-122.5913\"/>\n<polygon fill=\"#000000\" stroke=\"#000000\" points=\"1375.1604,-119.503 1364.7562,-117.5025 1371.6421,-125.5546 1375.1604,-119.503\"/>\n<text text-anchor=\"middle\" x=\"1466.5\" y=\"-144.8\" font-family=\"Times,serif\" font-size=\"14.00\" fill=\"#000000\">3.92</text>\n</g>\n<!-- 6830 -->\n<g id=\"node34\" class=\"node\">\n<title>6830</title>\n<ellipse fill=\"none\" stroke=\"#000000\" cx=\"1417\" cy=\"-105\" rx=\"27\" ry=\"18\"/>\n<text text-anchor=\"middle\" x=\"1417\" y=\"-101.3\" font-family=\"Times,serif\" font-size=\"14.00\" fill=\"#000000\">68</text>\n</g>\n<!-- 4.600&#45;&gt;6830 -->\n<g id=\"edge33\" class=\"edge\">\n<title>4.600&#45;&gt;6830</title>\n<path fill=\"none\" stroke=\"#000000\" d=\"M2752.4977,-191.8252C2567.3264,-190.7285 1649.4931,-183.9123 1527,-156 1497.8585,-149.3596 1467.2042,-134.3963 1445.6799,-122.3853\"/>\n<polygon fill=\"#000000\" stroke=\"#000000\" points=\"1447.1769,-119.2095 1436.7586,-117.2835 1443.7019,-125.2861 1447.1769,-119.2095\"/>\n<text text-anchor=\"middle\" x=\"1540.5\" y=\"-144.8\" font-family=\"Times,serif\" font-size=\"14.00\" fill=\"#000000\">4.41</text>\n</g>\n<!-- 6131 -->\n<g id=\"node35\" class=\"node\">\n<title>6131</title>\n<ellipse fill=\"none\" stroke=\"#000000\" cx=\"1489\" cy=\"-105\" rx=\"27\" ry=\"18\"/>\n<text text-anchor=\"middle\" x=\"1489\" y=\"-101.3\" font-family=\"Times,serif\" font-size=\"14.00\" fill=\"#000000\">61</text>\n</g>\n<!-- 4.600&#45;&gt;6131 -->\n<g id=\"edge34\" class=\"edge\">\n<title>4.600&#45;&gt;6131</title>\n<path fill=\"none\" stroke=\"#000000\" d=\"M2752.3053,-191.7735C2573.0154,-190.4292 1713.056,-182.6291 1598,-156 1569.2763,-149.352 1539.0986,-134.5362 1517.798,-122.5775\"/>\n<polygon fill=\"#000000\" stroke=\"#000000\" points=\"1519.3717,-119.445 1508.9584,-117.4919 1515.8809,-125.5125 1519.3717,-119.445\"/>\n<text text-anchor=\"middle\" x=\"1611.5\" y=\"-144.8\" font-family=\"Times,serif\" font-size=\"14.00\" fill=\"#000000\">5.16</text>\n</g>\n<!-- 6332 -->\n<g id=\"node36\" class=\"node\">\n<title>6332</title>\n<ellipse fill=\"none\" stroke=\"#000000\" cx=\"1561\" cy=\"-105\" rx=\"27\" ry=\"18\"/>\n<text text-anchor=\"middle\" x=\"1561\" y=\"-101.3\" font-family=\"Times,serif\" font-size=\"14.00\" fill=\"#000000\">63</text>\n</g>\n<!-- 4.600&#45;&gt;6332 -->\n<g id=\"edge35\" class=\"edge\">\n<title>4.600&#45;&gt;6332</title>\n<path fill=\"none\" stroke=\"#000000\" d=\"M2752.2672,-191.7263C2579.3134,-190.1757 1775.7067,-181.634 1668,-156 1639.7492,-149.2764 1610.1307,-134.4683 1589.2369,-122.5318\"/>\n<polygon fill=\"#000000\" stroke=\"#000000\" points=\"1590.9654,-119.488 1580.5671,-117.4568 1587.4291,-125.5292 1590.9654,-119.488\"/>\n<text text-anchor=\"middle\" x=\"1681.5\" y=\"-144.8\" font-family=\"Times,serif\" font-size=\"14.00\" fill=\"#000000\">3.87</text>\n</g>\n<!-- 0.233 -->\n<g id=\"node37\" class=\"node\">\n<title>0.233</title>\n<ellipse fill=\"none\" stroke=\"#000000\" cx=\"1633\" cy=\"-105\" rx=\"27\" ry=\"18\"/>\n<text text-anchor=\"middle\" x=\"1633\" y=\"-101.3\" font-family=\"Times,serif\" font-size=\"14.00\" fill=\"#000000\">0.2</text>\n</g>\n<!-- 4.600&#45;&gt;0.233 -->\n<g id=\"edge36\" class=\"edge\">\n<title>4.600&#45;&gt;0.233</title>\n<path fill=\"none\" stroke=\"#000000\" d=\"M2752.4224,-191.673C2586.4036,-189.9005 1838.4173,-180.5991 1738,-156 1710.5182,-149.2678 1681.7813,-134.7094 1661.3325,-122.8638\"/>\n<polygon fill=\"#000000\" stroke=\"#000000\" points=\"1662.9397,-119.7476 1652.5546,-117.6499 1659.3649,-125.766 1662.9397,-119.7476\"/>\n<text text-anchor=\"middle\" x=\"1751.5\" y=\"-144.8\" font-family=\"Times,serif\" font-size=\"14.00\" fill=\"#000000\">4.48</text>\n</g>\n<!-- 1.1 -->\n<g id=\"node40\" class=\"node\">\n<title>1.1</title>\n<ellipse fill=\"none\" stroke=\"#000000\" cx=\"1705\" cy=\"-105\" rx=\"27\" ry=\"18\"/>\n<text text-anchor=\"middle\" x=\"1705\" y=\"-101.3\" font-family=\"Times,serif\" font-size=\"14.00\" fill=\"#000000\">1.1</text>\n</g>\n<!-- 4.600&#45;&gt;1.1 -->\n<g id=\"edge39\" class=\"edge\">\n<title>4.600&#45;&gt;1.1</title>\n<path fill=\"none\" stroke=\"#000000\" d=\"M2752.4476,-191.6302C2593.0986,-189.7087 1899.2103,-180.0169 1806,-156 1779.7257,-149.2301 1752.4014,-134.9187 1732.8091,-123.1747\"/>\n<polygon fill=\"#000000\" stroke=\"#000000\" points=\"1734.4685,-120.0864 1724.1171,-117.8283 1730.8011,-126.0488 1734.4685,-120.0864\"/>\n<text text-anchor=\"middle\" x=\"1819.5\" y=\"-144.8\" font-family=\"Times,serif\" font-size=\"14.00\" fill=\"#000000\">4.38</text>\n</g>\n<!-- 4738 -->\n<g id=\"node43\" class=\"node\">\n<title>4738</title>\n<ellipse fill=\"none\" stroke=\"#000000\" cx=\"1777\" cy=\"-105\" rx=\"27\" ry=\"18\"/>\n<text text-anchor=\"middle\" x=\"1777\" y=\"-101.3\" font-family=\"Times,serif\" font-size=\"14.00\" fill=\"#000000\">47</text>\n</g>\n<!-- 4.600&#45;&gt;4738 -->\n<g id=\"edge42\" class=\"edge\">\n<title>4.600&#45;&gt;4738</title>\n<path fill=\"none\" stroke=\"#000000\" d=\"M2752.3764,-191.5831C2599.5437,-189.5132 1958.1858,-179.4863 1872,-156 1847.4768,-149.3172 1822.2422,-135.3762 1803.9498,-123.7564\"/>\n<polygon fill=\"#000000\" stroke=\"#000000\" points=\"1805.8481,-120.8159 1795.561,-118.2806 1802.0218,-126.6776 1805.8481,-120.8159\"/>\n<text text-anchor=\"middle\" x=\"1889\" y=\"-144.8\" font-family=\"Times,serif\" font-size=\"14.00\" fill=\"#000000\">3.100</text>\n</g>\n<!-- 5539 -->\n<g id=\"node44\" class=\"node\">\n<title>5539</title>\n<ellipse fill=\"none\" stroke=\"#000000\" cx=\"1849\" cy=\"-105\" rx=\"27\" ry=\"18\"/>\n<text text-anchor=\"middle\" x=\"1849\" y=\"-101.3\" font-family=\"Times,serif\" font-size=\"14.00\" fill=\"#000000\">55</text>\n</g>\n<!-- 4.600&#45;&gt;5539 -->\n<g id=\"edge43\" class=\"edge\">\n<title>4.600&#45;&gt;5539</title>\n<path fill=\"none\" stroke=\"#000000\" d=\"M2752.1585,-191.4412C2606.7649,-188.8522 2024.7392,-177.2389 1946,-156 1920.8998,-149.2295 1894.9597,-135.1571 1876.2271,-123.5064\"/>\n<polygon fill=\"#000000\" stroke=\"#000000\" points=\"1877.9568,-120.4582 1867.6454,-118.0242 1874.1883,-126.3573 1877.9568,-120.4582\"/>\n<text text-anchor=\"middle\" x=\"1963\" y=\"-144.8\" font-family=\"Times,serif\" font-size=\"14.00\" fill=\"#000000\">4.160</text>\n</g>\n<!-- 6440 -->\n<g id=\"node45\" class=\"node\">\n<title>6440</title>\n<ellipse fill=\"none\" stroke=\"#000000\" cx=\"1921\" cy=\"-105\" rx=\"27\" ry=\"18\"/>\n<text text-anchor=\"middle\" x=\"1921\" y=\"-101.3\" font-family=\"Times,serif\" font-size=\"14.00\" fill=\"#000000\">64</text>\n</g>\n<!-- 4.600&#45;&gt;6440 -->\n<g id=\"edge44\" class=\"edge\">\n<title>4.600&#45;&gt;6440</title>\n<path fill=\"none\" stroke=\"#000000\" d=\"M2752.383,-191.2744C2615.6365,-188.1224 2092.3118,-174.9209 2021,-156 1995.1443,-149.1398 1968.2664,-134.9743 1948.8956,-123.3097\"/>\n<polygon fill=\"#000000\" stroke=\"#000000\" points=\"1950.6383,-120.2722 1940.2911,-117.9947 1946.9596,-126.2277 1950.6383,-120.2722\"/>\n<text text-anchor=\"middle\" x=\"2038\" y=\"-144.8\" font-family=\"Times,serif\" font-size=\"14.00\" fill=\"#000000\">3.480</text>\n</g>\n<!-- 6041 -->\n<g id=\"node46\" class=\"node\">\n<title>6041</title>\n<ellipse fill=\"none\" stroke=\"#000000\" cx=\"1993\" cy=\"-105\" rx=\"27\" ry=\"18\"/>\n<text text-anchor=\"middle\" x=\"1993\" y=\"-101.3\" font-family=\"Times,serif\" font-size=\"14.00\" fill=\"#000000\">60</text>\n</g>\n<!-- 4.600&#45;&gt;6041 -->\n<g id=\"edge45\" class=\"edge\">\n<title>4.600&#45;&gt;6041</title>\n<path fill=\"none\" stroke=\"#000000\" d=\"M2752.2272,-191.0508C2624.074,-187.2346 2160.7782,-172.4243 2097,-156 2069.9794,-149.0416 2041.6981,-134.6445 2021.4602,-122.9161\"/>\n<polygon fill=\"#000000\" stroke=\"#000000\" points=\"2023.1467,-119.847 2012.7611,-117.7515 2019.5731,-125.8662 2023.1467,-119.847\"/>\n<text text-anchor=\"middle\" x=\"2114\" y=\"-144.8\" font-family=\"Times,serif\" font-size=\"14.00\" fill=\"#000000\">5.650</text>\n</g>\n<!-- 5642 -->\n<g id=\"node47\" class=\"node\">\n<title>5642</title>\n<ellipse fill=\"none\" stroke=\"#000000\" cx=\"2065\" cy=\"-105\" rx=\"27\" ry=\"18\"/>\n<text text-anchor=\"middle\" x=\"2065\" y=\"-101.3\" font-family=\"Times,serif\" font-size=\"14.00\" fill=\"#000000\">56</text>\n</g>\n<!-- 4.600&#45;&gt;5642 -->\n<g id=\"edge46\" class=\"edge\">\n<title>4.600&#45;&gt;5642</title>\n<path fill=\"none\" stroke=\"#000000\" d=\"M2752.3674,-191.6156C2642.3975,-190.08 2286.0538,-183.0841 2175,-156 2146.1408,-148.9617 2115.6731,-134.1859 2094.1396,-122.3417\"/>\n<polygon fill=\"#000000\" stroke=\"#000000\" points=\"2095.6322,-119.1655 2085.201,-117.3107 2092.1987,-125.2657 2095.6322,-119.1655\"/>\n<text text-anchor=\"middle\" x=\"2188.5\" y=\"-144.8\" font-family=\"Times,serif\" font-size=\"14.00\" fill=\"#000000\">4.72</text>\n</g>\n<!-- 6143 -->\n<g id=\"node48\" class=\"node\">\n<title>6143</title>\n<ellipse fill=\"none\" stroke=\"#000000\" cx=\"2137\" cy=\"-105\" rx=\"27\" ry=\"18\"/>\n<text text-anchor=\"middle\" x=\"2137\" y=\"-101.3\" font-family=\"Times,serif\" font-size=\"14.00\" fill=\"#000000\">61</text>\n</g>\n<!-- 4.600&#45;&gt;6143 -->\n<g id=\"edge47\" class=\"edge\">\n<title>4.600&#45;&gt;6143</title>\n<path fill=\"none\" stroke=\"#000000\" d=\"M2752.3311,-191.3418C2650.9588,-189.0603 2342.7693,-180.2589 2246,-156 2217.4019,-148.8308 2187.2114,-134.0684 2165.874,-122.2626\"/>\n<polygon fill=\"#000000\" stroke=\"#000000\" points=\"2167.4436,-119.1293 2157.0168,-117.2499 2163.9958,-125.2213 2167.4436,-119.1293\"/>\n<text text-anchor=\"middle\" x=\"2259.5\" y=\"-144.8\" font-family=\"Times,serif\" font-size=\"14.00\" fill=\"#000000\">5.04</text>\n</g>\n<!-- 0.244 -->\n<g id=\"node49\" class=\"node\">\n<title>0.244</title>\n<ellipse fill=\"none\" stroke=\"#000000\" cx=\"2209\" cy=\"-105\" rx=\"27\" ry=\"18\"/>\n<text text-anchor=\"middle\" x=\"2209\" y=\"-101.3\" font-family=\"Times,serif\" font-size=\"14.00\" fill=\"#000000\">0.2</text>\n</g>\n<!-- 4.600&#45;&gt;0.244 -->\n<g id=\"edge48\" class=\"edge\">\n<title>4.600&#45;&gt;0.244</title>\n<path fill=\"none\" stroke=\"#000000\" d=\"M2752.4662,-190.9853C2660.446,-187.8797 2399.6377,-177.3887 2317,-156 2288.847,-148.7133 2259.1271,-134.1041 2238.0064,-122.3824\"/>\n<polygon fill=\"#000000\" stroke=\"#000000\" points=\"2239.6526,-119.2923 2229.2278,-117.4013 2236.198,-125.3805 2239.6526,-119.2923\"/>\n<text text-anchor=\"middle\" x=\"2330.5\" y=\"-144.8\" font-family=\"Times,serif\" font-size=\"14.00\" fill=\"#000000\">5.47</text>\n</g>\n<!-- 5147 -->\n<g id=\"node52\" class=\"node\">\n<title>5147</title>\n<ellipse fill=\"none\" stroke=\"#000000\" cx=\"2281\" cy=\"-105\" rx=\"27\" ry=\"18\"/>\n<text text-anchor=\"middle\" x=\"2281\" y=\"-101.3\" font-family=\"Times,serif\" font-size=\"14.00\" fill=\"#000000\">51</text>\n</g>\n<!-- 4.600&#45;&gt;5147 -->\n<g id=\"edge51\" class=\"edge\">\n<title>4.600&#45;&gt;5147</title>\n<path fill=\"none\" stroke=\"#000000\" d=\"M2752.591,-190.5596C2670.2969,-186.6651 2454.913,-174.9272 2386,-156 2358.8854,-148.5529 2330.3183,-134.1968 2309.8382,-122.6086\"/>\n<polygon fill=\"#000000\" stroke=\"#000000\" points=\"2311.4403,-119.492 2301.0318,-117.5138 2307.9349,-125.5511 2311.4403,-119.492\"/>\n<text text-anchor=\"middle\" x=\"2399.5\" y=\"-144.8\" font-family=\"Times,serif\" font-size=\"14.00\" fill=\"#000000\">5.26</text>\n</g>\n<!-- 6648 -->\n<g id=\"node53\" class=\"node\">\n<title>6648</title>\n<ellipse fill=\"none\" stroke=\"#000000\" cx=\"2353\" cy=\"-105\" rx=\"27\" ry=\"18\"/>\n<text text-anchor=\"middle\" x=\"2353\" y=\"-101.3\" font-family=\"Times,serif\" font-size=\"14.00\" fill=\"#000000\">66</text>\n</g>\n<!-- 4.600&#45;&gt;6648 -->\n<g id=\"edge52\" class=\"edge\">\n<title>4.600&#45;&gt;6648</title>\n<path fill=\"none\" stroke=\"#000000\" d=\"M2752.6392,-189.9603C2680.7017,-185.1868 2509.4932,-172.4372 2454,-156 2428.1474,-148.3424 2400.9818,-134.2347 2381.3435,-122.795\"/>\n<polygon fill=\"#000000\" stroke=\"#000000\" points=\"2382.9973,-119.7063 2372.6146,-117.5969 2379.4157,-125.7207 2382.9973,-119.7063\"/>\n<text text-anchor=\"middle\" x=\"2471\" y=\"-144.8\" font-family=\"Times,serif\" font-size=\"14.00\" fill=\"#000000\">6.150</text>\n</g>\n<!-- 1.2 -->\n<g id=\"node54\" class=\"node\">\n<title>1.2</title>\n<ellipse fill=\"none\" stroke=\"#000000\" cx=\"2425\" cy=\"-105\" rx=\"27\" ry=\"18\"/>\n<text text-anchor=\"middle\" x=\"2425\" y=\"-101.3\" font-family=\"Times,serif\" font-size=\"14.00\" fill=\"#000000\">1.2</text>\n</g>\n<!-- 4.600&#45;&gt;1.2 -->\n<g id=\"edge53\" class=\"edge\">\n<title>4.600&#45;&gt;1.2</title>\n<path fill=\"none\" stroke=\"#000000\" d=\"M2752.5193,-190.5863C2703.3936,-187.7452 2607.6858,-179.4515 2530,-156 2503.0811,-147.8738 2474.4976,-133.5748 2453.9614,-122.1812\"/>\n<polygon fill=\"#000000\" stroke=\"#000000\" points=\"2455.5541,-119.0611 2445.127,-117.1834 2452.1074,-125.1537 2455.5541,-119.0611\"/>\n<text text-anchor=\"middle\" x=\"2543.5\" y=\"-144.8\" font-family=\"Times,serif\" font-size=\"14.00\" fill=\"#000000\">4.36</text>\n</g>\n<!-- 6151 -->\n<g id=\"node57\" class=\"node\">\n<title>6151</title>\n<ellipse fill=\"none\" stroke=\"#000000\" cx=\"2497\" cy=\"-105\" rx=\"27\" ry=\"18\"/>\n<text text-anchor=\"middle\" x=\"2497\" y=\"-101.3\" font-family=\"Times,serif\" font-size=\"14.00\" fill=\"#000000\">61</text>\n</g>\n<!-- 4.600&#45;&gt;6151 -->\n<g id=\"edge56\" class=\"edge\">\n<title>4.600&#45;&gt;6151</title>\n<path fill=\"none\" stroke=\"#000000\" d=\"M2752.8168,-188.891C2714.233,-184.4958 2648.0126,-174.8135 2594,-156 2569.7582,-147.5562 2544.1254,-133.8465 2525.3016,-122.7671\"/>\n<polygon fill=\"#000000\" stroke=\"#000000\" points=\"2527.0196,-119.7163 2516.6436,-117.574 2523.419,-125.7193 2527.0196,-119.7163\"/>\n<text text-anchor=\"middle\" x=\"2607.5\" y=\"-144.8\" font-family=\"Times,serif\" font-size=\"14.00\" fill=\"#000000\">4.06</text>\n</g>\n<!-- 5752 -->\n<g id=\"node58\" class=\"node\">\n<title>5752</title>\n<ellipse fill=\"none\" stroke=\"#000000\" cx=\"2569\" cy=\"-105\" rx=\"27\" ry=\"18\"/>\n<text text-anchor=\"middle\" x=\"2569\" y=\"-101.3\" font-family=\"Times,serif\" font-size=\"14.00\" fill=\"#000000\">57</text>\n</g>\n<!-- 4.600&#45;&gt;5752 -->\n<g id=\"edge57\" class=\"edge\">\n<title>4.600&#45;&gt;5752</title>\n<path fill=\"none\" stroke=\"#000000\" d=\"M2754.292,-186.0433C2727.2263,-180.2162 2687.069,-170.1494 2654,-156 2633.7084,-147.3177 2612.4149,-134.5348 2596.2162,-123.939\"/>\n<polygon fill=\"#000000\" stroke=\"#000000\" points=\"2598.0423,-120.95 2587.7797,-118.3174 2594.1606,-126.7752 2598.0423,-120.95\"/>\n<text text-anchor=\"middle\" x=\"2667.5\" y=\"-144.8\" font-family=\"Times,serif\" font-size=\"14.00\" fill=\"#000000\">4.37</text>\n</g>\n<!-- 5853 -->\n<g id=\"node59\" class=\"node\">\n<title>5853</title>\n<ellipse fill=\"none\" stroke=\"#000000\" cx=\"2641\" cy=\"-105\" rx=\"27\" ry=\"18\"/>\n<text text-anchor=\"middle\" x=\"2641\" y=\"-101.3\" font-family=\"Times,serif\" font-size=\"14.00\" fill=\"#000000\">58</text>\n</g>\n<!-- 4.600&#45;&gt;5853 -->\n<g id=\"edge58\" class=\"edge\">\n<title>4.600&#45;&gt;5853</title>\n<path fill=\"none\" stroke=\"#000000\" d=\"M2757.8518,-181.7664C2741.9545,-175.2944 2721.7718,-166.2332 2705,-156 2690.9464,-147.4253 2676.5028,-136.1642 2664.9016,-126.4054\"/>\n<polygon fill=\"#000000\" stroke=\"#000000\" points=\"2666.8703,-123.4826 2657.0027,-119.6248 2662.3108,-128.7941 2666.8703,-123.4826\"/>\n<text text-anchor=\"middle\" x=\"2718.5\" y=\"-144.8\" font-family=\"Times,serif\" font-size=\"14.00\" fill=\"#000000\">6.73</text>\n</g>\n<!-- 6054 -->\n<g id=\"node60\" class=\"node\">\n<title>6054</title>\n<ellipse fill=\"none\" stroke=\"#000000\" cx=\"2713\" cy=\"-105\" rx=\"27\" ry=\"18\"/>\n<text text-anchor=\"middle\" x=\"2713\" y=\"-101.3\" font-family=\"Times,serif\" font-size=\"14.00\" fill=\"#000000\">60</text>\n</g>\n<!-- 4.600&#45;&gt;6054 -->\n<g id=\"edge59\" class=\"edge\">\n<title>4.600&#45;&gt;6054</title>\n<path fill=\"none\" stroke=\"#000000\" d=\"M2767.1599,-176.6406C2760.5035,-170.5239 2753.0901,-163.2274 2747,-156 2740.4536,-148.2312 2734.0614,-139.164 2728.6187,-130.8473\"/>\n<polygon fill=\"#000000\" stroke=\"#000000\" points=\"2731.4458,-128.7706 2723.1232,-122.2143 2725.5407,-132.5297 2731.4458,-128.7706\"/>\n<text text-anchor=\"middle\" x=\"2764\" y=\"-144.8\" font-family=\"Times,serif\" font-size=\"14.00\" fill=\"#000000\">3.730</text>\n</g>\n<!-- 7255 -->\n<g id=\"node61\" class=\"node\">\n<title>7255</title>\n<ellipse fill=\"none\" stroke=\"#000000\" cx=\"2785\" cy=\"-105\" rx=\"27\" ry=\"18\"/>\n<text text-anchor=\"middle\" x=\"2785\" y=\"-101.3\" font-family=\"Times,serif\" font-size=\"14.00\" fill=\"#000000\">72</text>\n</g>\n<!-- 4.600&#45;&gt;7255 -->\n<g id=\"edge60\" class=\"edge\">\n<title>4.600&#45;&gt;7255</title>\n<path fill=\"none\" stroke=\"#000000\" d=\"M2785,-173.9735C2785,-162.1918 2785,-146.5607 2785,-133.1581\"/>\n<polygon fill=\"#000000\" stroke=\"#000000\" points=\"2788.5001,-133.0033 2785,-123.0034 2781.5001,-133.0034 2788.5001,-133.0033\"/>\n<text text-anchor=\"middle\" x=\"2802\" y=\"-144.8\" font-family=\"Times,serif\" font-size=\"14.00\" fill=\"#000000\">4.100</text>\n</g>\n<!-- 7856 -->\n<g id=\"node62\" class=\"node\">\n<title>7856</title>\n<ellipse fill=\"none\" stroke=\"#000000\" cx=\"2857\" cy=\"-105\" rx=\"27\" ry=\"18\"/>\n<text text-anchor=\"middle\" x=\"2857\" y=\"-101.3\" font-family=\"Times,serif\" font-size=\"14.00\" fill=\"#000000\">78</text>\n</g>\n<!-- 4.600&#45;&gt;7856 -->\n<g id=\"edge61\" class=\"edge\">\n<title>4.600&#45;&gt;7856</title>\n<path fill=\"none\" stroke=\"#000000\" d=\"M2802.8401,-176.6406C2809.4965,-170.5239 2816.9099,-163.2274 2823,-156 2829.5464,-148.2312 2835.9386,-139.164 2841.3813,-130.8473\"/>\n<polygon fill=\"#000000\" stroke=\"#000000\" points=\"2844.4593,-132.5297 2846.8768,-122.2143 2838.5542,-128.7706 2844.4593,-132.5297\"/>\n<text text-anchor=\"middle\" x=\"2848.5\" y=\"-144.8\" font-family=\"Times,serif\" font-size=\"14.00\" fill=\"#000000\">6.23</text>\n</g>\n<!-- ?57 -->\n<g id=\"node63\" class=\"node\">\n<title>?57</title>\n<ellipse fill=\"none\" stroke=\"#000000\" cx=\"2929\" cy=\"-105\" rx=\"27\" ry=\"18\"/>\n<text text-anchor=\"middle\" x=\"2929\" y=\"-101.3\" font-family=\"Times,serif\" font-size=\"14.00\" fill=\"#000000\">?</text>\n</g>\n<!-- 4.600&#45;&gt;?57 -->\n<g id=\"edge62\" class=\"edge\">\n<title>4.600&#45;&gt;?57</title>\n<path fill=\"none\" stroke=\"#000000\" d=\"M2812.1513,-182.0134C2828.3171,-175.5661 2848.9383,-166.4459 2866,-156 2879.9067,-147.4857 2894.1315,-136.2303 2905.5372,-126.4597\"/>\n<polygon fill=\"#000000\" stroke=\"#000000\" points=\"2908.0781,-128.887 2913.2992,-119.6679 2903.4686,-123.619 2908.0781,-128.887\"/>\n<text text-anchor=\"middle\" x=\"2900.5\" y=\"-144.8\" font-family=\"Times,serif\" font-size=\"14.00\" fill=\"#000000\">4.96</text>\n</g>\n<!-- 6258 -->\n<g id=\"node64\" class=\"node\">\n<title>6258</title>\n<ellipse fill=\"none\" stroke=\"#000000\" cx=\"3001\" cy=\"-105\" rx=\"27\" ry=\"18\"/>\n<text text-anchor=\"middle\" x=\"3001\" y=\"-101.3\" font-family=\"Times,serif\" font-size=\"14.00\" fill=\"#000000\">62</text>\n</g>\n<!-- 4.600&#45;&gt;6258 -->\n<g id=\"edge63\" class=\"edge\">\n<title>4.600&#45;&gt;6258</title>\n<path fill=\"none\" stroke=\"#000000\" d=\"M2815.9477,-186.2532C2843.4557,-180.5353 2884.3999,-170.5104 2918,-156 2937.7285,-147.4801 2958.3202,-134.8538 2974.058,-124.2963\"/>\n<polygon fill=\"#000000\" stroke=\"#000000\" points=\"2976.4459,-126.9032 2982.7201,-118.3659 2972.4914,-121.1272 2976.4459,-126.9032\"/>\n<text text-anchor=\"middle\" x=\"2964\" y=\"-144.8\" font-family=\"Times,serif\" font-size=\"14.00\" fill=\"#000000\">5.800</text>\n</g>\n<!-- 6759 -->\n<g id=\"node65\" class=\"node\">\n<title>6759</title>\n<ellipse fill=\"none\" stroke=\"#000000\" cx=\"3073\" cy=\"-105\" rx=\"27\" ry=\"18\"/>\n<text text-anchor=\"middle\" x=\"3073\" y=\"-101.3\" font-family=\"Times,serif\" font-size=\"14.00\" fill=\"#000000\">67</text>\n</g>\n<!-- 4.600&#45;&gt;6759 -->\n<g id=\"edge64\" class=\"edge\">\n<title>4.600&#45;&gt;6759</title>\n<path fill=\"none\" stroke=\"#000000\" d=\"M2817.4197,-189.6348C2857.7423,-185.9156 2928.1974,-176.842 2985,-156 3006.5402,-148.0965 3028.8852,-135.0772 3045.6687,-124.1715\"/>\n<polygon fill=\"#000000\" stroke=\"#000000\" points=\"3047.9929,-126.8291 3054.3803,-118.3761 3044.1157,-121.0009 3047.9929,-126.8291\"/>\n<text text-anchor=\"middle\" x=\"3033\" y=\"-144.8\" font-family=\"Times,serif\" font-size=\"14.00\" fill=\"#000000\">3.960</text>\n</g>\n<!-- 5960 -->\n<g id=\"node66\" class=\"node\">\n<title>5960</title>\n<ellipse fill=\"none\" stroke=\"#000000\" cx=\"3145\" cy=\"-105\" rx=\"27\" ry=\"18\"/>\n<text text-anchor=\"middle\" x=\"3145\" y=\"-101.3\" font-family=\"Times,serif\" font-size=\"14.00\" fill=\"#000000\">59</text>\n</g>\n<!-- 4.600&#45;&gt;5960 -->\n<g id=\"edge65\" class=\"edge\">\n<title>4.600&#45;&gt;5960</title>\n<path fill=\"none\" stroke=\"#000000\" d=\"M2817.5393,-189.1896C2879.1985,-183.6104 3010.7555,-170.4235 3054,-156 3076.8228,-148.3878 3100.4635,-134.9427 3117.9276,-123.768\"/>\n<polygon fill=\"#000000\" stroke=\"#000000\" points=\"3120.016,-126.5841 3126.4601,-118.1743 3116.1781,-120.7299 3120.016,-126.5841\"/>\n<text text-anchor=\"middle\" x=\"3102.5\" y=\"-144.8\" font-family=\"Times,serif\" font-size=\"14.00\" fill=\"#000000\">3.42</text>\n</g>\n<!-- 5761 -->\n<g id=\"node67\" class=\"node\">\n<title>5761</title>\n<ellipse fill=\"none\" stroke=\"#000000\" cx=\"3217\" cy=\"-105\" rx=\"27\" ry=\"18\"/>\n<text text-anchor=\"middle\" x=\"3217\" y=\"-101.3\" font-family=\"Times,serif\" font-size=\"14.00\" fill=\"#000000\">57</text>\n</g>\n<!-- 4.600&#45;&gt;5761 -->\n<g id=\"edge66\" class=\"edge\">\n<title>4.600&#45;&gt;5761</title>\n<path fill=\"none\" stroke=\"#000000\" d=\"M2817.4988,-190.0659C2890.1848,-185.4885 3063.9018,-173.0802 3120,-156 3144.7137,-148.4754 3170.4993,-134.5856 3189.2673,-123.1995\"/>\n<polygon fill=\"#000000\" stroke=\"#000000\" points=\"3191.2328,-126.0989 3197.8815,-117.8499 3187.5399,-120.1523 3191.2328,-126.0989\"/>\n<text text-anchor=\"middle\" x=\"3170.5\" y=\"-144.8\" font-family=\"Times,serif\" font-size=\"14.00\" fill=\"#000000\">2.32</text>\n</g>\n<!-- 6562 -->\n<g id=\"node68\" class=\"node\">\n<title>6562</title>\n<ellipse fill=\"none\" stroke=\"#000000\" cx=\"3289\" cy=\"-105\" rx=\"27\" ry=\"18\"/>\n<text text-anchor=\"middle\" x=\"3289\" y=\"-101.3\" font-family=\"Times,serif\" font-size=\"14.00\" fill=\"#000000\">65</text>\n</g>\n<!-- 4.600&#45;&gt;6562 -->\n<g id=\"edge67\" class=\"edge\">\n<title>4.600&#45;&gt;6562</title>\n<path fill=\"none\" stroke=\"#000000\" d=\"M2817.455,-190.6784C2900.4045,-187.0491 3118.518,-175.8556 3188,-156 3213.9251,-148.5915 3241.0855,-134.4657 3260.7033,-122.9558\"/>\n<polygon fill=\"#000000\" stroke=\"#000000\" points=\"3262.6499,-125.8695 3269.4216,-117.7212 3259.0466,-119.8681 3262.6499,-125.8695\"/>\n<text text-anchor=\"middle\" x=\"3239.5\" y=\"-144.8\" font-family=\"Times,serif\" font-size=\"14.00\" fill=\"#000000\">5.78</text>\n</g>\n<!-- 5863 -->\n<g id=\"node69\" class=\"node\">\n<title>5863</title>\n<ellipse fill=\"none\" stroke=\"#000000\" cx=\"3361\" cy=\"-105\" rx=\"27\" ry=\"18\"/>\n<text text-anchor=\"middle\" x=\"3361\" y=\"-101.3\" font-family=\"Times,serif\" font-size=\"14.00\" fill=\"#000000\">58</text>\n</g>\n<!-- 4.600&#45;&gt;5863 -->\n<g id=\"edge68\" class=\"edge\">\n<title>4.600&#45;&gt;5863</title>\n<path fill=\"none\" stroke=\"#000000\" d=\"M2817.5038,-191.1015C2910.0773,-188.2927 3173.7966,-178.4879 3257,-156 3283.9357,-148.7199 3312.2241,-134.3498 3332.4864,-122.7137\"/>\n<polygon fill=\"#000000\" stroke=\"#000000\" points=\"3334.349,-125.6788 3341.1976,-117.5951 3330.8027,-119.6436 3334.349,-125.6788\"/>\n<text text-anchor=\"middle\" x=\"3313\" y=\"-144.8\" font-family=\"Times,serif\" font-size=\"14.00\" fill=\"#000000\">3.490</text>\n</g>\n<!-- 6264 -->\n<g id=\"node70\" class=\"node\">\n<title>6264</title>\n<ellipse fill=\"none\" stroke=\"#000000\" cx=\"3433\" cy=\"-105\" rx=\"27\" ry=\"18\"/>\n<text text-anchor=\"middle\" x=\"3433\" y=\"-101.3\" font-family=\"Times,serif\" font-size=\"14.00\" fill=\"#000000\">62</text>\n</g>\n<!-- 4.600&#45;&gt;6264 -->\n<g id=\"edge69\" class=\"edge\">\n<title>4.600&#45;&gt;6264</title>\n<path fill=\"none\" stroke=\"#000000\" d=\"M2817.6054,-191.601C2920.2707,-190.0725 3235.8605,-183.223 3334,-156 3359.5727,-148.9064 3386.1836,-134.7578 3405.3675,-123.159\"/>\n<polygon fill=\"#000000\" stroke=\"#000000\" points=\"3407.2328,-126.1207 3413.8896,-117.8783 3403.5457,-120.1705 3407.2328,-126.1207\"/>\n<text text-anchor=\"middle\" x=\"3388\" y=\"-144.8\" font-family=\"Times,serif\" font-size=\"14.00\" fill=\"#000000\">3.600</text>\n</g>\n<!-- 6465 -->\n<g id=\"node71\" class=\"node\">\n<title>6465</title>\n<ellipse fill=\"none\" stroke=\"#000000\" cx=\"3505\" cy=\"-105\" rx=\"27\" ry=\"18\"/>\n<text text-anchor=\"middle\" x=\"3505\" y=\"-101.3\" font-family=\"Times,serif\" font-size=\"14.00\" fill=\"#000000\">64</text>\n</g>\n<!-- 4.600&#45;&gt;6465 -->\n<g id=\"edge70\" class=\"edge\">\n<title>4.600&#45;&gt;6465</title>\n<path fill=\"none\" stroke=\"#000000\" d=\"M2817.5716,-190.9376C2937.7001,-186.9075 3351.9194,-171.9809 3409,-156 3433.6765,-149.0913 3459.1831,-135.164 3477.6972,-123.6069\"/>\n<polygon fill=\"#000000\" stroke=\"#000000\" points=\"3479.6585,-126.5071 3486.19,-118.165 3475.8819,-120.6133 3479.6585,-126.5071\"/>\n<text text-anchor=\"middle\" x=\"3458.5\" y=\"-144.8\" font-family=\"Times,serif\" font-size=\"14.00\" fill=\"#000000\">4.58</text>\n</g>\n<!-- 3566 -->\n<g id=\"node72\" class=\"node\">\n<title>3566</title>\n<ellipse fill=\"none\" stroke=\"#000000\" cx=\"3577\" cy=\"-105\" rx=\"27\" ry=\"18\"/>\n<text text-anchor=\"middle\" x=\"3577\" y=\"-101.3\" font-family=\"Times,serif\" font-size=\"14.00\" fill=\"#000000\">35</text>\n</g>\n<!-- 4.600&#45;&gt;3566 -->\n<g id=\"edge71\" class=\"edge\">\n<title>4.600&#45;&gt;3566</title>\n<path fill=\"none\" stroke=\"#000000\" d=\"M2817.4862,-191.0966C2945.6073,-187.4263 3412.0022,-173.0129 3476,-156 3502.2217,-149.0293 3529.5502,-134.7339 3549.1575,-123.0471\"/>\n<polygon fill=\"#000000\" stroke=\"#000000\" points=\"3551.1497,-125.9315 3557.8572,-117.7302 3547.4993,-119.9586 3551.1497,-125.9315\"/>\n<text text-anchor=\"middle\" x=\"3531\" y=\"-144.8\" font-family=\"Times,serif\" font-size=\"14.00\" fill=\"#000000\">4.170</text>\n</g>\n<!-- 5967 -->\n<g id=\"node73\" class=\"node\">\n<title>5967</title>\n<ellipse fill=\"none\" stroke=\"#000000\" cx=\"3649\" cy=\"-105\" rx=\"27\" ry=\"18\"/>\n<text text-anchor=\"middle\" x=\"3649\" y=\"-101.3\" font-family=\"Times,serif\" font-size=\"14.00\" fill=\"#000000\">59</text>\n</g>\n<!-- 4.600&#45;&gt;5967 -->\n<g id=\"edge72\" class=\"edge\">\n<title>4.600&#45;&gt;5967</title>\n<path fill=\"none\" stroke=\"#000000\" d=\"M2817.7512,-191.3012C2955.0598,-188.2575 3480.5265,-175.4333 3552,-156 3576.9288,-149.222 3602.7013,-135.2867 3621.4096,-123.6934\"/>\n<polygon fill=\"#000000\" stroke=\"#000000\" points=\"3623.4342,-126.5536 3629.9916,-118.2318 3619.6759,-120.6481 3623.4342,-126.5536\"/>\n<text text-anchor=\"middle\" x=\"3602.5\" y=\"-144.8\" font-family=\"Times,serif\" font-size=\"14.00\" fill=\"#000000\">5.36</text>\n</g>\n<!-- 6068 -->\n<g id=\"node74\" class=\"node\">\n<title>6068</title>\n<ellipse fill=\"none\" stroke=\"#000000\" cx=\"3721\" cy=\"-105\" rx=\"27\" ry=\"18\"/>\n<text text-anchor=\"middle\" x=\"3721\" y=\"-101.3\" font-family=\"Times,serif\" font-size=\"14.00\" fill=\"#000000\">60</text>\n</g>\n<!-- 4.600&#45;&gt;6068 -->\n<g id=\"edge73\" class=\"edge\">\n<title>4.600&#45;&gt;6068</title>\n<path fill=\"none\" stroke=\"#000000\" d=\"M2817.6768,-191.406C2962.3425,-188.6662 3541.4664,-176.5006 3620,-156 3646.2527,-149.1469 3673.5787,-134.8422 3693.1772,-123.1219\"/>\n<polygon fill=\"#000000\" stroke=\"#000000\" points=\"3695.1786,-126.0002 3701.8723,-117.7877 3691.5182,-120.0335 3695.1786,-126.0002\"/>\n<text text-anchor=\"middle\" x=\"3675\" y=\"-144.8\" font-family=\"Times,serif\" font-size=\"14.00\" fill=\"#000000\">4.603</text>\n</g>\n<!-- 5769 -->\n<g id=\"node75\" class=\"node\">\n<title>5769</title>\n<ellipse fill=\"none\" stroke=\"#000000\" cx=\"3793\" cy=\"-105\" rx=\"27\" ry=\"18\"/>\n<text text-anchor=\"middle\" x=\"3793\" y=\"-101.3\" font-family=\"Times,serif\" font-size=\"14.00\" fill=\"#000000\">57</text>\n</g>\n<!-- 4.600&#45;&gt;5769 -->\n<g id=\"edge74\" class=\"edge\">\n<title>4.600&#45;&gt;5769</title>\n<path fill=\"none\" stroke=\"#000000\" d=\"M2817.5478,-191.565C2970.0261,-189.4125 3609.9034,-179.0672 3696,-156 3721.1117,-149.272 3747.051,-135.1967 3765.7804,-123.5341\"/>\n<polygon fill=\"#000000\" stroke=\"#000000\" points=\"3767.8226,-126.3826 3774.3604,-118.0455 3764.0504,-120.4859 3767.8226,-126.3826\"/>\n<text text-anchor=\"middle\" x=\"3750\" y=\"-144.8\" font-family=\"Times,serif\" font-size=\"14.00\" fill=\"#000000\">5.260</text>\n</g>\n<!-- 5470 -->\n<g id=\"node76\" class=\"node\">\n<title>5470</title>\n<ellipse fill=\"none\" stroke=\"#000000\" cx=\"3865\" cy=\"-105\" rx=\"27\" ry=\"18\"/>\n<text text-anchor=\"middle\" x=\"3865\" y=\"-101.3\" font-family=\"Times,serif\" font-size=\"14.00\" fill=\"#000000\">54</text>\n</g>\n<!-- 4.600&#45;&gt;5470 -->\n<g id=\"edge75\" class=\"edge\">\n<title>4.600&#45;&gt;5470</title>\n<path fill=\"none\" stroke=\"#000000\" d=\"M2817.5343,-191.6948C2977.5856,-190.0749 3677.4362,-181.5726 3771,-156 3795.097,-149.4139 3819.8299,-135.6631 3837.874,-124.0981\"/>\n<polygon fill=\"#000000\" stroke=\"#000000\" points=\"3840.2428,-126.7283 3846.6614,-118.2991 3836.3872,-120.8858 3840.2428,-126.7283\"/>\n<text text-anchor=\"middle\" x=\"3824\" y=\"-144.8\" font-family=\"Times,serif\" font-size=\"14.00\" fill=\"#000000\">4.490</text>\n</g>\n<!-- 5671 -->\n<g id=\"node77\" class=\"node\">\n<title>5671</title>\n<ellipse fill=\"none\" stroke=\"#000000\" cx=\"3937\" cy=\"-105\" rx=\"27\" ry=\"18\"/>\n<text text-anchor=\"middle\" x=\"3937\" y=\"-101.3\" font-family=\"Times,serif\" font-size=\"14.00\" fill=\"#000000\">56</text>\n</g>\n<!-- 4.600&#45;&gt;5671 -->\n<g id=\"edge76\" class=\"edge\">\n<title>4.600&#45;&gt;5671</title>\n<path fill=\"none\" stroke=\"#000000\" d=\"M2817.7348,-191.7997C2985.4053,-190.6516 3744.0697,-183.94 3845,-156 3868.5307,-149.4861 3892.576,-135.8661 3910.1806,-124.3389\"/>\n<polygon fill=\"#000000\" stroke=\"#000000\" points=\"3912.4294,-127.0439 3918.7627,-118.5503 3908.5151,-121.2405 3912.4294,-127.0439\"/>\n<text text-anchor=\"middle\" x=\"3897\" y=\"-144.8\" font-family=\"Times,serif\" font-size=\"14.00\" fill=\"#000000\">3.590</text>\n</g>\n<!-- 6172 -->\n<g id=\"node78\" class=\"node\">\n<title>6172</title>\n<ellipse fill=\"none\" stroke=\"#000000\" cx=\"4009\" cy=\"-105\" rx=\"27\" ry=\"18\"/>\n<text text-anchor=\"middle\" x=\"4009\" y=\"-101.3\" font-family=\"Times,serif\" font-size=\"14.00\" fill=\"#000000\">61</text>\n</g>\n<!-- 4.600&#45;&gt;6172 -->\n<g id=\"edge77\" class=\"edge\">\n<title>4.600&#45;&gt;6172</title>\n<path fill=\"none\" stroke=\"#000000\" d=\"M2817.6642,-191.8859C2992.0739,-191.1536 3809.6895,-186.1267 3918,-156 3941.3274,-149.5115 3965.109,-135.8903 3982.508,-124.3562\"/>\n<polygon fill=\"#000000\" stroke=\"#000000\" points=\"3984.7051,-127.0941 3990.9886,-118.5637 3980.7569,-121.3138 3984.7051,-127.0941\"/>\n<text text-anchor=\"middle\" x=\"3966.5\" y=\"-144.8\" font-family=\"Times,serif\" font-size=\"14.00\" fill=\"#000000\">4.02</text>\n</g>\n<!-- 7873 -->\n<g id=\"node79\" class=\"node\">\n<title>7873</title>\n<ellipse fill=\"none\" stroke=\"#000000\" cx=\"4081\" cy=\"-105\" rx=\"27\" ry=\"18\"/>\n<text text-anchor=\"middle\" x=\"4081\" y=\"-101.3\" font-family=\"Times,serif\" font-size=\"14.00\" fill=\"#000000\">78</text>\n</g>\n<!-- 4.600&#45;&gt;7873 -->\n<g id=\"edge78\" class=\"edge\">\n<title>4.600&#45;&gt;7873</title>\n<path fill=\"none\" stroke=\"#000000\" d=\"M2817.7572,-191.8968C2998.3569,-191.2106 3868.5657,-186.3417 3984,-156 4009.1433,-149.3911 4035.0805,-135.3078 4053.801,-123.6118\"/>\n<polygon fill=\"#000000\" stroke=\"#000000\" points=\"4055.8529,-126.4537 4062.3762,-118.1051 4052.0705,-120.5635 4055.8529,-126.4537\"/>\n<text text-anchor=\"middle\" x=\"4034.5\" y=\"-144.8\" font-family=\"Times,serif\" font-size=\"14.00\" fill=\"#000000\">5.62</text>\n</g>\n<!-- 6274 -->\n<g id=\"node80\" class=\"node\">\n<title>6274</title>\n<ellipse fill=\"none\" stroke=\"#000000\" cx=\"4153\" cy=\"-105\" rx=\"27\" ry=\"18\"/>\n<text text-anchor=\"middle\" x=\"4153\" y=\"-101.3\" font-family=\"Times,serif\" font-size=\"14.00\" fill=\"#000000\">62</text>\n</g>\n<!-- 4.600&#45;&gt;6274 -->\n<g id=\"edge79\" class=\"edge\">\n<title>4.600&#45;&gt;6274</title>\n<path fill=\"none\" stroke=\"#000000\" d=\"M2817.7568,-191.9225C3004.3751,-191.3678 3929.3402,-187.0594 4052,-156 4078.3023,-149.3398 4105.6244,-135.0198 4125.2088,-123.2445\"/>\n<polygon fill=\"#000000\" stroke=\"#000000\" points=\"4127.2255,-126.1128 4133.8966,-117.882 4123.5487,-120.1562 4127.2255,-126.1128\"/>\n<text text-anchor=\"middle\" x=\"4103.5\" y=\"-144.8\" font-family=\"Times,serif\" font-size=\"14.00\" fill=\"#000000\">4.51</text>\n</g>\n<!-- 5775 -->\n<g id=\"node81\" class=\"node\">\n<title>5775</title>\n<ellipse fill=\"none\" stroke=\"#000000\" cx=\"4225\" cy=\"-105\" rx=\"27\" ry=\"18\"/>\n<text text-anchor=\"middle\" x=\"4225\" y=\"-101.3\" font-family=\"Times,serif\" font-size=\"14.00\" fill=\"#000000\">57</text>\n</g>\n<!-- 4.600&#45;&gt;5775 -->\n<g id=\"edge80\" class=\"edge\">\n<title>4.600&#45;&gt;5775</title>\n<path fill=\"none\" stroke=\"#000000\" d=\"M2817.6326,-191.9446C3009.8983,-191.509 3990.9651,-187.7358 4121,-156 4148.276,-149.3431 4176.7341,-134.7779 4196.972,-122.9105\"/>\n<polygon fill=\"#000000\" stroke=\"#000000\" points=\"4198.8929,-125.8394 4205.6582,-117.6858 4195.2849,-119.8409 4198.8929,-125.8394\"/>\n<text text-anchor=\"middle\" x=\"4173.5\" y=\"-144.8\" font-family=\"Times,serif\" font-size=\"14.00\" fill=\"#000000\">4.29</text>\n</g>\n<!-- 7076 -->\n<g id=\"node82\" class=\"node\">\n<title>7076</title>\n<ellipse fill=\"none\" stroke=\"#000000\" cx=\"4297\" cy=\"-105\" rx=\"27\" ry=\"18\"/>\n<text text-anchor=\"middle\" x=\"4297\" y=\"-101.3\" font-family=\"Times,serif\" font-size=\"14.00\" fill=\"#000000\">70</text>\n</g>\n<!-- 4.600&#45;&gt;7076 -->\n<g id=\"edge81\" class=\"edge\">\n<title>4.600&#45;&gt;7076</title>\n<path fill=\"none\" stroke=\"#000000\" d=\"M2817.6074,-191.546C3022.1651,-188.6504 4122.066,-172.3634 4191,-156 4218.7417,-149.4147 4247.7525,-134.843 4268.3965,-122.9549\"/>\n<polygon fill=\"#000000\" stroke=\"#000000\" points=\"4270.4285,-125.8196 4277.2583,-117.7199 4266.8682,-119.7927 4270.4285,-125.8196\"/>\n<text text-anchor=\"middle\" x=\"4244.5\" y=\"-144.8\" font-family=\"Times,serif\" font-size=\"14.00\" fill=\"#000000\">4.55</text>\n</g>\n<!-- 5577 -->\n<g id=\"node83\" class=\"node\">\n<title>5577</title>\n<ellipse fill=\"none\" stroke=\"#000000\" cx=\"4369\" cy=\"-105\" rx=\"27\" ry=\"18\"/>\n<text text-anchor=\"middle\" x=\"4369\" y=\"-101.3\" font-family=\"Times,serif\" font-size=\"14.00\" fill=\"#000000\">55</text>\n</g>\n<!-- 4.600&#45;&gt;5577 -->\n<g id=\"edge82\" class=\"edge\">\n<title>4.600&#45;&gt;5577</title>\n<path fill=\"none\" stroke=\"#000000\" d=\"M2817.5374,-191.5836C3027.9015,-188.8445 4189.3351,-172.993 4262,-156 4290.277,-149.3873 4319.8927,-134.5679 4340.7789,-122.5988\"/>\n<polygon fill=\"#000000\" stroke=\"#000000\" points=\"4342.5953,-125.5911 4349.4451,-117.5083 4339.0499,-119.5553 4342.5953,-125.5911\"/>\n<text text-anchor=\"middle\" x=\"4322\" y=\"-144.8\" font-family=\"Times,serif\" font-size=\"14.00\" fill=\"#000000\">4.290</text>\n</g>\n<!-- 6578 -->\n<g id=\"node84\" class=\"node\">\n<title>6578</title>\n<ellipse fill=\"none\" stroke=\"#000000\" cx=\"4441\" cy=\"-105\" rx=\"27\" ry=\"18\"/>\n<text text-anchor=\"middle\" x=\"4441\" y=\"-101.3\" font-family=\"Times,serif\" font-size=\"14.00\" fill=\"#000000\">65</text>\n</g>\n<!-- 4.600&#45;&gt;6578 -->\n<g id=\"edge83\" class=\"edge\">\n<title>4.600&#45;&gt;6578</title>\n<path fill=\"none\" stroke=\"#000000\" d=\"M2817.5655,-191.6663C3034.7072,-189.3893 4266.5555,-175.6393 4343,-156 4368.3832,-149.4788 4394.5891,-135.3895 4413.508,-123.669\"/>\n<polygon fill=\"#000000\" stroke=\"#000000\" points=\"4415.6203,-126.4733 4422.1746,-118.1491 4411.8598,-120.5692 4415.6203,-126.4733\"/>\n<text text-anchor=\"middle\" x=\"4397\" y=\"-144.8\" font-family=\"Times,serif\" font-size=\"14.00\" fill=\"#000000\">5.050</text>\n</g>\n<!-- 7379 -->\n<g id=\"node85\" class=\"node\">\n<title>7379</title>\n<ellipse fill=\"none\" stroke=\"#000000\" cx=\"4513\" cy=\"-105\" rx=\"27\" ry=\"18\"/>\n<text text-anchor=\"middle\" x=\"4513\" y=\"-101.3\" font-family=\"Times,serif\" font-size=\"14.00\" fill=\"#000000\">73</text>\n</g>\n<!-- 4.600&#45;&gt;7379 -->\n<g id=\"edge84\" class=\"edge\">\n<title>4.600&#45;&gt;7379</title>\n<path fill=\"none\" stroke=\"#000000\" d=\"M2817.6878,-191.7126C3041.2113,-189.6936 4337.8288,-177.1011 4418,-156 4442.5803,-149.5304 4467.8114,-135.5764 4486.088,-123.8974\"/>\n<polygon fill=\"#000000\" stroke=\"#000000\" points=\"4488.0338,-126.8069 4494.4682,-118.3896 4484.1891,-120.9572 4488.0338,-126.8069\"/>\n<text text-anchor=\"middle\" x=\"4467.5\" y=\"-144.8\" font-family=\"Times,serif\" font-size=\"14.00\" fill=\"#000000\">6.78</text>\n</g>\n<!-- 6280 -->\n<g id=\"node86\" class=\"node\">\n<title>6280</title>\n<ellipse fill=\"none\" stroke=\"#000000\" cx=\"4585\" cy=\"-105\" rx=\"27\" ry=\"18\"/>\n<text text-anchor=\"middle\" x=\"4585\" y=\"-101.3\" font-family=\"Times,serif\" font-size=\"14.00\" fill=\"#000000\">62</text>\n</g>\n<!-- 4.600&#45;&gt;6280 -->\n<g id=\"edge85\" class=\"edge\">\n<title>4.600&#45;&gt;6280</title>\n<path fill=\"none\" stroke=\"#000000\" d=\"M2817.5468,-191.7243C3045.9064,-189.7387 4401.1262,-177.0947 4485,-156 4511.1056,-149.4343 4538.1521,-135.1068 4557.5245,-123.3046\"/>\n<polygon fill=\"#000000\" stroke=\"#000000\" points=\"4559.4962,-126.1996 4566.1169,-117.9281 4555.7831,-120.2656 4559.4962,-126.1996\"/>\n<text text-anchor=\"middle\" x=\"4536.5\" y=\"-144.8\" font-family=\"Times,serif\" font-size=\"14.00\" fill=\"#000000\">5.86</text>\n</g>\n<!-- 5081 -->\n<g id=\"node87\" class=\"node\">\n<title>5081</title>\n<ellipse fill=\"none\" stroke=\"#000000\" cx=\"4657\" cy=\"-105\" rx=\"27\" ry=\"18\"/>\n<text text-anchor=\"middle\" x=\"4657\" y=\"-101.3\" font-family=\"Times,serif\" font-size=\"14.00\" fill=\"#000000\">50</text>\n</g>\n<!-- 4.600&#45;&gt;5081 -->\n<g id=\"edge86\" class=\"edge\">\n<title>4.600&#45;&gt;5081</title>\n<path fill=\"none\" stroke=\"#000000\" d=\"M2817.733,-191.7381C3051.9537,-189.8141 4466.4236,-177.3389 4554,-156 4581.0672,-149.4048 4609.2468,-134.834 4629.2746,-122.9487\"/>\n<polygon fill=\"#000000\" stroke=\"#000000\" points=\"4631.1488,-125.9054 4637.8697,-117.7152 4627.5082,-119.9265 4631.1488,-125.9054\"/>\n<text text-anchor=\"middle\" x=\"4606.5\" y=\"-144.8\" font-family=\"Times,serif\" font-size=\"14.00\" fill=\"#000000\">5.95</text>\n</g>\n<!-- 6582 -->\n<g id=\"node88\" class=\"node\">\n<title>6582</title>\n<ellipse fill=\"none\" stroke=\"#000000\" cx=\"4729\" cy=\"-105\" rx=\"27\" ry=\"18\"/>\n<text text-anchor=\"middle\" x=\"4729\" y=\"-101.3\" font-family=\"Times,serif\" font-size=\"14.00\" fill=\"#000000\">65</text>\n</g>\n<!-- 4.600&#45;&gt;6582 -->\n<g id=\"edge87\" class=\"edge\">\n<title>4.600&#45;&gt;6582</title>\n<path fill=\"none\" stroke=\"#000000\" d=\"M2817.8681,-191.7529C3057.7939,-189.9001 4532.679,-177.6559 4624,-156 4651.5309,-149.4713 4680.2633,-134.8945 4700.6979,-122.9899\"/>\n<polygon fill=\"#000000\" stroke=\"#000000\" points=\"4702.6813,-125.882 4709.4687,-117.7469 4699.0896,-119.8737 4702.6813,-125.882\"/>\n<text text-anchor=\"middle\" x=\"4680.5\" y=\"-144.8\" font-family=\"Times,serif\" font-size=\"14.00\" fill=\"#000000\">6.74</text>\n</g>\n<!-- 5983 -->\n<g id=\"node89\" class=\"node\">\n<title>5983</title>\n<ellipse fill=\"none\" stroke=\"#000000\" cx=\"4801\" cy=\"-105\" rx=\"27\" ry=\"18\"/>\n<text text-anchor=\"middle\" x=\"4801\" y=\"-101.3\" font-family=\"Times,serif\" font-size=\"14.00\" fill=\"#000000\">59</text>\n</g>\n<!-- 4.600&#45;&gt;5983 -->\n<g id=\"edge88\" class=\"edge\">\n<title>4.600&#45;&gt;5983</title>\n<path fill=\"none\" stroke=\"#000000\" d=\"M2817.6183,-191.7909C3062.2591,-190.1728 4602.9269,-179.0885 4698,-156 4725.0723,-149.4255 4753.2514,-134.8528 4773.2778,-122.9615\"/>\n<polygon fill=\"#000000\" stroke=\"#000000\" points=\"4775.1535,-125.9172 4781.8721,-117.725 4771.5112,-119.9394 4775.1535,-125.9172\"/>\n<text text-anchor=\"middle\" x=\"4750.5\" y=\"-144.8\" font-family=\"Times,serif\" font-size=\"14.00\" fill=\"#000000\">4.04</text>\n</g>\n<!-- 7884 -->\n<g id=\"node90\" class=\"node\">\n<title>7884</title>\n<ellipse fill=\"none\" stroke=\"#000000\" cx=\"4873\" cy=\"-105\" rx=\"27\" ry=\"18\"/>\n<text text-anchor=\"middle\" x=\"4873\" y=\"-101.3\" font-family=\"Times,serif\" font-size=\"14.00\" fill=\"#000000\">78</text>\n</g>\n<!-- 4.600&#45;&gt;7884 -->\n<g id=\"edge89\" class=\"edge\">\n<title>4.600&#45;&gt;7884</title>\n<path fill=\"none\" stroke=\"#000000\" d=\"M2817.6086,-191.803C3067.2948,-190.2459 4669.1478,-179.3677 4768,-156 4795.5355,-149.4909 4824.2675,-134.9123 4844.7008,-123.0021\"/>\n<polygon fill=\"#000000\" stroke=\"#000000\" points=\"4846.6857,-125.8932 4853.4709,-117.7562 4843.0923,-119.8858 4846.6857,-125.8932\"/>\n<text text-anchor=\"middle\" x=\"4824.5\" y=\"-144.8\" font-family=\"Times,serif\" font-size=\"14.00\" fill=\"#000000\">4.44</text>\n</g>\n<!-- ?85 -->\n<g id=\"node91\" class=\"node\">\n<title>?85</title>\n<ellipse fill=\"none\" stroke=\"#000000\" cx=\"4945\" cy=\"-105\" rx=\"27\" ry=\"18\"/>\n<text text-anchor=\"middle\" x=\"4945\" y=\"-101.3\" font-family=\"Times,serif\" font-size=\"14.00\" fill=\"#000000\">?</text>\n</g>\n<!-- 4.600&#45;&gt;?85 -->\n<g id=\"edge90\" class=\"edge\">\n<title>4.600&#45;&gt;?85</title>\n<path fill=\"none\" stroke=\"#000000\" d=\"M2817.6039,-191.8356C3072.5654,-190.5001 4739.431,-180.8374 4842,-156 4869.0766,-149.4433 4897.2554,-134.869 4917.2804,-122.9726\"/>\n<polygon fill=\"#000000\" stroke=\"#000000\" points=\"4919.1576,-125.9274 4925.8742,-117.7335 4915.5139,-119.9505 4919.1576,-125.9274\"/>\n<text text-anchor=\"middle\" x=\"4897.5\" y=\"-144.8\" font-family=\"Times,serif\" font-size=\"14.00\" fill=\"#000000\">4.77</text>\n</g>\n<!-- 6286 -->\n<g id=\"node92\" class=\"node\">\n<title>6286</title>\n<ellipse fill=\"none\" stroke=\"#000000\" cx=\"5017\" cy=\"-105\" rx=\"27\" ry=\"18\"/>\n<text text-anchor=\"middle\" x=\"5017\" y=\"-101.3\" font-family=\"Times,serif\" font-size=\"14.00\" fill=\"#000000\">62</text>\n</g>\n<!-- 4.600&#45;&gt;6286 -->\n<g id=\"edge91\" class=\"edge\">\n<title>4.600&#45;&gt;6286</title>\n<path fill=\"none\" stroke=\"#000000\" d=\"M2817.5167,-191.8618C3077.3008,-190.7065 4808.6934,-182.0459 4915,-156 4941.5611,-149.4923 4969.1538,-135.1602 4988.9326,-123.3415\"/>\n<polygon fill=\"#000000\" stroke=\"#000000\" points=\"4991.0146,-126.1704 4997.7067,-117.9565 4987.353,-120.2044 4991.0146,-126.1704\"/>\n<text text-anchor=\"middle\" x=\"4967.5\" y=\"-144.8\" font-family=\"Times,serif\" font-size=\"14.00\" fill=\"#000000\">4.87</text>\n</g>\n<!-- 6287 -->\n<g id=\"node93\" class=\"node\">\n<title>6287</title>\n<ellipse fill=\"none\" stroke=\"#000000\" cx=\"5089\" cy=\"-105\" rx=\"27\" ry=\"18\"/>\n<text text-anchor=\"middle\" x=\"5089\" y=\"-101.3\" font-family=\"Times,serif\" font-size=\"14.00\" fill=\"#000000\">62</text>\n</g>\n<!-- 4.600&#45;&gt;6287 -->\n<g id=\"edge92\" class=\"edge\">\n<title>4.600&#45;&gt;6287</title>\n<path fill=\"none\" stroke=\"#000000\" d=\"M2817.7376,-191.8683C3083.104,-190.751 4874.9203,-182.2496 4985,-156 5012.3108,-149.4875 5040.7658,-134.9092 5060.9936,-123\"/>\n<polygon fill=\"#000000\" stroke=\"#000000\" points=\"5062.9259,-125.9217 5069.6748,-117.7546 5059.3058,-119.9305 5062.9259,-125.9217\"/>\n<text text-anchor=\"middle\" x=\"5040.5\" y=\"-144.8\" font-family=\"Times,serif\" font-size=\"14.00\" fill=\"#000000\">6.63</text>\n</g>\n<!-- 0.288 -->\n<g id=\"node94\" class=\"node\">\n<title>0.288</title>\n<ellipse fill=\"none\" stroke=\"#000000\" cx=\"5161\" cy=\"-105\" rx=\"27\" ry=\"18\"/>\n<text text-anchor=\"middle\" x=\"5161\" y=\"-101.3\" font-family=\"Times,serif\" font-size=\"14.00\" fill=\"#000000\">0.2</text>\n</g>\n<!-- 4.600&#45;&gt;0.288 -->\n<g id=\"edge93\" class=\"edge\">\n<title>4.600&#45;&gt;0.288</title>\n<path fill=\"none\" stroke=\"#000000\" d=\"M2817.5355,-191.8922C3087.1436,-190.9488 4944.1613,-183.4662 5058,-156 5085.082,-149.4658 5113.2603,-134.8895 5133.2838,-122.9866\"/>\n<polygon fill=\"#000000\" stroke=\"#000000\" points=\"5135.1628,-125.9402 5141.8768,-117.7443 5131.5171,-119.9645 5135.1628,-125.9402\"/>\n<text text-anchor=\"middle\" x=\"5113.5\" y=\"-144.8\" font-family=\"Times,serif\" font-size=\"14.00\" fill=\"#000000\">5.49</text>\n</g>\n<!-- 7391 -->\n<g id=\"node97\" class=\"node\">\n<title>7391</title>\n<ellipse fill=\"none\" stroke=\"#000000\" cx=\"5233\" cy=\"-105\" rx=\"27\" ry=\"18\"/>\n<text text-anchor=\"middle\" x=\"5233\" y=\"-101.3\" font-family=\"Times,serif\" font-size=\"14.00\" fill=\"#000000\">73</text>\n</g>\n<!-- 4.600&#45;&gt;7391 -->\n<g id=\"edge96\" class=\"edge\">\n<title>4.600&#45;&gt;7391</title>\n<path fill=\"none\" stroke=\"#000000\" d=\"M2817.7079,-191.9138C3092.8194,-191.1377 5013.4608,-184.701 5131,-156 5157.5662,-149.513 5185.1585,-135.1793 5204.9358,-123.3547\"/>\n<polygon fill=\"#000000\" stroke=\"#000000\" points=\"5207.0195,-126.1824 5213.7091,-117.9666 5203.3561,-120.2175 5207.0195,-126.1824\"/>\n<text text-anchor=\"middle\" x=\"5189\" y=\"-144.8\" font-family=\"Times,serif\" font-size=\"14.00\" fill=\"#000000\">6.060</text>\n</g>\n<!-- 5392 -->\n<g id=\"node98\" class=\"node\">\n<title>5392</title>\n<ellipse fill=\"none\" stroke=\"#000000\" cx=\"5305\" cy=\"-105\" rx=\"27\" ry=\"18\"/>\n<text text-anchor=\"middle\" x=\"5305\" y=\"-101.3\" font-family=\"Times,serif\" font-size=\"14.00\" fill=\"#000000\">53</text>\n</g>\n<!-- 4.600&#45;&gt;5392 -->\n<g id=\"edge97\" class=\"edge\">\n<title>4.600&#45;&gt;5392</title>\n<path fill=\"none\" stroke=\"#000000\" d=\"M2817.924,-191.9568C3099.0675,-191.5335 5088.812,-187.4308 5210,-156 5234.6035,-149.6189 5259.8331,-135.6596 5278.1033,-123.956\"/>\n<polygon fill=\"#000000\" stroke=\"#000000\" points=\"5280.0566,-126.8605 5286.48,-118.4349 5276.2043,-121.0158 5280.0566,-126.8605\"/>\n<text text-anchor=\"middle\" x=\"5262.5\" y=\"-144.8\" font-family=\"Times,serif\" font-size=\"14.00\" fill=\"#000000\">4.69</text>\n</g>\n<!-- 5493 -->\n<g id=\"node99\" class=\"node\">\n<title>5493</title>\n<ellipse fill=\"none\" stroke=\"#000000\" cx=\"5377\" cy=\"-105\" rx=\"27\" ry=\"18\"/>\n<text text-anchor=\"middle\" x=\"5377\" y=\"-101.3\" font-family=\"Times,serif\" font-size=\"14.00\" fill=\"#000000\">54</text>\n</g>\n<!-- 4.600&#45;&gt;5493 -->\n<g id=\"edge98\" class=\"edge\">\n<title>4.600&#45;&gt;5493</title>\n<path fill=\"none\" stroke=\"#000000\" d=\"M2817.5174,-191.9638C3101.6539,-191.5939 5154.9727,-187.8236 5280,-156 5305.194,-149.5873 5331.1278,-135.4907 5349.8341,-123.7397\"/>\n<polygon fill=\"#000000\" stroke=\"#000000\" points=\"5351.9022,-126.5705 5358.4016,-118.2035 5348.103,-120.6912 5351.9022,-126.5705\"/>\n<text text-anchor=\"middle\" x=\"5337\" y=\"-144.8\" font-family=\"Times,serif\" font-size=\"14.00\" fill=\"#000000\">3.630</text>\n</g>\n<!-- 6994 -->\n<g id=\"node100\" class=\"node\">\n<title>6994</title>\n<ellipse fill=\"none\" stroke=\"#000000\" cx=\"5449\" cy=\"-105\" rx=\"27\" ry=\"18\"/>\n<text text-anchor=\"middle\" x=\"5449\" y=\"-101.3\" font-family=\"Times,serif\" font-size=\"14.00\" fill=\"#000000\">69</text>\n</g>\n<!-- 4.600&#45;&gt;6994 -->\n<g id=\"edge99\" class=\"edge\">\n<title>4.600&#45;&gt;6994</title>\n<path fill=\"none\" stroke=\"#000000\" d=\"M2817.5963,-191.7672C3111.3931,-189.6424 5293.6192,-173.2927 5358,-156 5381.3841,-149.719 5405.1632,-136.0886 5422.5469,-124.4983\"/>\n<polygon fill=\"#000000\" stroke=\"#000000\" points=\"5424.7616,-127.2231 5431.0185,-118.6731 5420.7954,-121.4551 5424.7616,-127.2231\"/>\n<text text-anchor=\"middle\" x=\"5408.5\" y=\"-144.8\" font-family=\"Times,serif\" font-size=\"14.00\" fill=\"#000000\">5.05</text>\n</g>\n<!-- 6295 -->\n<g id=\"node101\" class=\"node\">\n<title>6295</title>\n<ellipse fill=\"none\" stroke=\"#000000\" cx=\"5521\" cy=\"-105\" rx=\"27\" ry=\"18\"/>\n<text text-anchor=\"middle\" x=\"5521\" y=\"-101.3\" font-family=\"Times,serif\" font-size=\"14.00\" fill=\"#000000\">62</text>\n</g>\n<!-- 4.600&#45;&gt;6295 -->\n<g id=\"edge100\" class=\"edge\">\n<title>4.600&#45;&gt;6295</title>\n<path fill=\"none\" stroke=\"#000000\" d=\"M2817.5147,-191.7718C3115.3044,-189.656 5359.6874,-173.1556 5426,-156 5450.6073,-149.6339 5475.8368,-135.6736 5494.1059,-123.9659\"/>\n<polygon fill=\"#000000\" stroke=\"#000000\" points=\"5496.0604,-126.8695 5502.482,-118.4425 5492.2069,-121.0257 5496.0604,-126.8695\"/>\n<text text-anchor=\"middle\" x=\"5482\" y=\"-144.8\" font-family=\"Times,serif\" font-size=\"14.00\" fill=\"#000000\">5.430</text>\n</g>\n<!-- 502 -->\n<g id=\"node5\" class=\"node\">\n<title>502</title>\n<ellipse fill=\"none\" stroke=\"#000000\" cx=\"135\" cy=\"-18\" rx=\"27\" ry=\"18\"/>\n<text text-anchor=\"middle\" x=\"135\" y=\"-14.3\" font-family=\"Times,serif\" font-size=\"14.00\" fill=\"#000000\">50</text>\n</g>\n<!-- 0.2&#45;&gt;502 -->\n<g id=\"edge4\" class=\"edge\">\n<title>0.2&#45;&gt;502</title>\n<path fill=\"none\" stroke=\"#000000\" d=\"M163.7149,-87.3943C158.6889,-75.2482 151.9107,-58.8674 146.2018,-45.0711\"/>\n<polygon fill=\"#000000\" stroke=\"#000000\" points=\"149.3319,-43.4815 142.2743,-35.5796 142.8638,-46.158 149.3319,-43.4815\"/>\n<text text-anchor=\"middle\" x=\"159.5\" y=\"-57.8\" font-family=\"Times,serif\" font-size=\"14.00\" fill=\"#000000\">?</text>\n</g>\n<!-- 593 -->\n<g id=\"node6\" class=\"node\">\n<title>593</title>\n<ellipse fill=\"none\" stroke=\"#000000\" cx=\"207\" cy=\"-18\" rx=\"27\" ry=\"18\"/>\n<text text-anchor=\"middle\" x=\"207\" y=\"-14.3\" font-family=\"Times,serif\" font-size=\"14.00\" fill=\"#000000\">59</text>\n</g>\n<!-- 0.2&#45;&gt;593 -->\n<g id=\"edge5\" class=\"edge\">\n<title>0.2&#45;&gt;593</title>\n<path fill=\"none\" stroke=\"#000000\" d=\"M178.2851,-87.3943C183.3111,-75.2482 190.0893,-58.8674 195.7982,-45.0711\"/>\n<polygon fill=\"#000000\" stroke=\"#000000\" points=\"199.1362,-46.158 199.7257,-35.5796 192.6681,-43.4815 199.1362,-46.158\"/>\n<text text-anchor=\"middle\" x=\"196\" y=\"-57.8\" font-family=\"Times,serif\" font-size=\"14.00\" fill=\"#000000\">0</text>\n</g>\n<!-- 748 -->\n<g id=\"node11\" class=\"node\">\n<title>748</title>\n<ellipse fill=\"none\" stroke=\"#000000\" cx=\"423\" cy=\"-18\" rx=\"27\" ry=\"18\"/>\n<text text-anchor=\"middle\" x=\"423\" y=\"-14.3\" font-family=\"Times,serif\" font-size=\"14.00\" fill=\"#000000\">74</text>\n</g>\n<!-- 0.27&#45;&gt;748 -->\n<g id=\"edge10\" class=\"edge\">\n<title>0.27&#45;&gt;748</title>\n<path fill=\"none\" stroke=\"#000000\" d=\"M451.7149,-87.3943C446.6889,-75.2482 439.9107,-58.8674 434.2018,-45.0711\"/>\n<polygon fill=\"#000000\" stroke=\"#000000\" points=\"437.3319,-43.4815 430.2743,-35.5796 430.8638,-46.158 437.3319,-43.4815\"/>\n<text text-anchor=\"middle\" x=\"448\" y=\"-57.8\" font-family=\"Times,serif\" font-size=\"14.00\" fill=\"#000000\">0</text>\n</g>\n<!-- 609 -->\n<g id=\"node12\" class=\"node\">\n<title>609</title>\n<ellipse fill=\"none\" stroke=\"#000000\" cx=\"495\" cy=\"-18\" rx=\"27\" ry=\"18\"/>\n<text text-anchor=\"middle\" x=\"495\" y=\"-14.3\" font-family=\"Times,serif\" font-size=\"14.00\" fill=\"#000000\">60</text>\n</g>\n<!-- 0.27&#45;&gt;609 -->\n<g id=\"edge11\" class=\"edge\">\n<title>0.27&#45;&gt;609</title>\n<path fill=\"none\" stroke=\"#000000\" d=\"M466.2851,-87.3943C471.3111,-75.2482 478.0893,-58.8674 483.7982,-45.0711\"/>\n<polygon fill=\"#000000\" stroke=\"#000000\" points=\"487.1362,-46.158 487.7257,-35.5796 480.6681,-43.4815 487.1362,-46.158\"/>\n<text text-anchor=\"middle\" x=\"483.5\" y=\"-57.8\" font-family=\"Times,serif\" font-size=\"14.00\" fill=\"#000000\">?</text>\n</g>\n<!-- 5516 -->\n<g id=\"node20\" class=\"node\">\n<title>5516</title>\n<ellipse fill=\"none\" stroke=\"#000000\" cx=\"769\" cy=\"-18\" rx=\"27\" ry=\"18\"/>\n<text text-anchor=\"middle\" x=\"769\" y=\"-14.3\" font-family=\"Times,serif\" font-size=\"14.00\" fill=\"#000000\">55</text>\n</g>\n<!-- 14&#45;&gt;5516 -->\n<g id=\"edge19\" class=\"edge\">\n<title>14&#45;&gt;5516</title>\n<path fill=\"none\" stroke=\"#000000\" d=\"M963.545,-93.6041C958.8158,-91.2811 953.7879,-88.9531 949,-87 924.7936,-77.1255 917.6907,-77.5922 893,-69 853.5497,-55.2716 843.2886,-52.6965 805,-36 803.2226,-35.2249 801.4074,-34.4064 799.5837,-33.5629\"/>\n<polygon fill=\"#000000\" stroke=\"#000000\" points=\"801.0584,-30.3885 790.5278,-29.2234 798.0334,-36.7011 801.0584,-30.3885\"/>\n<text text-anchor=\"middle\" x=\"897\" y=\"-57.8\" font-family=\"Times,serif\" font-size=\"14.00\" fill=\"#000000\">2</text>\n</g>\n<!-- 6117 -->\n<g id=\"node21\" class=\"node\">\n<title>6117</title>\n<ellipse fill=\"none\" stroke=\"#000000\" cx=\"841\" cy=\"-18\" rx=\"27\" ry=\"18\"/>\n<text text-anchor=\"middle\" x=\"841\" y=\"-14.3\" font-family=\"Times,serif\" font-size=\"14.00\" fill=\"#000000\">61</text>\n</g>\n<!-- 14&#45;&gt;6117 -->\n<g id=\"edge20\" class=\"edge\">\n<title>14&#45;&gt;6117</title>\n<path fill=\"none\" stroke=\"#000000\" d=\"M964.9774,-92.903C940.292,-77.9889 898.1521,-52.5294 869.9454,-35.4878\"/>\n<polygon fill=\"#000000\" stroke=\"#000000\" points=\"871.6858,-32.4502 861.3168,-30.2747 868.066,-38.4416 871.6858,-32.4502\"/>\n<text text-anchor=\"middle\" x=\"926\" y=\"-57.8\" font-family=\"Times,serif\" font-size=\"14.00\" fill=\"#000000\">9</text>\n</g>\n<!-- 6418 -->\n<g id=\"node22\" class=\"node\">\n<title>6418</title>\n<ellipse fill=\"none\" stroke=\"#000000\" cx=\"913\" cy=\"-18\" rx=\"27\" ry=\"18\"/>\n<text text-anchor=\"middle\" x=\"913\" y=\"-14.3\" font-family=\"Times,serif\" font-size=\"14.00\" fill=\"#000000\">64</text>\n</g>\n<!-- 14&#45;&gt;6418 -->\n<g id=\"edge21\" class=\"edge\">\n<title>14&#45;&gt;6418</title>\n<path fill=\"none\" stroke=\"#000000\" d=\"M971.7941,-89.0429C960.8328,-75.798 945.0821,-56.7659 932.6416,-41.7336\"/>\n<polygon fill=\"#000000\" stroke=\"#000000\" points=\"935.1943,-39.3284 926.1222,-33.856 929.8015,-43.7914 935.1943,-39.3284\"/>\n<text text-anchor=\"middle\" x=\"962\" y=\"-57.8\" font-family=\"Times,serif\" font-size=\"14.00\" fill=\"#000000\">12</text>\n</g>\n<!-- 7519 -->\n<g id=\"node23\" class=\"node\">\n<title>7519</title>\n<ellipse fill=\"none\" stroke=\"#000000\" cx=\"985\" cy=\"-18\" rx=\"27\" ry=\"18\"/>\n<text text-anchor=\"middle\" x=\"985\" y=\"-14.3\" font-family=\"Times,serif\" font-size=\"14.00\" fill=\"#000000\">75</text>\n</g>\n<!-- 14&#45;&gt;7519 -->\n<g id=\"edge22\" class=\"edge\">\n<title>14&#45;&gt;7519</title>\n<path fill=\"none\" stroke=\"#000000\" d=\"M985,-86.9735C985,-75.1918 985,-59.5607 985,-46.1581\"/>\n<polygon fill=\"#000000\" stroke=\"#000000\" points=\"988.5001,-46.0033 985,-36.0034 981.5001,-46.0034 988.5001,-46.0033\"/>\n<text text-anchor=\"middle\" x=\"988.5\" y=\"-57.8\" font-family=\"Times,serif\" font-size=\"14.00\" fill=\"#000000\">?</text>\n</g>\n<!-- ?20 -->\n<g id=\"node24\" class=\"node\">\n<title>?20</title>\n<ellipse fill=\"none\" stroke=\"#000000\" cx=\"1057\" cy=\"-18\" rx=\"27\" ry=\"18\"/>\n<text text-anchor=\"middle\" x=\"1057\" y=\"-14.3\" font-family=\"Times,serif\" font-size=\"14.00\" fill=\"#000000\">?</text>\n</g>\n<!-- 14&#45;&gt;?20 -->\n<g id=\"edge23\" class=\"edge\">\n<title>14&#45;&gt;?20</title>\n<path fill=\"none\" stroke=\"#000000\" d=\"M998.2059,-89.0429C1009.1672,-75.798 1024.9179,-56.7659 1037.3584,-41.7336\"/>\n<polygon fill=\"#000000\" stroke=\"#000000\" points=\"1040.1985,-43.7914 1043.8778,-33.856 1034.8057,-39.3284 1040.1985,-43.7914\"/>\n<text text-anchor=\"middle\" x=\"1030\" y=\"-57.8\" font-family=\"Times,serif\" font-size=\"14.00\" fill=\"#000000\">6</text>\n</g>\n<!-- 6321 -->\n<g id=\"node25\" class=\"node\">\n<title>6321</title>\n<ellipse fill=\"none\" stroke=\"#000000\" cx=\"1129\" cy=\"-18\" rx=\"27\" ry=\"18\"/>\n<text text-anchor=\"middle\" x=\"1129\" y=\"-14.3\" font-family=\"Times,serif\" font-size=\"14.00\" fill=\"#000000\">63</text>\n</g>\n<!-- 14&#45;&gt;6321 -->\n<g id=\"edge24\" class=\"edge\">\n<title>14&#45;&gt;6321</title>\n<path fill=\"none\" stroke=\"#000000\" d=\"M1005.0226,-92.903C1029.708,-77.9889 1071.8479,-52.5294 1100.0546,-35.4878\"/>\n<polygon fill=\"#000000\" stroke=\"#000000\" points=\"1101.934,-38.4416 1108.6832,-30.2747 1098.3142,-32.4502 1101.934,-38.4416\"/>\n<text text-anchor=\"middle\" x=\"1074\" y=\"-57.8\" font-family=\"Times,serif\" font-size=\"14.00\" fill=\"#000000\">14</text>\n</g>\n<!-- 6522 -->\n<g id=\"node26\" class=\"node\">\n<title>6522</title>\n<ellipse fill=\"none\" stroke=\"#000000\" cx=\"1201\" cy=\"-18\" rx=\"27\" ry=\"18\"/>\n<text text-anchor=\"middle\" x=\"1201\" y=\"-14.3\" font-family=\"Times,serif\" font-size=\"14.00\" fill=\"#000000\">65</text>\n</g>\n<!-- 14&#45;&gt;6522 -->\n<g id=\"edge25\" class=\"edge\">\n<title>14&#45;&gt;6522</title>\n<path fill=\"none\" stroke=\"#000000\" d=\"M1006.013,-93.6428C1010.8561,-91.2654 1016.0428,-88.9051 1021,-87 1048.981,-76.2468 1057.6698,-78.7964 1086,-69 1121.962,-56.5646 1130.4074,-51.851 1165,-36 1166.7628,-35.1922 1168.5665,-34.3481 1170.3814,-33.4849\"/>\n<polygon fill=\"#000000\" stroke=\"#000000\" points=\"1171.9518,-36.6132 1179.4131,-29.0913 1168.8896,-30.3185 1171.9518,-36.6132\"/>\n<text text-anchor=\"middle\" x=\"1146\" y=\"-57.8\" font-family=\"Times,serif\" font-size=\"14.00\" fill=\"#000000\">21.500</text>\n</g>\n<!-- 6327 -->\n<g id=\"node31\" class=\"node\">\n<title>6327</title>\n<ellipse fill=\"none\" stroke=\"#000000\" cx=\"1273\" cy=\"-18\" rx=\"27\" ry=\"18\"/>\n<text text-anchor=\"middle\" x=\"1273\" y=\"-14.3\" font-family=\"Times,serif\" font-size=\"14.00\" fill=\"#000000\">63</text>\n</g>\n<!-- 0.226&#45;&gt;6327 -->\n<g id=\"edge30\" class=\"edge\">\n<title>0.226&#45;&gt;6327</title>\n<path fill=\"none\" stroke=\"#000000\" d=\"M1273,-86.9735C1273,-75.1918 1273,-59.5607 1273,-46.1581\"/>\n<polygon fill=\"#000000\" stroke=\"#000000\" points=\"1276.5001,-46.0033 1273,-36.0034 1269.5001,-46.0034 1276.5001,-46.0033\"/>\n<text text-anchor=\"middle\" x=\"1276.5\" y=\"-57.8\" font-family=\"Times,serif\" font-size=\"14.00\" fill=\"#000000\">?</text>\n</g>\n<!-- 8628 -->\n<g id=\"node32\" class=\"node\">\n<title>8628</title>\n<ellipse fill=\"none\" stroke=\"#000000\" cx=\"1345\" cy=\"-18\" rx=\"27\" ry=\"18\"/>\n<text text-anchor=\"middle\" x=\"1345\" y=\"-14.3\" font-family=\"Times,serif\" font-size=\"14.00\" fill=\"#000000\">86</text>\n</g>\n<!-- 0.226&#45;&gt;8628 -->\n<g id=\"edge31\" class=\"edge\">\n<title>0.226&#45;&gt;8628</title>\n<path fill=\"none\" stroke=\"#000000\" d=\"M1286.2059,-89.0429C1297.1672,-75.798 1312.9179,-56.7659 1325.3584,-41.7336\"/>\n<polygon fill=\"#000000\" stroke=\"#000000\" points=\"1328.1985,-43.7914 1331.8778,-33.856 1322.8057,-39.3284 1328.1985,-43.7914\"/>\n<text text-anchor=\"middle\" x=\"1318\" y=\"-57.8\" font-family=\"Times,serif\" font-size=\"14.00\" fill=\"#000000\">1</text>\n</g>\n<!-- 5534 -->\n<g id=\"node38\" class=\"node\">\n<title>5534</title>\n<ellipse fill=\"none\" stroke=\"#000000\" cx=\"1561\" cy=\"-18\" rx=\"27\" ry=\"18\"/>\n<text text-anchor=\"middle\" x=\"1561\" y=\"-14.3\" font-family=\"Times,serif\" font-size=\"14.00\" fill=\"#000000\">55</text>\n</g>\n<!-- 0.233&#45;&gt;5534 -->\n<g id=\"edge37\" class=\"edge\">\n<title>0.233&#45;&gt;5534</title>\n<path fill=\"none\" stroke=\"#000000\" d=\"M1619.7941,-89.0429C1608.8328,-75.798 1593.0821,-56.7659 1580.6416,-41.7336\"/>\n<polygon fill=\"#000000\" stroke=\"#000000\" points=\"1583.1943,-39.3284 1574.1222,-33.856 1577.8015,-43.7914 1583.1943,-39.3284\"/>\n<text text-anchor=\"middle\" x=\"1606\" y=\"-57.8\" font-family=\"Times,serif\" font-size=\"14.00\" fill=\"#000000\">0</text>\n</g>\n<!-- 6235 -->\n<g id=\"node39\" class=\"node\">\n<title>6235</title>\n<ellipse fill=\"none\" stroke=\"#000000\" cx=\"1633\" cy=\"-18\" rx=\"27\" ry=\"18\"/>\n<text text-anchor=\"middle\" x=\"1633\" y=\"-14.3\" font-family=\"Times,serif\" font-size=\"14.00\" fill=\"#000000\">62</text>\n</g>\n<!-- 0.233&#45;&gt;6235 -->\n<g id=\"edge38\" class=\"edge\">\n<title>0.233&#45;&gt;6235</title>\n<path fill=\"none\" stroke=\"#000000\" d=\"M1633,-86.9735C1633,-75.1918 1633,-59.5607 1633,-46.1581\"/>\n<polygon fill=\"#000000\" stroke=\"#000000\" points=\"1636.5001,-46.0033 1633,-36.0034 1629.5001,-46.0034 1636.5001,-46.0033\"/>\n<text text-anchor=\"middle\" x=\"1636.5\" y=\"-57.8\" font-family=\"Times,serif\" font-size=\"14.00\" fill=\"#000000\">?</text>\n</g>\n<!-- ?36 -->\n<g id=\"node41\" class=\"node\">\n<title>?36</title>\n<ellipse fill=\"none\" stroke=\"#000000\" cx=\"1705\" cy=\"-18\" rx=\"27\" ry=\"18\"/>\n<text text-anchor=\"middle\" x=\"1705\" y=\"-14.3\" font-family=\"Times,serif\" font-size=\"14.00\" fill=\"#000000\">?</text>\n</g>\n<!-- 1.1&#45;&gt;?36 -->\n<g id=\"edge40\" class=\"edge\">\n<title>1.1&#45;&gt;?36</title>\n<path fill=\"none\" stroke=\"#000000\" d=\"M1705,-86.9735C1705,-75.1918 1705,-59.5607 1705,-46.1581\"/>\n<polygon fill=\"#000000\" stroke=\"#000000\" points=\"1708.5001,-46.0033 1705,-36.0034 1701.5001,-46.0034 1708.5001,-46.0033\"/>\n<text text-anchor=\"middle\" x=\"1718.5\" y=\"-57.8\" font-family=\"Times,serif\" font-size=\"14.00\" fill=\"#000000\">0.64</text>\n</g>\n<!-- 6637 -->\n<g id=\"node42\" class=\"node\">\n<title>6637</title>\n<ellipse fill=\"none\" stroke=\"#000000\" cx=\"1777\" cy=\"-18\" rx=\"27\" ry=\"18\"/>\n<text text-anchor=\"middle\" x=\"1777\" y=\"-14.3\" font-family=\"Times,serif\" font-size=\"14.00\" fill=\"#000000\">66</text>\n</g>\n<!-- 1.1&#45;&gt;6637 -->\n<g id=\"edge41\" class=\"edge\">\n<title>1.1&#45;&gt;6637</title>\n<path fill=\"none\" stroke=\"#000000\" d=\"M1718.697,-89.3269C1724.1318,-83.0476 1730.4078,-75.7204 1736,-69 1743.1939,-60.3546 1750.9554,-50.7688 1757.7696,-42.2628\"/>\n<polygon fill=\"#000000\" stroke=\"#000000\" points=\"1760.7091,-44.1907 1764.212,-34.1916 1755.2381,-39.8238 1760.7091,-44.1907\"/>\n<text text-anchor=\"middle\" x=\"1765\" y=\"-57.8\" font-family=\"Times,serif\" font-size=\"14.00\" fill=\"#000000\">0.714</text>\n</g>\n<!-- 6545 -->\n<g id=\"node50\" class=\"node\">\n<title>6545</title>\n<ellipse fill=\"none\" stroke=\"#000000\" cx=\"2173\" cy=\"-18\" rx=\"27\" ry=\"18\"/>\n<text text-anchor=\"middle\" x=\"2173\" y=\"-14.3\" font-family=\"Times,serif\" font-size=\"14.00\" fill=\"#000000\">65</text>\n</g>\n<!-- 0.244&#45;&gt;6545 -->\n<g id=\"edge49\" class=\"edge\">\n<title>0.244&#45;&gt;6545</title>\n<path fill=\"none\" stroke=\"#000000\" d=\"M2201.7149,-87.3943C2196.6889,-75.2482 2189.9107,-58.8674 2184.2018,-45.0711\"/>\n<polygon fill=\"#000000\" stroke=\"#000000\" points=\"2187.3319,-43.4815 2180.2743,-35.5796 2180.8638,-46.158 2187.3319,-43.4815\"/>\n<text text-anchor=\"middle\" x=\"2198\" y=\"-57.8\" font-family=\"Times,serif\" font-size=\"14.00\" fill=\"#000000\">1</text>\n</g>\n<!-- 6446 -->\n<g id=\"node51\" class=\"node\">\n<title>6446</title>\n<ellipse fill=\"none\" stroke=\"#000000\" cx=\"2245\" cy=\"-18\" rx=\"27\" ry=\"18\"/>\n<text text-anchor=\"middle\" x=\"2245\" y=\"-14.3\" font-family=\"Times,serif\" font-size=\"14.00\" fill=\"#000000\">64</text>\n</g>\n<!-- 0.244&#45;&gt;6446 -->\n<g id=\"edge50\" class=\"edge\">\n<title>0.244&#45;&gt;6446</title>\n<path fill=\"none\" stroke=\"#000000\" d=\"M2216.2851,-87.3943C2221.3111,-75.2482 2228.0893,-58.8674 2233.7982,-45.0711\"/>\n<polygon fill=\"#000000\" stroke=\"#000000\" points=\"2237.1362,-46.158 2237.7257,-35.5796 2230.6681,-43.4815 2237.1362,-46.158\"/>\n<text text-anchor=\"middle\" x=\"2233.5\" y=\"-57.8\" font-family=\"Times,serif\" font-size=\"14.00\" fill=\"#000000\">?</text>\n</g>\n<!-- 5749 -->\n<g id=\"node55\" class=\"node\">\n<title>5749</title>\n<ellipse fill=\"none\" stroke=\"#000000\" cx=\"2389\" cy=\"-18\" rx=\"27\" ry=\"18\"/>\n<text text-anchor=\"middle\" x=\"2389\" y=\"-14.3\" font-family=\"Times,serif\" font-size=\"14.00\" fill=\"#000000\">57</text>\n</g>\n<!-- 1.2&#45;&gt;5749 -->\n<g id=\"edge54\" class=\"edge\">\n<title>1.2&#45;&gt;5749</title>\n<path fill=\"none\" stroke=\"#000000\" d=\"M2417.7149,-87.3943C2412.6889,-75.2482 2405.9107,-58.8674 2400.2018,-45.0711\"/>\n<polygon fill=\"#000000\" stroke=\"#000000\" points=\"2403.3319,-43.4815 2396.2743,-35.5796 2396.8638,-46.158 2403.3319,-43.4815\"/>\n<text text-anchor=\"middle\" x=\"2413.5\" y=\"-57.8\" font-family=\"Times,serif\" font-size=\"14.00\" fill=\"#000000\">?</text>\n</g>\n<!-- 6450 -->\n<g id=\"node56\" class=\"node\">\n<title>6450</title>\n<ellipse fill=\"none\" stroke=\"#000000\" cx=\"2461\" cy=\"-18\" rx=\"27\" ry=\"18\"/>\n<text text-anchor=\"middle\" x=\"2461\" y=\"-14.3\" font-family=\"Times,serif\" font-size=\"14.00\" fill=\"#000000\">64</text>\n</g>\n<!-- 1.2&#45;&gt;6450 -->\n<g id=\"edge55\" class=\"edge\">\n<title>1.2&#45;&gt;6450</title>\n<path fill=\"none\" stroke=\"#000000\" d=\"M2432.2851,-87.3943C2437.3111,-75.2482 2444.0893,-58.8674 2449.7982,-45.0711\"/>\n<polygon fill=\"#000000\" stroke=\"#000000\" points=\"2453.1362,-46.158 2453.7257,-35.5796 2446.6681,-43.4815 2453.1362,-46.158\"/>\n<text text-anchor=\"middle\" x=\"2450\" y=\"-57.8\" font-family=\"Times,serif\" font-size=\"14.00\" fill=\"#000000\">2</text>\n</g>\n<!-- 5989 -->\n<g id=\"node95\" class=\"node\">\n<title>5989</title>\n<ellipse fill=\"none\" stroke=\"#000000\" cx=\"5125\" cy=\"-18\" rx=\"27\" ry=\"18\"/>\n<text text-anchor=\"middle\" x=\"5125\" y=\"-14.3\" font-family=\"Times,serif\" font-size=\"14.00\" fill=\"#000000\">59</text>\n</g>\n<!-- 0.288&#45;&gt;5989 -->\n<g id=\"edge94\" class=\"edge\">\n<title>0.288&#45;&gt;5989</title>\n<path fill=\"none\" stroke=\"#000000\" d=\"M5153.7149,-87.3943C5148.6889,-75.2482 5141.9107,-58.8674 5136.2018,-45.0711\"/>\n<polygon fill=\"#000000\" stroke=\"#000000\" points=\"5139.3319,-43.4815 5132.2743,-35.5796 5132.8638,-46.158 5139.3319,-43.4815\"/>\n<text text-anchor=\"middle\" x=\"5150\" y=\"-57.8\" font-family=\"Times,serif\" font-size=\"14.00\" fill=\"#000000\">0</text>\n</g>\n<!-- ?90 -->\n<g id=\"node96\" class=\"node\">\n<title>?90</title>\n<ellipse fill=\"none\" stroke=\"#000000\" cx=\"5197\" cy=\"-18\" rx=\"27\" ry=\"18\"/>\n<text text-anchor=\"middle\" x=\"5197\" y=\"-14.3\" font-family=\"Times,serif\" font-size=\"14.00\" fill=\"#000000\">?</text>\n</g>\n<!-- 0.288&#45;&gt;?90 -->\n<g id=\"edge95\" class=\"edge\">\n<title>0.288&#45;&gt;?90</title>\n<path fill=\"none\" stroke=\"#000000\" d=\"M5168.2851,-87.3943C5173.3111,-75.2482 5180.0893,-58.8674 5185.7982,-45.0711\"/>\n<polygon fill=\"#000000\" stroke=\"#000000\" points=\"5189.1362,-46.158 5189.7257,-35.5796 5182.6681,-43.4815 5189.1362,-46.158\"/>\n<text text-anchor=\"middle\" x=\"5185.5\" y=\"-57.8\" font-family=\"Times,serif\" font-size=\"14.00\" fill=\"#000000\">?</text>\n</g>\n</g>\n</svg>\n"
          },
          "metadata": {},
          "execution_count": 308
        }
      ]
    },
    {
      "cell_type": "code",
      "source": [
        "print(d.tree.no_leafs)"
      ],
      "metadata": {
        "colab": {
          "base_uri": "https://localhost:8080/"
        },
        "id": "ifPh6CH60c9F",
        "outputId": "497a049b-698e-4d95-9f9b-5d9f6119998f"
      },
      "execution_count": 309,
      "outputs": [
        {
          "output_type": "stream",
          "name": "stdout",
          "text": [
            "91\n"
          ]
        }
      ]
    },
    {
      "cell_type": "code",
      "source": [
        "d.get_rules()"
      ],
      "metadata": {
        "colab": {
          "base_uri": "https://localhost:8080/"
        },
        "id": "bt-AoT2V0f7_",
        "outputId": "a6407302-8e26-4221-8f63-ace93f503ced"
      },
      "execution_count": 310,
      "outputs": [
        {
          "output_type": "execute_result",
          "data": {
            "text/plain": [
              "['4.600 ->  ( 3.52 ) 63',\n",
              " '4.600 ->  ( 5.310 ) 63',\n",
              " '4.600 ->  ( 4.75 ) 0.2 ->  ( ? ) 50',\n",
              " '4.600 ->  ( 4.75 ) 0.2 ->  ( 0 ) 59',\n",
              " '4.600 ->  ( 5.090 ) 46',\n",
              " '4.600 ->  ( 5.57 ) 70',\n",
              " '4.600 ->  ( 5.400 ) 66',\n",
              " '4.600 ->  ( 4.56 ) 0.2 ->  ( 0 ) 74',\n",
              " '4.600 ->  ( 4.56 ) 0.2 ->  ( ? ) 60',\n",
              " '4.600 ->  ( 4.14 ) 73',\n",
              " '4.600 ->  ( 5.819 ) 66',\n",
              " '4.600 ->  ( 5.460 ) 85',\n",
              " '4.600 ->  ( 4.23 ) 66',\n",
              " '4.600 ->  ( 5.200 ) 62.529',\n",
              " '4.600 ->  ( 5.390 ) 69',\n",
              " '4.600 ->  ( ? ) 14 ->  ( 2 ) 55',\n",
              " '4.600 ->  ( ? ) 14 ->  ( 9 ) 61',\n",
              " '4.600 ->  ( ? ) 14 ->  ( 12 ) 64',\n",
              " '4.600 ->  ( ? ) 14 ->  ( ? ) 75',\n",
              " '4.600 ->  ( ? ) 14 ->  ( 6 ) ?',\n",
              " '4.600 ->  ( ? ) 14 ->  ( 14 ) 63',\n",
              " '4.600 ->  ( ? ) 14 ->  ( 21.500 ) 65',\n",
              " '4.600 ->  ( 4.070 ) 61',\n",
              " '4.600 ->  ( 4.79 ) 54',\n",
              " '4.600 ->  ( 5 ) 56',\n",
              " '4.600 ->  ( 5.20 ) 0.2 ->  ( ? ) 63',\n",
              " '4.600 ->  ( 5.20 ) 0.2 ->  ( 1 ) 86',\n",
              " '4.600 ->  ( 3.92 ) 62',\n",
              " '4.600 ->  ( 4.41 ) 68',\n",
              " '4.600 ->  ( 5.16 ) 61',\n",
              " '4.600 ->  ( 3.87 ) 63',\n",
              " '4.600 ->  ( 4.48 ) 0.2 ->  ( 0 ) 55',\n",
              " '4.600 ->  ( 4.48 ) 0.2 ->  ( ? ) 62',\n",
              " '4.600 ->  ( 4.38 ) 1.1 ->  ( 0.64 ) ?',\n",
              " '4.600 ->  ( 4.38 ) 1.1 ->  ( 0.714 ) 66',\n",
              " '4.600 ->  ( 3.100 ) 47',\n",
              " '4.600 ->  ( 4.160 ) 55',\n",
              " '4.600 ->  ( 3.480 ) 64',\n",
              " '4.600 ->  ( 5.650 ) 60',\n",
              " '4.600 ->  ( 4.72 ) 56',\n",
              " '4.600 ->  ( 5.04 ) 61',\n",
              " '4.600 ->  ( 5.47 ) 0.2 ->  ( 1 ) 65',\n",
              " '4.600 ->  ( 5.47 ) 0.2 ->  ( ? ) 64',\n",
              " '4.600 ->  ( 5.26 ) 51',\n",
              " '4.600 ->  ( 6.150 ) 66',\n",
              " '4.600 ->  ( 4.36 ) 1.2 ->  ( ? ) 57',\n",
              " '4.600 ->  ( 4.36 ) 1.2 ->  ( 2 ) 64',\n",
              " '4.600 ->  ( 4.06 ) 61',\n",
              " '4.600 ->  ( 4.37 ) 57',\n",
              " '4.600 ->  ( 6.73 ) 58',\n",
              " '4.600 ->  ( 3.730 ) 60',\n",
              " '4.600 ->  ( 4.100 ) 72',\n",
              " '4.600 ->  ( 6.23 ) 78',\n",
              " '4.600 ->  ( 4.96 ) ?',\n",
              " '4.600 ->  ( 5.800 ) 62',\n",
              " '4.600 ->  ( 3.960 ) 67',\n",
              " '4.600 ->  ( 3.42 ) 59',\n",
              " '4.600 ->  ( 2.32 ) 57',\n",
              " '4.600 ->  ( 5.78 ) 65',\n",
              " '4.600 ->  ( 3.490 ) 58',\n",
              " '4.600 ->  ( 3.600 ) 62',\n",
              " '4.600 ->  ( 4.58 ) 64',\n",
              " '4.600 ->  ( 4.170 ) 35',\n",
              " '4.600 ->  ( 5.36 ) 59',\n",
              " '4.600 ->  ( 4.603 ) 60',\n",
              " '4.600 ->  ( 5.260 ) 57',\n",
              " '4.600 ->  ( 4.490 ) 54',\n",
              " '4.600 ->  ( 3.590 ) 56',\n",
              " '4.600 ->  ( 4.02 ) 61',\n",
              " '4.600 ->  ( 5.62 ) 78',\n",
              " '4.600 ->  ( 4.51 ) 62',\n",
              " '4.600 ->  ( 4.29 ) 57',\n",
              " '4.600 ->  ( 4.55 ) 70',\n",
              " '4.600 ->  ( 4.290 ) 55',\n",
              " '4.600 ->  ( 5.050 ) 65',\n",
              " '4.600 ->  ( 6.78 ) 73',\n",
              " '4.600 ->  ( 5.86 ) 62',\n",
              " '4.600 ->  ( 5.95 ) 50',\n",
              " '4.600 ->  ( 6.74 ) 65',\n",
              " '4.600 ->  ( 4.04 ) 59',\n",
              " '4.600 ->  ( 4.44 ) 78',\n",
              " '4.600 ->  ( 4.77 ) ?',\n",
              " '4.600 ->  ( 4.87 ) 62',\n",
              " '4.600 ->  ( 6.63 ) 62',\n",
              " '4.600 ->  ( 5.49 ) 0.2 ->  ( 0 ) 59',\n",
              " '4.600 ->  ( 5.49 ) 0.2 ->  ( ? ) ?',\n",
              " '4.600 ->  ( 6.060 ) 73',\n",
              " '4.600 ->  ( 4.69 ) 53',\n",
              " '4.600 ->  ( 3.630 ) 54',\n",
              " '4.600 ->  ( 5.05 ) 69',\n",
              " '4.600 ->  ( 5.430 ) 62']"
            ]
          },
          "metadata": {},
          "execution_count": 310
        }
      ]
    },
    {
      "cell_type": "code",
      "source": [
        "inp=[]\n",
        "n=1000\n",
        "n=n if n < len(test_df) else len(test_df)\n",
        "for i in range(n):\n",
        "  inp.append(test_df.iloc[i].to_dict())\n",
        "print(d.predict(inp))\n"
      ],
      "metadata": {
        "colab": {
          "base_uri": "https://localhost:8080/"
        },
        "id": "MDdjC-pN0gOP",
        "outputId": "fd1036b3-10bf-4f6a-9a33-ff4f3c8081bf"
      },
      "execution_count": 311,
      "outputs": [
        {
          "output_type": "stream",
          "name": "stdout",
          "text": [
            "['Not valid instance, path: 4.600 ( 5.250 ) -> ', 'Not valid instance, path: 4.600 ( 5.02 ) -> ', '59', '58', '73', 'Not valid instance, path: 4.600 ( 5.750 ) -> ', '54', '60', '86', 'Not valid instance, path: 4.600 ( 4.12 ) -> ', '56', '59', 'Not valid instance, path: 4.600 ( 4.85 ) -> ', '62.529', '?', '60', '65', '64', 'Not valid instance, path: 4.600 ( 4.230 ) -> ', 'Not valid instance, path: 4.600 ( 3.880 ) -> ', '60', '62', 'Not valid instance, path: 4.600 ( ? ) -> 14 ( 28 ) -> ', '55', '64', '54', 'Not valid instance, path: 4.600 ( 4.42 ) -> ', '?', '60', '59', '62', '53', '61', 'Not valid instance, path: 4.600 ( 4.270 ) -> ', '61', 'Not valid instance, path: 4.600 ( 5.30 ) -> ', '47', '63', '64']\n"
          ]
        }
      ]
    },
    {
      "cell_type": "code",
      "source": [
        "d.tree.printt()"
      ],
      "metadata": {
        "colab": {
          "base_uri": "https://localhost:8080/"
        },
        "id": "F77AMvp50p6o",
        "outputId": "bf403c5c-7157-4d6d-8590-ef283fd07149"
      },
      "execution_count": 312,
      "outputs": [
        {
          "output_type": "stream",
          "name": "stdout",
          "text": [
            "| 4.600\n",
            "|----- ( 3.52) 63\n",
            "|----- ( 5.310) 63\n",
            "|----- ( 4.75) 0.2\n",
            "|---------- ( ?) 50\n",
            "|---------- ( 0) 59\n",
            "|----- ( 5.090) 46\n",
            "|----- ( 5.57) 70\n",
            "|----- ( 5.400) 66\n",
            "|----- ( 4.56) 0.27\n",
            "|---------- ( 0) 74\n",
            "|---------- ( ?) 60\n",
            "|----- ( 4.14) 73\n",
            "|----- ( 5.819) 66\n",
            "|----- ( 5.460) 85\n",
            "|----- ( 4.23) 66\n",
            "|----- ( 5.200) 62.529\n",
            "|----- ( 5.390) 69\n",
            "|----- ( ?) 14\n",
            "|---------- ( 2) 55\n",
            "|---------- ( 9) 61\n",
            "|---------- ( 12) 64\n",
            "|---------- ( ?) 75\n",
            "|---------- ( 6) ?\n",
            "|---------- ( 14) 63\n",
            "|---------- ( 21.500) 65\n",
            "|----- ( 4.070) 61\n",
            "|----- ( 4.79) 54\n",
            "|----- ( 5) 56\n",
            "|----- ( 5.20) 0.226\n",
            "|---------- ( ?) 63\n",
            "|---------- ( 1) 86\n",
            "|----- ( 3.92) 62\n",
            "|----- ( 4.41) 68\n",
            "|----- ( 5.16) 61\n",
            "|----- ( 3.87) 63\n",
            "|----- ( 4.48) 0.233\n",
            "|---------- ( 0) 55\n",
            "|---------- ( ?) 62\n",
            "|----- ( 4.38) 1.1\n",
            "|---------- ( 0.64) ?\n",
            "|---------- ( 0.714) 66\n",
            "|----- ( 3.100) 47\n",
            "|----- ( 4.160) 55\n",
            "|----- ( 3.480) 64\n",
            "|----- ( 5.650) 60\n",
            "|----- ( 4.72) 56\n",
            "|----- ( 5.04) 61\n",
            "|----- ( 5.47) 0.244\n",
            "|---------- ( 1) 65\n",
            "|---------- ( ?) 64\n",
            "|----- ( 5.26) 51\n",
            "|----- ( 6.150) 66\n",
            "|----- ( 4.36) 1.2\n",
            "|---------- ( ?) 57\n",
            "|---------- ( 2) 64\n",
            "|----- ( 4.06) 61\n",
            "|----- ( 4.37) 57\n",
            "|----- ( 6.73) 58\n",
            "|----- ( 3.730) 60\n",
            "|----- ( 4.100) 72\n",
            "|----- ( 6.23) 78\n",
            "|----- ( 4.96) ?\n",
            "|----- ( 5.800) 62\n",
            "|----- ( 3.960) 67\n",
            "|----- ( 3.42) 59\n",
            "|----- ( 2.32) 57\n",
            "|----- ( 5.78) 65\n",
            "|----- ( 3.490) 58\n",
            "|----- ( 3.600) 62\n",
            "|----- ( 4.58) 64\n",
            "|----- ( 4.170) 35\n",
            "|----- ( 5.36) 59\n",
            "|----- ( 4.603) 60\n",
            "|----- ( 5.260) 57\n",
            "|----- ( 4.490) 54\n",
            "|----- ( 3.590) 56\n",
            "|----- ( 4.02) 61\n",
            "|----- ( 5.62) 78\n",
            "|----- ( 4.51) 62\n",
            "|----- ( 4.29) 57\n",
            "|----- ( 4.55) 70\n",
            "|----- ( 4.290) 55\n",
            "|----- ( 5.050) 65\n",
            "|----- ( 6.78) 73\n",
            "|----- ( 5.86) 62\n",
            "|----- ( 5.95) 50\n",
            "|----- ( 6.74) 65\n",
            "|----- ( 4.04) 59\n",
            "|----- ( 4.44) 78\n",
            "|----- ( 4.77) ?\n",
            "|----- ( 4.87) 62\n",
            "|----- ( 6.63) 62\n",
            "|----- ( 5.49) 0.288\n",
            "|---------- ( 0) 59\n",
            "|---------- ( ?) ?\n",
            "|----- ( 6.060) 73\n",
            "|----- ( 4.69) 53\n",
            "|----- ( 3.630) 54\n",
            "|----- ( 5.05) 69\n",
            "|----- ( 5.430) 62\n"
          ]
        }
      ]
    },
    {
      "cell_type": "code",
      "source": [
        "o=list(enumerate(d.predict(data)))\n",
        "o"
      ],
      "metadata": {
        "colab": {
          "base_uri": "https://localhost:8080/"
        },
        "id": "ET2pWEIz0rrw",
        "outputId": "75c8a1d9-6162-4953-fa11-8777dd897900"
      },
      "execution_count": 313,
      "outputs": [
        {
          "output_type": "execute_result",
          "data": {
            "text/plain": [
              "[(0, '72'),\n",
              " (1, 'Not valid instance, path: 4.600 ( 3.420 ) -> '),\n",
              " (2, '60'),\n",
              " (3, 'Not valid instance, path: 4.600 ( 5.750 ) -> '),\n",
              " (4, 'Not valid instance, path: 4.600 ( 4.310 ) -> '),\n",
              " (5, '62'),\n",
              " (6, 'Not valid instance, path: 4.600 ( 5.250 ) -> '),\n",
              " (7, '46'),\n",
              " (8, '54'),\n",
              " (9, 'Not valid instance, path: 4.600 ( 4.230 ) -> '),\n",
              " (10, '62'),\n",
              " (11, 'Not valid instance, path: 4.600 ( 4 ) -> '),\n",
              " (12, '60'),\n",
              " (13, '62'),\n",
              " (14, '55'),\n",
              " (15, 'Not valid instance, path: 4.600 ( 4.650 ) -> '),\n",
              " (16, '62.529'),\n",
              " (17, '66'),\n",
              " (18, '66'),\n",
              " (19, '69'),\n",
              " (20, '85'),\n",
              " (21, '73'),\n",
              " (22, 'Not valid instance, path: 4.600 ( 4.650 ) -> '),\n",
              " (23, '64'),\n",
              " (24, 'Not valid instance, path: 4.600 ( 3.850 ) -> '),\n",
              " (25, '35'),\n",
              " (26, '55'),\n",
              " (27, '75'),\n",
              " (28, '55'),\n",
              " (29, '65'),\n",
              " (30, 'Not valid instance, path: 4.600 ( 5.320 ) -> '),\n",
              " (31, '?'),\n",
              " (32, '47'),\n",
              " (33, '63'),\n",
              " (34, '61'),\n",
              " (35, '63'),\n",
              " (36, '65'),\n",
              " (37, 'Not valid instance, path: 4.600 ( 3.880 ) -> '),\n",
              " (38, 'Not valid instance, path: 4.600 ( 4.360 ) -> '),\n",
              " (39, '54'),\n",
              " (40, '54'),\n",
              " (41, 'Not valid instance, path: 4.600 ( 4.270 ) -> '),\n",
              " (42, '56'),\n",
              " (43, '67'),\n",
              " (44, '64'),\n",
              " (45, '61'),\n",
              " (46, 'Not valid instance, path: 4.600 ( 6.290 ) -> '),\n",
              " (47, 'Not valid instance, path: 4.600 ( ? ) -> 14 ( 23 ) -> '),\n",
              " (48, '56'),\n",
              " (49, '61'),\n",
              " (50, '57'),\n",
              " (51, '58'),\n",
              " (52, '60'),\n",
              " (53, '66'),\n",
              " (54, 'Not valid instance, path: 4.600 ( 4.57 ) -> '),\n",
              " (55, '57'),\n",
              " (56, 'Not valid instance, path: 4.600 ( 5.30 ) -> '),\n",
              " (57, '68'),\n",
              " (58, 'Not valid instance, path: 4.600 ( 5.15 ) -> '),\n",
              " (59, '73'),\n",
              " (60, 'Not valid instance, path: 4.600 ( 5.02 ) -> '),\n",
              " (61, '?'),\n",
              " (62, 'Not valid instance, path: 4.600 ( 4.68 ) -> '),\n",
              " (63, '51'),\n",
              " (64, '50'),\n",
              " (65, '70'),\n",
              " (66, '65'),\n",
              " (67, '78'),\n",
              " (68, '86'),\n",
              " (69, '56'),\n",
              " (70, 'Not valid instance, path: 4.600 ( 4.31 ) -> '),\n",
              " (71, '59'),\n",
              " (72, '50'),\n",
              " (73, 'Not valid instance, path: 4.600 ( 4.54 ) -> '),\n",
              " (74, 'Not valid instance, path: 4.600 ( 4.85 ) -> '),\n",
              " (75, '?'),\n",
              " (76, '64'),\n",
              " (77, '63'),\n",
              " (78, '65'),\n",
              " (79, 'Not valid instance, path: 4.600 ( 4.16 ) -> '),\n",
              " (80, '62'),\n",
              " (81, '78'),\n",
              " (82, 'Not valid instance, path: 4.600 ( ? ) -> 14 ( 28 ) -> '),\n",
              " (83, 'Not valid instance, path: 4.600 ( 6.21 ) -> '),\n",
              " (84, '73'),\n",
              " (85, 'Not valid instance, path: 4.600 ( 5.25 ) -> '),\n",
              " (86, '55'),\n",
              " (87, '60'),\n",
              " (88, '61'),\n",
              " (89, '64'),\n",
              " (90, '59'),\n",
              " (91, '59'),\n",
              " (92, '61'),\n",
              " (93, '63'),\n",
              " (94, '74'),\n",
              " (95, '59'),\n",
              " (96, '65'),\n",
              " (97, '58'),\n",
              " (98, '53'),\n",
              " (99, '66'),\n",
              " (100, '70'),\n",
              " (101, '62'),\n",
              " (102, '63'),\n",
              " (103, '59'),\n",
              " (104, '57'),\n",
              " (105, 'Not valid instance, path: 4.600 ( 4.12 ) -> '),\n",
              " (106, '78'),\n",
              " (107, 'Not valid instance, path: 4.600 ( 4.42 ) -> '),\n",
              " (108, '62'),\n",
              " (109, '66'),\n",
              " (110, '61'),\n",
              " (111, '59'),\n",
              " (112, '?'),\n",
              " (113, '62'),\n",
              " (114, '?'),\n",
              " (115, '54'),\n",
              " (116, '62'),\n",
              " (117, '?'),\n",
              " (118, 'Not valid instance, path: 4.600 ( 4.17 ) -> '),\n",
              " (119, '57'),\n",
              " (120, '62'),\n",
              " (121, '61'),\n",
              " (122, 'Not valid instance, path: 4.600 ( 3.66 ) -> '),\n",
              " (123, '?'),\n",
              " (124, '61'),\n",
              " (125, '56'),\n",
              " (126, '64'),\n",
              " (127, '69'),\n",
              " (128, '57'),\n",
              " (129, '62')]"
            ]
          },
          "metadata": {},
          "execution_count": 313
        }
      ]
    },
    {
      "cell_type": "code",
      "source": [
        "data[target_name]"
      ],
      "metadata": {
        "colab": {
          "base_uri": "https://localhost:8080/"
        },
        "id": "QJrQQCVy0xIg",
        "outputId": "fe985331-d457-42f5-efda-8e2c64dbd381"
      },
      "execution_count": 314,
      "outputs": [
        {
          "output_type": "execute_result",
          "data": {
            "text/plain": [
              "0      72\n",
              "1      55\n",
              "2      60\n",
              "3      57\n",
              "4      68\n",
              "       ..\n",
              "125    64\n",
              "126    64\n",
              "127    69\n",
              "128    57\n",
              "129    62\n",
              "Name: 71, Length: 130, dtype: object"
            ]
          },
          "metadata": {},
          "execution_count": 314
        }
      ]
    },
    {
      "cell_type": "code",
      "source": [
        "count=0\n",
        "for i in o:\n",
        "  if i[1]=='Not valid instance':\n",
        "    print(\"Something went wrong\")\n",
        "    count+=1\n",
        "print(count)"
      ],
      "metadata": {
        "colab": {
          "base_uri": "https://localhost:8080/"
        },
        "id": "sHVMZvXt0y1T",
        "outputId": "4e00f10b-9e8a-477f-e2c0-406ed832474d"
      },
      "execution_count": 315,
      "outputs": [
        {
          "output_type": "stream",
          "name": "stdout",
          "text": [
            "0\n"
          ]
        }
      ]
    },
    {
      "cell_type": "code",
      "source": [
        "print(df.iloc[0].to_dict())\n",
        "d.predict(df.iloc[0].to_dict(),trace=True)"
      ],
      "metadata": {
        "colab": {
          "base_uri": "https://localhost:8080/",
          "height": 91
        },
        "id": "LHy6C8db01zu",
        "outputId": "ebc0db25-1471-4ce6-a27d-628e896621a9"
      },
      "execution_count": 316,
      "outputs": [
        {
          "output_type": "stream",
          "name": "stdout",
          "text": [
            "{'11': '1.25', '0': 1, '71': '63', '0.1': 0, '0.260': '0.30', '9': '6.9', '4.600': '3.52', '14': '18.16', '1': '1.51', '1.1': '0.857', 'name': 'name', '1.2': '2', '0.2': '1'}\n",
            "4.600 ( 3.52 ) -> 63\n"
          ]
        },
        {
          "output_type": "execute_result",
          "data": {
            "text/plain": [
              "'63'"
            ],
            "application/vnd.google.colaboratory.intrinsic+json": {
              "type": "string"
            }
          },
          "metadata": {},
          "execution_count": 316
        }
      ]
    }
  ]
}