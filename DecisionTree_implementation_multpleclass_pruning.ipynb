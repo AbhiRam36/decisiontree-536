{
  "nbformat": 4,
  "nbformat_minor": 0,
  "metadata": {
    "colab": {
      "provenance": []
    },
    "kernelspec": {
      "name": "python3",
      "display_name": "Python 3"
    },
    "language_info": {
      "name": "python"
    }
  },
  "cells": [
    {
      "cell_type": "code",
      "execution_count": 163,
      "metadata": {
        "id": "ap19xBrlw_Wt"
      },
      "outputs": [],
      "source": [
        "import numpy as np\n",
        "import pandas as pd\n",
        "import matplotlib.pyplot as mtp\n",
        "from math import*"
      ]
    },
    {
      "cell_type": "code",
      "source": [
        "import copy\n",
        "from graphviz import Digraph"
      ],
      "metadata": {
        "id": "-5ryv0hZycvI"
      },
      "execution_count": 164,
      "outputs": []
    },
    {
      "cell_type": "code",
      "source": [
        "## Variables ##\n",
        "\n",
        "dataset='heart'\n",
        "split_func='IG'\n",
        "\n"
      ],
      "metadata": {
        "id": "ezlij2Kj7STC"
      },
      "execution_count": 165,
      "outputs": []
    },
    {
      "cell_type": "code",
      "source": [
        "datasets={'tennis':['https://raw.githubusercontent.com/Kvnpsiddhartha/DecisionTreeImplementation/main/data.csv','PlayTennis'],'cars':['https://raw.githubusercontent.com/Kvnpsiddhartha/DecisionTreeImplementation/main/car.csv','class'],'lenses':['https://raw.githubusercontent.com/Kvnpsiddhartha/DecisionTreeImplementation/main/lenses.csv','Class'],'chess':['https://raw.githubusercontent.com/Kvnpsiddhartha/DecisionTreeImplementation/main/kr-vs-kp.csv','result'],'baloons':['https://raw.githubusercontent.com/Kvnpsiddhartha/DecisionTreeImplementation/main/balloons.csv','inflated'],'lymphography':['https://raw.githubusercontent.com/Kvnpsiddhartha/DecisionTreeImplementation/main/lymphography.csv','no. of nodes in'],'heart':['https://raw.githubusercontent.com/Kvnpsiddhartha/DecisionTreeImplementation/main/SPECT.csv','diagnosis']}"
      ],
      "metadata": {
        "id": "8Tva_wtbXpFA"
      },
      "execution_count": 166,
      "outputs": []
    },
    {
      "cell_type": "code",
      "source": [
        "dataset_url,target_name=datasets[dataset]\n",
        "data=pd.read_csv(dataset_url)\n",
        "data=data.applymap(lambda x: x.strip() if isinstance(x, str) else x)"
      ],
      "metadata": {
        "id": "p1VJr-UMXdFE"
      },
      "execution_count": 167,
      "outputs": []
    },
    {
      "cell_type": "code",
      "source": [
        "print(data)"
      ],
      "metadata": {
        "colab": {
          "base_uri": "https://localhost:8080/"
        },
        "id": "dX17ut6rAWKy",
        "outputId": "c2376c8c-0202-41bc-e8af-a9612fd6142b"
      },
      "execution_count": 168,
      "outputs": [
        {
          "output_type": "stream",
          "name": "stdout",
          "text": [
            "    diagnosis  F1  F2  F3  F4  F5  F6  F7  F8  F9  ...  F13  F14  F15  F16  \\\n",
            "0           1   0   0   0   1   0   0   0   1   1  ...    1    1    0    0   \n",
            "1           1   0   0   1   1   0   0   0   1   1  ...    1    1    0    0   \n",
            "2           1   1   0   1   0   1   0   0   1   0  ...    1    0    0    0   \n",
            "3           1   0   0   0   0   0   0   0   0   0  ...    0    0    0    0   \n",
            "4           1   0   0   0   0   0   0   0   1   0  ...    1    0    1    1   \n",
            "..        ...  ..  ..  ..  ..  ..  ..  ..  ..  ..  ...  ...  ...  ...  ...   \n",
            "75          0   1   0   0   0   1   0   0   0   0  ...    0    0    0    0   \n",
            "76          0   1   0   0   0   1   1   0   0   1  ...    0    1    0    0   \n",
            "77          0   1   0   0   0   1   0   0   0   0  ...    0    0    0    0   \n",
            "78          0   0   0   1   1   0   0   1   0   0  ...    1    1    0    0   \n",
            "79          0   1   0   0   0   1   0   0   0   0  ...    0    0    0    0   \n",
            "\n",
            "    F17  F18  F19  F20  F21  F22  \n",
            "0     0    0    0    0    0    0  \n",
            "1     0    0    0    0    0    1  \n",
            "2     0    0    0    0    0    0  \n",
            "3     0    0    0    1    1    1  \n",
            "4     0    0    0    0    0    0  \n",
            "..  ...  ...  ...  ...  ...  ...  \n",
            "75    0    0    0    0    0    0  \n",
            "76    0    0    1    1    0    0  \n",
            "77    0    0    1    0    0    0  \n",
            "78    0    0    0    0    1    1  \n",
            "79    0    0    0    0    0    0  \n",
            "\n",
            "[80 rows x 23 columns]\n"
          ]
        }
      ]
    },
    {
      "cell_type": "code",
      "source": [
        "data"
      ],
      "metadata": {
        "colab": {
          "base_uri": "https://localhost:8080/",
          "height": 424
        },
        "id": "-WaOcO49RHCV",
        "outputId": "72c26d14-1e92-4875-bb2d-0849fd08724f"
      },
      "execution_count": 169,
      "outputs": [
        {
          "output_type": "execute_result",
          "data": {
            "text/plain": [
              "    diagnosis  F1  F2  F3  F4  F5  F6  F7  F8  F9  ...  F13  F14  F15  F16  \\\n",
              "0           1   0   0   0   1   0   0   0   1   1  ...    1    1    0    0   \n",
              "1           1   0   0   1   1   0   0   0   1   1  ...    1    1    0    0   \n",
              "2           1   1   0   1   0   1   0   0   1   0  ...    1    0    0    0   \n",
              "3           1   0   0   0   0   0   0   0   0   0  ...    0    0    0    0   \n",
              "4           1   0   0   0   0   0   0   0   1   0  ...    1    0    1    1   \n",
              "..        ...  ..  ..  ..  ..  ..  ..  ..  ..  ..  ...  ...  ...  ...  ...   \n",
              "75          0   1   0   0   0   1   0   0   0   0  ...    0    0    0    0   \n",
              "76          0   1   0   0   0   1   1   0   0   1  ...    0    1    0    0   \n",
              "77          0   1   0   0   0   1   0   0   0   0  ...    0    0    0    0   \n",
              "78          0   0   0   1   1   0   0   1   0   0  ...    1    1    0    0   \n",
              "79          0   1   0   0   0   1   0   0   0   0  ...    0    0    0    0   \n",
              "\n",
              "    F17  F18  F19  F20  F21  F22  \n",
              "0     0    0    0    0    0    0  \n",
              "1     0    0    0    0    0    1  \n",
              "2     0    0    0    0    0    0  \n",
              "3     0    0    0    1    1    1  \n",
              "4     0    0    0    0    0    0  \n",
              "..  ...  ...  ...  ...  ...  ...  \n",
              "75    0    0    0    0    0    0  \n",
              "76    0    0    1    1    0    0  \n",
              "77    0    0    1    0    0    0  \n",
              "78    0    0    0    0    1    1  \n",
              "79    0    0    0    0    0    0  \n",
              "\n",
              "[80 rows x 23 columns]"
            ],
            "text/html": [
              "\n",
              "  <div id=\"df-bbc9b300-9c1a-4170-962a-bc32eccb72f0\">\n",
              "    <div class=\"colab-df-container\">\n",
              "      <div>\n",
              "<style scoped>\n",
              "    .dataframe tbody tr th:only-of-type {\n",
              "        vertical-align: middle;\n",
              "    }\n",
              "\n",
              "    .dataframe tbody tr th {\n",
              "        vertical-align: top;\n",
              "    }\n",
              "\n",
              "    .dataframe thead th {\n",
              "        text-align: right;\n",
              "    }\n",
              "</style>\n",
              "<table border=\"1\" class=\"dataframe\">\n",
              "  <thead>\n",
              "    <tr style=\"text-align: right;\">\n",
              "      <th></th>\n",
              "      <th>diagnosis</th>\n",
              "      <th>F1</th>\n",
              "      <th>F2</th>\n",
              "      <th>F3</th>\n",
              "      <th>F4</th>\n",
              "      <th>F5</th>\n",
              "      <th>F6</th>\n",
              "      <th>F7</th>\n",
              "      <th>F8</th>\n",
              "      <th>F9</th>\n",
              "      <th>...</th>\n",
              "      <th>F13</th>\n",
              "      <th>F14</th>\n",
              "      <th>F15</th>\n",
              "      <th>F16</th>\n",
              "      <th>F17</th>\n",
              "      <th>F18</th>\n",
              "      <th>F19</th>\n",
              "      <th>F20</th>\n",
              "      <th>F21</th>\n",
              "      <th>F22</th>\n",
              "    </tr>\n",
              "  </thead>\n",
              "  <tbody>\n",
              "    <tr>\n",
              "      <th>0</th>\n",
              "      <td>1</td>\n",
              "      <td>0</td>\n",
              "      <td>0</td>\n",
              "      <td>0</td>\n",
              "      <td>1</td>\n",
              "      <td>0</td>\n",
              "      <td>0</td>\n",
              "      <td>0</td>\n",
              "      <td>1</td>\n",
              "      <td>1</td>\n",
              "      <td>...</td>\n",
              "      <td>1</td>\n",
              "      <td>1</td>\n",
              "      <td>0</td>\n",
              "      <td>0</td>\n",
              "      <td>0</td>\n",
              "      <td>0</td>\n",
              "      <td>0</td>\n",
              "      <td>0</td>\n",
              "      <td>0</td>\n",
              "      <td>0</td>\n",
              "    </tr>\n",
              "    <tr>\n",
              "      <th>1</th>\n",
              "      <td>1</td>\n",
              "      <td>0</td>\n",
              "      <td>0</td>\n",
              "      <td>1</td>\n",
              "      <td>1</td>\n",
              "      <td>0</td>\n",
              "      <td>0</td>\n",
              "      <td>0</td>\n",
              "      <td>1</td>\n",
              "      <td>1</td>\n",
              "      <td>...</td>\n",
              "      <td>1</td>\n",
              "      <td>1</td>\n",
              "      <td>0</td>\n",
              "      <td>0</td>\n",
              "      <td>0</td>\n",
              "      <td>0</td>\n",
              "      <td>0</td>\n",
              "      <td>0</td>\n",
              "      <td>0</td>\n",
              "      <td>1</td>\n",
              "    </tr>\n",
              "    <tr>\n",
              "      <th>2</th>\n",
              "      <td>1</td>\n",
              "      <td>1</td>\n",
              "      <td>0</td>\n",
              "      <td>1</td>\n",
              "      <td>0</td>\n",
              "      <td>1</td>\n",
              "      <td>0</td>\n",
              "      <td>0</td>\n",
              "      <td>1</td>\n",
              "      <td>0</td>\n",
              "      <td>...</td>\n",
              "      <td>1</td>\n",
              "      <td>0</td>\n",
              "      <td>0</td>\n",
              "      <td>0</td>\n",
              "      <td>0</td>\n",
              "      <td>0</td>\n",
              "      <td>0</td>\n",
              "      <td>0</td>\n",
              "      <td>0</td>\n",
              "      <td>0</td>\n",
              "    </tr>\n",
              "    <tr>\n",
              "      <th>3</th>\n",
              "      <td>1</td>\n",
              "      <td>0</td>\n",
              "      <td>0</td>\n",
              "      <td>0</td>\n",
              "      <td>0</td>\n",
              "      <td>0</td>\n",
              "      <td>0</td>\n",
              "      <td>0</td>\n",
              "      <td>0</td>\n",
              "      <td>0</td>\n",
              "      <td>...</td>\n",
              "      <td>0</td>\n",
              "      <td>0</td>\n",
              "      <td>0</td>\n",
              "      <td>0</td>\n",
              "      <td>0</td>\n",
              "      <td>0</td>\n",
              "      <td>0</td>\n",
              "      <td>1</td>\n",
              "      <td>1</td>\n",
              "      <td>1</td>\n",
              "    </tr>\n",
              "    <tr>\n",
              "      <th>4</th>\n",
              "      <td>1</td>\n",
              "      <td>0</td>\n",
              "      <td>0</td>\n",
              "      <td>0</td>\n",
              "      <td>0</td>\n",
              "      <td>0</td>\n",
              "      <td>0</td>\n",
              "      <td>0</td>\n",
              "      <td>1</td>\n",
              "      <td>0</td>\n",
              "      <td>...</td>\n",
              "      <td>1</td>\n",
              "      <td>0</td>\n",
              "      <td>1</td>\n",
              "      <td>1</td>\n",
              "      <td>0</td>\n",
              "      <td>0</td>\n",
              "      <td>0</td>\n",
              "      <td>0</td>\n",
              "      <td>0</td>\n",
              "      <td>0</td>\n",
              "    </tr>\n",
              "    <tr>\n",
              "      <th>...</th>\n",
              "      <td>...</td>\n",
              "      <td>...</td>\n",
              "      <td>...</td>\n",
              "      <td>...</td>\n",
              "      <td>...</td>\n",
              "      <td>...</td>\n",
              "      <td>...</td>\n",
              "      <td>...</td>\n",
              "      <td>...</td>\n",
              "      <td>...</td>\n",
              "      <td>...</td>\n",
              "      <td>...</td>\n",
              "      <td>...</td>\n",
              "      <td>...</td>\n",
              "      <td>...</td>\n",
              "      <td>...</td>\n",
              "      <td>...</td>\n",
              "      <td>...</td>\n",
              "      <td>...</td>\n",
              "      <td>...</td>\n",
              "      <td>...</td>\n",
              "    </tr>\n",
              "    <tr>\n",
              "      <th>75</th>\n",
              "      <td>0</td>\n",
              "      <td>1</td>\n",
              "      <td>0</td>\n",
              "      <td>0</td>\n",
              "      <td>0</td>\n",
              "      <td>1</td>\n",
              "      <td>0</td>\n",
              "      <td>0</td>\n",
              "      <td>0</td>\n",
              "      <td>0</td>\n",
              "      <td>...</td>\n",
              "      <td>0</td>\n",
              "      <td>0</td>\n",
              "      <td>0</td>\n",
              "      <td>0</td>\n",
              "      <td>0</td>\n",
              "      <td>0</td>\n",
              "      <td>0</td>\n",
              "      <td>0</td>\n",
              "      <td>0</td>\n",
              "      <td>0</td>\n",
              "    </tr>\n",
              "    <tr>\n",
              "      <th>76</th>\n",
              "      <td>0</td>\n",
              "      <td>1</td>\n",
              "      <td>0</td>\n",
              "      <td>0</td>\n",
              "      <td>0</td>\n",
              "      <td>1</td>\n",
              "      <td>1</td>\n",
              "      <td>0</td>\n",
              "      <td>0</td>\n",
              "      <td>1</td>\n",
              "      <td>...</td>\n",
              "      <td>0</td>\n",
              "      <td>1</td>\n",
              "      <td>0</td>\n",
              "      <td>0</td>\n",
              "      <td>0</td>\n",
              "      <td>0</td>\n",
              "      <td>1</td>\n",
              "      <td>1</td>\n",
              "      <td>0</td>\n",
              "      <td>0</td>\n",
              "    </tr>\n",
              "    <tr>\n",
              "      <th>77</th>\n",
              "      <td>0</td>\n",
              "      <td>1</td>\n",
              "      <td>0</td>\n",
              "      <td>0</td>\n",
              "      <td>0</td>\n",
              "      <td>1</td>\n",
              "      <td>0</td>\n",
              "      <td>0</td>\n",
              "      <td>0</td>\n",
              "      <td>0</td>\n",
              "      <td>...</td>\n",
              "      <td>0</td>\n",
              "      <td>0</td>\n",
              "      <td>0</td>\n",
              "      <td>0</td>\n",
              "      <td>0</td>\n",
              "      <td>0</td>\n",
              "      <td>1</td>\n",
              "      <td>0</td>\n",
              "      <td>0</td>\n",
              "      <td>0</td>\n",
              "    </tr>\n",
              "    <tr>\n",
              "      <th>78</th>\n",
              "      <td>0</td>\n",
              "      <td>0</td>\n",
              "      <td>0</td>\n",
              "      <td>1</td>\n",
              "      <td>1</td>\n",
              "      <td>0</td>\n",
              "      <td>0</td>\n",
              "      <td>1</td>\n",
              "      <td>0</td>\n",
              "      <td>0</td>\n",
              "      <td>...</td>\n",
              "      <td>1</td>\n",
              "      <td>1</td>\n",
              "      <td>0</td>\n",
              "      <td>0</td>\n",
              "      <td>0</td>\n",
              "      <td>0</td>\n",
              "      <td>0</td>\n",
              "      <td>0</td>\n",
              "      <td>1</td>\n",
              "      <td>1</td>\n",
              "    </tr>\n",
              "    <tr>\n",
              "      <th>79</th>\n",
              "      <td>0</td>\n",
              "      <td>1</td>\n",
              "      <td>0</td>\n",
              "      <td>0</td>\n",
              "      <td>0</td>\n",
              "      <td>1</td>\n",
              "      <td>0</td>\n",
              "      <td>0</td>\n",
              "      <td>0</td>\n",
              "      <td>0</td>\n",
              "      <td>...</td>\n",
              "      <td>0</td>\n",
              "      <td>0</td>\n",
              "      <td>0</td>\n",
              "      <td>0</td>\n",
              "      <td>0</td>\n",
              "      <td>0</td>\n",
              "      <td>0</td>\n",
              "      <td>0</td>\n",
              "      <td>0</td>\n",
              "      <td>0</td>\n",
              "    </tr>\n",
              "  </tbody>\n",
              "</table>\n",
              "<p>80 rows × 23 columns</p>\n",
              "</div>\n",
              "      <button class=\"colab-df-convert\" onclick=\"convertToInteractive('df-bbc9b300-9c1a-4170-962a-bc32eccb72f0')\"\n",
              "              title=\"Convert this dataframe to an interactive table.\"\n",
              "              style=\"display:none;\">\n",
              "        \n",
              "  <svg xmlns=\"http://www.w3.org/2000/svg\" height=\"24px\"viewBox=\"0 0 24 24\"\n",
              "       width=\"24px\">\n",
              "    <path d=\"M0 0h24v24H0V0z\" fill=\"none\"/>\n",
              "    <path d=\"M18.56 5.44l.94 2.06.94-2.06 2.06-.94-2.06-.94-.94-2.06-.94 2.06-2.06.94zm-11 1L8.5 8.5l.94-2.06 2.06-.94-2.06-.94L8.5 2.5l-.94 2.06-2.06.94zm10 10l.94 2.06.94-2.06 2.06-.94-2.06-.94-.94-2.06-.94 2.06-2.06.94z\"/><path d=\"M17.41 7.96l-1.37-1.37c-.4-.4-.92-.59-1.43-.59-.52 0-1.04.2-1.43.59L10.3 9.45l-7.72 7.72c-.78.78-.78 2.05 0 2.83L4 21.41c.39.39.9.59 1.41.59.51 0 1.02-.2 1.41-.59l7.78-7.78 2.81-2.81c.8-.78.8-2.07 0-2.86zM5.41 20L4 18.59l7.72-7.72 1.47 1.35L5.41 20z\"/>\n",
              "  </svg>\n",
              "      </button>\n",
              "      \n",
              "  <style>\n",
              "    .colab-df-container {\n",
              "      display:flex;\n",
              "      flex-wrap:wrap;\n",
              "      gap: 12px;\n",
              "    }\n",
              "\n",
              "    .colab-df-convert {\n",
              "      background-color: #E8F0FE;\n",
              "      border: none;\n",
              "      border-radius: 50%;\n",
              "      cursor: pointer;\n",
              "      display: none;\n",
              "      fill: #1967D2;\n",
              "      height: 32px;\n",
              "      padding: 0 0 0 0;\n",
              "      width: 32px;\n",
              "    }\n",
              "\n",
              "    .colab-df-convert:hover {\n",
              "      background-color: #E2EBFA;\n",
              "      box-shadow: 0px 1px 2px rgba(60, 64, 67, 0.3), 0px 1px 3px 1px rgba(60, 64, 67, 0.15);\n",
              "      fill: #174EA6;\n",
              "    }\n",
              "\n",
              "    [theme=dark] .colab-df-convert {\n",
              "      background-color: #3B4455;\n",
              "      fill: #D2E3FC;\n",
              "    }\n",
              "\n",
              "    [theme=dark] .colab-df-convert:hover {\n",
              "      background-color: #434B5C;\n",
              "      box-shadow: 0px 1px 3px 1px rgba(0, 0, 0, 0.15);\n",
              "      filter: drop-shadow(0px 1px 2px rgba(0, 0, 0, 0.3));\n",
              "      fill: #FFFFFF;\n",
              "    }\n",
              "  </style>\n",
              "\n",
              "      <script>\n",
              "        const buttonEl =\n",
              "          document.querySelector('#df-bbc9b300-9c1a-4170-962a-bc32eccb72f0 button.colab-df-convert');\n",
              "        buttonEl.style.display =\n",
              "          google.colab.kernel.accessAllowed ? 'block' : 'none';\n",
              "\n",
              "        async function convertToInteractive(key) {\n",
              "          const element = document.querySelector('#df-bbc9b300-9c1a-4170-962a-bc32eccb72f0');\n",
              "          const dataTable =\n",
              "            await google.colab.kernel.invokeFunction('convertToInteractive',\n",
              "                                                     [key], {});\n",
              "          if (!dataTable) return;\n",
              "\n",
              "          const docLinkHtml = 'Like what you see? Visit the ' +\n",
              "            '<a target=\"_blank\" href=https://colab.research.google.com/notebooks/data_table.ipynb>data table notebook</a>'\n",
              "            + ' to learn more about interactive tables.';\n",
              "          element.innerHTML = '';\n",
              "          dataTable['output_type'] = 'display_data';\n",
              "          await google.colab.output.renderOutput(dataTable, element);\n",
              "          const docLink = document.createElement('div');\n",
              "          docLink.innerHTML = docLinkHtml;\n",
              "          element.appendChild(docLink);\n",
              "        }\n",
              "      </script>\n",
              "    </div>\n",
              "  </div>\n",
              "  "
            ]
          },
          "metadata": {},
          "execution_count": 169
        }
      ]
    },
    {
      "cell_type": "code",
      "source": [
        "print(pd.DataFrame(data))\n",
        "df=pd.DataFrame(data)\n",
        "df.dtypes"
      ],
      "metadata": {
        "colab": {
          "base_uri": "https://localhost:8080/"
        },
        "id": "Ho5s2hKoBDO5",
        "outputId": "8ceed2bf-0329-406e-ec0c-fd2f8bb4ac92"
      },
      "execution_count": 170,
      "outputs": [
        {
          "output_type": "stream",
          "name": "stdout",
          "text": [
            "    diagnosis  F1  F2  F3  F4  F5  F6  F7  F8  F9  ...  F13  F14  F15  F16  \\\n",
            "0           1   0   0   0   1   0   0   0   1   1  ...    1    1    0    0   \n",
            "1           1   0   0   1   1   0   0   0   1   1  ...    1    1    0    0   \n",
            "2           1   1   0   1   0   1   0   0   1   0  ...    1    0    0    0   \n",
            "3           1   0   0   0   0   0   0   0   0   0  ...    0    0    0    0   \n",
            "4           1   0   0   0   0   0   0   0   1   0  ...    1    0    1    1   \n",
            "..        ...  ..  ..  ..  ..  ..  ..  ..  ..  ..  ...  ...  ...  ...  ...   \n",
            "75          0   1   0   0   0   1   0   0   0   0  ...    0    0    0    0   \n",
            "76          0   1   0   0   0   1   1   0   0   1  ...    0    1    0    0   \n",
            "77          0   1   0   0   0   1   0   0   0   0  ...    0    0    0    0   \n",
            "78          0   0   0   1   1   0   0   1   0   0  ...    1    1    0    0   \n",
            "79          0   1   0   0   0   1   0   0   0   0  ...    0    0    0    0   \n",
            "\n",
            "    F17  F18  F19  F20  F21  F22  \n",
            "0     0    0    0    0    0    0  \n",
            "1     0    0    0    0    0    1  \n",
            "2     0    0    0    0    0    0  \n",
            "3     0    0    0    1    1    1  \n",
            "4     0    0    0    0    0    0  \n",
            "..  ...  ...  ...  ...  ...  ...  \n",
            "75    0    0    0    0    0    0  \n",
            "76    0    0    1    1    0    0  \n",
            "77    0    0    1    0    0    0  \n",
            "78    0    0    0    0    1    1  \n",
            "79    0    0    0    0    0    0  \n",
            "\n",
            "[80 rows x 23 columns]\n"
          ]
        },
        {
          "output_type": "execute_result",
          "data": {
            "text/plain": [
              "diagnosis    int64\n",
              "F1           int64\n",
              "F2           int64\n",
              "F3           int64\n",
              "F4           int64\n",
              "F5           int64\n",
              "F6           int64\n",
              "F7           int64\n",
              "F8           int64\n",
              "F9           int64\n",
              "F10          int64\n",
              "F11          int64\n",
              "F12          int64\n",
              "F13          int64\n",
              "F14          int64\n",
              "F15          int64\n",
              "F16          int64\n",
              "F17          int64\n",
              "F18          int64\n",
              "F19          int64\n",
              "F20          int64\n",
              "F21          int64\n",
              "F22          int64\n",
              "dtype: object"
            ]
          },
          "metadata": {},
          "execution_count": 170
        }
      ]
    },
    {
      "cell_type": "code",
      "source": [
        "print(df.count())\n",
        "print(sum(df[target_name].value_counts().to_dict().values()))"
      ],
      "metadata": {
        "colab": {
          "base_uri": "https://localhost:8080/"
        },
        "id": "g6JtbofyB_O7",
        "outputId": "0c2d1468-8a72-403b-e550-394873e71286"
      },
      "execution_count": 171,
      "outputs": [
        {
          "output_type": "stream",
          "name": "stdout",
          "text": [
            "diagnosis    80\n",
            "F1           80\n",
            "F2           80\n",
            "F3           80\n",
            "F4           80\n",
            "F5           80\n",
            "F6           80\n",
            "F7           80\n",
            "F8           80\n",
            "F9           80\n",
            "F10          80\n",
            "F11          80\n",
            "F12          80\n",
            "F13          80\n",
            "F14          80\n",
            "F15          80\n",
            "F16          80\n",
            "F17          80\n",
            "F18          80\n",
            "F19          80\n",
            "F20          80\n",
            "F21          80\n",
            "F22          80\n",
            "dtype: int64\n",
            "80\n"
          ]
        }
      ]
    },
    {
      "cell_type": "code",
      "source": [
        "import random\n",
        "def train_test_split(df,test_size):\n",
        "  df=df.sample(frac = 1)\n",
        "  n=len(df)\n",
        "  no_test_rows=int(n*test_size)\n",
        "  l=list(random.sample(list(range(n)), no_test_rows))\n",
        "  test=df.iloc[l]\n",
        "  train=df.drop(l,axis=0)\n",
        "  return train.sample(frac = 1),test.sample(frac = 1)\n",
        "# test_df=data\n",
        "df,test_df=train_test_split(df,0.3)\n",
        "print(len(df),len(test_df))\n",
        "\n",
        "# from sklearn.model_selection import train_test_split\n",
        "# df,test_df=test_train_split(df,test_size=0.3)"
      ],
      "metadata": {
        "id": "QBeLqydXKkZS",
        "colab": {
          "base_uri": "https://localhost:8080/"
        },
        "outputId": "357de577-c945-4651-ff49-5877991f5526"
      },
      "execution_count": 172,
      "outputs": [
        {
          "output_type": "stream",
          "name": "stdout",
          "text": [
            "56 24\n"
          ]
        }
      ]
    },
    {
      "cell_type": "code",
      "source": [
        "class DecisionTree():\n",
        "  \n",
        "  ## Class Member Functions ##\n",
        "\n",
        "  def entropy_help(p):\n",
        "    return -p*log(p,2)\n",
        "  \n",
        "  def getEntropy(df,target_name):  \n",
        "    n=df.count()[0]\n",
        "    target_counts=df[target_name].value_counts().to_dict()\n",
        "    s=0\n",
        "    for p in target_counts.values():\n",
        "      if p/n==1 or p/n==0:\n",
        "        return 0\n",
        "      s+=DecisionTree.entropy_help(p/n)\n",
        "    # print(s)\n",
        "    return s\n",
        "  \n",
        "  def getProbability(df,column,value):\n",
        "    return df[df[column]==value].count()[0]/df.count()[0]\n",
        "  \n",
        "  def informationGain(df,target_name,col):\n",
        "    # print(\"Entropy of \",col,DecisionTree.getEntropy(df,target_name))\n",
        "    total_entropy=DecisionTree.getEntropy(df,target_name)\n",
        "    col_vals_count=df[col].value_counts().to_dict()\n",
        "    sum=0\n",
        "    for value in col_vals_count:\n",
        "      n=col_vals_count[value]\n",
        "      # print(\"Entropy of \",col,value,DecisionTree.getEntropy(df[df[col]==value],target_name))\n",
        "      sum+=(DecisionTree.getEntropy(df[df[col]==value],target_name)*DecisionTree.getProbability(df,col,value))\n",
        "    # print(\"IG: \",target_name,col,total_entropy-sum)\n",
        "    return total_entropy-sum\n",
        "\n",
        "  ## Class Data Members ##\n",
        "\n",
        "  split_functions={'IG':informationGain}\n",
        "  \n",
        "  ## Countructor ##\n",
        "  def __init__(self,df,target_name,split_function=\"IG\",level=-1,leaf_nodes=-1):\n",
        "    self.tree=self.Tree()\n",
        "    self.df=df\n",
        "    self.target_name=target_name\n",
        "    self.cols=list(self.df.columns)\n",
        "    self.cols.remove(self.target_name)\n",
        "    self.cnt=0\n",
        "    self.gnodes=[]\n",
        "    self.level=level\n",
        "    self.leaf_nodes=leaf_nodes\n",
        "    self.rules=[]\n",
        "    self.output_classes=self.df[self.target_name].unique()\n",
        "    if split_function in DecisionTree.split_functions:\n",
        "      self.split_function=DecisionTree.split_functions[split_function]\n",
        "    else:\n",
        "      raise Exception(\"Split function not found\")\n",
        "\n",
        "  ## Instance Methods ##\n",
        "\n",
        "  def getGraph(self):\n",
        "    return self.tree.g\n",
        "\n",
        "  def find_leaf(self,df):\n",
        "    counts=df[self.target_name].value_counts().to_dict()\n",
        "    return max(zip(counts.values(), counts.keys()))[1]\n",
        "    \n",
        "      # unique_vals=list(df[self.target_name].unique())\n",
        "      # for val in unique_vals:      \n",
        "      #   if df[df[self.target_name]==val].count()[0]==df.count()[0]:\n",
        "      #     return val\n",
        "\n",
        "  def construct(self):\n",
        "    maxig=[-1,\"\"]\n",
        "    for i in self.cols:\n",
        "      etemp=self.split_function(df,self.target_name,i)\n",
        "      maxig=maxig if maxig[0]>etemp else [etemp,i]\n",
        "    root=self.Node(maxig[1],maxig[0],0)\n",
        "    self.tree.insert_root(root)\n",
        "    c=copy.deepcopy(self.cols)\n",
        "    c.remove(root.name)\n",
        "    root.gname=str(root)\n",
        "    self.gnodes.append(root)\n",
        "    self.tree.g.node(str(root),str(root))\n",
        "    self.construct_help(df,c,root)\n",
        "\n",
        "  def construct_help(self,df,cols,parent):\n",
        "    if not parent.name:\n",
        "      return\n",
        "    vals=list(df[parent.name].unique())\n",
        "    dftemp=df\n",
        "\n",
        "    for k in vals:\n",
        "      if self.leaf_nodes!=-1 and self.tree.no_leafs>=self.leaf_nodes:\n",
        "        return\n",
        "      df=dftemp\n",
        "      df=df[df[parent.name]==k]\n",
        "      e=DecisionTree.getEntropy(df,self.target_name)\n",
        "\n",
        "      if e==0 or parent.level==self.level-1:\n",
        "        value=self.find_leaf(df)\n",
        "        node=self.Node(value,1,parent.level+1)\n",
        "        node.gname=str(value)\n",
        "        parent.insert_child(node)\n",
        "        parent.insert_edge(k)\n",
        "        self.tree.no_leafs+=1\n",
        "        name=value\n",
        "        if not isinstance(value, str):\n",
        "          name='class'\n",
        "        self.tree.g.node(name+str(self.cnt),str(value))\n",
        "        self.tree.g.edge(str(parent.gname),name+str(self.cnt),label=str(k))\n",
        "        \n",
        "        self.cnt+=1\n",
        "        continue\n",
        "      maxig=[-1,\"\"]\n",
        "      for i in cols:\n",
        "        etemp=self.split_function(df,self.target_name,i)\n",
        "        maxig=maxig if maxig[0]>etemp else [etemp,i]\n",
        "      node=self.Node(maxig[1],maxig[0],parent.level+1)\n",
        "      node.gname=str(node.name)\n",
        "      c=copy.deepcopy(cols)\n",
        "      if node.name in c:\n",
        "        c.remove(node.name)\n",
        "      name=str(node)\n",
        "\n",
        "      # checking if node name already exist in graphviz code\n",
        "      \n",
        "      if name in self.gnodes:\n",
        "        name+=str(self.cnt)\n",
        "        self.cnt+=1\n",
        "      else:\n",
        "        self.gnodes.append(name)\n",
        "      node.gname=name\n",
        "\n",
        "      parent.insert_child(node)\n",
        "      parent.insert_edge(k)\n",
        "\n",
        "      self.tree.g.node(name,str(node))\n",
        "      self.tree.g.edge(str(parent.gname),name,label=str(k))\n",
        "      \n",
        "      self.construct_help(df[df[parent.name]==k],c,node)\n",
        "      \n",
        "  def predict(self,instances,trace=False):\n",
        "    node=self.tree.root\n",
        "    op=[]\n",
        "    if isinstance(instances,dict):\n",
        "      return self.predict_help(node,instances,trace,\"\")\n",
        "    if isinstance(instances,list):\n",
        "      \n",
        "      for instance in instances:\n",
        "        op.append(self.predict_help(node,instance,trace,\"\"))\n",
        "    else:\n",
        "      n=len(instances)\n",
        "      for i in range(n):\n",
        "        instance=data.iloc[i].to_dict()\n",
        "        op.append(self.predict_help(node,instance,trace,\"\"))\n",
        "    return op\n",
        "\n",
        "  def predict_help(self,node,instance,trace,path):\n",
        "    if node.name in self.output_classes:\n",
        "      if trace:\n",
        "        print(path+str(node))\n",
        "      return node.name\n",
        "    value=instance[node.name]\n",
        "    try:\n",
        "      path+=str(node)+\" ( \"+str(value)+\" ) -> \"\n",
        "      ind=node.edges.index(value)\n",
        "      return self.predict_help(node.childs[ind],instance,trace,path)\n",
        "    except Exception as e:\n",
        "      return \"Not valid instance, path: \"+path\n",
        "  def get_rules(self):\n",
        "    node=self.tree.root\n",
        "    self.rules_help(node,str(node.name)+\" -> \")\n",
        "    return self.rules\n",
        "\n",
        "  def rules_help(self,node,path):\n",
        "    for n,e in zip(node.childs,node.edges):\n",
        "      if n.name in self.output_classes:\n",
        "        self.rules.append(\"{} ( {} ) {}\".format(path,str(e),str(n.name)))\n",
        "      self.rules_help(n,\"{} ( {} ) {} -> \".format(path,str(e),str(n.name)))\n",
        "  \n",
        "  ## Inner classes ##\n",
        "  class Node:\n",
        "    ## Countructor ##\n",
        "    def __init__(self,name,ig,level):\n",
        "      self.name=name\n",
        "      self.ig=ig\n",
        "      self.childs=[]\n",
        "      self.edges=[]\n",
        "      self.gname=''\n",
        "      self.level=level\n",
        "\n",
        "    ## Instance Methods ##\n",
        "\n",
        "    def insert_child(self,node):\n",
        "      self.childs.append(node)\n",
        "\n",
        "    def insert_edge(self,edge):\n",
        "      self.edges.append(edge)\n",
        "\n",
        "    def printn(self,edge=\"\"):\n",
        "      # if self.childs:\n",
        "      dashes=\"|\"+\"-\"*(self.level*5)\n",
        "      value=\"( \"+str(edge)+\") \"+str(self.gname) if edge else str(self.gname)\n",
        "      # print(\" \"*(self.level*2+1),''.join(['-']*31))\n",
        "      # print(dashes,'|{:^15} - level - {:^2} | '.format(self.gname,self.level),list(zip(self.edges,list(map(lambda x:x.gname,self.childs)))))\n",
        "      # print(\" \"*(self.level*2+1),''.join(['-']*31))\n",
        "      print(dashes,value)\n",
        "\n",
        "    def __str__(self):\n",
        "      return str(self.name)\n",
        "\n",
        "  class Tree:\n",
        "\n",
        "    ## Countructor ##\n",
        "    def __init__(self):\n",
        "      self.root=None\n",
        "      self.g=Digraph(encoding='utf-8')\n",
        "      self.no_leafs=0\n",
        "\n",
        "    ## Instance Methods ##\n",
        "\n",
        "    def insert_root(self,node):\n",
        "      self.root=node\n",
        "\n",
        "    def printt(self):\n",
        "      self.print_help(self.root,\"\")\n",
        "\n",
        "    def print_help(self,node,edge):\n",
        "      if node:\n",
        "        node.printn(edge)\n",
        "        # print(\"(\",edge,\")\")\n",
        "      for i in range(len(node.childs)):\n",
        "        self.print_help(node.childs[i],node.edges[i])"
      ],
      "metadata": {
        "id": "id5zpEHsz9uY"
      },
      "execution_count": 173,
      "outputs": []
    },
    {
      "cell_type": "code",
      "source": [
        "d=DecisionTree(data,target_name,split_function=split_func)"
      ],
      "metadata": {
        "id": "OFMbtje11lrz"
      },
      "execution_count": 174,
      "outputs": []
    },
    {
      "cell_type": "code",
      "source": [
        "d.construct()"
      ],
      "metadata": {
        "id": "EDWt9Tv35vp4"
      },
      "execution_count": 175,
      "outputs": []
    },
    {
      "cell_type": "code",
      "source": [
        "d.getGraph()"
      ],
      "metadata": {
        "colab": {
          "base_uri": "https://localhost:8080/",
          "height": 1000
        },
        "id": "W7Q1YW9pyk6C",
        "outputId": "622d2c32-873a-41ef-b6a4-286186bd7b0f"
      },
      "execution_count": 176,
      "outputs": [
        {
          "output_type": "execute_result",
          "data": {
            "text/plain": [
              "<graphviz.dot.Digraph at 0x7f6e84482d50>"
            ],
            "image/svg+xml": "<?xml version=\"1.0\" encoding=\"UTF-8\" standalone=\"no\"?>\n<!DOCTYPE svg PUBLIC \"-//W3C//DTD SVG 1.1//EN\"\n \"http://www.w3.org/Graphics/SVG/1.1/DTD/svg11.dtd\">\n<!-- Generated by graphviz version 2.40.1 (20161225.0304)\n -->\n<!-- Title: %3 Pages: 1 -->\n<svg width=\"682pt\" height=\"1958pt\"\n viewBox=\"0.00 0.00 682.00 1958.00\" xmlns=\"http://www.w3.org/2000/svg\" xmlns:xlink=\"http://www.w3.org/1999/xlink\">\n<g id=\"graph0\" class=\"graph\" transform=\"scale(1 1) rotate(0) translate(4 1954)\">\n<title>%3</title>\n<polygon fill=\"#ffffff\" stroke=\"transparent\" points=\"-4,4 -4,-1954 678,-1954 678,4 -4,4\"/>\n<!-- F13 -->\n<g id=\"node1\" class=\"node\">\n<title>F13</title>\n<ellipse fill=\"none\" stroke=\"#000000\" cx=\"466\" cy=\"-1932\" rx=\"27\" ry=\"18\"/>\n<text text-anchor=\"middle\" x=\"466\" y=\"-1928.3\" font-family=\"Times,serif\" font-size=\"14.00\" fill=\"#000000\">F13</text>\n</g>\n<!-- F11 -->\n<g id=\"node2\" class=\"node\">\n<title>F11</title>\n<ellipse fill=\"none\" stroke=\"#000000\" cx=\"431\" cy=\"-1845\" rx=\"27\" ry=\"18\"/>\n<text text-anchor=\"middle\" x=\"431\" y=\"-1841.3\" font-family=\"Times,serif\" font-size=\"14.00\" fill=\"#000000\">F11</text>\n</g>\n<!-- F13&#45;&gt;F11 -->\n<g id=\"edge1\" class=\"edge\">\n<title>F13&#45;&gt;F11</title>\n<path fill=\"none\" stroke=\"#000000\" d=\"M458.9172,-1914.3943C454.0309,-1902.2482 447.4409,-1885.8674 441.8907,-1872.0711\"/>\n<polygon fill=\"#000000\" stroke=\"#000000\" points=\"445.0517,-1870.5506 438.0722,-1862.5796 438.5575,-1873.1633 445.0517,-1870.5506\"/>\n<text text-anchor=\"middle\" x=\"455\" y=\"-1884.8\" font-family=\"Times,serif\" font-size=\"14.00\" fill=\"#000000\">0</text>\n</g>\n<!-- F2234 -->\n<g id=\"node58\" class=\"node\">\n<title>F2234</title>\n<ellipse fill=\"none\" stroke=\"#000000\" cx=\"503\" cy=\"-1845\" rx=\"27\" ry=\"18\"/>\n<text text-anchor=\"middle\" x=\"503\" y=\"-1841.3\" font-family=\"Times,serif\" font-size=\"14.00\" fill=\"#000000\">F22</text>\n</g>\n<!-- F13&#45;&gt;F2234 -->\n<g id=\"edge57\" class=\"edge\">\n<title>F13&#45;&gt;F2234</title>\n<path fill=\"none\" stroke=\"#000000\" d=\"M473.4875,-1914.3943C478.6531,-1902.2482 485.6196,-1885.8674 491.487,-1872.0711\"/>\n<polygon fill=\"#000000\" stroke=\"#000000\" points=\"494.8308,-1873.1517 495.5236,-1862.5796 488.3891,-1870.4121 494.8308,-1873.1517\"/>\n<text text-anchor=\"middle\" x=\"491\" y=\"-1884.8\" font-family=\"Times,serif\" font-size=\"14.00\" fill=\"#000000\">1</text>\n</g>\n<!-- F16 -->\n<g id=\"node3\" class=\"node\">\n<title>F16</title>\n<ellipse fill=\"none\" stroke=\"#000000\" cx=\"359\" cy=\"-1758\" rx=\"27\" ry=\"18\"/>\n<text text-anchor=\"middle\" x=\"359\" y=\"-1754.3\" font-family=\"Times,serif\" font-size=\"14.00\" fill=\"#000000\">F16</text>\n</g>\n<!-- F11&#45;&gt;F16 -->\n<g id=\"edge2\" class=\"edge\">\n<title>F11&#45;&gt;F16</title>\n<path fill=\"none\" stroke=\"#000000\" d=\"M417.7941,-1829.0429C406.8328,-1815.798 391.0821,-1796.7659 378.6416,-1781.7336\"/>\n<polygon fill=\"#000000\" stroke=\"#000000\" points=\"381.1943,-1779.3284 372.1222,-1773.856 375.8015,-1783.7914 381.1943,-1779.3284\"/>\n<text text-anchor=\"middle\" x=\"404\" y=\"-1797.8\" font-family=\"Times,serif\" font-size=\"14.00\" fill=\"#000000\">0</text>\n</g>\n<!-- F1627 -->\n<g id=\"node51\" class=\"node\">\n<title>F1627</title>\n<ellipse fill=\"none\" stroke=\"#000000\" cx=\"431\" cy=\"-1758\" rx=\"27\" ry=\"18\"/>\n<text text-anchor=\"middle\" x=\"431\" y=\"-1754.3\" font-family=\"Times,serif\" font-size=\"14.00\" fill=\"#000000\">F16</text>\n</g>\n<!-- F11&#45;&gt;F1627 -->\n<g id=\"edge50\" class=\"edge\">\n<title>F11&#45;&gt;F1627</title>\n<path fill=\"none\" stroke=\"#000000\" d=\"M431,-1826.9735C431,-1815.1918 431,-1799.5607 431,-1786.1581\"/>\n<polygon fill=\"#000000\" stroke=\"#000000\" points=\"434.5001,-1786.0033 431,-1776.0034 427.5001,-1786.0034 434.5001,-1786.0033\"/>\n<text text-anchor=\"middle\" x=\"435\" y=\"-1797.8\" font-family=\"Times,serif\" font-size=\"14.00\" fill=\"#000000\">1</text>\n</g>\n<!-- F22 -->\n<g id=\"node4\" class=\"node\">\n<title>F22</title>\n<ellipse fill=\"none\" stroke=\"#000000\" cx=\"287\" cy=\"-1671\" rx=\"27\" ry=\"18\"/>\n<text text-anchor=\"middle\" x=\"287\" y=\"-1667.3\" font-family=\"Times,serif\" font-size=\"14.00\" fill=\"#000000\">F22</text>\n</g>\n<!-- F16&#45;&gt;F22 -->\n<g id=\"edge3\" class=\"edge\">\n<title>F16&#45;&gt;F22</title>\n<path fill=\"none\" stroke=\"#000000\" d=\"M345.7941,-1742.0429C334.8328,-1728.798 319.0821,-1709.7659 306.6416,-1694.7336\"/>\n<polygon fill=\"#000000\" stroke=\"#000000\" points=\"309.1943,-1692.3284 300.1222,-1686.856 303.8015,-1696.7914 309.1943,-1692.3284\"/>\n<text text-anchor=\"middle\" x=\"332\" y=\"-1710.8\" font-family=\"Times,serif\" font-size=\"14.00\" fill=\"#000000\">0</text>\n</g>\n<!-- class26 -->\n<g id=\"node50\" class=\"node\">\n<title>class26</title>\n<ellipse fill=\"none\" stroke=\"#000000\" cx=\"359\" cy=\"-1671\" rx=\"27\" ry=\"18\"/>\n<text text-anchor=\"middle\" x=\"359\" y=\"-1667.3\" font-family=\"Times,serif\" font-size=\"14.00\" fill=\"#000000\">1</text>\n</g>\n<!-- F16&#45;&gt;class26 -->\n<g id=\"edge49\" class=\"edge\">\n<title>F16&#45;&gt;class26</title>\n<path fill=\"none\" stroke=\"#000000\" d=\"M359,-1739.9735C359,-1728.1918 359,-1712.5607 359,-1699.1581\"/>\n<polygon fill=\"#000000\" stroke=\"#000000\" points=\"362.5001,-1699.0033 359,-1689.0034 355.5001,-1699.0034 362.5001,-1699.0033\"/>\n<text text-anchor=\"middle\" x=\"363\" y=\"-1710.8\" font-family=\"Times,serif\" font-size=\"14.00\" fill=\"#000000\">1</text>\n</g>\n<!-- F5 -->\n<g id=\"node5\" class=\"node\">\n<title>F5</title>\n<ellipse fill=\"none\" stroke=\"#000000\" cx=\"215\" cy=\"-1584\" rx=\"27\" ry=\"18\"/>\n<text text-anchor=\"middle\" x=\"215\" y=\"-1580.3\" font-family=\"Times,serif\" font-size=\"14.00\" fill=\"#000000\">F5</text>\n</g>\n<!-- F22&#45;&gt;F5 -->\n<g id=\"edge4\" class=\"edge\">\n<title>F22&#45;&gt;F5</title>\n<path fill=\"none\" stroke=\"#000000\" d=\"M273.7941,-1655.0429C262.8328,-1641.798 247.0821,-1622.7659 234.6416,-1607.7336\"/>\n<polygon fill=\"#000000\" stroke=\"#000000\" points=\"237.1943,-1605.3284 228.1222,-1599.856 231.8015,-1609.7914 237.1943,-1605.3284\"/>\n<text text-anchor=\"middle\" x=\"260\" y=\"-1623.8\" font-family=\"Times,serif\" font-size=\"14.00\" fill=\"#000000\">0</text>\n</g>\n<!-- F104 -->\n<g id=\"node28\" class=\"node\">\n<title>F104</title>\n<ellipse fill=\"none\" stroke=\"#000000\" cx=\"287\" cy=\"-1584\" rx=\"27\" ry=\"18\"/>\n<text text-anchor=\"middle\" x=\"287\" y=\"-1580.3\" font-family=\"Times,serif\" font-size=\"14.00\" fill=\"#000000\">F10</text>\n</g>\n<!-- F22&#45;&gt;F104 -->\n<g id=\"edge27\" class=\"edge\">\n<title>F22&#45;&gt;F104</title>\n<path fill=\"none\" stroke=\"#000000\" d=\"M287,-1652.9735C287,-1641.1918 287,-1625.5607 287,-1612.1581\"/>\n<polygon fill=\"#000000\" stroke=\"#000000\" points=\"290.5001,-1612.0033 287,-1602.0034 283.5001,-1612.0034 290.5001,-1612.0033\"/>\n<text text-anchor=\"middle\" x=\"291\" y=\"-1623.8\" font-family=\"Times,serif\" font-size=\"14.00\" fill=\"#000000\">1</text>\n</g>\n<!-- F4 -->\n<g id=\"node6\" class=\"node\">\n<title>F4</title>\n<ellipse fill=\"none\" stroke=\"#000000\" cx=\"143\" cy=\"-1497\" rx=\"27\" ry=\"18\"/>\n<text text-anchor=\"middle\" x=\"143\" y=\"-1493.3\" font-family=\"Times,serif\" font-size=\"14.00\" fill=\"#000000\">F4</text>\n</g>\n<!-- F5&#45;&gt;F4 -->\n<g id=\"edge5\" class=\"edge\">\n<title>F5&#45;&gt;F4</title>\n<path fill=\"none\" stroke=\"#000000\" d=\"M201.7941,-1568.0429C190.8328,-1554.798 175.0821,-1535.7659 162.6416,-1520.7336\"/>\n<polygon fill=\"#000000\" stroke=\"#000000\" points=\"165.1943,-1518.3284 156.1222,-1512.856 159.8015,-1522.7914 165.1943,-1518.3284\"/>\n<text text-anchor=\"middle\" x=\"188\" y=\"-1536.8\" font-family=\"Times,serif\" font-size=\"14.00\" fill=\"#000000\">0</text>\n</g>\n<!-- class3 -->\n<g id=\"node27\" class=\"node\">\n<title>class3</title>\n<ellipse fill=\"none\" stroke=\"#000000\" cx=\"215\" cy=\"-1497\" rx=\"27\" ry=\"18\"/>\n<text text-anchor=\"middle\" x=\"215\" y=\"-1493.3\" font-family=\"Times,serif\" font-size=\"14.00\" fill=\"#000000\">0</text>\n</g>\n<!-- F5&#45;&gt;class3 -->\n<g id=\"edge26\" class=\"edge\">\n<title>F5&#45;&gt;class3</title>\n<path fill=\"none\" stroke=\"#000000\" d=\"M215,-1565.9735C215,-1554.1918 215,-1538.5607 215,-1525.1581\"/>\n<polygon fill=\"#000000\" stroke=\"#000000\" points=\"218.5001,-1525.0033 215,-1515.0034 211.5001,-1525.0034 218.5001,-1525.0033\"/>\n<text text-anchor=\"middle\" x=\"219\" y=\"-1536.8\" font-family=\"Times,serif\" font-size=\"14.00\" fill=\"#000000\">1</text>\n</g>\n<!-- F21 -->\n<g id=\"node7\" class=\"node\">\n<title>F21</title>\n<ellipse fill=\"none\" stroke=\"#000000\" cx=\"80\" cy=\"-1410\" rx=\"27\" ry=\"18\"/>\n<text text-anchor=\"middle\" x=\"80\" y=\"-1406.3\" font-family=\"Times,serif\" font-size=\"14.00\" fill=\"#000000\">F21</text>\n</g>\n<!-- F4&#45;&gt;F21 -->\n<g id=\"edge6\" class=\"edge\">\n<title>F4&#45;&gt;F21</title>\n<path fill=\"none\" stroke=\"#000000\" d=\"M131.1502,-1480.636C121.7347,-1467.6336 108.4193,-1449.2457 97.7344,-1434.4904\"/>\n<polygon fill=\"#000000\" stroke=\"#000000\" points=\"100.4966,-1432.3373 91.7967,-1426.2907 94.827,-1436.4429 100.4966,-1432.3373\"/>\n<text text-anchor=\"middle\" x=\"120\" y=\"-1449.8\" font-family=\"Times,serif\" font-size=\"14.00\" fill=\"#000000\">0</text>\n</g>\n<!-- class2 -->\n<g id=\"node26\" class=\"node\">\n<title>class2</title>\n<ellipse fill=\"none\" stroke=\"#000000\" cx=\"152\" cy=\"-1410\" rx=\"27\" ry=\"18\"/>\n<text text-anchor=\"middle\" x=\"152\" y=\"-1406.3\" font-family=\"Times,serif\" font-size=\"14.00\" fill=\"#000000\">0</text>\n</g>\n<!-- F4&#45;&gt;class2 -->\n<g id=\"edge25\" class=\"edge\">\n<title>F4&#45;&gt;class2</title>\n<path fill=\"none\" stroke=\"#000000\" d=\"M144.8648,-1478.9735C146.0836,-1467.1918 147.7006,-1451.5607 149.0871,-1438.1581\"/>\n<polygon fill=\"#000000\" stroke=\"#000000\" points=\"152.5899,-1438.3105 150.1376,-1428.0034 145.6271,-1437.5901 152.5899,-1438.3105\"/>\n<text text-anchor=\"middle\" x=\"153\" y=\"-1449.8\" font-family=\"Times,serif\" font-size=\"14.00\" fill=\"#000000\">1</text>\n</g>\n<!-- F14 -->\n<g id=\"node8\" class=\"node\">\n<title>F14</title>\n<ellipse fill=\"none\" stroke=\"#000000\" cx=\"48\" cy=\"-1323\" rx=\"27\" ry=\"18\"/>\n<text text-anchor=\"middle\" x=\"48\" y=\"-1319.3\" font-family=\"Times,serif\" font-size=\"14.00\" fill=\"#000000\">F14</text>\n</g>\n<!-- F21&#45;&gt;F14 -->\n<g id=\"edge7\" class=\"edge\">\n<title>F21&#45;&gt;F14</title>\n<path fill=\"none\" stroke=\"#000000\" d=\"M73.5243,-1392.3943C69.0568,-1380.2482 63.0317,-1363.8674 57.9572,-1350.0711\"/>\n<polygon fill=\"#000000\" stroke=\"#000000\" points=\"61.203,-1348.7566 54.466,-1340.5796 54.6333,-1351.1731 61.203,-1348.7566\"/>\n<text text-anchor=\"middle\" x=\"70\" y=\"-1362.8\" font-family=\"Times,serif\" font-size=\"14.00\" fill=\"#000000\">0</text>\n</g>\n<!-- class1 -->\n<g id=\"node25\" class=\"node\">\n<title>class1</title>\n<ellipse fill=\"none\" stroke=\"#000000\" cx=\"120\" cy=\"-1323\" rx=\"27\" ry=\"18\"/>\n<text text-anchor=\"middle\" x=\"120\" y=\"-1319.3\" font-family=\"Times,serif\" font-size=\"14.00\" fill=\"#000000\">0</text>\n</g>\n<!-- F21&#45;&gt;class1 -->\n<g id=\"edge24\" class=\"edge\">\n<title>F21&#45;&gt;class1</title>\n<path fill=\"none\" stroke=\"#000000\" d=\"M88.0946,-1392.3943C93.7703,-1380.0496 101.4572,-1363.3306 107.8637,-1349.3965\"/>\n<polygon fill=\"#000000\" stroke=\"#000000\" points=\"111.0566,-1350.8305 112.054,-1340.2827 104.6966,-1347.9063 111.0566,-1350.8305\"/>\n<text text-anchor=\"middle\" x=\"107\" y=\"-1362.8\" font-family=\"Times,serif\" font-size=\"14.00\" fill=\"#000000\">1</text>\n</g>\n<!-- F20 -->\n<g id=\"node9\" class=\"node\">\n<title>F20</title>\n<ellipse fill=\"none\" stroke=\"#000000\" cx=\"27\" cy=\"-1236\" rx=\"27\" ry=\"18\"/>\n<text text-anchor=\"middle\" x=\"27\" y=\"-1232.3\" font-family=\"Times,serif\" font-size=\"14.00\" fill=\"#000000\">F20</text>\n</g>\n<!-- F14&#45;&gt;F20 -->\n<g id=\"edge8\" class=\"edge\">\n<title>F14&#45;&gt;F20</title>\n<path fill=\"none\" stroke=\"#000000\" d=\"M43.6488,-1304.9735C40.7768,-1293.0751 36.9571,-1277.2508 33.7008,-1263.7606\"/>\n<polygon fill=\"#000000\" stroke=\"#000000\" points=\"37.0944,-1262.9029 31.3456,-1254.0034 30.2898,-1264.5455 37.0944,-1262.9029\"/>\n<text text-anchor=\"middle\" x=\"43\" y=\"-1275.8\" font-family=\"Times,serif\" font-size=\"14.00\" fill=\"#000000\">0</text>\n</g>\n<!-- class0 -->\n<g id=\"node24\" class=\"node\">\n<title>class0</title>\n<ellipse fill=\"none\" stroke=\"#000000\" cx=\"99\" cy=\"-1236\" rx=\"27\" ry=\"18\"/>\n<text text-anchor=\"middle\" x=\"99\" y=\"-1232.3\" font-family=\"Times,serif\" font-size=\"14.00\" fill=\"#000000\">0</text>\n</g>\n<!-- F14&#45;&gt;class0 -->\n<g id=\"edge23\" class=\"edge\">\n<title>F14&#45;&gt;class0</title>\n<path fill=\"none\" stroke=\"#000000\" d=\"M57.8333,-1306.2255C65.194,-1293.669 75.3982,-1276.2619 83.8055,-1261.9201\"/>\n<polygon fill=\"#000000\" stroke=\"#000000\" points=\"86.9851,-1263.4169 89.0229,-1253.0198 80.9462,-1259.8768 86.9851,-1263.4169\"/>\n<text text-anchor=\"middle\" x=\"81\" y=\"-1275.8\" font-family=\"Times,serif\" font-size=\"14.00\" fill=\"#000000\">1</text>\n</g>\n<!-- F19 -->\n<g id=\"node10\" class=\"node\">\n<title>F19</title>\n<ellipse fill=\"none\" stroke=\"#000000\" cx=\"27\" cy=\"-1149\" rx=\"27\" ry=\"18\"/>\n<text text-anchor=\"middle\" x=\"27\" y=\"-1145.3\" font-family=\"Times,serif\" font-size=\"14.00\" fill=\"#000000\">F19</text>\n</g>\n<!-- F20&#45;&gt;F19 -->\n<g id=\"edge9\" class=\"edge\">\n<title>F20&#45;&gt;F19</title>\n<path fill=\"none\" stroke=\"#000000\" d=\"M27,-1217.9735C27,-1206.1918 27,-1190.5607 27,-1177.1581\"/>\n<polygon fill=\"#000000\" stroke=\"#000000\" points=\"30.5001,-1177.0033 27,-1167.0034 23.5001,-1177.0034 30.5001,-1177.0033\"/>\n<text text-anchor=\"middle\" x=\"31\" y=\"-1188.8\" font-family=\"Times,serif\" font-size=\"14.00\" fill=\"#000000\">0</text>\n</g>\n<!-- F18 -->\n<g id=\"node11\" class=\"node\">\n<title>F18</title>\n<ellipse fill=\"none\" stroke=\"#000000\" cx=\"27\" cy=\"-1062\" rx=\"27\" ry=\"18\"/>\n<text text-anchor=\"middle\" x=\"27\" y=\"-1058.3\" font-family=\"Times,serif\" font-size=\"14.00\" fill=\"#000000\">F18</text>\n</g>\n<!-- F19&#45;&gt;F18 -->\n<g id=\"edge10\" class=\"edge\">\n<title>F19&#45;&gt;F18</title>\n<path fill=\"none\" stroke=\"#000000\" d=\"M27,-1130.9735C27,-1119.1918 27,-1103.5607 27,-1090.1581\"/>\n<polygon fill=\"#000000\" stroke=\"#000000\" points=\"30.5001,-1090.0033 27,-1080.0034 23.5001,-1090.0034 30.5001,-1090.0033\"/>\n<text text-anchor=\"middle\" x=\"31\" y=\"-1101.8\" font-family=\"Times,serif\" font-size=\"14.00\" fill=\"#000000\">0</text>\n</g>\n<!-- F17 -->\n<g id=\"node12\" class=\"node\">\n<title>F17</title>\n<ellipse fill=\"none\" stroke=\"#000000\" cx=\"27\" cy=\"-975\" rx=\"27\" ry=\"18\"/>\n<text text-anchor=\"middle\" x=\"27\" y=\"-971.3\" font-family=\"Times,serif\" font-size=\"14.00\" fill=\"#000000\">F17</text>\n</g>\n<!-- F18&#45;&gt;F17 -->\n<g id=\"edge11\" class=\"edge\">\n<title>F18&#45;&gt;F17</title>\n<path fill=\"none\" stroke=\"#000000\" d=\"M27,-1043.9735C27,-1032.1918 27,-1016.5607 27,-1003.1581\"/>\n<polygon fill=\"#000000\" stroke=\"#000000\" points=\"30.5001,-1003.0033 27,-993.0034 23.5001,-1003.0034 30.5001,-1003.0033\"/>\n<text text-anchor=\"middle\" x=\"31\" y=\"-1014.8\" font-family=\"Times,serif\" font-size=\"14.00\" fill=\"#000000\">0</text>\n</g>\n<!-- F15 -->\n<g id=\"node13\" class=\"node\">\n<title>F15</title>\n<ellipse fill=\"none\" stroke=\"#000000\" cx=\"27\" cy=\"-888\" rx=\"27\" ry=\"18\"/>\n<text text-anchor=\"middle\" x=\"27\" y=\"-884.3\" font-family=\"Times,serif\" font-size=\"14.00\" fill=\"#000000\">F15</text>\n</g>\n<!-- F17&#45;&gt;F15 -->\n<g id=\"edge12\" class=\"edge\">\n<title>F17&#45;&gt;F15</title>\n<path fill=\"none\" stroke=\"#000000\" d=\"M27,-956.9735C27,-945.1918 27,-929.5607 27,-916.1581\"/>\n<polygon fill=\"#000000\" stroke=\"#000000\" points=\"30.5001,-916.0033 27,-906.0034 23.5001,-916.0034 30.5001,-916.0033\"/>\n<text text-anchor=\"middle\" x=\"31\" y=\"-927.8\" font-family=\"Times,serif\" font-size=\"14.00\" fill=\"#000000\">0</text>\n</g>\n<!-- F12 -->\n<g id=\"node14\" class=\"node\">\n<title>F12</title>\n<ellipse fill=\"none\" stroke=\"#000000\" cx=\"27\" cy=\"-801\" rx=\"27\" ry=\"18\"/>\n<text text-anchor=\"middle\" x=\"27\" y=\"-797.3\" font-family=\"Times,serif\" font-size=\"14.00\" fill=\"#000000\">F12</text>\n</g>\n<!-- F15&#45;&gt;F12 -->\n<g id=\"edge13\" class=\"edge\">\n<title>F15&#45;&gt;F12</title>\n<path fill=\"none\" stroke=\"#000000\" d=\"M27,-869.9735C27,-858.1918 27,-842.5607 27,-829.1581\"/>\n<polygon fill=\"#000000\" stroke=\"#000000\" points=\"30.5001,-829.0033 27,-819.0034 23.5001,-829.0034 30.5001,-829.0033\"/>\n<text text-anchor=\"middle\" x=\"31\" y=\"-840.8\" font-family=\"Times,serif\" font-size=\"14.00\" fill=\"#000000\">0</text>\n</g>\n<!-- F10 -->\n<g id=\"node15\" class=\"node\">\n<title>F10</title>\n<ellipse fill=\"none\" stroke=\"#000000\" cx=\"27\" cy=\"-714\" rx=\"27\" ry=\"18\"/>\n<text text-anchor=\"middle\" x=\"27\" y=\"-710.3\" font-family=\"Times,serif\" font-size=\"14.00\" fill=\"#000000\">F10</text>\n</g>\n<!-- F12&#45;&gt;F10 -->\n<g id=\"edge14\" class=\"edge\">\n<title>F12&#45;&gt;F10</title>\n<path fill=\"none\" stroke=\"#000000\" d=\"M27,-782.9735C27,-771.1918 27,-755.5607 27,-742.1581\"/>\n<polygon fill=\"#000000\" stroke=\"#000000\" points=\"30.5001,-742.0033 27,-732.0034 23.5001,-742.0034 30.5001,-742.0033\"/>\n<text text-anchor=\"middle\" x=\"31\" y=\"-753.8\" font-family=\"Times,serif\" font-size=\"14.00\" fill=\"#000000\">0</text>\n</g>\n<!-- F9 -->\n<g id=\"node16\" class=\"node\">\n<title>F9</title>\n<ellipse fill=\"none\" stroke=\"#000000\" cx=\"27\" cy=\"-627\" rx=\"27\" ry=\"18\"/>\n<text text-anchor=\"middle\" x=\"27\" y=\"-623.3\" font-family=\"Times,serif\" font-size=\"14.00\" fill=\"#000000\">F9</text>\n</g>\n<!-- F10&#45;&gt;F9 -->\n<g id=\"edge15\" class=\"edge\">\n<title>F10&#45;&gt;F9</title>\n<path fill=\"none\" stroke=\"#000000\" d=\"M27,-695.9735C27,-684.1918 27,-668.5607 27,-655.1581\"/>\n<polygon fill=\"#000000\" stroke=\"#000000\" points=\"30.5001,-655.0033 27,-645.0034 23.5001,-655.0034 30.5001,-655.0033\"/>\n<text text-anchor=\"middle\" x=\"31\" y=\"-666.8\" font-family=\"Times,serif\" font-size=\"14.00\" fill=\"#000000\">0</text>\n</g>\n<!-- F8 -->\n<g id=\"node17\" class=\"node\">\n<title>F8</title>\n<ellipse fill=\"none\" stroke=\"#000000\" cx=\"27\" cy=\"-540\" rx=\"27\" ry=\"18\"/>\n<text text-anchor=\"middle\" x=\"27\" y=\"-536.3\" font-family=\"Times,serif\" font-size=\"14.00\" fill=\"#000000\">F8</text>\n</g>\n<!-- F9&#45;&gt;F8 -->\n<g id=\"edge16\" class=\"edge\">\n<title>F9&#45;&gt;F8</title>\n<path fill=\"none\" stroke=\"#000000\" d=\"M27,-608.9735C27,-597.1918 27,-581.5607 27,-568.1581\"/>\n<polygon fill=\"#000000\" stroke=\"#000000\" points=\"30.5001,-568.0033 27,-558.0034 23.5001,-568.0034 30.5001,-568.0033\"/>\n<text text-anchor=\"middle\" x=\"31\" y=\"-579.8\" font-family=\"Times,serif\" font-size=\"14.00\" fill=\"#000000\">0</text>\n</g>\n<!-- F7 -->\n<g id=\"node18\" class=\"node\">\n<title>F7</title>\n<ellipse fill=\"none\" stroke=\"#000000\" cx=\"27\" cy=\"-453\" rx=\"27\" ry=\"18\"/>\n<text text-anchor=\"middle\" x=\"27\" y=\"-449.3\" font-family=\"Times,serif\" font-size=\"14.00\" fill=\"#000000\">F7</text>\n</g>\n<!-- F8&#45;&gt;F7 -->\n<g id=\"edge17\" class=\"edge\">\n<title>F8&#45;&gt;F7</title>\n<path fill=\"none\" stroke=\"#000000\" d=\"M27,-521.9735C27,-510.1918 27,-494.5607 27,-481.1581\"/>\n<polygon fill=\"#000000\" stroke=\"#000000\" points=\"30.5001,-481.0033 27,-471.0034 23.5001,-481.0034 30.5001,-481.0033\"/>\n<text text-anchor=\"middle\" x=\"31\" y=\"-492.8\" font-family=\"Times,serif\" font-size=\"14.00\" fill=\"#000000\">0</text>\n</g>\n<!-- F6 -->\n<g id=\"node19\" class=\"node\">\n<title>F6</title>\n<ellipse fill=\"none\" stroke=\"#000000\" cx=\"27\" cy=\"-366\" rx=\"27\" ry=\"18\"/>\n<text text-anchor=\"middle\" x=\"27\" y=\"-362.3\" font-family=\"Times,serif\" font-size=\"14.00\" fill=\"#000000\">F6</text>\n</g>\n<!-- F7&#45;&gt;F6 -->\n<g id=\"edge18\" class=\"edge\">\n<title>F7&#45;&gt;F6</title>\n<path fill=\"none\" stroke=\"#000000\" d=\"M27,-434.9735C27,-423.1918 27,-407.5607 27,-394.1581\"/>\n<polygon fill=\"#000000\" stroke=\"#000000\" points=\"30.5001,-394.0033 27,-384.0034 23.5001,-394.0034 30.5001,-394.0033\"/>\n<text text-anchor=\"middle\" x=\"31\" y=\"-405.8\" font-family=\"Times,serif\" font-size=\"14.00\" fill=\"#000000\">0</text>\n</g>\n<!-- F3 -->\n<g id=\"node20\" class=\"node\">\n<title>F3</title>\n<ellipse fill=\"none\" stroke=\"#000000\" cx=\"27\" cy=\"-279\" rx=\"27\" ry=\"18\"/>\n<text text-anchor=\"middle\" x=\"27\" y=\"-275.3\" font-family=\"Times,serif\" font-size=\"14.00\" fill=\"#000000\">F3</text>\n</g>\n<!-- F6&#45;&gt;F3 -->\n<g id=\"edge19\" class=\"edge\">\n<title>F6&#45;&gt;F3</title>\n<path fill=\"none\" stroke=\"#000000\" d=\"M27,-347.9735C27,-336.1918 27,-320.5607 27,-307.1581\"/>\n<polygon fill=\"#000000\" stroke=\"#000000\" points=\"30.5001,-307.0033 27,-297.0034 23.5001,-307.0034 30.5001,-307.0033\"/>\n<text text-anchor=\"middle\" x=\"31\" y=\"-318.8\" font-family=\"Times,serif\" font-size=\"14.00\" fill=\"#000000\">0</text>\n</g>\n<!-- F2 -->\n<g id=\"node21\" class=\"node\">\n<title>F2</title>\n<ellipse fill=\"none\" stroke=\"#000000\" cx=\"27\" cy=\"-192\" rx=\"27\" ry=\"18\"/>\n<text text-anchor=\"middle\" x=\"27\" y=\"-188.3\" font-family=\"Times,serif\" font-size=\"14.00\" fill=\"#000000\">F2</text>\n</g>\n<!-- F3&#45;&gt;F2 -->\n<g id=\"edge20\" class=\"edge\">\n<title>F3&#45;&gt;F2</title>\n<path fill=\"none\" stroke=\"#000000\" d=\"M27,-260.9735C27,-249.1918 27,-233.5607 27,-220.1581\"/>\n<polygon fill=\"#000000\" stroke=\"#000000\" points=\"30.5001,-220.0033 27,-210.0034 23.5001,-220.0034 30.5001,-220.0033\"/>\n<text text-anchor=\"middle\" x=\"31\" y=\"-231.8\" font-family=\"Times,serif\" font-size=\"14.00\" fill=\"#000000\">0</text>\n</g>\n<!-- F1 -->\n<g id=\"node22\" class=\"node\">\n<title>F1</title>\n<ellipse fill=\"none\" stroke=\"#000000\" cx=\"27\" cy=\"-105\" rx=\"27\" ry=\"18\"/>\n<text text-anchor=\"middle\" x=\"27\" y=\"-101.3\" font-family=\"Times,serif\" font-size=\"14.00\" fill=\"#000000\">F1</text>\n</g>\n<!-- F2&#45;&gt;F1 -->\n<g id=\"edge21\" class=\"edge\">\n<title>F2&#45;&gt;F1</title>\n<path fill=\"none\" stroke=\"#000000\" d=\"M27,-173.9735C27,-162.1918 27,-146.5607 27,-133.1581\"/>\n<polygon fill=\"#000000\" stroke=\"#000000\" points=\"30.5001,-133.0033 27,-123.0034 23.5001,-133.0034 30.5001,-133.0033\"/>\n<text text-anchor=\"middle\" x=\"31\" y=\"-144.8\" font-family=\"Times,serif\" font-size=\"14.00\" fill=\"#000000\">0</text>\n</g>\n<g id=\"node23\" class=\"node\">\n<title></title>\n<ellipse fill=\"none\" stroke=\"#000000\" cx=\"27\" cy=\"-18\" rx=\"27\" ry=\"18\"/>\n</g>\n<!-- F1&#45;&gt; -->\n<g id=\"edge22\" class=\"edge\">\n<title>F1&#45;&gt;</title>\n<path fill=\"none\" stroke=\"#000000\" d=\"M27,-86.9735C27,-75.1918 27,-59.5607 27,-46.1581\"/>\n<polygon fill=\"#000000\" stroke=\"#000000\" points=\"30.5001,-46.0033 27,-36.0034 23.5001,-46.0034 30.5001,-46.0033\"/>\n<text text-anchor=\"middle\" x=\"31\" y=\"-57.8\" font-family=\"Times,serif\" font-size=\"14.00\" fill=\"#000000\">0</text>\n</g>\n<!-- F75 -->\n<g id=\"node29\" class=\"node\">\n<title>F75</title>\n<ellipse fill=\"none\" stroke=\"#000000\" cx=\"287\" cy=\"-1497\" rx=\"27\" ry=\"18\"/>\n<text text-anchor=\"middle\" x=\"287\" y=\"-1493.3\" font-family=\"Times,serif\" font-size=\"14.00\" fill=\"#000000\">F7</text>\n</g>\n<!-- F104&#45;&gt;F75 -->\n<g id=\"edge28\" class=\"edge\">\n<title>F104&#45;&gt;F75</title>\n<path fill=\"none\" stroke=\"#000000\" d=\"M287,-1565.9735C287,-1554.1918 287,-1538.5607 287,-1525.1581\"/>\n<polygon fill=\"#000000\" stroke=\"#000000\" points=\"290.5001,-1525.0033 287,-1515.0034 283.5001,-1525.0034 290.5001,-1525.0033\"/>\n<text text-anchor=\"middle\" x=\"291\" y=\"-1536.8\" font-family=\"Times,serif\" font-size=\"14.00\" fill=\"#000000\">0</text>\n</g>\n<!-- class25 -->\n<g id=\"node49\" class=\"node\">\n<title>class25</title>\n<ellipse fill=\"none\" stroke=\"#000000\" cx=\"359\" cy=\"-1497\" rx=\"27\" ry=\"18\"/>\n<text text-anchor=\"middle\" x=\"359\" y=\"-1493.3\" font-family=\"Times,serif\" font-size=\"14.00\" fill=\"#000000\">0</text>\n</g>\n<!-- F104&#45;&gt;class25 -->\n<g id=\"edge48\" class=\"edge\">\n<title>F104&#45;&gt;class25</title>\n<path fill=\"none\" stroke=\"#000000\" d=\"M300.2059,-1568.0429C311.1672,-1554.798 326.9179,-1535.7659 339.3584,-1520.7336\"/>\n<polygon fill=\"#000000\" stroke=\"#000000\" points=\"342.1985,-1522.7914 345.8778,-1512.856 336.8057,-1518.3284 342.1985,-1522.7914\"/>\n<text text-anchor=\"middle\" x=\"332\" y=\"-1536.8\" font-family=\"Times,serif\" font-size=\"14.00\" fill=\"#000000\">1</text>\n</g>\n<!-- F206 -->\n<g id=\"node30\" class=\"node\">\n<title>F206</title>\n<ellipse fill=\"none\" stroke=\"#000000\" cx=\"236\" cy=\"-1410\" rx=\"27\" ry=\"18\"/>\n<text text-anchor=\"middle\" x=\"236\" y=\"-1406.3\" font-family=\"Times,serif\" font-size=\"14.00\" fill=\"#000000\">F20</text>\n</g>\n<!-- F75&#45;&gt;F206 -->\n<g id=\"edge29\" class=\"edge\">\n<title>F75&#45;&gt;F206</title>\n<path fill=\"none\" stroke=\"#000000\" d=\"M277.1667,-1480.2255C269.806,-1467.669 259.6018,-1450.2619 251.1945,-1435.9201\"/>\n<polygon fill=\"#000000\" stroke=\"#000000\" points=\"254.0538,-1433.8768 245.9771,-1427.0198 248.0149,-1437.4169 254.0538,-1433.8768\"/>\n<text text-anchor=\"middle\" x=\"269\" y=\"-1449.8\" font-family=\"Times,serif\" font-size=\"14.00\" fill=\"#000000\">0</text>\n</g>\n<!-- class24 -->\n<g id=\"node48\" class=\"node\">\n<title>class24</title>\n<ellipse fill=\"none\" stroke=\"#000000\" cx=\"308\" cy=\"-1410\" rx=\"27\" ry=\"18\"/>\n<text text-anchor=\"middle\" x=\"308\" y=\"-1406.3\" font-family=\"Times,serif\" font-size=\"14.00\" fill=\"#000000\">1</text>\n</g>\n<!-- F75&#45;&gt;class24 -->\n<g id=\"edge47\" class=\"edge\">\n<title>F75&#45;&gt;class24</title>\n<path fill=\"none\" stroke=\"#000000\" d=\"M291.3512,-1478.9735C294.2232,-1467.0751 298.0429,-1451.2508 301.2992,-1437.7606\"/>\n<polygon fill=\"#000000\" stroke=\"#000000\" points=\"304.7102,-1438.5455 303.6544,-1428.0034 297.9056,-1436.9029 304.7102,-1438.5455\"/>\n<text text-anchor=\"middle\" x=\"303\" y=\"-1449.8\" font-family=\"Times,serif\" font-size=\"14.00\" fill=\"#000000\">1</text>\n</g>\n<!-- F217 -->\n<g id=\"node31\" class=\"node\">\n<title>F217</title>\n<ellipse fill=\"none\" stroke=\"#000000\" cx=\"207\" cy=\"-1323\" rx=\"27\" ry=\"18\"/>\n<text text-anchor=\"middle\" x=\"207\" y=\"-1319.3\" font-family=\"Times,serif\" font-size=\"14.00\" fill=\"#000000\">F21</text>\n</g>\n<!-- F206&#45;&gt;F217 -->\n<g id=\"edge30\" class=\"edge\">\n<title>F206&#45;&gt;F217</title>\n<path fill=\"none\" stroke=\"#000000\" d=\"M230.1314,-1392.3943C226.0827,-1380.2482 220.6225,-1363.8674 216.0237,-1350.0711\"/>\n<polygon fill=\"#000000\" stroke=\"#000000\" points=\"219.3426,-1348.9596 212.8599,-1340.5796 212.7018,-1351.1732 219.3426,-1348.9596\"/>\n<text text-anchor=\"middle\" x=\"228\" y=\"-1362.8\" font-family=\"Times,serif\" font-size=\"14.00\" fill=\"#000000\">0</text>\n</g>\n<!-- class23 -->\n<g id=\"node47\" class=\"node\">\n<title>class23</title>\n<ellipse fill=\"none\" stroke=\"#000000\" cx=\"279\" cy=\"-1323\" rx=\"27\" ry=\"18\"/>\n<text text-anchor=\"middle\" x=\"279\" y=\"-1319.3\" font-family=\"Times,serif\" font-size=\"14.00\" fill=\"#000000\">0</text>\n</g>\n<!-- F206&#45;&gt;class23 -->\n<g id=\"edge46\" class=\"edge\">\n<title>F206&#45;&gt;class23</title>\n<path fill=\"none\" stroke=\"#000000\" d=\"M244.4954,-1392.8116C250.6204,-1380.4191 259.001,-1363.4631 265.969,-1349.3651\"/>\n<polygon fill=\"#000000\" stroke=\"#000000\" points=\"269.229,-1350.6683 270.5222,-1340.1527 262.9536,-1347.5667 269.229,-1350.6683\"/>\n<text text-anchor=\"middle\" x=\"265\" y=\"-1362.8\" font-family=\"Times,serif\" font-size=\"14.00\" fill=\"#000000\">1</text>\n</g>\n<!-- F198 -->\n<g id=\"node32\" class=\"node\">\n<title>F198</title>\n<ellipse fill=\"none\" stroke=\"#000000\" cx=\"207\" cy=\"-1236\" rx=\"27\" ry=\"18\"/>\n<text text-anchor=\"middle\" x=\"207\" y=\"-1232.3\" font-family=\"Times,serif\" font-size=\"14.00\" fill=\"#000000\">F19</text>\n</g>\n<!-- F217&#45;&gt;F198 -->\n<g id=\"edge31\" class=\"edge\">\n<title>F217&#45;&gt;F198</title>\n<path fill=\"none\" stroke=\"#000000\" d=\"M207,-1304.9735C207,-1293.1918 207,-1277.5607 207,-1264.1581\"/>\n<polygon fill=\"#000000\" stroke=\"#000000\" points=\"210.5001,-1264.0033 207,-1254.0034 203.5001,-1264.0034 210.5001,-1264.0033\"/>\n<text text-anchor=\"middle\" x=\"211\" y=\"-1275.8\" font-family=\"Times,serif\" font-size=\"14.00\" fill=\"#000000\">0</text>\n</g>\n<!-- F189 -->\n<g id=\"node33\" class=\"node\">\n<title>F189</title>\n<ellipse fill=\"none\" stroke=\"#000000\" cx=\"207\" cy=\"-1149\" rx=\"27\" ry=\"18\"/>\n<text text-anchor=\"middle\" x=\"207\" y=\"-1145.3\" font-family=\"Times,serif\" font-size=\"14.00\" fill=\"#000000\">F18</text>\n</g>\n<!-- F198&#45;&gt;F189 -->\n<g id=\"edge32\" class=\"edge\">\n<title>F198&#45;&gt;F189</title>\n<path fill=\"none\" stroke=\"#000000\" d=\"M207,-1217.9735C207,-1206.1918 207,-1190.5607 207,-1177.1581\"/>\n<polygon fill=\"#000000\" stroke=\"#000000\" points=\"210.5001,-1177.0033 207,-1167.0034 203.5001,-1177.0034 210.5001,-1177.0033\"/>\n<text text-anchor=\"middle\" x=\"211\" y=\"-1188.8\" font-family=\"Times,serif\" font-size=\"14.00\" fill=\"#000000\">0</text>\n</g>\n<!-- F1710 -->\n<g id=\"node34\" class=\"node\">\n<title>F1710</title>\n<ellipse fill=\"none\" stroke=\"#000000\" cx=\"207\" cy=\"-1062\" rx=\"27\" ry=\"18\"/>\n<text text-anchor=\"middle\" x=\"207\" y=\"-1058.3\" font-family=\"Times,serif\" font-size=\"14.00\" fill=\"#000000\">F17</text>\n</g>\n<!-- F189&#45;&gt;F1710 -->\n<g id=\"edge33\" class=\"edge\">\n<title>F189&#45;&gt;F1710</title>\n<path fill=\"none\" stroke=\"#000000\" d=\"M207,-1130.9735C207,-1119.1918 207,-1103.5607 207,-1090.1581\"/>\n<polygon fill=\"#000000\" stroke=\"#000000\" points=\"210.5001,-1090.0033 207,-1080.0034 203.5001,-1090.0034 210.5001,-1090.0033\"/>\n<text text-anchor=\"middle\" x=\"211\" y=\"-1101.8\" font-family=\"Times,serif\" font-size=\"14.00\" fill=\"#000000\">0</text>\n</g>\n<!-- F1511 -->\n<g id=\"node35\" class=\"node\">\n<title>F1511</title>\n<ellipse fill=\"none\" stroke=\"#000000\" cx=\"207\" cy=\"-975\" rx=\"27\" ry=\"18\"/>\n<text text-anchor=\"middle\" x=\"207\" y=\"-971.3\" font-family=\"Times,serif\" font-size=\"14.00\" fill=\"#000000\">F15</text>\n</g>\n<!-- F1710&#45;&gt;F1511 -->\n<g id=\"edge34\" class=\"edge\">\n<title>F1710&#45;&gt;F1511</title>\n<path fill=\"none\" stroke=\"#000000\" d=\"M207,-1043.9735C207,-1032.1918 207,-1016.5607 207,-1003.1581\"/>\n<polygon fill=\"#000000\" stroke=\"#000000\" points=\"210.5001,-1003.0033 207,-993.0034 203.5001,-1003.0034 210.5001,-1003.0033\"/>\n<text text-anchor=\"middle\" x=\"211\" y=\"-1014.8\" font-family=\"Times,serif\" font-size=\"14.00\" fill=\"#000000\">0</text>\n</g>\n<!-- F1412 -->\n<g id=\"node36\" class=\"node\">\n<title>F1412</title>\n<ellipse fill=\"none\" stroke=\"#000000\" cx=\"207\" cy=\"-888\" rx=\"27\" ry=\"18\"/>\n<text text-anchor=\"middle\" x=\"207\" y=\"-884.3\" font-family=\"Times,serif\" font-size=\"14.00\" fill=\"#000000\">F14</text>\n</g>\n<!-- F1511&#45;&gt;F1412 -->\n<g id=\"edge35\" class=\"edge\">\n<title>F1511&#45;&gt;F1412</title>\n<path fill=\"none\" stroke=\"#000000\" d=\"M207,-956.9735C207,-945.1918 207,-929.5607 207,-916.1581\"/>\n<polygon fill=\"#000000\" stroke=\"#000000\" points=\"210.5001,-916.0033 207,-906.0034 203.5001,-916.0034 210.5001,-916.0033\"/>\n<text text-anchor=\"middle\" x=\"211\" y=\"-927.8\" font-family=\"Times,serif\" font-size=\"14.00\" fill=\"#000000\">0</text>\n</g>\n<!-- F1213 -->\n<g id=\"node37\" class=\"node\">\n<title>F1213</title>\n<ellipse fill=\"none\" stroke=\"#000000\" cx=\"207\" cy=\"-801\" rx=\"27\" ry=\"18\"/>\n<text text-anchor=\"middle\" x=\"207\" y=\"-797.3\" font-family=\"Times,serif\" font-size=\"14.00\" fill=\"#000000\">F12</text>\n</g>\n<!-- F1412&#45;&gt;F1213 -->\n<g id=\"edge36\" class=\"edge\">\n<title>F1412&#45;&gt;F1213</title>\n<path fill=\"none\" stroke=\"#000000\" d=\"M207,-869.9735C207,-858.1918 207,-842.5607 207,-829.1581\"/>\n<polygon fill=\"#000000\" stroke=\"#000000\" points=\"210.5001,-829.0033 207,-819.0034 203.5001,-829.0034 210.5001,-829.0033\"/>\n<text text-anchor=\"middle\" x=\"211\" y=\"-840.8\" font-family=\"Times,serif\" font-size=\"14.00\" fill=\"#000000\">0</text>\n</g>\n<!-- F914 -->\n<g id=\"node38\" class=\"node\">\n<title>F914</title>\n<ellipse fill=\"none\" stroke=\"#000000\" cx=\"207\" cy=\"-714\" rx=\"27\" ry=\"18\"/>\n<text text-anchor=\"middle\" x=\"207\" y=\"-710.3\" font-family=\"Times,serif\" font-size=\"14.00\" fill=\"#000000\">F9</text>\n</g>\n<!-- F1213&#45;&gt;F914 -->\n<g id=\"edge37\" class=\"edge\">\n<title>F1213&#45;&gt;F914</title>\n<path fill=\"none\" stroke=\"#000000\" d=\"M207,-782.9735C207,-771.1918 207,-755.5607 207,-742.1581\"/>\n<polygon fill=\"#000000\" stroke=\"#000000\" points=\"210.5001,-742.0033 207,-732.0034 203.5001,-742.0034 210.5001,-742.0033\"/>\n<text text-anchor=\"middle\" x=\"211\" y=\"-753.8\" font-family=\"Times,serif\" font-size=\"14.00\" fill=\"#000000\">0</text>\n</g>\n<!-- F815 -->\n<g id=\"node39\" class=\"node\">\n<title>F815</title>\n<ellipse fill=\"none\" stroke=\"#000000\" cx=\"207\" cy=\"-627\" rx=\"27\" ry=\"18\"/>\n<text text-anchor=\"middle\" x=\"207\" y=\"-623.3\" font-family=\"Times,serif\" font-size=\"14.00\" fill=\"#000000\">F8</text>\n</g>\n<!-- F914&#45;&gt;F815 -->\n<g id=\"edge38\" class=\"edge\">\n<title>F914&#45;&gt;F815</title>\n<path fill=\"none\" stroke=\"#000000\" d=\"M207,-695.9735C207,-684.1918 207,-668.5607 207,-655.1581\"/>\n<polygon fill=\"#000000\" stroke=\"#000000\" points=\"210.5001,-655.0033 207,-645.0034 203.5001,-655.0034 210.5001,-655.0033\"/>\n<text text-anchor=\"middle\" x=\"211\" y=\"-666.8\" font-family=\"Times,serif\" font-size=\"14.00\" fill=\"#000000\">0</text>\n</g>\n<!-- F616 -->\n<g id=\"node40\" class=\"node\">\n<title>F616</title>\n<ellipse fill=\"none\" stroke=\"#000000\" cx=\"207\" cy=\"-540\" rx=\"27\" ry=\"18\"/>\n<text text-anchor=\"middle\" x=\"207\" y=\"-536.3\" font-family=\"Times,serif\" font-size=\"14.00\" fill=\"#000000\">F6</text>\n</g>\n<!-- F815&#45;&gt;F616 -->\n<g id=\"edge39\" class=\"edge\">\n<title>F815&#45;&gt;F616</title>\n<path fill=\"none\" stroke=\"#000000\" d=\"M207,-608.9735C207,-597.1918 207,-581.5607 207,-568.1581\"/>\n<polygon fill=\"#000000\" stroke=\"#000000\" points=\"210.5001,-568.0033 207,-558.0034 203.5001,-568.0034 210.5001,-568.0033\"/>\n<text text-anchor=\"middle\" x=\"211\" y=\"-579.8\" font-family=\"Times,serif\" font-size=\"14.00\" fill=\"#000000\">0</text>\n</g>\n<!-- F517 -->\n<g id=\"node41\" class=\"node\">\n<title>F517</title>\n<ellipse fill=\"none\" stroke=\"#000000\" cx=\"207\" cy=\"-453\" rx=\"27\" ry=\"18\"/>\n<text text-anchor=\"middle\" x=\"207\" y=\"-449.3\" font-family=\"Times,serif\" font-size=\"14.00\" fill=\"#000000\">F5</text>\n</g>\n<!-- F616&#45;&gt;F517 -->\n<g id=\"edge40\" class=\"edge\">\n<title>F616&#45;&gt;F517</title>\n<path fill=\"none\" stroke=\"#000000\" d=\"M207,-521.9735C207,-510.1918 207,-494.5607 207,-481.1581\"/>\n<polygon fill=\"#000000\" stroke=\"#000000\" points=\"210.5001,-481.0033 207,-471.0034 203.5001,-481.0034 210.5001,-481.0033\"/>\n<text text-anchor=\"middle\" x=\"211\" y=\"-492.8\" font-family=\"Times,serif\" font-size=\"14.00\" fill=\"#000000\">0</text>\n</g>\n<!-- F418 -->\n<g id=\"node42\" class=\"node\">\n<title>F418</title>\n<ellipse fill=\"none\" stroke=\"#000000\" cx=\"207\" cy=\"-366\" rx=\"27\" ry=\"18\"/>\n<text text-anchor=\"middle\" x=\"207\" y=\"-362.3\" font-family=\"Times,serif\" font-size=\"14.00\" fill=\"#000000\">F4</text>\n</g>\n<!-- F517&#45;&gt;F418 -->\n<g id=\"edge41\" class=\"edge\">\n<title>F517&#45;&gt;F418</title>\n<path fill=\"none\" stroke=\"#000000\" d=\"M207,-434.9735C207,-423.1918 207,-407.5607 207,-394.1581\"/>\n<polygon fill=\"#000000\" stroke=\"#000000\" points=\"210.5001,-394.0033 207,-384.0034 203.5001,-394.0034 210.5001,-394.0033\"/>\n<text text-anchor=\"middle\" x=\"211\" y=\"-405.8\" font-family=\"Times,serif\" font-size=\"14.00\" fill=\"#000000\">0</text>\n</g>\n<!-- F319 -->\n<g id=\"node43\" class=\"node\">\n<title>F319</title>\n<ellipse fill=\"none\" stroke=\"#000000\" cx=\"207\" cy=\"-279\" rx=\"27\" ry=\"18\"/>\n<text text-anchor=\"middle\" x=\"207\" y=\"-275.3\" font-family=\"Times,serif\" font-size=\"14.00\" fill=\"#000000\">F3</text>\n</g>\n<!-- F418&#45;&gt;F319 -->\n<g id=\"edge42\" class=\"edge\">\n<title>F418&#45;&gt;F319</title>\n<path fill=\"none\" stroke=\"#000000\" d=\"M207,-347.9735C207,-336.1918 207,-320.5607 207,-307.1581\"/>\n<polygon fill=\"#000000\" stroke=\"#000000\" points=\"210.5001,-307.0033 207,-297.0034 203.5001,-307.0034 210.5001,-307.0033\"/>\n<text text-anchor=\"middle\" x=\"211\" y=\"-318.8\" font-family=\"Times,serif\" font-size=\"14.00\" fill=\"#000000\">0</text>\n</g>\n<!-- F220 -->\n<g id=\"node44\" class=\"node\">\n<title>F220</title>\n<ellipse fill=\"none\" stroke=\"#000000\" cx=\"207\" cy=\"-192\" rx=\"27\" ry=\"18\"/>\n<text text-anchor=\"middle\" x=\"207\" y=\"-188.3\" font-family=\"Times,serif\" font-size=\"14.00\" fill=\"#000000\">F2</text>\n</g>\n<!-- F319&#45;&gt;F220 -->\n<g id=\"edge43\" class=\"edge\">\n<title>F319&#45;&gt;F220</title>\n<path fill=\"none\" stroke=\"#000000\" d=\"M207,-260.9735C207,-249.1918 207,-233.5607 207,-220.1581\"/>\n<polygon fill=\"#000000\" stroke=\"#000000\" points=\"210.5001,-220.0033 207,-210.0034 203.5001,-220.0034 210.5001,-220.0033\"/>\n<text text-anchor=\"middle\" x=\"211\" y=\"-231.8\" font-family=\"Times,serif\" font-size=\"14.00\" fill=\"#000000\">0</text>\n</g>\n<!-- F121 -->\n<g id=\"node45\" class=\"node\">\n<title>F121</title>\n<ellipse fill=\"none\" stroke=\"#000000\" cx=\"207\" cy=\"-105\" rx=\"27\" ry=\"18\"/>\n<text text-anchor=\"middle\" x=\"207\" y=\"-101.3\" font-family=\"Times,serif\" font-size=\"14.00\" fill=\"#000000\">F1</text>\n</g>\n<!-- F220&#45;&gt;F121 -->\n<g id=\"edge44\" class=\"edge\">\n<title>F220&#45;&gt;F121</title>\n<path fill=\"none\" stroke=\"#000000\" d=\"M207,-173.9735C207,-162.1918 207,-146.5607 207,-133.1581\"/>\n<polygon fill=\"#000000\" stroke=\"#000000\" points=\"210.5001,-133.0033 207,-123.0034 203.5001,-133.0034 210.5001,-133.0033\"/>\n<text text-anchor=\"middle\" x=\"211\" y=\"-144.8\" font-family=\"Times,serif\" font-size=\"14.00\" fill=\"#000000\">0</text>\n</g>\n<!-- 22 -->\n<g id=\"node46\" class=\"node\">\n<title>22</title>\n<ellipse fill=\"none\" stroke=\"#000000\" cx=\"207\" cy=\"-18\" rx=\"27\" ry=\"18\"/>\n</g>\n<!-- F121&#45;&gt;22 -->\n<g id=\"edge45\" class=\"edge\">\n<title>F121&#45;&gt;22</title>\n<path fill=\"none\" stroke=\"#000000\" d=\"M207,-86.9735C207,-75.1918 207,-59.5607 207,-46.1581\"/>\n<polygon fill=\"#000000\" stroke=\"#000000\" points=\"210.5001,-46.0033 207,-36.0034 203.5001,-46.0034 210.5001,-46.0033\"/>\n<text text-anchor=\"middle\" x=\"211\" y=\"-57.8\" font-family=\"Times,serif\" font-size=\"14.00\" fill=\"#000000\">0</text>\n</g>\n<!-- F1928 -->\n<g id=\"node52\" class=\"node\">\n<title>F1928</title>\n<ellipse fill=\"none\" stroke=\"#000000\" cx=\"431\" cy=\"-1671\" rx=\"27\" ry=\"18\"/>\n<text text-anchor=\"middle\" x=\"431\" y=\"-1667.3\" font-family=\"Times,serif\" font-size=\"14.00\" fill=\"#000000\">F19</text>\n</g>\n<!-- F1627&#45;&gt;F1928 -->\n<g id=\"edge51\" class=\"edge\">\n<title>F1627&#45;&gt;F1928</title>\n<path fill=\"none\" stroke=\"#000000\" d=\"M431,-1739.9735C431,-1728.1918 431,-1712.5607 431,-1699.1581\"/>\n<polygon fill=\"#000000\" stroke=\"#000000\" points=\"434.5001,-1699.0033 431,-1689.0034 427.5001,-1699.0034 434.5001,-1699.0033\"/>\n<text text-anchor=\"middle\" x=\"435\" y=\"-1710.8\" font-family=\"Times,serif\" font-size=\"14.00\" fill=\"#000000\">0</text>\n</g>\n<!-- class33 -->\n<g id=\"node57\" class=\"node\">\n<title>class33</title>\n<ellipse fill=\"none\" stroke=\"#000000\" cx=\"503\" cy=\"-1671\" rx=\"27\" ry=\"18\"/>\n<text text-anchor=\"middle\" x=\"503\" y=\"-1667.3\" font-family=\"Times,serif\" font-size=\"14.00\" fill=\"#000000\">0</text>\n</g>\n<!-- F1627&#45;&gt;class33 -->\n<g id=\"edge56\" class=\"edge\">\n<title>F1627&#45;&gt;class33</title>\n<path fill=\"none\" stroke=\"#000000\" d=\"M444.2059,-1742.0429C455.1672,-1728.798 470.9179,-1709.7659 483.3584,-1694.7336\"/>\n<polygon fill=\"#000000\" stroke=\"#000000\" points=\"486.1985,-1696.7914 489.8778,-1686.856 480.8057,-1692.3284 486.1985,-1696.7914\"/>\n<text text-anchor=\"middle\" x=\"476\" y=\"-1710.8\" font-family=\"Times,serif\" font-size=\"14.00\" fill=\"#000000\">1</text>\n</g>\n<!-- F629 -->\n<g id=\"node53\" class=\"node\">\n<title>F629</title>\n<ellipse fill=\"none\" stroke=\"#000000\" cx=\"431\" cy=\"-1584\" rx=\"27\" ry=\"18\"/>\n<text text-anchor=\"middle\" x=\"431\" y=\"-1580.3\" font-family=\"Times,serif\" font-size=\"14.00\" fill=\"#000000\">F6</text>\n</g>\n<!-- F1928&#45;&gt;F629 -->\n<g id=\"edge52\" class=\"edge\">\n<title>F1928&#45;&gt;F629</title>\n<path fill=\"none\" stroke=\"#000000\" d=\"M431,-1652.9735C431,-1641.1918 431,-1625.5607 431,-1612.1581\"/>\n<polygon fill=\"#000000\" stroke=\"#000000\" points=\"434.5001,-1612.0033 431,-1602.0034 427.5001,-1612.0034 434.5001,-1612.0033\"/>\n<text text-anchor=\"middle\" x=\"435\" y=\"-1623.8\" font-family=\"Times,serif\" font-size=\"14.00\" fill=\"#000000\">0</text>\n</g>\n<!-- class32 -->\n<g id=\"node56\" class=\"node\">\n<title>class32</title>\n<ellipse fill=\"none\" stroke=\"#000000\" cx=\"503\" cy=\"-1584\" rx=\"27\" ry=\"18\"/>\n<text text-anchor=\"middle\" x=\"503\" y=\"-1580.3\" font-family=\"Times,serif\" font-size=\"14.00\" fill=\"#000000\">1</text>\n</g>\n<!-- F1928&#45;&gt;class32 -->\n<g id=\"edge55\" class=\"edge\">\n<title>F1928&#45;&gt;class32</title>\n<path fill=\"none\" stroke=\"#000000\" d=\"M444.2059,-1655.0429C455.1672,-1641.798 470.9179,-1622.7659 483.3584,-1607.7336\"/>\n<polygon fill=\"#000000\" stroke=\"#000000\" points=\"486.1985,-1609.7914 489.8778,-1599.856 480.8057,-1605.3284 486.1985,-1609.7914\"/>\n<text text-anchor=\"middle\" x=\"476\" y=\"-1623.8\" font-family=\"Times,serif\" font-size=\"14.00\" fill=\"#000000\">1</text>\n</g>\n<!-- class30 -->\n<g id=\"node54\" class=\"node\">\n<title>class30</title>\n<ellipse fill=\"none\" stroke=\"#000000\" cx=\"431\" cy=\"-1497\" rx=\"27\" ry=\"18\"/>\n<text text-anchor=\"middle\" x=\"431\" y=\"-1493.3\" font-family=\"Times,serif\" font-size=\"14.00\" fill=\"#000000\">0</text>\n</g>\n<!-- F629&#45;&gt;class30 -->\n<g id=\"edge53\" class=\"edge\">\n<title>F629&#45;&gt;class30</title>\n<path fill=\"none\" stroke=\"#000000\" d=\"M431,-1565.9735C431,-1554.1918 431,-1538.5607 431,-1525.1581\"/>\n<polygon fill=\"#000000\" stroke=\"#000000\" points=\"434.5001,-1525.0033 431,-1515.0034 427.5001,-1525.0034 434.5001,-1525.0033\"/>\n<text text-anchor=\"middle\" x=\"435\" y=\"-1536.8\" font-family=\"Times,serif\" font-size=\"14.00\" fill=\"#000000\">1</text>\n</g>\n<!-- class31 -->\n<g id=\"node55\" class=\"node\">\n<title>class31</title>\n<ellipse fill=\"none\" stroke=\"#000000\" cx=\"503\" cy=\"-1497\" rx=\"27\" ry=\"18\"/>\n<text text-anchor=\"middle\" x=\"503\" y=\"-1493.3\" font-family=\"Times,serif\" font-size=\"14.00\" fill=\"#000000\">1</text>\n</g>\n<!-- F629&#45;&gt;class31 -->\n<g id=\"edge54\" class=\"edge\">\n<title>F629&#45;&gt;class31</title>\n<path fill=\"none\" stroke=\"#000000\" d=\"M444.2059,-1568.0429C455.1672,-1554.798 470.9179,-1535.7659 483.3584,-1520.7336\"/>\n<polygon fill=\"#000000\" stroke=\"#000000\" points=\"486.1985,-1522.7914 489.8778,-1512.856 480.8057,-1518.3284 486.1985,-1522.7914\"/>\n<text text-anchor=\"middle\" x=\"476\" y=\"-1536.8\" font-family=\"Times,serif\" font-size=\"14.00\" fill=\"#000000\">0</text>\n</g>\n<!-- class35 -->\n<g id=\"node59\" class=\"node\">\n<title>class35</title>\n<ellipse fill=\"none\" stroke=\"#000000\" cx=\"503\" cy=\"-1758\" rx=\"27\" ry=\"18\"/>\n<text text-anchor=\"middle\" x=\"503\" y=\"-1754.3\" font-family=\"Times,serif\" font-size=\"14.00\" fill=\"#000000\">1</text>\n</g>\n<!-- F2234&#45;&gt;class35 -->\n<g id=\"edge58\" class=\"edge\">\n<title>F2234&#45;&gt;class35</title>\n<path fill=\"none\" stroke=\"#000000\" d=\"M503,-1826.9735C503,-1815.1918 503,-1799.5607 503,-1786.1581\"/>\n<polygon fill=\"#000000\" stroke=\"#000000\" points=\"506.5001,-1786.0033 503,-1776.0034 499.5001,-1786.0034 506.5001,-1786.0033\"/>\n<text text-anchor=\"middle\" x=\"507\" y=\"-1797.8\" font-family=\"Times,serif\" font-size=\"14.00\" fill=\"#000000\">1</text>\n</g>\n<!-- F1436 -->\n<g id=\"node60\" class=\"node\">\n<title>F1436</title>\n<ellipse fill=\"none\" stroke=\"#000000\" cx=\"575\" cy=\"-1758\" rx=\"27\" ry=\"18\"/>\n<text text-anchor=\"middle\" x=\"575\" y=\"-1754.3\" font-family=\"Times,serif\" font-size=\"14.00\" fill=\"#000000\">F14</text>\n</g>\n<!-- F2234&#45;&gt;F1436 -->\n<g id=\"edge59\" class=\"edge\">\n<title>F2234&#45;&gt;F1436</title>\n<path fill=\"none\" stroke=\"#000000\" d=\"M516.2059,-1829.0429C527.1672,-1815.798 542.9179,-1796.7659 555.3584,-1781.7336\"/>\n<polygon fill=\"#000000\" stroke=\"#000000\" points=\"558.1985,-1783.7914 561.8778,-1773.856 552.8057,-1779.3284 558.1985,-1783.7914\"/>\n<text text-anchor=\"middle\" x=\"547\" y=\"-1797.8\" font-family=\"Times,serif\" font-size=\"14.00\" fill=\"#000000\">0</text>\n</g>\n<!-- F537 -->\n<g id=\"node61\" class=\"node\">\n<title>F537</title>\n<ellipse fill=\"none\" stroke=\"#000000\" cx=\"575\" cy=\"-1671\" rx=\"27\" ry=\"18\"/>\n<text text-anchor=\"middle\" x=\"575\" y=\"-1667.3\" font-family=\"Times,serif\" font-size=\"14.00\" fill=\"#000000\">F5</text>\n</g>\n<!-- F1436&#45;&gt;F537 -->\n<g id=\"edge60\" class=\"edge\">\n<title>F1436&#45;&gt;F537</title>\n<path fill=\"none\" stroke=\"#000000\" d=\"M575,-1739.9735C575,-1728.1918 575,-1712.5607 575,-1699.1581\"/>\n<polygon fill=\"#000000\" stroke=\"#000000\" points=\"578.5001,-1699.0033 575,-1689.0034 571.5001,-1699.0034 578.5001,-1699.0033\"/>\n<text text-anchor=\"middle\" x=\"579\" y=\"-1710.8\" font-family=\"Times,serif\" font-size=\"14.00\" fill=\"#000000\">0</text>\n</g>\n<!-- class42 -->\n<g id=\"node66\" class=\"node\">\n<title>class42</title>\n<ellipse fill=\"none\" stroke=\"#000000\" cx=\"647\" cy=\"-1671\" rx=\"27\" ry=\"18\"/>\n<text text-anchor=\"middle\" x=\"647\" y=\"-1667.3\" font-family=\"Times,serif\" font-size=\"14.00\" fill=\"#000000\">1</text>\n</g>\n<!-- F1436&#45;&gt;class42 -->\n<g id=\"edge65\" class=\"edge\">\n<title>F1436&#45;&gt;class42</title>\n<path fill=\"none\" stroke=\"#000000\" d=\"M588.2059,-1742.0429C599.1672,-1728.798 614.9179,-1709.7659 627.3584,-1694.7336\"/>\n<polygon fill=\"#000000\" stroke=\"#000000\" points=\"630.1985,-1696.7914 633.8778,-1686.856 624.8057,-1692.3284 630.1985,-1696.7914\"/>\n<text text-anchor=\"middle\" x=\"619\" y=\"-1710.8\" font-family=\"Times,serif\" font-size=\"14.00\" fill=\"#000000\">1</text>\n</g>\n<!-- F1638 -->\n<g id=\"node62\" class=\"node\">\n<title>F1638</title>\n<ellipse fill=\"none\" stroke=\"#000000\" cx=\"575\" cy=\"-1584\" rx=\"27\" ry=\"18\"/>\n<text text-anchor=\"middle\" x=\"575\" y=\"-1580.3\" font-family=\"Times,serif\" font-size=\"14.00\" fill=\"#000000\">F16</text>\n</g>\n<!-- F537&#45;&gt;F1638 -->\n<g id=\"edge61\" class=\"edge\">\n<title>F537&#45;&gt;F1638</title>\n<path fill=\"none\" stroke=\"#000000\" d=\"M575,-1652.9735C575,-1641.1918 575,-1625.5607 575,-1612.1581\"/>\n<polygon fill=\"#000000\" stroke=\"#000000\" points=\"578.5001,-1612.0033 575,-1602.0034 571.5001,-1612.0034 578.5001,-1612.0033\"/>\n<text text-anchor=\"middle\" x=\"579\" y=\"-1623.8\" font-family=\"Times,serif\" font-size=\"14.00\" fill=\"#000000\">0</text>\n</g>\n<!-- class41 -->\n<g id=\"node65\" class=\"node\">\n<title>class41</title>\n<ellipse fill=\"none\" stroke=\"#000000\" cx=\"647\" cy=\"-1584\" rx=\"27\" ry=\"18\"/>\n<text text-anchor=\"middle\" x=\"647\" y=\"-1580.3\" font-family=\"Times,serif\" font-size=\"14.00\" fill=\"#000000\">1</text>\n</g>\n<!-- F537&#45;&gt;class41 -->\n<g id=\"edge64\" class=\"edge\">\n<title>F537&#45;&gt;class41</title>\n<path fill=\"none\" stroke=\"#000000\" d=\"M588.2059,-1655.0429C599.1672,-1641.798 614.9179,-1622.7659 627.3584,-1607.7336\"/>\n<polygon fill=\"#000000\" stroke=\"#000000\" points=\"630.1985,-1609.7914 633.8778,-1599.856 624.8057,-1605.3284 630.1985,-1609.7914\"/>\n<text text-anchor=\"middle\" x=\"619\" y=\"-1623.8\" font-family=\"Times,serif\" font-size=\"14.00\" fill=\"#000000\">1</text>\n</g>\n<!-- class39 -->\n<g id=\"node63\" class=\"node\">\n<title>class39</title>\n<ellipse fill=\"none\" stroke=\"#000000\" cx=\"575\" cy=\"-1497\" rx=\"27\" ry=\"18\"/>\n<text text-anchor=\"middle\" x=\"575\" y=\"-1493.3\" font-family=\"Times,serif\" font-size=\"14.00\" fill=\"#000000\">0</text>\n</g>\n<!-- F1638&#45;&gt;class39 -->\n<g id=\"edge62\" class=\"edge\">\n<title>F1638&#45;&gt;class39</title>\n<path fill=\"none\" stroke=\"#000000\" d=\"M575,-1565.9735C575,-1554.1918 575,-1538.5607 575,-1525.1581\"/>\n<polygon fill=\"#000000\" stroke=\"#000000\" points=\"578.5001,-1525.0033 575,-1515.0034 571.5001,-1525.0034 578.5001,-1525.0033\"/>\n<text text-anchor=\"middle\" x=\"579\" y=\"-1536.8\" font-family=\"Times,serif\" font-size=\"14.00\" fill=\"#000000\">0</text>\n</g>\n<!-- class40 -->\n<g id=\"node64\" class=\"node\">\n<title>class40</title>\n<ellipse fill=\"none\" stroke=\"#000000\" cx=\"647\" cy=\"-1497\" rx=\"27\" ry=\"18\"/>\n<text text-anchor=\"middle\" x=\"647\" y=\"-1493.3\" font-family=\"Times,serif\" font-size=\"14.00\" fill=\"#000000\">1</text>\n</g>\n<!-- F1638&#45;&gt;class40 -->\n<g id=\"edge63\" class=\"edge\">\n<title>F1638&#45;&gt;class40</title>\n<path fill=\"none\" stroke=\"#000000\" d=\"M588.2059,-1568.0429C599.1672,-1554.798 614.9179,-1535.7659 627.3584,-1520.7336\"/>\n<polygon fill=\"#000000\" stroke=\"#000000\" points=\"630.1985,-1522.7914 633.8778,-1512.856 624.8057,-1518.3284 630.1985,-1522.7914\"/>\n<text text-anchor=\"middle\" x=\"619\" y=\"-1536.8\" font-family=\"Times,serif\" font-size=\"14.00\" fill=\"#000000\">1</text>\n</g>\n</g>\n</svg>\n"
          },
          "metadata": {},
          "execution_count": 176
        }
      ]
    },
    {
      "cell_type": "code",
      "source": [
        "print(d.tree.no_leafs)"
      ],
      "metadata": {
        "colab": {
          "base_uri": "https://localhost:8080/"
        },
        "id": "rMXXe-Ny_HQk",
        "outputId": "fa6365ef-c237-410a-ee95-62ccada0fb1c"
      },
      "execution_count": 177,
      "outputs": [
        {
          "output_type": "stream",
          "name": "stdout",
          "text": [
            "17\n"
          ]
        }
      ]
    },
    {
      "cell_type": "code",
      "source": [
        "d.get_rules()"
      ],
      "metadata": {
        "colab": {
          "base_uri": "https://localhost:8080/"
        },
        "id": "kY-CQ-Qb2Dp2",
        "outputId": "3f77038c-f144-4539-9899-28b28513a5be"
      },
      "execution_count": 178,
      "outputs": [
        {
          "output_type": "stream",
          "name": "stderr",
          "text": [
            "/usr/local/lib/python3.7/dist-packages/ipykernel_launcher.py:175: FutureWarning: elementwise comparison failed; returning scalar instead, but in the future will perform elementwise comparison\n"
          ]
        },
        {
          "output_type": "execute_result",
          "data": {
            "text/plain": [
              "['F13 ->  ( 0 ) F11 ->  ( 0 ) F16 ->  ( 0 ) F22 ->  ( 0 ) F5 ->  ( 0 ) F4 ->  ( 0 ) F21 ->  ( 0 ) F14 ->  ( 1 ) 0',\n",
              " 'F13 ->  ( 0 ) F11 ->  ( 0 ) F16 ->  ( 0 ) F22 ->  ( 0 ) F5 ->  ( 0 ) F4 ->  ( 0 ) F21 ->  ( 1 ) 0',\n",
              " 'F13 ->  ( 0 ) F11 ->  ( 0 ) F16 ->  ( 0 ) F22 ->  ( 0 ) F5 ->  ( 0 ) F4 ->  ( 1 ) 0',\n",
              " 'F13 ->  ( 0 ) F11 ->  ( 0 ) F16 ->  ( 0 ) F22 ->  ( 0 ) F5 ->  ( 1 ) 0',\n",
              " 'F13 ->  ( 0 ) F11 ->  ( 0 ) F16 ->  ( 0 ) F22 ->  ( 1 ) F10 ->  ( 0 ) F7 ->  ( 0 ) F20 ->  ( 1 ) 0',\n",
              " 'F13 ->  ( 0 ) F11 ->  ( 0 ) F16 ->  ( 0 ) F22 ->  ( 1 ) F10 ->  ( 0 ) F7 ->  ( 1 ) 1',\n",
              " 'F13 ->  ( 0 ) F11 ->  ( 0 ) F16 ->  ( 0 ) F22 ->  ( 1 ) F10 ->  ( 1 ) 0',\n",
              " 'F13 ->  ( 0 ) F11 ->  ( 0 ) F16 ->  ( 1 ) 1',\n",
              " 'F13 ->  ( 0 ) F11 ->  ( 1 ) F16 ->  ( 0 ) F19 ->  ( 0 ) F6 ->  ( 1 ) 0',\n",
              " 'F13 ->  ( 0 ) F11 ->  ( 1 ) F16 ->  ( 0 ) F19 ->  ( 0 ) F6 ->  ( 0 ) 1',\n",
              " 'F13 ->  ( 0 ) F11 ->  ( 1 ) F16 ->  ( 0 ) F19 ->  ( 1 ) 1',\n",
              " 'F13 ->  ( 0 ) F11 ->  ( 1 ) F16 ->  ( 1 ) 0',\n",
              " 'F13 ->  ( 1 ) F22 ->  ( 1 ) 1',\n",
              " 'F13 ->  ( 1 ) F22 ->  ( 0 ) F14 ->  ( 0 ) F5 ->  ( 0 ) F16 ->  ( 0 ) 0',\n",
              " 'F13 ->  ( 1 ) F22 ->  ( 0 ) F14 ->  ( 0 ) F5 ->  ( 0 ) F16 ->  ( 1 ) 1',\n",
              " 'F13 ->  ( 1 ) F22 ->  ( 0 ) F14 ->  ( 0 ) F5 ->  ( 1 ) 1',\n",
              " 'F13 ->  ( 1 ) F22 ->  ( 0 ) F14 ->  ( 1 ) 1']"
            ]
          },
          "metadata": {},
          "execution_count": 178
        }
      ]
    },
    {
      "cell_type": "code",
      "source": [
        "inp=[]\n",
        "n=1000\n",
        "n=n if n < len(test_df) else len(test_df)\n",
        "for i in range(n):\n",
        "  inp.append(test_df.iloc[i].to_dict())\n",
        "print(d.predict(inp))"
      ],
      "metadata": {
        "id": "rc2RvfZ1E_I5",
        "colab": {
          "base_uri": "https://localhost:8080/"
        },
        "outputId": "f92dc981-7693-43d6-a484-1c15f831798b"
      },
      "execution_count": 179,
      "outputs": [
        {
          "output_type": "stream",
          "name": "stdout",
          "text": [
            "[1, 'Not valid instance, path: F13 ( 0 ) -> F11 ( 0 ) -> F16 ( 0 ) -> F22 ( 0 ) -> F5 ( 0 ) -> F4 ( 0 ) -> F21 ( 0 ) -> F14 ( 0 ) -> F20 ( 0 ) -> F19 ( 0 ) -> F18 ( 0 ) -> F17 ( 0 ) -> F15 ( 0 ) -> F12 ( 0 ) -> F10 ( 0 ) -> F9 ( 0 ) -> F8 ( 0 ) -> F7 ( 0 ) -> F6 ( 0 ) -> F3 ( 0 ) -> F2 ( 0 ) -> F1 ( 0 ) -> ', 1, 1, 'Not valid instance, path: F13 ( 0 ) -> F11 ( 0 ) -> F16 ( 0 ) -> F22 ( 0 ) -> F5 ( 0 ) -> F4 ( 0 ) -> F21 ( 0 ) -> F14 ( 0 ) -> F20 ( 0 ) -> F19 ( 0 ) -> F18 ( 0 ) -> F17 ( 0 ) -> F15 ( 0 ) -> F12 ( 0 ) -> F10 ( 0 ) -> F9 ( 0 ) -> F8 ( 0 ) -> F7 ( 0 ) -> F6 ( 0 ) -> F3 ( 0 ) -> F2 ( 0 ) -> F1 ( 0 ) -> ', 0, 'Not valid instance, path: F13 ( 0 ) -> F11 ( 0 ) -> F16 ( 0 ) -> F22 ( 0 ) -> F5 ( 0 ) -> F4 ( 0 ) -> F21 ( 0 ) -> F14 ( 0 ) -> F20 ( 0 ) -> F19 ( 0 ) -> F18 ( 0 ) -> F17 ( 0 ) -> F15 ( 0 ) -> F12 ( 0 ) -> F10 ( 0 ) -> F9 ( 0 ) -> F8 ( 0 ) -> F7 ( 0 ) -> F6 ( 0 ) -> F3 ( 0 ) -> F2 ( 0 ) -> F1 ( 0 ) -> ', 'Not valid instance, path: F13 ( 0 ) -> F11 ( 0 ) -> F16 ( 0 ) -> F22 ( 0 ) -> F5 ( 0 ) -> F4 ( 0 ) -> F21 ( 0 ) -> F14 ( 0 ) -> F20 ( 0 ) -> F19 ( 0 ) -> F18 ( 0 ) -> F17 ( 0 ) -> F15 ( 0 ) -> F12 ( 0 ) -> F10 ( 0 ) -> F9 ( 0 ) -> F8 ( 1 ) -> ', 1, 'Not valid instance, path: F13 ( 0 ) -> F11 ( 0 ) -> F16 ( 0 ) -> F22 ( 0 ) -> F5 ( 0 ) -> F4 ( 0 ) -> F21 ( 0 ) -> F14 ( 0 ) -> F20 ( 0 ) -> F19 ( 0 ) -> F18 ( 0 ) -> F17 ( 0 ) -> F15 ( 0 ) -> F12 ( 0 ) -> F10 ( 0 ) -> F9 ( 0 ) -> F8 ( 0 ) -> F7 ( 0 ) -> F6 ( 0 ) -> F3 ( 0 ) -> F2 ( 0 ) -> F1 ( 0 ) -> ', 1, 0, 0, 'Not valid instance, path: F13 ( 0 ) -> F11 ( 0 ) -> F16 ( 0 ) -> F22 ( 0 ) -> F5 ( 0 ) -> F4 ( 0 ) -> F21 ( 0 ) -> F14 ( 0 ) -> F20 ( 1 ) -> ', 0, 0, 1, 0, 1, 'Not valid instance, path: F13 ( 0 ) -> F11 ( 0 ) -> F16 ( 0 ) -> F22 ( 0 ) -> F5 ( 0 ) -> F4 ( 0 ) -> F21 ( 0 ) -> F14 ( 0 ) -> F20 ( 0 ) -> F19 ( 0 ) -> F18 ( 0 ) -> F17 ( 0 ) -> F15 ( 0 ) -> F12 ( 0 ) -> F10 ( 0 ) -> F9 ( 0 ) -> F8 ( 0 ) -> F7 ( 0 ) -> F6 ( 0 ) -> F3 ( 0 ) -> F2 ( 0 ) -> F1 ( 0 ) -> ', 1, 1, 1, 0]\n"
          ]
        },
        {
          "output_type": "stream",
          "name": "stderr",
          "text": [
            "/usr/local/lib/python3.7/dist-packages/ipykernel_launcher.py:157: FutureWarning: elementwise comparison failed; returning scalar instead, but in the future will perform elementwise comparison\n"
          ]
        }
      ]
    },
    {
      "cell_type": "code",
      "source": [
        "d.tree.printt()"
      ],
      "metadata": {
        "id": "YDlC1Uz83Fo3",
        "colab": {
          "base_uri": "https://localhost:8080/"
        },
        "outputId": "3d12fb78-4605-4aff-8fef-12f88998cdb8"
      },
      "execution_count": 180,
      "outputs": [
        {
          "output_type": "stream",
          "name": "stdout",
          "text": [
            "| F13\n",
            "|----- F11\n",
            "|---------- F16\n",
            "|--------------- F22\n",
            "|-------------------- F5\n",
            "|------------------------- F4\n",
            "|------------------------------ F21\n",
            "|----------------------------------- F14\n",
            "|---------------------------------------- F20\n",
            "|--------------------------------------------- F19\n",
            "|-------------------------------------------------- F18\n",
            "|------------------------------------------------------- F17\n",
            "|------------------------------------------------------------ F15\n",
            "|----------------------------------------------------------------- F12\n",
            "|---------------------------------------------------------------------- F10\n",
            "|--------------------------------------------------------------------------- F9\n",
            "|-------------------------------------------------------------------------------- F8\n",
            "|------------------------------------------------------------------------------------- F7\n",
            "|------------------------------------------------------------------------------------------ F6\n",
            "|----------------------------------------------------------------------------------------------- F3\n",
            "|---------------------------------------------------------------------------------------------------- F2\n",
            "|--------------------------------------------------------------------------------------------------------- F1\n",
            "|-------------------------------------------------------------------------------------------------------------- \n",
            "|---------------------------------------- ( 1) 0\n",
            "|----------------------------------- ( 1) 0\n",
            "|------------------------------ ( 1) 0\n",
            "|------------------------- ( 1) 0\n",
            "|-------------------- ( 1) F104\n",
            "|------------------------- F75\n",
            "|------------------------------ F206\n",
            "|----------------------------------- F217\n",
            "|---------------------------------------- F198\n",
            "|--------------------------------------------- F189\n",
            "|-------------------------------------------------- F1710\n",
            "|------------------------------------------------------- F1511\n",
            "|------------------------------------------------------------ F1412\n",
            "|----------------------------------------------------------------- F1213\n",
            "|---------------------------------------------------------------------- F914\n",
            "|--------------------------------------------------------------------------- F815\n",
            "|-------------------------------------------------------------------------------- F616\n",
            "|------------------------------------------------------------------------------------- F517\n",
            "|------------------------------------------------------------------------------------------ F418\n",
            "|----------------------------------------------------------------------------------------------- F319\n",
            "|---------------------------------------------------------------------------------------------------- F220\n",
            "|--------------------------------------------------------------------------------------------------------- F121\n",
            "|-------------------------------------------------------------------------------------------------------------- 22\n",
            "|----------------------------------- ( 1) 0\n",
            "|------------------------------ ( 1) 1\n",
            "|------------------------- ( 1) 0\n",
            "|--------------- ( 1) 1\n",
            "|---------- ( 1) F1627\n",
            "|--------------- F1928\n",
            "|-------------------- F629\n",
            "|------------------------- ( 1) 0\n",
            "|------------------------- 1\n",
            "|-------------------- ( 1) 1\n",
            "|--------------- ( 1) 0\n",
            "|----- ( 1) F2234\n",
            "|---------- ( 1) 1\n",
            "|---------- F1436\n",
            "|--------------- F537\n",
            "|-------------------- F1638\n",
            "|------------------------- 0\n",
            "|------------------------- ( 1) 1\n",
            "|-------------------- ( 1) 1\n",
            "|--------------- ( 1) 1\n"
          ]
        }
      ]
    },
    {
      "cell_type": "code",
      "source": [
        "o=list(enumerate(d.predict(data)))\n",
        "o"
      ],
      "metadata": {
        "colab": {
          "base_uri": "https://localhost:8080/"
        },
        "id": "s0NCJaBZ1pU_",
        "outputId": "ca9d6957-b1c6-495f-a43e-b5a529eea4d6"
      },
      "execution_count": 181,
      "outputs": [
        {
          "output_type": "stream",
          "name": "stderr",
          "text": [
            "/usr/local/lib/python3.7/dist-packages/ipykernel_launcher.py:157: FutureWarning: elementwise comparison failed; returning scalar instead, but in the future will perform elementwise comparison\n"
          ]
        },
        {
          "output_type": "execute_result",
          "data": {
            "text/plain": [
              "[(0, 1),\n",
              " (1, 1),\n",
              " (2, 1),\n",
              " (3, 1),\n",
              " (4, 1),\n",
              " (5, 1),\n",
              " (6, 1),\n",
              " (7, 1),\n",
              " (8, 1),\n",
              " (9, 1),\n",
              " (10, 1),\n",
              " (11, 1),\n",
              " (12, 1),\n",
              " (13, 1),\n",
              " (14, 1),\n",
              " (15, 1),\n",
              " (16, 1),\n",
              " (17, 1),\n",
              " (18, 1),\n",
              " (19, 1),\n",
              " (20, 1),\n",
              " (21, 1),\n",
              " (22, 1),\n",
              " (23, 0),\n",
              " (24, 1),\n",
              " (25, 1),\n",
              " (26, 0),\n",
              " (27,\n",
              "  'Not valid instance, path: F13 ( 0 ) -> F11 ( 0 ) -> F16 ( 0 ) -> F22 ( 0 ) -> F5 ( 0 ) -> F4 ( 0 ) -> F21 ( 0 ) -> F14 ( 0 ) -> F20 ( 1 ) -> '),\n",
              " (28,\n",
              "  'Not valid instance, path: F13 ( 0 ) -> F11 ( 0 ) -> F16 ( 0 ) -> F22 ( 1 ) -> F10 ( 0 ) -> F7 ( 0 ) -> F20 ( 0 ) -> F21 ( 0 ) -> F19 ( 0 ) -> F18 ( 0 ) -> F17 ( 0 ) -> F15 ( 0 ) -> F14 ( 0 ) -> F12 ( 0 ) -> F9 ( 0 ) -> F8 ( 0 ) -> F6 ( 0 ) -> F5 ( 0 ) -> F4 ( 0 ) -> F3 ( 0 ) -> F2 ( 0 ) -> F1 ( 0 ) -> '),\n",
              " (29, 1),\n",
              " (30,\n",
              "  'Not valid instance, path: F13 ( 0 ) -> F11 ( 0 ) -> F16 ( 0 ) -> F22 ( 0 ) -> F5 ( 0 ) -> F4 ( 0 ) -> F21 ( 0 ) -> F14 ( 0 ) -> F20 ( 0 ) -> F19 ( 0 ) -> F18 ( 0 ) -> F17 ( 0 ) -> F15 ( 0 ) -> F12 ( 0 ) -> F10 ( 0 ) -> F9 ( 0 ) -> F8 ( 0 ) -> F7 ( 0 ) -> F6 ( 0 ) -> F3 ( 0 ) -> F2 ( 0 ) -> F1 ( 0 ) -> '),\n",
              " (31,\n",
              "  'Not valid instance, path: F13 ( 0 ) -> F11 ( 0 ) -> F16 ( 0 ) -> F22 ( 0 ) -> F5 ( 0 ) -> F4 ( 0 ) -> F21 ( 0 ) -> F14 ( 0 ) -> F20 ( 0 ) -> F19 ( 0 ) -> F18 ( 0 ) -> F17 ( 0 ) -> F15 ( 0 ) -> F12 ( 0 ) -> F10 ( 0 ) -> F9 ( 0 ) -> F8 ( 0 ) -> F7 ( 0 ) -> F6 ( 0 ) -> F3 ( 0 ) -> F2 ( 0 ) -> F1 ( 0 ) -> '),\n",
              " (32, 1),\n",
              " (33, 1),\n",
              " (34, 1),\n",
              " (35, 1),\n",
              " (36, 1),\n",
              " (37, 1),\n",
              " (38, 0),\n",
              " (39, 1),\n",
              " (40,\n",
              "  'Not valid instance, path: F13 ( 0 ) -> F11 ( 0 ) -> F16 ( 0 ) -> F22 ( 1 ) -> F10 ( 0 ) -> F7 ( 0 ) -> F20 ( 0 ) -> F21 ( 0 ) -> F19 ( 0 ) -> F18 ( 0 ) -> F17 ( 0 ) -> F15 ( 0 ) -> F14 ( 0 ) -> F12 ( 0 ) -> F9 ( 0 ) -> F8 ( 0 ) -> F6 ( 0 ) -> F5 ( 0 ) -> F4 ( 0 ) -> F3 ( 0 ) -> F2 ( 0 ) -> F1 ( 0 ) -> '),\n",
              " (41, 0),\n",
              " (42, 0),\n",
              " (43, 0),\n",
              " (44, 0),\n",
              " (45, 0),\n",
              " (46, 0),\n",
              " (47, 0),\n",
              " (48,\n",
              "  'Not valid instance, path: F13 ( 0 ) -> F11 ( 0 ) -> F16 ( 0 ) -> F22 ( 0 ) -> F5 ( 0 ) -> F4 ( 0 ) -> F21 ( 0 ) -> F14 ( 0 ) -> F20 ( 0 ) -> F19 ( 0 ) -> F18 ( 0 ) -> F17 ( 0 ) -> F15 ( 0 ) -> F12 ( 0 ) -> F10 ( 0 ) -> F9 ( 0 ) -> F8 ( 0 ) -> F7 ( 0 ) -> F6 ( 0 ) -> F3 ( 0 ) -> F2 ( 0 ) -> F1 ( 0 ) -> '),\n",
              " (49,\n",
              "  'Not valid instance, path: F13 ( 0 ) -> F11 ( 0 ) -> F16 ( 0 ) -> F22 ( 0 ) -> F5 ( 0 ) -> F4 ( 0 ) -> F21 ( 0 ) -> F14 ( 0 ) -> F20 ( 1 ) -> '),\n",
              " (50, 0),\n",
              " (51,\n",
              "  'Not valid instance, path: F13 ( 0 ) -> F11 ( 0 ) -> F16 ( 0 ) -> F22 ( 0 ) -> F5 ( 0 ) -> F4 ( 0 ) -> F21 ( 0 ) -> F14 ( 0 ) -> F20 ( 0 ) -> F19 ( 0 ) -> F18 ( 0 ) -> F17 ( 0 ) -> F15 ( 0 ) -> F12 ( 0 ) -> F10 ( 0 ) -> F9 ( 0 ) -> F8 ( 0 ) -> F7 ( 0 ) -> F6 ( 0 ) -> F3 ( 0 ) -> F2 ( 0 ) -> F1 ( 0 ) -> '),\n",
              " (52,\n",
              "  'Not valid instance, path: F13 ( 0 ) -> F11 ( 0 ) -> F16 ( 0 ) -> F22 ( 0 ) -> F5 ( 0 ) -> F4 ( 0 ) -> F21 ( 0 ) -> F14 ( 0 ) -> F20 ( 0 ) -> F19 ( 0 ) -> F18 ( 0 ) -> F17 ( 0 ) -> F15 ( 0 ) -> F12 ( 0 ) -> F10 ( 0 ) -> F9 ( 0 ) -> F8 ( 0 ) -> F7 ( 0 ) -> F6 ( 0 ) -> F3 ( 0 ) -> F2 ( 0 ) -> F1 ( 0 ) -> '),\n",
              " (53, 0),\n",
              " (54, 0),\n",
              " (55,\n",
              "  'Not valid instance, path: F13 ( 0 ) -> F11 ( 0 ) -> F16 ( 0 ) -> F22 ( 0 ) -> F5 ( 0 ) -> F4 ( 0 ) -> F21 ( 0 ) -> F14 ( 0 ) -> F20 ( 0 ) -> F19 ( 0 ) -> F18 ( 0 ) -> F17 ( 0 ) -> F15 ( 0 ) -> F12 ( 0 ) -> F10 ( 0 ) -> F9 ( 0 ) -> F8 ( 0 ) -> F7 ( 0 ) -> F6 ( 1 ) -> '),\n",
              " (56,\n",
              "  'Not valid instance, path: F13 ( 0 ) -> F11 ( 0 ) -> F16 ( 0 ) -> F22 ( 0 ) -> F5 ( 0 ) -> F4 ( 0 ) -> F21 ( 0 ) -> F14 ( 0 ) -> F20 ( 1 ) -> '),\n",
              " (57, 0),\n",
              " (58,\n",
              "  'Not valid instance, path: F13 ( 0 ) -> F11 ( 0 ) -> F16 ( 0 ) -> F22 ( 0 ) -> F5 ( 0 ) -> F4 ( 0 ) -> F21 ( 0 ) -> F14 ( 0 ) -> F20 ( 0 ) -> F19 ( 0 ) -> F18 ( 0 ) -> F17 ( 0 ) -> F15 ( 0 ) -> F12 ( 0 ) -> F10 ( 0 ) -> F9 ( 0 ) -> F8 ( 0 ) -> F7 ( 0 ) -> F6 ( 0 ) -> F3 ( 0 ) -> F2 ( 0 ) -> F1 ( 0 ) -> '),\n",
              " (59,\n",
              "  'Not valid instance, path: F13 ( 0 ) -> F11 ( 0 ) -> F16 ( 0 ) -> F22 ( 0 ) -> F5 ( 0 ) -> F4 ( 0 ) -> F21 ( 0 ) -> F14 ( 0 ) -> F20 ( 0 ) -> F19 ( 0 ) -> F18 ( 0 ) -> F17 ( 0 ) -> F15 ( 0 ) -> F12 ( 0 ) -> F10 ( 0 ) -> F9 ( 0 ) -> F8 ( 0 ) -> F7 ( 0 ) -> F6 ( 0 ) -> F3 ( 0 ) -> F2 ( 0 ) -> F1 ( 0 ) -> '),\n",
              " (60, 1),\n",
              " (61,\n",
              "  'Not valid instance, path: F13 ( 0 ) -> F11 ( 0 ) -> F16 ( 0 ) -> F22 ( 0 ) -> F5 ( 0 ) -> F4 ( 0 ) -> F21 ( 0 ) -> F14 ( 0 ) -> F20 ( 0 ) -> F19 ( 0 ) -> F18 ( 0 ) -> F17 ( 0 ) -> F15 ( 0 ) -> F12 ( 0 ) -> F10 ( 0 ) -> F9 ( 0 ) -> F8 ( 0 ) -> F7 ( 0 ) -> F6 ( 0 ) -> F3 ( 0 ) -> F2 ( 0 ) -> F1 ( 0 ) -> '),\n",
              " (62,\n",
              "  'Not valid instance, path: F13 ( 0 ) -> F11 ( 0 ) -> F16 ( 0 ) -> F22 ( 1 ) -> F10 ( 0 ) -> F7 ( 0 ) -> F20 ( 0 ) -> F21 ( 0 ) -> F19 ( 0 ) -> F18 ( 0 ) -> F17 ( 0 ) -> F15 ( 0 ) -> F14 ( 0 ) -> F12 ( 0 ) -> F9 ( 0 ) -> F8 ( 0 ) -> F6 ( 0 ) -> F5 ( 0 ) -> F4 ( 0 ) -> F3 ( 0 ) -> F2 ( 0 ) -> F1 ( 0 ) -> '),\n",
              " (63,\n",
              "  'Not valid instance, path: F13 ( 0 ) -> F11 ( 0 ) -> F16 ( 0 ) -> F22 ( 0 ) -> F5 ( 0 ) -> F4 ( 0 ) -> F21 ( 0 ) -> F14 ( 0 ) -> F20 ( 0 ) -> F19 ( 0 ) -> F18 ( 0 ) -> F17 ( 0 ) -> F15 ( 0 ) -> F12 ( 0 ) -> F10 ( 0 ) -> F9 ( 0 ) -> F8 ( 0 ) -> F7 ( 0 ) -> F6 ( 0 ) -> F3 ( 0 ) -> F2 ( 0 ) -> F1 ( 0 ) -> '),\n",
              " (64,\n",
              "  'Not valid instance, path: F13 ( 0 ) -> F11 ( 0 ) -> F16 ( 0 ) -> F22 ( 0 ) -> F5 ( 0 ) -> F4 ( 0 ) -> F21 ( 0 ) -> F14 ( 0 ) -> F20 ( 0 ) -> F19 ( 0 ) -> F18 ( 0 ) -> F17 ( 0 ) -> F15 ( 0 ) -> F12 ( 0 ) -> F10 ( 0 ) -> F9 ( 0 ) -> F8 ( 0 ) -> F7 ( 0 ) -> F6 ( 0 ) -> F3 ( 0 ) -> F2 ( 0 ) -> F1 ( 0 ) -> '),\n",
              " (65,\n",
              "  'Not valid instance, path: F13 ( 0 ) -> F11 ( 0 ) -> F16 ( 0 ) -> F22 ( 0 ) -> F5 ( 0 ) -> F4 ( 0 ) -> F21 ( 0 ) -> F14 ( 0 ) -> F20 ( 0 ) -> F19 ( 0 ) -> F18 ( 0 ) -> F17 ( 0 ) -> F15 ( 0 ) -> F12 ( 0 ) -> F10 ( 0 ) -> F9 ( 0 ) -> F8 ( 0 ) -> F7 ( 0 ) -> F6 ( 0 ) -> F3 ( 0 ) -> F2 ( 0 ) -> F1 ( 0 ) -> '),\n",
              " (66,\n",
              "  'Not valid instance, path: F13 ( 0 ) -> F11 ( 0 ) -> F16 ( 0 ) -> F22 ( 1 ) -> F10 ( 0 ) -> F7 ( 0 ) -> F20 ( 0 ) -> F21 ( 0 ) -> F19 ( 0 ) -> F18 ( 0 ) -> F17 ( 0 ) -> F15 ( 0 ) -> F14 ( 0 ) -> F12 ( 0 ) -> F9 ( 0 ) -> F8 ( 0 ) -> F6 ( 0 ) -> F5 ( 0 ) -> F4 ( 0 ) -> F3 ( 0 ) -> F2 ( 0 ) -> F1 ( 0 ) -> '),\n",
              " (67,\n",
              "  'Not valid instance, path: F13 ( 0 ) -> F11 ( 0 ) -> F16 ( 0 ) -> F22 ( 0 ) -> F5 ( 0 ) -> F4 ( 0 ) -> F21 ( 0 ) -> F14 ( 0 ) -> F20 ( 0 ) -> F19 ( 0 ) -> F18 ( 0 ) -> F17 ( 0 ) -> F15 ( 0 ) -> F12 ( 0 ) -> F10 ( 0 ) -> F9 ( 0 ) -> F8 ( 0 ) -> F7 ( 0 ) -> F6 ( 0 ) -> F3 ( 0 ) -> F2 ( 0 ) -> F1 ( 0 ) -> '),\n",
              " (68, 0),\n",
              " (69,\n",
              "  'Not valid instance, path: F13 ( 0 ) -> F11 ( 0 ) -> F16 ( 0 ) -> F22 ( 0 ) -> F5 ( 0 ) -> F4 ( 0 ) -> F21 ( 0 ) -> F14 ( 0 ) -> F20 ( 0 ) -> F19 ( 0 ) -> F18 ( 0 ) -> F17 ( 0 ) -> F15 ( 0 ) -> F12 ( 0 ) -> F10 ( 0 ) -> F9 ( 0 ) -> F8 ( 0 ) -> F7 ( 0 ) -> F6 ( 0 ) -> F3 ( 0 ) -> F2 ( 0 ) -> F1 ( 0 ) -> '),\n",
              " (70,\n",
              "  'Not valid instance, path: F13 ( 0 ) -> F11 ( 0 ) -> F16 ( 0 ) -> F22 ( 0 ) -> F5 ( 0 ) -> F4 ( 0 ) -> F21 ( 0 ) -> F14 ( 0 ) -> F20 ( 0 ) -> F19 ( 0 ) -> F18 ( 0 ) -> F17 ( 0 ) -> F15 ( 0 ) -> F12 ( 0 ) -> F10 ( 0 ) -> F9 ( 0 ) -> F8 ( 1 ) -> '),\n",
              " (71, 0),\n",
              " (72, 0),\n",
              " (73, 0),\n",
              " (74,\n",
              "  'Not valid instance, path: F13 ( 0 ) -> F11 ( 0 ) -> F16 ( 0 ) -> F22 ( 0 ) -> F5 ( 0 ) -> F4 ( 0 ) -> F21 ( 0 ) -> F14 ( 0 ) -> F20 ( 0 ) -> F19 ( 0 ) -> F18 ( 0 ) -> F17 ( 0 ) -> F15 ( 0 ) -> F12 ( 0 ) -> F10 ( 0 ) -> F9 ( 0 ) -> F8 ( 0 ) -> F7 ( 0 ) -> F6 ( 0 ) -> F3 ( 0 ) -> F2 ( 0 ) -> F1 ( 0 ) -> '),\n",
              " (75, 0),\n",
              " (76, 0),\n",
              " (77, 0),\n",
              " (78, 1),\n",
              " (79, 0)]"
            ]
          },
          "metadata": {},
          "execution_count": 181
        }
      ]
    },
    {
      "cell_type": "code",
      "source": [
        "data[target_name]"
      ],
      "metadata": {
        "id": "axUlr-sBF5WR",
        "colab": {
          "base_uri": "https://localhost:8080/"
        },
        "outputId": "e4dc6892-c9d9-4716-8889-77f88a76f1d3"
      },
      "execution_count": 182,
      "outputs": [
        {
          "output_type": "execute_result",
          "data": {
            "text/plain": [
              "0     1\n",
              "1     1\n",
              "2     1\n",
              "3     1\n",
              "4     1\n",
              "     ..\n",
              "75    0\n",
              "76    0\n",
              "77    0\n",
              "78    0\n",
              "79    0\n",
              "Name: diagnosis, Length: 80, dtype: int64"
            ]
          },
          "metadata": {},
          "execution_count": 182
        }
      ]
    },
    {
      "cell_type": "code",
      "source": [
        "count=0\n",
        "for i in o:\n",
        "  if i[1]=='Not valid instance':\n",
        "    print(\"Something went wrong\")\n",
        "    count+=1\n",
        "print(count)"
      ],
      "metadata": {
        "id": "QJaEpB60H2wE",
        "colab": {
          "base_uri": "https://localhost:8080/"
        },
        "outputId": "552e94f7-0930-48d0-98eb-6f2a4150e666"
      },
      "execution_count": 183,
      "outputs": [
        {
          "output_type": "stream",
          "name": "stdout",
          "text": [
            "0\n"
          ]
        }
      ]
    },
    {
      "cell_type": "code",
      "source": [
        "print(df.iloc[0].to_dict())\n",
        "d.predict(df.iloc[0].to_dict(),trace=True)"
      ],
      "metadata": {
        "id": "EVF9hTDVFaze",
        "colab": {
          "base_uri": "https://localhost:8080/",
          "height": 125
        },
        "outputId": "d2447542-7f34-405e-d37a-255143027fd3"
      },
      "execution_count": 184,
      "outputs": [
        {
          "output_type": "stream",
          "name": "stdout",
          "text": [
            "{'diagnosis': 0, 'F1': 0, 'F2': 0, 'F3': 0, 'F4': 0, 'F5': 0, 'F6': 0, 'F7': 0, 'F8': 0, 'F9': 0, 'F10': 0, 'F11': 0, 'F12': 0, 'F13': 0, 'F14': 0, 'F15': 0, 'F16': 0, 'F17': 0, 'F18': 0, 'F19': 0, 'F20': 0, 'F21': 0, 'F22': 0}\n"
          ]
        },
        {
          "output_type": "stream",
          "name": "stderr",
          "text": [
            "/usr/local/lib/python3.7/dist-packages/ipykernel_launcher.py:157: FutureWarning: elementwise comparison failed; returning scalar instead, but in the future will perform elementwise comparison\n"
          ]
        },
        {
          "output_type": "execute_result",
          "data": {
            "text/plain": [
              "'Not valid instance, path: F13 ( 0 ) -> F11 ( 0 ) -> F16 ( 0 ) -> F22 ( 0 ) -> F5 ( 0 ) -> F4 ( 0 ) -> F21 ( 0 ) -> F14 ( 0 ) -> F20 ( 0 ) -> F19 ( 0 ) -> F18 ( 0 ) -> F17 ( 0 ) -> F15 ( 0 ) -> F12 ( 0 ) -> F10 ( 0 ) -> F9 ( 0 ) -> F8 ( 0 ) -> F7 ( 0 ) -> F6 ( 0 ) -> F3 ( 0 ) -> F2 ( 0 ) -> F1 ( 0 ) -> '"
            ],
            "application/vnd.google.colaboratory.intrinsic+json": {
              "type": "string"
            }
          },
          "metadata": {},
          "execution_count": 184
        }
      ]
    },
    {
      "cell_type": "code",
      "source": [],
      "metadata": {
        "id": "LPgc23xapqTs"
      },
      "execution_count": 184,
      "outputs": []
    }
  ]
}